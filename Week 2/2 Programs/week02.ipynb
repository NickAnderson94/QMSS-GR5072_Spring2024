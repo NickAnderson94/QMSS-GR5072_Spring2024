{
 "cells": [
  {
   "cell_type": "markdown",
   "id": "7f07a292",
   "metadata": {},
   "source": [
    "# Week 2: Ultimate Markdown Guide"
   ]
  },
  {
   "cell_type": "markdown",
   "id": "e2329d02",
   "metadata": {},
   "source": [
    "### Table of Contents"
   ]
  },
  {
   "cell_type": "markdown",
   "id": "a66d337c",
   "metadata": {},
   "source": [
    "* [1. Headings](#bullet1)\n",
    "* [2. Text Emphasis](#bullet2)\n",
    "* [3. Backslash Escape](#bullet3)\n",
    "* [4. Paragraphs](#bullet4)\n",
    "* [5. Line Break](#bullet5)\n",
    "* [6. Blockquotes](#bullet6)\n",
    "* [7. Horizontal Line](#bullet7)\n",
    "* [8. Ordered List](#bullet8)\n",
    "* [9. Unordered List](#bullet9)\n",
    "* [10. Graphics](#bullet10)\n",
    "* [11. Hyperlinks](#bullet11)\n",
    "* [12. Task Lists](#bullet12)\n",
    "* [13. Code Section](#bullet13)\n",
    "* [14. Table](#bullet14)\n",
    "* [15. Inline HTML](#bullet15)\n",
    "* [16. LaTeX Math](#bullet16)\n",
    "* [17. Geometric Shapes](#bullet17)"
   ]
  },
  {
   "cell_type": "markdown",
   "id": "1559e653-3525-4922-a0cc-acf578c7a8c6",
   "metadata": {},
   "source": [
    "[Source: The Ultimate Markdown Guide](https://medium.com/analytics-vidhya/the-ultimate-markdown-guide-for-jupyter-notebook-d5e5abf728fd)\n",
    "> **What’s Markdown?**  \n",
    "Markdown is a lightweight Markup language with a plain text syntax. John Gruber developed the Markdown language in 2004 in a collaborative effort with Aaron Swartz, intending to enable people to “write with easy-to-read and easy-to-write plain text format and potentially convert it to structurally correct XHTML (or HTML).” Markdown is designed to be as easy-to-read and easy-to-write as possible. Readability, however, is emphasized above all else.  \n",
    "  \n",
    ">Nevertheless, Markdown is not a substitute for, or even close to, HTML. Its syntax is minimal, correlating only to a tiny proportion of HTML tags. Markdown’s idea is to make reading, writing, and editing prose easy without the intention to create a syntax that’s just for quickly adding HTML tags. HTML is a format for publishing, while Markdown is a format for reading. Therefore, the formatting syntax of Markdown tackles just issues that can be expressed in plain text. You simply use HTML for any Markup that is not covered by the Markdown syntax. You don’t need to preface it or delimit it to indicate that you are switching from Markdown to HTML — you just use the tags.  \n",
    "  \n",
    "> Among the data enthusiasts, Jupyter notebook is in trend. It is simple to use and helps you to create and share documents that include code, visualizations, and narration. Recall that a Jupyter Notebook is a series of cells that can store text or code. Cells shape a notebook’s core. Markdown Cells allows you to write and render Markdown syntax. Here’s where you can explain and document the processes. On the other hand, code cells allow you to write and run program code like Python."
   ]
  },
  {
   "cell_type": "markdown",
   "id": "90c1531e",
   "metadata": {},
   "source": [
    "## 1. Headings <a class=\"anchor\" id=\"bullet1\"></a>"
   ]
  },
  {
   "cell_type": "code",
   "execution_count": 2,
   "id": "a98558e3",
   "metadata": {},
   "outputs": [],
   "source": [
    "# each header beings with a certain number of #s"
   ]
  },
  {
   "cell_type": "markdown",
   "id": "e224f129",
   "metadata": {},
   "source": [
    "# Header 1\n",
    "## Header 2\n",
    "### Header 3\n",
    "#### Header 4\n",
    "##### Header 5\n",
    "###### Header 6"
   ]
  },
  {
   "cell_type": "markdown",
   "id": "47b25feb",
   "metadata": {},
   "source": [
    "## 2. Text Emphasis <a class=\"anchor\" id=\"bullet2\"></a>"
   ]
  },
  {
   "cell_type": "markdown",
   "id": "be3dc681",
   "metadata": {},
   "source": [
    "**This is bold text**  \n",
    "__This is bold text__"
   ]
  },
  {
   "cell_type": "markdown",
   "id": "2d5c88aa",
   "metadata": {},
   "source": [
    "*This is italic text*  \n",
    "_This is italic text_"
   ]
  },
  {
   "cell_type": "markdown",
   "id": "93b549dd",
   "metadata": {},
   "source": [
    "***Bold and Italic***  \n",
    "___Bold and Italic___"
   ]
  },
  {
   "cell_type": "markdown",
   "id": "08ae8ba0",
   "metadata": {},
   "source": [
    "~~Strikethrough~~"
   ]
  },
  {
   "cell_type": "markdown",
   "id": "1e4ffbcd",
   "metadata": {},
   "source": [
    "## 3. Backslash Escape <a class=\"anchor\" id=\"bullet3\"></a>"
   ]
  },
  {
   "cell_type": "markdown",
   "id": "76ba6bea",
   "metadata": {},
   "source": [
    "\"Backslash Escape prevents Markdown from interpreting a character as an instruction, rather than as the character itself.\" - *Ultimate Markdown Guide*"
   ]
  },
  {
   "cell_type": "code",
   "execution_count": 1,
   "id": "299efb91",
   "metadata": {},
   "outputs": [],
   "source": [
    "# to use characters such as #, use a \\ before. This is called an \"escape character\""
   ]
  },
  {
   "cell_type": "markdown",
   "id": "bdf11f00",
   "metadata": {},
   "source": [
    "\\# Not a header"
   ]
  },
  {
   "cell_type": "markdown",
   "id": "1593883b",
   "metadata": {},
   "source": [
    "## 4. Paragraphs <a class=\"anchor\" id=\"bullet4\"></a>"
   ]
  },
  {
   "cell_type": "code",
   "execution_count": 2,
   "id": "05dfd734",
   "metadata": {},
   "outputs": [],
   "source": [
    "# just type!"
   ]
  },
  {
   "cell_type": "markdown",
   "id": "eb7d0918",
   "metadata": {},
   "source": [
    "Hello World!\n",
    "We are learning Markdown."
   ]
  },
  {
   "cell_type": "markdown",
   "id": "2490068c",
   "metadata": {},
   "source": [
    "## 5. Line Break <a class=\"anchor\" id=\"bullet5\"></a>"
   ]
  },
  {
   "cell_type": "markdown",
   "id": "dd3f4e12",
   "metadata": {},
   "source": [
    "- To force a line break, put 2+ empty spaces at the end of a line."
   ]
  },
  {
   "cell_type": "markdown",
   "id": "e68f0571",
   "metadata": {},
   "source": [
    "Some text  \n",
    "Some more text  \n",
    "Some more text \n",
    "Some more text"
   ]
  },
  {
   "cell_type": "markdown",
   "id": "251e2aa0",
   "metadata": {},
   "source": [
    "## 6. Blockquotes <a class=\"anchor\" id=\"bullet6\"></a>"
   ]
  },
  {
   "cell_type": "markdown",
   "id": "ca7e31a1",
   "metadata": {},
   "source": [
    "> This is a blockquote"
   ]
  },
  {
   "cell_type": "markdown",
   "id": "95e1f5ba",
   "metadata": {},
   "source": [
    "For instance, blockquotes are used to showcase a quote from some text."
   ]
  },
  {
   "cell_type": "markdown",
   "id": "68209f1d",
   "metadata": {},
   "source": [
    "##### Nested Block Quoting"
   ]
  },
  {
   "cell_type": "markdown",
   "id": "58344d57",
   "metadata": {},
   "source": [
    "> some text\n",
    ">> and then some more text\n",
    ">>> and then some more"
   ]
  },
  {
   "cell_type": "markdown",
   "id": "52f04300",
   "metadata": {},
   "source": [
    "## 7. Horizontal Line <a class=\"anchor\" id=\"bullet7\"></a>"
   ]
  },
  {
   "cell_type": "markdown",
   "id": "3522e9d1",
   "metadata": {},
   "source": [
    "---\n",
    "There's multiple ways to add lines!"
   ]
  },
  {
   "cell_type": "markdown",
   "id": "e69087b8",
   "metadata": {},
   "source": [
    "***"
   ]
  },
  {
   "cell_type": "markdown",
   "id": "4ac4097c",
   "metadata": {},
   "source": [
    "___"
   ]
  },
  {
   "cell_type": "markdown",
   "id": "84d6f3ee",
   "metadata": {},
   "source": [
    "## 8. Ordered List <a class=\"anchor\" id=\"bullet8\"></a>"
   ]
  },
  {
   "cell_type": "markdown",
   "id": "e4609220",
   "metadata": {},
   "source": [
    "1. Cheese\n",
    "2. Carrot\n",
    "3. Coconut"
   ]
  },
  {
   "cell_type": "markdown",
   "id": "8161cd0d",
   "metadata": {},
   "source": [
    "## 9. Unordered List <a class=\"anchor\" id=\"bullet9\"></a>"
   ]
  },
  {
   "cell_type": "markdown",
   "id": "17e956dd",
   "metadata": {},
   "source": [
    "- Cheese\n",
    "- Carrot\n",
    "- Coconut"
   ]
  },
  {
   "cell_type": "markdown",
   "id": "85076871",
   "metadata": {},
   "source": [
    "* Another way to create a list\n",
    "* Using an * !"
   ]
  },
  {
   "cell_type": "markdown",
   "id": "8301a724",
   "metadata": {},
   "source": [
    "## 10. Graphics <a class=\"anchor\" id=\"bullet10\"></a>"
   ]
  },
  {
   "cell_type": "markdown",
   "id": "9f6b411c",
   "metadata": {},
   "source": [
    "- Note: can also drag and drop images into Markdown cell"
   ]
  },
  {
   "cell_type": "markdown",
   "id": "fda7820b",
   "metadata": {},
   "source": [
    "![](https://www.python.org/static/community_logos/python-logo-master-v3-TM.png)"
   ]
  },
  {
   "cell_type": "markdown",
   "id": "da416dd5",
   "metadata": {},
   "source": [
    "![][some-id]\n",
    "\n",
    "[some-id]: https://www.python.org/static/community_logos/python-logo-master-v3-TM.png \"Python Logo\""
   ]
  },
  {
   "cell_type": "markdown",
   "id": "c1727b8c",
   "metadata": {},
   "source": [
    "## 11. Hyperlinks <a class=\"anchor\" id=\"bullet11\"></a>"
   ]
  },
  {
   "cell_type": "markdown",
   "id": "4b86882e",
   "metadata": {},
   "source": [
    "#### Automatic Links"
   ]
  },
  {
   "cell_type": "markdown",
   "id": "0528ec17",
   "metadata": {},
   "source": [
    "https://en.wikipedia.org"
   ]
  },
  {
   "cell_type": "markdown",
   "id": "da164f6a",
   "metadata": {},
   "source": [
    "#### Standard Links"
   ]
  },
  {
   "cell_type": "markdown",
   "id": "5312bbd3",
   "metadata": {},
   "source": [
    "[click me](https://en.wikipedia.org)"
   ]
  },
  {
   "cell_type": "markdown",
   "id": "882069d3",
   "metadata": {},
   "source": [
    "#### Standard Links with mouse-over titles"
   ]
  },
  {
   "cell_type": "markdown",
   "id": "7e59ab69",
   "metadata": {},
   "source": [
    "[click me](https://en.wikipedia.org \"Wikipedia\")"
   ]
  },
  {
   "cell_type": "markdown",
   "id": "e876b30b",
   "metadata": {},
   "source": [
    "#### Anchor Links "
   ]
  },
  {
   "cell_type": "markdown",
   "id": "0cc4b14b",
   "metadata": {},
   "source": [
    "\"An anchor link is a link on a page that brings you to a specific place on that page.\" - *Ultimate Markdown Guide*"
   ]
  },
  {
   "cell_type": "markdown",
   "id": "a4265d77",
   "metadata": {},
   "source": [
    "[Technique 1](#id): Add a link to the \"id\" tag which you can place anywhere using html code"
   ]
  },
  {
   "cell_type": "markdown",
   "id": "337cda01",
   "metadata": {},
   "source": [
    "[Technique 2](#Week-2:-Ultimate-Markdown-Guide): Works for linking to different headings in this notebook"
   ]
  },
  {
   "cell_type": "markdown",
   "id": "833c888a-9b52-4b13-9b63-cef73445a488",
   "metadata": {},
   "source": [
    "<a id=\"id\"></a>  <-- The html code is not visible unless you click into this cell  \n",
    "Technique 1 brings you here !  "
   ]
  },
  {
   "cell_type": "markdown",
   "id": "08bec66d",
   "metadata": {},
   "source": [
    "## 12. Task Lists <a class=\"anchor\" id=\"bullet12\"></a>"
   ]
  },
  {
   "cell_type": "markdown",
   "id": "0033f740",
   "metadata": {},
   "source": [
    "- [x] Some task\n",
    "- [ ] Some more task"
   ]
  },
  {
   "cell_type": "markdown",
   "id": "327dd128",
   "metadata": {},
   "source": [
    "## 13. Code Section <a class=\"anchor\" id=\"bullet13\"></a>"
   ]
  },
  {
   "cell_type": "markdown",
   "id": "6e20508e",
   "metadata": {},
   "source": [
    "`some piece of inline code`\n",
    "```\n",
    "some piece of block code\n",
    "```\n",
    " "
   ]
  },
  {
   "cell_type": "markdown",
   "id": "56cc9323",
   "metadata": {},
   "source": [
    "Below, we store the value 15 into the varible `var`  \n",
    "`var = 15`"
   ]
  },
  {
   "cell_type": "markdown",
   "id": "8970d56c",
   "metadata": {},
   "source": [
    "Another example of block code - This does not actually execute the code, it just shares the code with your observer \n",
    "```\n",
    "lst = [2, 3, 4, 5, 6]\n",
    "\n",
    "for i in lst:\n",
    "    if var % i == 0:\n",
    "    lst.remove(i)\n",
    "```"
   ]
  },
  {
   "cell_type": "code",
   "execution_count": 7,
   "id": "2ab32335",
   "metadata": {},
   "outputs": [
    {
     "ename": "NameError",
     "evalue": "name 'lst' is not defined",
     "output_type": "error",
     "traceback": [
      "\u001b[1;31m---------------------------------------------------------------------------\u001b[0m",
      "\u001b[1;31mNameError\u001b[0m                                 Traceback (most recent call last)",
      "\u001b[1;32m~\\AppData\\Local\\Temp\\ipykernel_8976\\2697629934.py\u001b[0m in \u001b[0;36m<module>\u001b[1;34m\u001b[0m\n\u001b[1;32m----> 1\u001b[1;33m \u001b[0mprint\u001b[0m\u001b[1;33m(\u001b[0m\u001b[0mlst\u001b[0m\u001b[1;33m)\u001b[0m\u001b[1;33m\u001b[0m\u001b[1;33m\u001b[0m\u001b[0m\n\u001b[0m",
      "\u001b[1;31mNameError\u001b[0m: name 'lst' is not defined"
     ]
    }
   ],
   "source": [
    "print(lst)"
   ]
  },
  {
   "cell_type": "markdown",
   "id": "380b79d9-6ba7-4fb8-9794-b5889792bd32",
   "metadata": {},
   "source": [
    "Add blocl code using **syntax highlighting** based on the coding language you are using:"
   ]
  },
  {
   "cell_type": "markdown",
   "id": "6d185a2b",
   "metadata": {},
   "source": [
    "```javascript\n",
    "var s = \"JavaScript syntax highlighting\";\n",
    "alert(s);\n",
    "```\n",
    "```python\n",
    "s = \"Python syntax highlighting\"\n",
    "print s\n",
    "```"
   ]
  },
  {
   "cell_type": "markdown",
   "id": "0a9d9e5c",
   "metadata": {},
   "source": [
    "## 14. Table <a class=\"anchor\" id=\"bullet14\"></a>"
   ]
  },
  {
   "cell_type": "markdown",
   "id": "2ae2cd95-13b1-4586-a473-72702e5a03e9",
   "metadata": {},
   "source": [
    "Tables are constructed using \"|\" (the pipe symbol) and \"-\" (dash):"
   ]
  },
  {
   "cell_type": "markdown",
   "id": "c1592f9c",
   "metadata": {},
   "source": [
    "|Col 1 |Col 2 |Col 3 |\n",
    "|------|------|------|\n",
    "|A     |B     |C     |\n",
    "|X     |Y     |Z     |"
   ]
  },
  {
   "cell_type": "markdown",
   "id": "2e5a496d-386f-4448-aa85-9f0b7146aa45",
   "metadata": {},
   "source": [
    "The text in each header and cell of a table will by default justify to the right."
   ]
  },
  {
   "cell_type": "markdown",
   "id": "ea86c6ec",
   "metadata": {},
   "source": [
    "Use `:-:` for centered"
   ]
  },
  {
   "cell_type": "markdown",
   "id": "cf4c92ae",
   "metadata": {},
   "source": [
    "Use `-:` for right centered"
   ]
  },
  {
   "cell_type": "markdown",
   "id": "9e769363",
   "metadata": {},
   "source": [
    "Use `:-` for left centered"
   ]
  },
  {
   "cell_type": "markdown",
   "id": "cbf06aba-5e24-4868-ab66-4d00b669043e",
   "metadata": {},
   "source": [
    "|Col 1 |Col 2 |Col 3 |\n",
    ":-----:|:-----|-----:|\n",
    "|A     |B     |C     |\n",
    "|X     |Y     |Z     |"
   ]
  },
  {
   "cell_type": "markdown",
   "id": "c980f5bc",
   "metadata": {},
   "source": [
    "## 15. Inline HTML <a class=\"anchor\" id=\"bullet15\"></a>"
   ]
  },
  {
   "cell_type": "markdown",
   "id": "f6210786",
   "metadata": {},
   "source": [
    "color = `blue|red|green|pink|yellow`"
   ]
  },
  {
   "cell_type": "markdown",
   "id": "e937c407",
   "metadata": {},
   "source": [
    "__<span style=\"color:pink\">Bold and make text pink</span>__"
   ]
  },
  {
   "cell_type": "markdown",
   "id": "7fd5e077",
   "metadata": {},
   "source": [
    "[all supported color names](https://www.w3schools.com/colors/colors_names.asp)"
   ]
  },
  {
   "cell_type": "markdown",
   "id": "9a2a679b",
   "metadata": {},
   "source": [
    "#### Text Font Family"
   ]
  },
  {
   "cell_type": "markdown",
   "id": "232ceabe",
   "metadata": {},
   "source": [
    "<span style=\"font-family:Comic Sans MS\">This is using the comic sans MS font</span>"
   ]
  },
  {
   "cell_type": "markdown",
   "id": "d3174b77",
   "metadata": {},
   "source": [
    "[CSS Font Family List](https://www.tutorialbrain.com/css_tutorial/css_font_family_list/)"
   ]
  },
  {
   "cell_type": "markdown",
   "id": "a988a685",
   "metadata": {},
   "source": [
    "#### Colored Note Boxes"
   ]
  },
  {
   "cell_type": "markdown",
   "id": "80d36b2b",
   "metadata": {},
   "source": [
    "<div class=\"alert alert-block alert-info\">\n",
    "<b>Tip:</b> Use blue boxes (alert-info) for tips and notes.</div>"
   ]
  },
  {
   "cell_type": "markdown",
   "id": "8f8ba8a3",
   "metadata": {},
   "source": [
    "<div class=\"alert alert-block alert-warning\">\n",
    "<b>Example:</b> Use yellow boxes for examples that are not inside code cells, or use for mathematical formulas if needed. Typically also used to display warning messages.\n",
    "</div>"
   ]
  },
  {
   "cell_type": "markdown",
   "id": "c1bcdc12",
   "metadata": {},
   "source": [
    "<div class=\"alert alert-block alert-success\">\n",
    "<b>Success:</b> This alert box indicates a successful or positive action.\n",
    "</div>"
   ]
  },
  {
   "cell_type": "markdown",
   "id": "aa791953",
   "metadata": {},
   "source": [
    "<div class=\"alert alert-block alert-danger\">\n",
    "<b>Danger:</b> This alert box indicates a dangerous or potentially negative action.\n",
    "</div>\n"
   ]
  },
  {
   "cell_type": "markdown",
   "id": "f9adb19d",
   "metadata": {},
   "source": [
    "#### Cell Background Color"
   ]
  },
  {
   "cell_type": "markdown",
   "id": "6ae549aa",
   "metadata": {},
   "source": [
    "<code style=\"background:yellow;color:black\">Useful for highlighting to grab the attention of the reader towards certain points.</code>"
   ]
  },
  {
   "cell_type": "markdown",
   "id": "9610fcb8-138c-468b-aa8a-766e678ecfbc",
   "metadata": {},
   "source": [
    "Use black to reflect terminal code:"
   ]
  },
  {
   "cell_type": "markdown",
   "id": "6ad6df03",
   "metadata": {},
   "source": [
    "<p style=\"background:black\">\n",
    "<code style=\"background:black;color:white\">C:\\Users\\YOUR_USERNAME> pip3 install roughviz\n",
    "</code>\n",
    "</p>"
   ]
  },
  {
   "cell_type": "markdown",
   "id": "3163c007",
   "metadata": {},
   "source": [
    "#### HTML Mark Tag"
   ]
  },
  {
   "cell_type": "markdown",
   "id": "63c59db5-703a-473d-b177-02fba76422af",
   "metadata": {},
   "source": [
    "You can also highlight parts of a text:"
   ]
  },
  {
   "cell_type": "markdown",
   "id": "87e8fa68",
   "metadata": {},
   "source": [
    "Do not forget to buy <mark>milk</mark> today."
   ]
  },
  {
   "cell_type": "markdown",
   "id": "9256ba8c",
   "metadata": {},
   "source": [
    "#### Definition Lists"
   ]
  },
  {
   "cell_type": "markdown",
   "id": "893480d3",
   "metadata": {},
   "source": [
    "<dl>\n",
    "<dt>First Term</dt>\n",
    "<dd>This is the definition of the first term.</dd>\n",
    "<dt>Second Term</dt>\n",
    "<dd>This is one definition of the second term. </dd>\n",
    "<dd>This is another definition of the second term.</dd>\n",
    "</dl>"
   ]
  },
  {
   "cell_type": "markdown",
   "id": "994a76f3",
   "metadata": {},
   "source": [
    "#### Navigation Menu"
   ]
  },
  {
   "cell_type": "markdown",
   "id": "bd968a46",
   "metadata": {},
   "source": [
    "<nav>\n",
    "<a href=”https://www.google.com\">LinkedIn</a> |\n",
    "<a href=”/css/”>Github</a> |\n",
    "<a href=”/js/”>Medium</a> |\n",
    "</nav>\n"
   ]
  },
  {
   "cell_type": "markdown",
   "id": "3f78e743",
   "metadata": {},
   "source": [
    "## 16. LaTeX Math <a class=\"anchor\" id=\"bullet16\"></a>"
   ]
  },
  {
   "cell_type": "markdown",
   "id": "6fa2d042-0881-4bc6-8675-440f8e0d8f41",
   "metadata": {},
   "source": [
    "To interpret as latex, surround input with \"$\""
   ]
  },
  {
   "cell_type": "markdown",
   "id": "9334eff0",
   "metadata": {},
   "source": [
    "$x = \\frac{-b \\pm \\sqrt{b^{2} - 4ac}}{2a}$"
   ]
  },
  {
   "cell_type": "markdown",
   "id": "f0440651",
   "metadata": {},
   "source": [
    "$t = \\frac{\\overline{x}_1 - \\overline{x}_2 }{\\sqrt{  \\frac{s_1^{2}}{n_1} + \\frac{s_2^{2}}{n_2}  }}$"
   ]
  },
  {
   "cell_type": "markdown",
   "id": "110f8338",
   "metadata": {},
   "source": [
    "$df = \\frac{\\left(\\frac{s_1^{2}}{n_1} + \\frac{s_2^{2}}{n_2}\\right)^{2}}{\\frac{1}{n_1 - 1}\\left(\\frac{s_1^{2}}{n_1}\\right)^{2} + \\frac{1}{n_2 - 1}\\left(\\frac{s_2^{2}}{n_2}\\right)^{2}}$"
   ]
  },
  {
   "cell_type": "markdown",
   "id": "44a0f7da-1720-4090-b255-9c47d44a0e8b",
   "metadata": {},
   "source": [
    "## 17. Geometric Shapes <a class=\"anchor\" id=\"bullet17\"></a>"
   ]
  },
  {
   "cell_type": "markdown",
   "id": "62346c5d-3e98-4b7c-97fb-f6ae7b10f5ed",
   "metadata": {},
   "source": [
    "<p>I will display &#9658;</p>\n",
    "<p>I will display &#x25BA;</p>\n",
    "<p>I will display &#9672;</p>\n",
    "<p>I will display &#9673;</p>"
   ]
  },
  {
   "cell_type": "markdown",
   "id": "2e6afdd7-2087-49a8-b0f8-9845e91aefc8",
   "metadata": {},
   "source": [
    "See more shapes you can display [here](https://www.w3schools.com/charsets/ref_utf_geometric.asp)"
   ]
  }
 ],
 "metadata": {
  "kernelspec": {
   "display_name": "Python 3 (ipykernel)",
   "language": "python",
   "name": "python3"
  },
  "language_info": {
   "codemirror_mode": {
    "name": "ipython",
    "version": 3
   },
   "file_extension": ".py",
   "mimetype": "text/x-python",
   "name": "python",
   "nbconvert_exporter": "python",
   "pygments_lexer": "ipython3",
   "version": "3.9.13"
  }
 },
 "nbformat": 4,
 "nbformat_minor": 5
}
