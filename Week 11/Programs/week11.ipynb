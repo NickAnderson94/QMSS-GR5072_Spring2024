{
 "cells": [
  {
   "cell_type": "markdown",
   "id": "59548d1e",
   "metadata": {},
   "source": [
    "# Week 11"
   ]
  },
  {
   "cell_type": "markdown",
   "id": "06d88e52",
   "metadata": {},
   "source": [
    "### Table of Contents"
   ]
  },
  {
   "cell_type": "markdown",
   "id": "8842c0b6",
   "metadata": {},
   "source": [
    "1. [What are APIs?](#bullet1)\n",
    "2. [REST APIs](#bullet2)\n",
    "3. [Example: BLS API](#bullet3)\n",
    "4. [Example: ProPublica API](#bullet4)\n",
    "5. [Using APIs to get data: Python Packages](#bullet5)\n",
    "6. [No Python Package? Manipulate URL directly](#bullet6)"
   ]
  },
  {
   "cell_type": "markdown",
   "id": "33e960a1",
   "metadata": {},
   "source": [
    "## 1. What are APIs? <a class=\"anchor\" id=\"bullet1\"></a>"
   ]
  },
  {
   "cell_type": "markdown",
   "id": "c47d2e09",
   "metadata": {},
   "source": [
    "This notebook goes over how to read in data using an __Application Programming Interface__ (API). Similar to how User Interface (UI) allows a human to interact with a computer, APIs allow one piece of software to communicate with another. This communication can take place through the internet - from say your computer to a server hosted by someonelse. This communication can also happen between different types of devices. This week we will learn how to use Python to pull data in from APIs hosted by various governmental and private sector organizations.\n",
    "\n",
    "It is important to remember that API syntax varies from different companies and platforms. Ultimately, APIs are a method of communication between software programs that allow pregrams to interact and use each other's functions by acting as a middle man."
   ]
  },
  {
   "cell_type": "markdown",
   "id": "260c194f",
   "metadata": {},
   "source": [
    "#### Why is this useful?"
   ]
  },
  {
   "cell_type": "markdown",
   "id": "a601d72f",
   "metadata": {},
   "source": [
    "- Could manually download and organize data...\n",
    "- Could scrape data from a website, but this can take time and can be messy. Site structures can change in the future, and sometimes you will be blocked from scraping a site, which breaks your code...\n",
    "- Changes to website struture won't impact the API data retrieval structure. Which means you don't need to change your code  \n",
    "- Importing data through an API is relatively easy, prestructured access to data that is consistent  \n",
    "- API access is growing fast, so it's important that you know how to get data in using them"
   ]
  },
  {
   "cell_type": "markdown",
   "id": "691cf39d-ce6a-42ab-8a9d-28fa4fa054e8",
   "metadata": {},
   "source": [
    "#### The basics\n",
    "Datasets can be complicated as they can be shaped many different ways and have many or few variables. As a result, APIs can also be more or less complex. You need to understand the following when you want to use an API:"
   ]
  },
  {
   "cell_type": "markdown",
   "id": "8b4f965c-75bf-4f0b-a5e3-34aa1d5446cc",
   "metadata": {},
   "source": [
    "<div class=\"alert alert-block alert-success\">\n",
    "<b>Requirments for using APIs:</b> \n",
    "    \n",
    "1. __URL__ for the organization and data you are pulling. \n",
    "2. __Which dataset__ you are trying to pull from: Often there are numerous data sets you can extract, so you need to read documentation.\n",
    "3. __Data content__. Need to specify the variables you want the API to retrieve: This requires you to know the available data.  \n",
    "4. (*Not always necessary*) Provide a **form of identification and/or authorization** such as...\n",
    "    \n",
    "    i. __API key__ (aka token). A key is used to identify the user along with track and control how the API is being used (guard against malicious use). A key is often obtained by supplying basic information (i.e. name, email, phone number) to the organization and in return they give you a multi-digit key.\n",
    "    ii. __OAuth__. OAuth is an authorization framework that provides credentials as proof for access to certain information. \n",
    "\n",
    "</div>"
   ]
  },
  {
   "cell_type": "markdown",
   "id": "d6f839c5-a4e6-4613-9f5e-4dfa121f6df6",
   "metadata": {},
   "source": [
    "## 2. REST APIs <a class=\"anchor\" id=\"bullet2\"></a>"
   ]
  },
  {
   "cell_type": "markdown",
   "id": "a306af1b-7827-4920-b892-a66fb7d56238",
   "metadata": {},
   "source": [
    "One of the most popular architectures used to build APIs is the __REpresentational State Transfer (REST)__ pattern. The REST architectural design enables the client and server to be implemented independently of one another without being aware of each other - this means code on either side can be changed without worrying about how the change will affect the other. \n",
    "\n",
    "They are a set of guidelines designed to simplify communications between software, thereby making the process of accessing data more straightforward and logical. Don’t worry if you don’t know these guidelines; you don’t need to know them to get started – what you do need to know is how data is exposed from REST services. \n",
    "\n",
    "Data from REST web services are exposed to the internet through a public URL, which can be accessed by sending an HTTP request.  "
   ]
  },
  {
   "cell_type": "markdown",
   "id": "73294c11-375c-44e0-92b1-e0e26e7ed5f2",
   "metadata": {},
   "source": [
    "The HTTP verbs comprise a major portion of our “uniform interface” constraint and provide us the action counterpart to the noun-based resource. The primary or most-commonly-used __HTTP verbs+ (or methods, as they are properly called) are:\n",
    "- POST\n",
    "- GET\n",
    "- PUT\n",
    "- PATCH\n",
    "- DELETE\n",
    "\n",
    "These correspond to __create, read, update, and delete (CRUD)__ operations, respectively. There are a number of other verbs, too, but are utilized less frequently. Of those less-frequent methods, OPTIONS and HEAD are used more often than others.\n",
    "\n",
    "Above, we've used the get verb when we used the requests package. Here, we will use GET and POST to with the http library.\n",
    "\n",
    "Source: [RESTapitutorial](https://www.restapitutorial.com/lessons/httpmethods.html)"
   ]
  },
  {
   "cell_type": "markdown",
   "id": "c8653c00-b4b9-4bc7-9939-464d417cc8c7",
   "metadata": {},
   "source": [
    "#### GET requests"
   ]
  },
  {
   "cell_type": "markdown",
   "id": "683c3f5f-df9c-44cc-bdb5-5daf30f8930d",
   "metadata": {},
   "source": [
    "The HTTP GET method is used to **read** (or retrieve) a representation of a resource. __It’s highly likely you will be performing GET requests more than any other method in data analysis and data science.__ When you perform a request to a web server, a response is returned by the API. Attached to the response is an HTTP status code. The purpose of the status code is to provide additional information about the response, so the client knows the type of request being received. \n",
    "\n",
    "In the “happy” (or non-error) path, GET returns a representation in XML or JSON and an HTTP response code of __200 (OK)__. In an error case, it most often returns a 404 (NOT FOUND) or 400 (BAD REQUEST).\n",
    "\n",
    "According to the design of the HTTP specification, GET (along with HEAD) requests are used only to read data and not change it. Therefore, when used this way, they are considered safe. That is, they can be called without risk of data modification or corruption—calling it once has the same effect as calling it 10 times, or none at all. Additionally, GET (and HEAD) is idempotent, which means that making multiple identical requests ends up having the same result as a single request."
   ]
  },
  {
   "cell_type": "code",
   "execution_count": 1,
   "id": "2633663e-d914-41aa-94be-1f6920f62847",
   "metadata": {},
   "outputs": [
    {
     "name": "stdout",
     "output_type": "stream",
     "text": [
      "OK\n",
      "200\n",
      "[('Date', 'Sat, 01 Apr 2023 19:20:25 GMT'), ('Content-Type', 'text/html; charset=UTF-8'), ('Transfer-Encoding', 'chunked'), ('Connection', 'keep-alive'), ('x-dns-prefetch-control', 'on'), ('link', '<https://www.askpython.com/wp-json/>; rel=\"https://api.w.org/\"'), ('x-litespeed-cache', 'hit'), ('vary', 'Accept-Encoding'), ('CF-Cache-Status', 'DYNAMIC'), ('Report-To', '{\"endpoints\":[{\"url\":\"https:\\\\/\\\\/a.nel.cloudflare.com\\\\/report\\\\/v3?s=nkQVYM8WOf%2FpU4JSe3uR3YdCkpKGceRSYVEugLLiu0stJHtKMJvyJrw%2FksbdNWDcRVnelpWuktFiItIuLVCUDOjX4kvUpiiU%2FZ9a4qGhsflhiXrZCbmFKd4%2B%2Fx7Sqqzwu0dnrA%3D%3D\"}],\"group\":\"cf-nel\",\"max_age\":604800}'), ('NEL', '{\"success_fraction\":0,\"report_to\":\"cf-nel\",\"max_age\":604800}'), ('Server', 'cloudflare'), ('CF-RAY', '7b13307649cf0cbc-EWR'), ('alt-svc', 'h3=\":443\"; ma=86400, h3-29=\":443\"; ma=86400')]\n"
     ]
    }
   ],
   "source": [
    "## The HTTP Response code tells us that we have successfully performed a GET request!\n",
    "## Note, there is no structured data at this website, but \n",
    "## we can look at the header data anywyas\n",
    "import http\n",
    "data = http.client.HTTPSConnection(\"www.askpython.com\")\n",
    "data.request(\"GET\", \"/\")\n",
    "response = data.getresponse()\n",
    "header = response.getheaders()\n",
    "print(response.reason)\n",
    "print(response.status)\n",
    "print(header)\n",
    "data.close()"
   ]
  },
  {
   "cell_type": "markdown",
   "id": "149ab873-e17b-4fde-86ce-7849726d8178",
   "metadata": {},
   "source": [
    "#### Endpoints"
   ]
  },
  {
   "cell_type": "markdown",
   "id": "3e307899-1e21-458d-937d-1418cf6e5112",
   "metadata": {},
   "source": [
    "The data you interact with on a web server is delineated with a URL. Much like how a web page URL is connected to a single page, an endpoint URL is connected to particular resources within an API. Therefore, __an endpoint may be described as a digital location where an API receives inquiries__ about a particular resource on its server – think of it as the other end of a  communication channel. \n",
    "\n",
    "To add more context, REST APIs expose a set of public URLs that may be requested by client applications to access the resources of the web service. The public URLs exposed by the REST API are known as “endpoints.”"
   ]
  },
  {
   "cell_type": "markdown",
   "id": "9c95b4ef-902e-47ae-872a-e5348be79325",
   "metadata": {},
   "source": [
    "#### Making a GET request"
   ]
  },
  {
   "cell_type": "code",
   "execution_count": 2,
   "id": "dc526931-26e6-4557-b2b6-49b9fe100660",
   "metadata": {},
   "outputs": [
    {
     "name": "stdout",
     "output_type": "stream",
     "text": [
      "{'userId': 1, 'id': 1, 'title': 'sunt aut facere repellat provident occaecati excepturi optio reprehenderit', 'body': 'quia et suscipit\\nsuscipit recusandae consequuntur expedita et cum\\nreprehenderit molestiae ut ut quas totam\\nnostrum rerum est autem sunt rem eveniet architecto'}\n"
     ]
    }
   ],
   "source": [
    "import requests\n",
    "\n",
    "# The API endpoint\n",
    "url = \"https://jsonplaceholder.typicode.com/posts/1\"\n",
    "\n",
    "# A GET request to the API\n",
    "response = requests.get(url)\n",
    "\n",
    "# Print the response\n",
    "response_json = response.json()\n",
    "print(response_json)"
   ]
  },
  {
   "cell_type": "markdown",
   "id": "d068ae8d-098d-4a6b-b1a1-f35089476506",
   "metadata": {},
   "source": [
    "In the code above, we carried out the following: \n",
    "\n",
    "1. Defined the API endpoint to retrieve data from\n",
    "2. Used the requests.get(url) method to retrieve the data from the defined endpoint. \n",
    "3. We used the response.json() method to store the response data in a dictionary object; note that this only works because the result is written in JSON format – an error would have been raised otherwise.   \n",
    "4. The last step is to print the JSON response data. "
   ]
  },
  {
   "cell_type": "code",
   "execution_count": 3,
   "id": "a3f5aeb1-a0de-4995-a6e3-fe7a088e1cb9",
   "metadata": {},
   "outputs": [
    {
     "name": "stdout",
     "output_type": "stream",
     "text": [
      "200\n"
     ]
    }
   ],
   "source": [
    "# We can also check the status code returned from the API like this: \n",
    "print(response.status_code)"
   ]
  },
  {
   "cell_type": "markdown",
   "id": "dec6c78d-ccce-48d8-8b1b-0403c907eebe",
   "metadata": {},
   "source": [
    "You can also pass arguments to a python GET request. To do this, we must slightly alter the code above. Here’s how the new code looks…"
   ]
  },
  {
   "cell_type": "code",
   "execution_count": 4,
   "id": "48b0b96a-2d92-4ef9-8a4d-bdc69d98ed46",
   "metadata": {},
   "outputs": [
    {
     "name": "stdout",
     "output_type": "stream",
     "text": [
      "dict_keys(['userId', 'id', 'title', 'body'])\n",
      "\n",
      "\n",
      "{'userId': 1, 'id': 1, 'title': 'sunt aut facere repellat provident occaecati excepturi optio reprehenderit', 'body': 'quia et suscipit\\nsuscipit recusandae consequuntur expedita et cum\\nreprehenderit molestiae ut ut quas totam\\nnostrum rerum est autem sunt rem eveniet architecto'} \n",
      "\n",
      "{'userId': 1, 'id': 2, 'title': 'qui est esse', 'body': 'est rerum tempore vitae\\nsequi sint nihil reprehenderit dolor beatae ea dolores neque\\nfugiat blanditiis voluptate porro vel nihil molestiae ut reiciendis\\nqui aperiam non debitis possimus qui neque nisi nulla'} \n",
      "\n",
      "{'userId': 1, 'id': 3, 'title': 'ea molestias quasi exercitationem repellat qui ipsa sit aut', 'body': 'et iusto sed quo iure\\nvoluptatem occaecati omnis eligendi aut ad\\nvoluptatem doloribus vel accusantium quis pariatur\\nmolestiae porro eius odio et labore et velit aut'} \n",
      "\n"
     ]
    }
   ],
   "source": [
    "# The API endpoint\n",
    "url = \"https://jsonplaceholder.typicode.com/posts/\"\n",
    "\n",
    "# Adding a payload\n",
    "payload = {\"id\": [1, 2, 3], \"userId\":1}\n",
    "\n",
    "# A get request to the API - Pass payload to the param argument of the requests.get() method\n",
    "response = requests.get(url, params=payload) \n",
    "\n",
    "# Print the response\n",
    "response_json = response.json()\n",
    "\n",
    "# Print keys of each dictionary\n",
    "print(response_json[1].keys())\n",
    "print('\\n')\n",
    "\n",
    "for i in response_json:\n",
    "    print(i, \"\\n\")"
   ]
  },
  {
   "cell_type": "markdown",
   "id": "0e9e8f9d-b81b-4a68-b41b-48db18516597",
   "metadata": {},
   "source": [
    "#### POST requests"
   ]
  },
  {
   "cell_type": "markdown",
   "id": "e7b38bc1-8ba9-40b3-ae91-466b2bcefe33",
   "metadata": {},
   "source": [
    "The POST verb is most-often utilized to **create** new resources. In particular, it's used to create subordinate resources. That is, subordinate to some other (e.g. parent) resource. In other words, when creating a new resource, POST to the parent and the service takes care of associating the new resource with the parent, assigning an ID (new resource URI), etc.\n",
    "\n",
    "On successful creation, return __HTTP status 201__, returning a Location header with a link to the newly-created resource with the 201 HTTP status.\n",
    "\n",
    "POST is __neither safe nor idempotent__. It is therefore recommended for non-idempotent resource requests. An HTTP method is idempotent if the intended effect on the server of making a single request is the same as the effect of making several identical requests. Making two identical POST requests will most-likely result in two resources containing the same information. "
   ]
  },
  {
   "cell_type": "markdown",
   "id": "8ad792ed-d0d8-4762-b426-970c6cd931c7",
   "metadata": {},
   "source": [
    "#### Making a POST request"
   ]
  },
  {
   "cell_type": "markdown",
   "id": "0d1d67ee-d8d1-4efc-bcc0-1c80ce0f8436",
   "metadata": {},
   "source": [
    "GET requests allow you to retrieve data; POST requests allow you to create new data. Let’s take a look at how we can create new data on the JSONPlaceholder server."
   ]
  },
  {
   "cell_type": "code",
   "execution_count": 5,
   "id": "a160b68f-28e2-403f-b2b3-c77d871ee8f0",
   "metadata": {},
   "outputs": [],
   "source": [
    "# Define new data to create\n",
    "new_data = {\n",
    "    \"userID\": 1,\n",
    "    \"id\": 1,\n",
    "    \"title\": \"Making a POST request\",\n",
    "    \"body\": \"This is the data we JUST created.\"\n",
    "}"
   ]
  },
  {
   "cell_type": "code",
   "execution_count": 6,
   "id": "324acd62-b2a0-453a-a193-a86525f4b4d7",
   "metadata": {},
   "outputs": [
    {
     "name": "stdout",
     "output_type": "stream",
     "text": [
      "{'userID': 1, 'id': 101, 'title': 'Making a POST request', 'body': 'This is the data we JUST created.'}\n"
     ]
    }
   ],
   "source": [
    "# The API endpoint to communicate with\n",
    "url_post = \"https://jsonplaceholder.typicode.com/posts\"\n",
    "\n",
    "# A POST request to tthe API\n",
    "post_response = requests.post(url_post, json=new_data)\n",
    "\n",
    "# Print the response\n",
    "post_response_json = post_response.json()\n",
    "print(post_response_json)"
   ]
  },
  {
   "cell_type": "markdown",
   "id": "fc05d46f-5e78-46dd-a868-044a7e9a6130",
   "metadata": {},
   "source": [
    "In the code above, we performed the following: \n",
    "\n",
    "1. Created a new resource we wanted to add to the JSONPlaceholder API \n",
    "2. Defined the endpoint to POST the new data\n",
    "3. Sent a POST request using the requests.post() method. Note that the json parameter was set in the post() method; we do this to tell the API we are explicitly sending a JSON object to the specified URL. \n",
    "4. Used the response.json() method to store the response data in a dictionary object\n",
    "5. The last step is to print the JSON response data. "
   ]
  },
  {
   "cell_type": "markdown",
   "id": "b160cfd6-9226-4c3d-9149-4ec4dc32d360",
   "metadata": {},
   "source": [
    "##### Question: After creating a new resource, what status code can we expect to be returned by the API?"
   ]
  },
  {
   "cell_type": "code",
   "execution_count": null,
   "id": "8281540f-5161-448a-9609-f362f25c025b",
   "metadata": {},
   "outputs": [],
   "source": [
    "print(post_response.status_code)"
   ]
  },
  {
   "cell_type": "markdown",
   "id": "22623f68-0f85-4448-b554-8b321969b991",
   "metadata": {},
   "source": [
    "#### Authenticating requests "
   ]
  },
  {
   "cell_type": "markdown",
   "id": "341f2f59-8103-4b1f-bc51-cd8eed6214d9",
   "metadata": {},
   "source": [
    "Up to this point, the interactions we’ve had with the REST API have been pretty straightforward. The JSONPlaceholder API does not require any authentication for you to start interacting with it. But, there are several instances where a REST API may require authentication before access is granted to specific endpoints – especially when you’re dealing with sensitive data. \n",
    "\n",
    "For example, if you want to create integrations, retrieve data, and automate your workflows on GitHub, you can do so with GitHub REST API. However, there are many operations on the GitHub REST API that require authentication, such as retrieving public and private information about authenticated users. \n",
    "\n",
    "Here’s a simple workaround using the Python requests module"
   ]
  },
  {
   "cell_type": "code",
   "execution_count": 7,
   "id": "fdf557e7-aecd-480f-a774-b5803359829e",
   "metadata": {},
   "outputs": [
    {
     "ename": "SyntaxError",
     "evalue": "invalid syntax (2018410782.py, line 18)",
     "output_type": "error",
     "traceback": [
      "\u001b[1;36m  File \u001b[1;32m\"C:\\Users\\nicka\\AppData\\Local\\Temp\\ipykernel_34964\\2018410782.py\"\u001b[1;36m, line \u001b[1;32m18\u001b[0m\n\u001b[1;33m    POWERED BY DATACAMP WORKSPACE\u001b[0m\n\u001b[1;37m            ^\u001b[0m\n\u001b[1;31mSyntaxError\u001b[0m\u001b[1;31m:\u001b[0m invalid syntax\n"
     ]
    }
   ],
   "source": [
    "# You would need to enter your username and token below\n",
    "from requests.auth import HTTPBasicAuth\n",
    "\n",
    "private_url = \"https://api.github.com/user\"\n",
    "github_username = \"username\"\n",
    "token = \"token\"\n",
    "\n",
    "private_url_response = requests.get(\n",
    "    url=private_url,\n",
    "    auth=HTTPBasicAuth(github_username, token)\n",
    ")\n",
    "\n",
    "private_url_response.status_code\n",
    "\n",
    "\"\"\"\n",
    "200\n",
    "\"\"\"\n",
    "POWERED BY DATACAMP WORKSPACE"
   ]
  },
  {
   "cell_type": "markdown",
   "id": "869ec643-a997-46fb-b508-6518ec239ce2",
   "metadata": {},
   "source": [
    "In the code above we:\n",
    "\n",
    "1. Imported the HTTPBasicAuth object from requests.auth; this object attaches HTTP  basic authentication to the given request object – it’s essentially the same as typing your username and password into a website. \n",
    "2. Defined the private URL endpoint to access \n",
    "3. Instantiated a variable with a GitHub username – we anonymized the username for privacy.\n",
    "4. Instantiated a variable GitHub with a personal access token for authentication.  \n",
    "5. Retrieved data from our endpoint and stored it in the private_url_response variable. \n",
    "6. Displayed the status code.  "
   ]
  },
  {
   "cell_type": "markdown",
   "id": "d0ebe7e5-d13d-4956-a947-12756296ccfc",
   "metadata": {},
   "source": [
    "#### Handling errors"
   ]
  },
  {
   "cell_type": "markdown",
   "id": "b381cc7f-c97a-4ade-b309-67acc7243f04",
   "metadata": {},
   "source": [
    "There are instances where requests made to an API do not go as expected. Several factors on either the client or server-side could be at play. Regardless of the cause, the outcome is always the same: the request fails. \n",
    "\n",
    "When using REST APIs, it’s always a good idea to make your code resilient. However, before you can write robust code, you must understand how to manage the reported errors when things do not go to plan.  \n",
    "\n",
    "Let’s go back to the JSONPlaceholder API for this demonstration. We will start by writing some code and then explain what is going on.  "
   ]
  },
  {
   "cell_type": "code",
   "execution_count": 8,
   "id": "9a3a7197-9e38-4b80-b040-4dc814dd8402",
   "metadata": {},
   "outputs": [
    {
     "name": "stdout",
     "output_type": "stream",
     "text": [
      "404 Client Error: Not Found for url: https://jsonplaceholder.typicode.com/postz\n"
     ]
    }
   ],
   "source": [
    "# A deliberate typo is made in the endpoint \"postz\" instead of \"posts\"\n",
    "url = \"https://jsonplaceholder.typicode.com/postz\"\n",
    "\n",
    "# Attempt to GET data from provided endpoint\n",
    "try:\n",
    "    response = requests.get(url)\n",
    "    response.raise_for_status()\n",
    "# If the request fails (404) then print the error.\n",
    "except requests.exceptions.HTTPError as error:\n",
    "  print(error)"
   ]
  },
  {
   "cell_type": "markdown",
   "id": "c1b759a5-4577-4d4c-b3f9-4bc921fb4cfe",
   "metadata": {},
   "source": [
    "In the code above, we: \n",
    "\n",
    "1. Defined the JSONPlace holder endpoint to retrieve data from, but we made a deliberate typo when constructing the URL – this will raise a 404 error. \n",
    "2. Used Python’s built-in exception handling, try and except catch any errors that occur when attempting to visit the JSONPlaceholder endpoint. Note, the raise_for_status() method is what is used to return an HTTPError object when an error occurs during the process.\n",
    "3. Printed the error that was raised. \n",
    "\n",
    "Although we demonstrated how to handle 404 error status codes in this instance, the same format can be used to handle any HTTP status code. "
   ]
  },
  {
   "cell_type": "markdown",
   "id": "c6200b59-d890-49b9-9e51-5162cd298714",
   "metadata": {},
   "source": [
    "Vist the datacamp page cited above to see how to handle other types of errors, including:\n",
    "- Dealing with too many redirects\n",
    "- Connection errors\n",
    "- Timeout"
   ]
  },
  {
   "cell_type": "markdown",
   "id": "b3f00d2b-a9ac-4550-bdd7-3982d33bd0cb",
   "metadata": {},
   "source": [
    "## 3. Example: BLS Public Data API <a class=\"anchor\" id=\"bullet3\"></a>"
   ]
  },
  {
   "cell_type": "markdown",
   "id": "11b48422-0950-4406-9a25-b56472417912",
   "metadata": {},
   "source": [
    "Where APIs exist, you will usually be able to find code online through a simple google search to help you access a particular API. For example, you can read about the BLS's Public Data API here: https://www.bls.gov/developers/home.htm\n",
    "\n",
    "From that link, we can learn several things about APIs:\n",
    "- APIs exist because there are incentives on both sides (the organization and the user). The BLS explictly states that \"It is the Bureau's hope that talented developers and programmers will use the BLS Public Data API to create original, inventive applications with published BLS data.\" Obviously, they benefit from having their data more widely used/cited, so they have incentives to make accessing their data as easy as possible\n",
    "- They mention two different APIs, one which requires registration (Version 2) and one which does not (Version 1). Varying levels of access are common with APIs. In some cases (like using the Twitter API), you have to submit an application before you can get access\n",
    "- The BLS API exports data in a JSON Data format, which today is the most common exporting format used to be JSON (XML is also used, but today JSON is more popular)\n",
    "- \"The BLS Public API utilizes two HTTP request-response mechanisms to retrieve data: `GET` and `POST`. `GET` requests data from a specified source. `POST` submits data to a specified resource to be processed. The BLS Public Data API uses GET to request a single piece of information and POST for all other requests.\"\n",
    "- They've provided sample code in amost a dozen different programming langugaes that you can leverage to access their API!\n",
    "- They provide a list of FAQs, which is commonly provided by organizations to help end users "
   ]
  },
  {
   "cell_type": "markdown",
   "id": "dae7490c-f1e0-4189-8a21-96a252eea4a1",
   "metadata": {},
   "source": [
    "The code that we will leverage to connect to the BLS's Public Data API is from an online resource: https://www.bd-econ.com/blsapi.html. As said at that web address:\n",
    "> \"The BLS Public Data API allows machine access to an enormous and incredibly useful set of U.S. economic data. With python, it is easy to integrate BLS data into projects, research, and graphics without the need to manually find, download, and combine files.  \n",
    "  \n",
    "> This notebook offers two examples of using python to request economic data from the BLS API. The first example requests the labor force participation rate from the BLS v1 API. The second example requests unemployment rates by race/origin, and shows a method for requesting multiple series over a longer period of time using the v2 API\"."
   ]
  },
  {
   "cell_type": "markdown",
   "id": "75790b90-1ce9-4c40-96bc-4a2593207d7f",
   "metadata": {},
   "source": [
    "### Single series from API v1"
   ]
  },
  {
   "cell_type": "markdown",
   "id": "9efc40a0-c0c3-48ba-8c7a-d1f271360c3c",
   "metadata": {},
   "source": [
    "##### Note: This section is taken verbatim from the link above."
   ]
  },
  {
   "cell_type": "markdown",
   "id": "7473c61f-d413-44cd-82e3-2f185745a82a",
   "metadata": {},
   "source": [
    "##### Step 1: API Location\n",
    "The version 1 API, which does not require registration, is located at the URL base_url below."
   ]
  },
  {
   "cell_type": "code",
   "execution_count": 9,
   "id": "48365015-a361-4a7a-8109-0d6b2d245ba5",
   "metadata": {},
   "outputs": [],
   "source": [
    "# BLS API v1 url\n",
    "base_url = 'https://api.bls.gov/publicAPI/v1/timeseries/data/'"
   ]
  },
  {
   "cell_type": "markdown",
   "id": "7a4a9fc4-c1b5-48a4-803d-f898db469b23",
   "metadata": {},
   "source": [
    "##### Step 2: BLS series id"
   ]
  },
  {
   "cell_type": "markdown",
   "id": "4dee88d7-5cb5-4531-9532-edf9694608ec",
   "metadata": {},
   "source": [
    "The BLS [data site](https://www.bls.gov/data/) offers different search tools to find the series ID for the data of interest. In this case, I'm going to type out a python dictionary with two keys and two values. The first key is the word id and its value is the BLS series ID. The second key is name and its value is a short descriptive name that corresponds to the series."
   ]
  },
  {
   "cell_type": "code",
   "execution_count": 10,
   "id": "61dafae8-64f9-4624-a734-9f934741bb93",
   "metadata": {},
   "outputs": [],
   "source": [
    "# BLS series id for the civilian labor force participation rate\n",
    "series = {'id': 'LNS11300000',\n",
    "          'name': 'Labor Force Participation Rate'}"
   ]
  },
  {
   "cell_type": "code",
   "execution_count": 11,
   "id": "14f41791-b3d3-43bf-9ef7-c4f6aeee3882",
   "metadata": {},
   "outputs": [
    {
     "name": "stdout",
     "output_type": "stream",
     "text": [
      "https://api.bls.gov/publicAPI/v1/timeseries/data/LNS11300000\n"
     ]
    }
   ],
   "source": [
    "# Combine the base url and series id into a single string which is the API url with data. \n",
    "# Print a link to the data.\n",
    "data_url = '{}{}'.format(base_url, series['id'])\n",
    "print(data_url)"
   ]
  },
  {
   "cell_type": "markdown",
   "id": "68193c96-88d4-4427-b1c1-feb2ce0730e3",
   "metadata": {},
   "source": [
    "#### Step 3: Request data from data url and transform it into a pd.DataFrame"
   ]
  },
  {
   "cell_type": "markdown",
   "id": "e66790e1-22d9-453a-91e2-9f202ad48b2e",
   "metadata": {},
   "source": [
    "Use the requests package to get data from the data_url. By specifying that the data are in json format, we convert the output to nested python dictionaries and lists. The status of the request is printed and the top-level dictionary is stored as variable r."
   ]
  },
  {
   "cell_type": "code",
   "execution_count": 12,
   "id": "5bce5f04-9656-4d65-971d-354387430341",
   "metadata": {},
   "outputs": [
    {
     "name": "stdout",
     "output_type": "stream",
     "text": [
      "Status: REQUEST_SUCCEEDED\n"
     ]
    }
   ],
   "source": [
    "import requests\n",
    "\n",
    "r = requests.get(data_url).json()\n",
    "print('Status: ' + r['status'])"
   ]
  },
  {
   "cell_type": "code",
   "execution_count": 13,
   "id": "00dba4be-eec2-4388-a06b-75d406de54b6",
   "metadata": {},
   "outputs": [
    {
     "data": {
      "text/plain": [
       "{'status': 'REQUEST_SUCCEEDED',\n",
       " 'responseTime': 221,\n",
       " 'message': [],\n",
       " 'Results': {'series': [{'seriesID': 'LNS11300000',\n",
       "    'data': [{'year': '2023',\n",
       "      'period': 'M02',\n",
       "      'periodName': 'February',\n",
       "      'latest': 'true',\n",
       "      'value': '62.5',\n",
       "      'footnotes': [{}]},\n",
       "     {'year': '2023',\n",
       "      'period': 'M01',\n",
       "      'periodName': 'January',\n",
       "      'value': '62.4',\n",
       "      'footnotes': [{}]},\n",
       "     {'year': '2022',\n",
       "      'period': 'M12',\n",
       "      'periodName': 'December',\n",
       "      'value': '62.3',\n",
       "      'footnotes': [{}]},\n",
       "     {'year': '2022',\n",
       "      'period': 'M11',\n",
       "      'periodName': 'November',\n",
       "      'value': '62.2',\n",
       "      'footnotes': [{}]},\n",
       "     {'year': '2022',\n",
       "      'period': 'M10',\n",
       "      'periodName': 'October',\n",
       "      'value': '62.2',\n",
       "      'footnotes': [{}]},\n",
       "     {'year': '2022',\n",
       "      'period': 'M09',\n",
       "      'periodName': 'September',\n",
       "      'value': '62.3',\n",
       "      'footnotes': [{}]},\n",
       "     {'year': '2022',\n",
       "      'period': 'M08',\n",
       "      'periodName': 'August',\n",
       "      'value': '62.3',\n",
       "      'footnotes': [{}]},\n",
       "     {'year': '2022',\n",
       "      'period': 'M07',\n",
       "      'periodName': 'July',\n",
       "      'value': '62.1',\n",
       "      'footnotes': [{}]},\n",
       "     {'year': '2022',\n",
       "      'period': 'M06',\n",
       "      'periodName': 'June',\n",
       "      'value': '62.2',\n",
       "      'footnotes': [{}]},\n",
       "     {'year': '2022',\n",
       "      'period': 'M05',\n",
       "      'periodName': 'May',\n",
       "      'value': '62.3',\n",
       "      'footnotes': [{}]},\n",
       "     {'year': '2022',\n",
       "      'period': 'M04',\n",
       "      'periodName': 'April',\n",
       "      'value': '62.2',\n",
       "      'footnotes': [{}]},\n",
       "     {'year': '2022',\n",
       "      'period': 'M03',\n",
       "      'periodName': 'March',\n",
       "      'value': '62.4',\n",
       "      'footnotes': [{}]},\n",
       "     {'year': '2022',\n",
       "      'period': 'M02',\n",
       "      'periodName': 'February',\n",
       "      'value': '62.2',\n",
       "      'footnotes': [{}]},\n",
       "     {'year': '2022',\n",
       "      'period': 'M01',\n",
       "      'periodName': 'January',\n",
       "      'value': '62.2',\n",
       "      'footnotes': [{}]},\n",
       "     {'year': '2021',\n",
       "      'period': 'M12',\n",
       "      'periodName': 'December',\n",
       "      'value': '62.0',\n",
       "      'footnotes': [{}]},\n",
       "     {'year': '2021',\n",
       "      'period': 'M11',\n",
       "      'periodName': 'November',\n",
       "      'value': '61.9',\n",
       "      'footnotes': [{}]},\n",
       "     {'year': '2021',\n",
       "      'period': 'M10',\n",
       "      'periodName': 'October',\n",
       "      'value': '61.8',\n",
       "      'footnotes': [{}]},\n",
       "     {'year': '2021',\n",
       "      'period': 'M09',\n",
       "      'periodName': 'September',\n",
       "      'value': '61.7',\n",
       "      'footnotes': [{}]},\n",
       "     {'year': '2021',\n",
       "      'period': 'M08',\n",
       "      'periodName': 'August',\n",
       "      'value': '61.7',\n",
       "      'footnotes': [{}]},\n",
       "     {'year': '2021',\n",
       "      'period': 'M07',\n",
       "      'periodName': 'July',\n",
       "      'value': '61.8',\n",
       "      'footnotes': [{}]},\n",
       "     {'year': '2021',\n",
       "      'period': 'M06',\n",
       "      'periodName': 'June',\n",
       "      'value': '61.7',\n",
       "      'footnotes': [{}]},\n",
       "     {'year': '2021',\n",
       "      'period': 'M05',\n",
       "      'periodName': 'May',\n",
       "      'value': '61.5',\n",
       "      'footnotes': [{}]},\n",
       "     {'year': '2021',\n",
       "      'period': 'M04',\n",
       "      'periodName': 'April',\n",
       "      'value': '61.6',\n",
       "      'footnotes': [{}]},\n",
       "     {'year': '2021',\n",
       "      'period': 'M03',\n",
       "      'periodName': 'March',\n",
       "      'value': '61.5',\n",
       "      'footnotes': [{}]},\n",
       "     {'year': '2021',\n",
       "      'period': 'M02',\n",
       "      'periodName': 'February',\n",
       "      'value': '61.4',\n",
       "      'footnotes': [{}]},\n",
       "     {'year': '2021',\n",
       "      'period': 'M01',\n",
       "      'periodName': 'January',\n",
       "      'value': '61.3',\n",
       "      'footnotes': [{}]}]}]}}"
      ]
     },
     "execution_count": 13,
     "metadata": {},
     "output_type": "execute_result"
    }
   ],
   "source": [
    "# Check data\n",
    "r # it's a JSON file"
   ]
  },
  {
   "cell_type": "code",
   "execution_count": 14,
   "id": "6413645c-7be4-4331-86c4-e1a2318dee9d",
   "metadata": {},
   "outputs": [
    {
     "name": "stdout",
     "output_type": "stream",
     "text": [
      "dict_keys(['status', 'responseTime', 'message', 'Results'])\n"
     ]
    }
   ],
   "source": [
    "print(r.keys()) # The results key has the data we want"
   ]
  },
  {
   "cell_type": "code",
   "execution_count": 15,
   "id": "1572bc73-7244-494d-9d6c-7df9403c9ad4",
   "metadata": {},
   "outputs": [
    {
     "name": "stdout",
     "output_type": "stream",
     "text": [
      "{'year': '2023', 'period': 'M02', 'periodName': 'February', 'latest': 'true', 'value': '62.5', 'footnotes': [{}]}\n"
     ]
    }
   ],
   "source": [
    "r = r['Results']['series'][0]['data']\n",
    "print(r[0])"
   ]
  },
  {
   "cell_type": "code",
   "execution_count": 16,
   "id": "fc329c7c-a7f1-4aea-93e2-6978007c0db7",
   "metadata": {},
   "outputs": [
    {
     "data": {
      "text/html": [
       "<div>\n",
       "<style scoped>\n",
       "    .dataframe tbody tr th:only-of-type {\n",
       "        vertical-align: middle;\n",
       "    }\n",
       "\n",
       "    .dataframe tbody tr th {\n",
       "        vertical-align: top;\n",
       "    }\n",
       "\n",
       "    .dataframe thead th {\n",
       "        text-align: right;\n",
       "    }\n",
       "</style>\n",
       "<table border=\"1\" class=\"dataframe\">\n",
       "  <thead>\n",
       "    <tr style=\"text-align: right;\">\n",
       "      <th></th>\n",
       "      <th>LNS11300000</th>\n",
       "      <th>footnotes</th>\n",
       "    </tr>\n",
       "  </thead>\n",
       "  <tbody>\n",
       "    <tr>\n",
       "      <th>2021-01-01 00:00:01</th>\n",
       "      <td>61.3</td>\n",
       "      <td>{}</td>\n",
       "    </tr>\n",
       "    <tr>\n",
       "      <th>2021-01-01 00:00:02</th>\n",
       "      <td>61.4</td>\n",
       "      <td>{}</td>\n",
       "    </tr>\n",
       "    <tr>\n",
       "      <th>2021-01-01 00:00:03</th>\n",
       "      <td>61.5</td>\n",
       "      <td>{}</td>\n",
       "    </tr>\n",
       "    <tr>\n",
       "      <th>2021-01-01 00:00:04</th>\n",
       "      <td>61.6</td>\n",
       "      <td>{}</td>\n",
       "    </tr>\n",
       "    <tr>\n",
       "      <th>2021-01-01 00:00:05</th>\n",
       "      <td>61.5</td>\n",
       "      <td>{}</td>\n",
       "    </tr>\n",
       "  </tbody>\n",
       "</table>\n",
       "</div>"
      ],
      "text/plain": [
       "                     LNS11300000 footnotes\n",
       "2021-01-01 00:00:01         61.3        {}\n",
       "2021-01-01 00:00:02         61.4        {}\n",
       "2021-01-01 00:00:03         61.5        {}\n",
       "2021-01-01 00:00:04         61.6        {}\n",
       "2021-01-01 00:00:05         61.5        {}"
      ]
     },
     "execution_count": 16,
     "metadata": {},
     "output_type": "execute_result"
    }
   ],
   "source": [
    "# Reformat to a pandas object\n",
    "import pandas as pd\n",
    "\n",
    "dates = ['{} {}'.format(i['period'], i['year']) for i in r]\n",
    "index = pd.to_datetime(dates)\n",
    "data = {series['id']: [float(i['value']) for i in r],\n",
    "        'footnotes': [i['footnotes'][0] for i in r]}\n",
    "\n",
    "df = pd.DataFrame(index=index, data=data).iloc[::-1]\n",
    "\n",
    "df.head()"
   ]
  },
  {
   "cell_type": "markdown",
   "id": "9e963e69",
   "metadata": {},
   "source": [
    "Calculate the average value for the period and plot both the monthly values and average value to look for trends."
   ]
  },
  {
   "cell_type": "code",
   "execution_count": 17,
   "id": "86426474",
   "metadata": {},
   "outputs": [
    {
     "data": {
      "text/plain": [
       "<AxesSubplot:title={'center':'Labor Force Participation Rate'}>"
      ]
     },
     "execution_count": 17,
     "metadata": {},
     "output_type": "execute_result"
    },
    {
     "data": {
      "image/png": "[encoded data removed]",
      "text/plain": [
       "<Figure size 640x480 with 1 Axes>"
      ]
     },
     "metadata": {},
     "output_type": "display_data"
    }
   ],
   "source": [
    "%matplotlib inline\n",
    "\n",
    "df['mean'] = df[series['id']].mean()\n",
    "df[[series['id'], 'mean']].plot(title=series['name'])"
   ]
  },
  {
   "cell_type": "markdown",
   "id": "2f603020",
   "metadata": {},
   "source": [
    "## 4. Example: ProPublica API <a class=\"anchor\" id=\"bullet4\"></a>"
   ]
  },
  {
   "cell_type": "markdown",
   "id": "f94a32ca-e99e-4853-9af1-cf6ab1ecdb05",
   "metadata": {},
   "source": [
    "##### Note: This section is taken verbatim from this [link](https://propublica-congress.readthedocs.io/en/latest/)."
   ]
  },
  {
   "cell_type": "code",
   "execution_count": 18,
   "id": "4a733c64",
   "metadata": {},
   "outputs": [
    {
     "name": "stdout",
     "output_type": "stream",
     "text": [
      "Requirement already satisfied: python-congress in c:\\users\\nicka\\anaconda3\\lib\\site-packages (0.3.5)\n",
      "Requirement already satisfied: six in c:\\users\\nicka\\anaconda3\\lib\\site-packages (from python-congress) (1.16.0)\n",
      "Requirement already satisfied: httplib2 in c:\\users\\nicka\\anaconda3\\lib\\site-packages (from python-congress) (0.22.0)\n",
      "Requirement already satisfied: pyparsing!=3.0.0,!=3.0.1,!=3.0.2,!=3.0.3,<4,>=2.4.2 in c:\\users\\nicka\\anaconda3\\lib\\site-packages (from httplib2->python-congress) (3.0.9)\n"
     ]
    }
   ],
   "source": [
    "!pip install python-congress"
   ]
  },
  {
   "cell_type": "markdown",
   "id": "66654344",
   "metadata": {},
   "source": [
    "The main entrypoint for the API is the Congress class, which is instantiated with your API key. (Request an API key at [ProPublica’s data store](https://www.propublica.org/datastore/api/propublica-congress-api).)"
   ]
  },
  {
   "cell_type": "code",
   "execution_count": 19,
   "id": "b2ca41e2",
   "metadata": {},
   "outputs": [],
   "source": [
    "from congress import Congress\n",
    "congress = Congress('Bqe6kl3aYOa8RnsLKLiVm4tv1sr328265zlYqo3n') ## replace with your API key"
   ]
  },
  {
   "cell_type": "markdown",
   "id": "f49e5f19-1c7c-4bb7-b8aa-40e27c1220f4",
   "metadata": {},
   "source": [
    "<div class=\"alert alert-block alert-danger\">\n",
    "<b>Caution:</b> \n",
    "    \n",
    "You should never embed your keys in a document as we've done here. We've done this to make this example faster to use in class. The best place to save keys is in some sort of \"valut\", which is like a password manager for keys/OAuth information. For example, [GitHub Secrets](https://docs.github.com/en/actions/security-guides/encrypted-secrets) is a common software.\n",
    "\n",
    "    \n",
    "</div>"
   ]
  },
  {
   "cell_type": "code",
   "execution_count": 20,
   "id": "7dd7efa6-2f50-4d70-9d91-0009d93c675b",
   "metadata": {},
   "outputs": [
    {
     "data": {
      "text/plain": [
       "congress.Congress"
      ]
     },
     "execution_count": 20,
     "metadata": {},
     "output_type": "execute_result"
    }
   ],
   "source": [
    "type(congress)  # Special object type from the congress library"
   ]
  },
  {
   "cell_type": "code",
   "execution_count": 21,
   "id": "3271c3c4",
   "metadata": {},
   "outputs": [
    {
     "data": {
      "text/plain": [
       "'SpeakerPelosi'"
      ]
     },
     "execution_count": 21,
     "metadata": {},
     "output_type": "execute_result"
    }
   ],
   "source": [
    "# get member by bioguide ID\n",
    "pelosi = congress.members.get('P000197')\n",
    "pelosi['twitter_account']"
   ]
  },
  {
   "cell_type": "code",
   "execution_count": 22,
   "id": "6dad21fc",
   "metadata": {},
   "outputs": [],
   "source": [
    "# get recent House bills\n",
    "# recent bills come in two types: 'introduced' and 'updated'\n",
    "introd = congress.bills.recent(\n",
    "    chamber='house',\n",
    "    congress=115,\n",
    "    type='introduced')"
   ]
  },
  {
   "cell_type": "code",
   "execution_count": 23,
   "id": "0983bd08",
   "metadata": {},
   "outputs": [
    {
     "data": {
      "text/plain": [
       "20"
      ]
     },
     "execution_count": 23,
     "metadata": {},
     "output_type": "execute_result"
    }
   ],
   "source": [
    "len(introd['bills'])"
   ]
  },
  {
   "cell_type": "code",
   "execution_count": 24,
   "id": "45a8fae7",
   "metadata": {},
   "outputs": [
    {
     "data": {
      "text/plain": [
       "'House'"
      ]
     },
     "execution_count": 24,
     "metadata": {},
     "output_type": "execute_result"
    }
   ],
   "source": [
    "introd['chamber']"
   ]
  },
  {
   "cell_type": "code",
   "execution_count": 25,
   "id": "afad186a",
   "metadata": {},
   "outputs": [
    {
     "data": {
      "text/plain": [
       "'House'"
      ]
     },
     "execution_count": 25,
     "metadata": {},
     "output_type": "execute_result"
    }
   ],
   "source": [
    "# or use a convenience function\n",
    "introd = congress.bills.introduced('house')\n",
    "introd['chamber']"
   ]
  },
  {
   "cell_type": "code",
   "execution_count": 26,
   "id": "e2c1b800",
   "metadata": {},
   "outputs": [
    {
     "data": {
      "text/plain": [
       "20"
      ]
     },
     "execution_count": 26,
     "metadata": {},
     "output_type": "execute_result"
    }
   ],
   "source": [
    "len(introd['bills'])"
   ]
  },
  {
   "cell_type": "markdown",
   "id": "4d4c4496",
   "metadata": {},
   "source": [
    "## 5. Using APIs to get data: Python Packages <a class=\"anchor\" id=\"bullet5\"></a>"
   ]
  },
  {
   "cell_type": "markdown",
   "id": "1e8dbeb1-d39d-488e-a705-b957f0980f98",
   "metadata": {},
   "source": [
    "You should always look for an python package that let's you access API data first. For example, above we accessed data through ProPublica's Python library Congress.\n",
    "\n",
    "Why?  \n",
    "- Typically you will find it easier to access the data you are looking for.\n",
    "- Functions can give you access to data in an intuitive way.  \n",
    "- This is better than searching through API documentation on your own."
   ]
  },
  {
   "cell_type": "markdown",
   "id": "7b818b60-8c70-4073-8a75-7005b690b15d",
   "metadata": {},
   "source": [
    "__Helpful hint:__ Look on GitHub for examples of accessing APIs \n",
    "- [BLS API](https://github.com/OliverSherouse/bls)\n",
    "- [twarc API for for scraping Twitter](https://github.com/DocNow/twarc)\n",
    "- [pynytimes api for scrapping nytimes](https://github.com/michadenheijer/pynytimes)"
   ]
  },
  {
   "cell_type": "markdown",
   "id": "8909e1af-12f0-4df6-b2a1-b25eaf83d404",
   "metadata": {},
   "source": [
    "However, API keys and Oauthorization are required nowadays across majority of platforms \n",
    "due to an increased awarness of cybersecurity and data privacy."
   ]
  },
  {
   "cell_type": "markdown",
   "id": "3becbf2f",
   "metadata": {},
   "source": [
    "## 6. No Python Package? Manipulate URL directly <a class=\"anchor\" id=\"bullet6\"></a>"
   ]
  },
  {
   "cell_type": "markdown",
   "id": "0423331a-5af1-420c-a4c5-3aea68090779",
   "metadata": {},
   "source": [
    "pynytimes takes the API URL, reshapes it using our arguments, and returns data. We can do this on our own! We read in the url using the requests library, and the json\n",
    "\n",
    "__Step one__: examine the API url structure and parameters.  Let's focus on the article API from the first part of the rtimes example. Examine the documentation for the nytimes apis to figure out the URL structure:\n",
    "https://developer.nytimes.com/docs/articlesearch-product/1/routes/articlesearch.json/get\n",
    "the url is listed under the header \"Requests\" when you scroll down the page\n",
    "\n",
    "Generic Example of URL: \n",
    "http://api.nytimes.com/svc/search/v2/articlesearch.json?q=new+york+times&page=2&sort=oldest&api-key=####\n",
    "\n",
    "__Note__: \"?q=new+york+times&page=2&sort=oldest&api-key=####\" --> This is the Query String, which is appended on to the end of the nytimes web api\n",
    "\n",
    "This URL uses the article search api for articles that mention \"new york times\".  Note\n",
    "that it still requires an api-key, so it won't work if you paste it into a browser. You need to replace \"###\" with a key code and then it will work\n",
    "  \n",
    "The API request will return JSON data.  So we need to use a function to convert JSON data to pandas with the URL to get results into R."
   ]
  },
  {
   "cell_type": "code",
   "execution_count": 44,
   "id": "ddd60ba3",
   "metadata": {},
   "outputs": [],
   "source": [
    "# Let's conduct an  article search for Biden from\n",
    "# begin_date = \"20220801\" to end_date = '20221231'\n",
    "\n",
    "#First we will create different parts of the final URL, then we will combine them together\n",
    "article_key = \"Dh5ALRSh2qe7I7FhAAj8VHxwcVO9FFy8\" # replace text with your key here\n",
    "term = \"Trump\" # Need to use + to string together separate words for multiple terms\n",
    "begin_date = \"20220328\" \n",
    "end_date = \"20220328\""
   ]
  },
  {
   "cell_type": "code",
   "execution_count": 45,
   "id": "8be33973",
   "metadata": {},
   "outputs": [],
   "source": [
    "finalurl = \"http://api.nytimes.com/svc/search/v2/articlesearch.json?q=\" + term + \"&begin_date=\" + begin_date + \"&end_date=\" + end_date + \"&api-key=\" + article_key"
   ]
  },
  {
   "cell_type": "code",
   "execution_count": 46,
   "id": "972aef58",
   "metadata": {},
   "outputs": [
    {
     "data": {
      "text/plain": [
       "'http://api.nytimes.com/svc/search/v2/articlesearch.json?q=Trump&begin_date=20220328&end_date=20220328&api-key=Dh5ALRSh2qe7I7FhAAj8VHxwcVO9FFy8'"
      ]
     },
     "execution_count": 46,
     "metadata": {},
     "output_type": "execute_result"
    }
   ],
   "source": [
    "finalurl"
   ]
  },
  {
   "cell_type": "code",
   "execution_count": 47,
   "id": "1a2c667d-e546-4ac9-88c8-31c4f0f0c4a9",
   "metadata": {},
   "outputs": [
    {
     "name": "stdout",
     "output_type": "stream",
     "text": [
      "dict_keys(['status', 'copyright', 'response'])\n"
     ]
    }
   ],
   "source": [
    "r = requests.get(finalurl)\n",
    "r = r.json()\n",
    "print(r.keys())"
   ]
  },
  {
   "cell_type": "code",
   "execution_count": 48,
   "id": "65820fcf-75ec-4dd2-bbd9-29493f61878d",
   "metadata": {},
   "outputs": [
    {
     "name": "stdout",
     "output_type": "stream",
     "text": [
      "(6, 20)\n",
      "Index(['abstract', 'web_url', 'snippet', 'lead_paragraph', 'print_section',\n",
      "       'print_page', 'source', 'multimedia', 'headline', 'keywords',\n",
      "       'pub_date', 'document_type', 'news_desk', 'section_name',\n",
      "       'subsection_name', 'byline', 'type_of_material', '_id', 'word_count',\n",
      "       'uri'],\n",
      "      dtype='object')\n"
     ]
    },
    {
     "data": {
      "text/html": [
       "<div>\n",
       "<style scoped>\n",
       "    .dataframe tbody tr th:only-of-type {\n",
       "        vertical-align: middle;\n",
       "    }\n",
       "\n",
       "    .dataframe tbody tr th {\n",
       "        vertical-align: top;\n",
       "    }\n",
       "\n",
       "    .dataframe thead th {\n",
       "        text-align: right;\n",
       "    }\n",
       "</style>\n",
       "<table border=\"1\" class=\"dataframe\">\n",
       "  <thead>\n",
       "    <tr style=\"text-align: right;\">\n",
       "      <th></th>\n",
       "      <th>abstract</th>\n",
       "      <th>web_url</th>\n",
       "      <th>snippet</th>\n",
       "      <th>lead_paragraph</th>\n",
       "      <th>print_section</th>\n",
       "      <th>print_page</th>\n",
       "      <th>source</th>\n",
       "      <th>multimedia</th>\n",
       "      <th>headline</th>\n",
       "      <th>keywords</th>\n",
       "      <th>pub_date</th>\n",
       "      <th>document_type</th>\n",
       "      <th>news_desk</th>\n",
       "      <th>section_name</th>\n",
       "      <th>subsection_name</th>\n",
       "      <th>byline</th>\n",
       "      <th>type_of_material</th>\n",
       "      <th>_id</th>\n",
       "      <th>word_count</th>\n",
       "      <th>uri</th>\n",
       "    </tr>\n",
       "  </thead>\n",
       "  <tbody>\n",
       "    <tr>\n",
       "      <th>0</th>\n",
       "      <td>“The illegality of the plan was obvious,” the ...</td>\n",
       "      <td>https://www.nytimes.com/2022/03/28/us/politics...</td>\n",
       "      <td>“The illegality of the plan was obvious,” the ...</td>\n",
       "      <td>Follow live updates on the House committee hea...</td>\n",
       "      <td>A</td>\n",
       "      <td>1</td>\n",
       "      <td>The New York Times</td>\n",
       "      <td>[{'rank': 0, 'subtype': 'xlarge', 'caption': N...</td>\n",
       "      <td>{'main': 'Federal Judge Finds Trump Most Likel...</td>\n",
       "      <td>[{'name': 'persons', 'value': 'Trump, Donald J...</td>\n",
       "      <td>2022-03-28T16:24:51+0000</td>\n",
       "      <td>article</td>\n",
       "      <td>Washington</td>\n",
       "      <td>U.S.</td>\n",
       "      <td>Politics</td>\n",
       "      <td>{'original': 'By Luke Broadwater, Alan Feuer a...</td>\n",
       "      <td>News</td>\n",
       "      <td>nyt://article/47ca02b0-b3a9-5542-b4b0-2dac8769...</td>\n",
       "      <td>1602</td>\n",
       "      <td>nyt://article/47ca02b0-b3a9-5542-b4b0-2dac8769...</td>\n",
       "    </tr>\n",
       "    <tr>\n",
       "      <th>1</th>\n",
       "      <td>The House committee investigating the Capitol ...</td>\n",
       "      <td>https://www.nytimes.com/2022/03/27/us/politics...</td>\n",
       "      <td>The House committee investigating the Capitol ...</td>\n",
       "      <td>WASHINGTON — The House committee investigating...</td>\n",
       "      <td>A</td>\n",
       "      <td>17</td>\n",
       "      <td>The New York Times</td>\n",
       "      <td>[{'rank': 0, 'subtype': 'xlarge', 'caption': N...</td>\n",
       "      <td>{'main': 'Jan. 6 Panel Makes Case for Contempt...</td>\n",
       "      <td>[{'name': 'subject', 'value': 'Storming of the...</td>\n",
       "      <td>2022-03-28T01:37:40+0000</td>\n",
       "      <td>article</td>\n",
       "      <td>Washington</td>\n",
       "      <td>U.S.</td>\n",
       "      <td>Politics</td>\n",
       "      <td>{'original': 'By Luke Broadwater and Alan Feue...</td>\n",
       "      <td>News</td>\n",
       "      <td>nyt://article/85ff3c5b-819d-583a-9f6c-5dd75c18...</td>\n",
       "      <td>1141</td>\n",
       "      <td>nyt://article/85ff3c5b-819d-583a-9f6c-5dd75c18...</td>\n",
       "    </tr>\n",
       "    <tr>\n",
       "      <th>2</th>\n",
       "      <td>The committee is preparing to reach out to the...</td>\n",
       "      <td>https://www.nytimes.com/2022/03/28/us/politics...</td>\n",
       "      <td>The committee is preparing to reach out to the...</td>\n",
       "      <td>WASHINGTON — The House committee investigating...</td>\n",
       "      <td>A</td>\n",
       "      <td>18</td>\n",
       "      <td>The New York Times</td>\n",
       "      <td>[{'rank': 0, 'subtype': 'xlarge', 'caption': N...</td>\n",
       "      <td>{'main': 'Jan. 6 Panel Is Likely to Seek Inter...</td>\n",
       "      <td>[{'name': 'persons', 'value': 'Thomas, Virgini...</td>\n",
       "      <td>2022-03-28T17:52:41+0000</td>\n",
       "      <td>article</td>\n",
       "      <td>Washington</td>\n",
       "      <td>U.S.</td>\n",
       "      <td>Politics</td>\n",
       "      <td>{'original': 'By Luke Broadwater', 'person': [...</td>\n",
       "      <td>News</td>\n",
       "      <td>nyt://article/504254d8-b908-57e0-b0d3-11531b83...</td>\n",
       "      <td>675</td>\n",
       "      <td>nyt://article/504254d8-b908-57e0-b0d3-11531b83...</td>\n",
       "    </tr>\n",
       "    <tr>\n",
       "      <th>3</th>\n",
       "      <td>Washington is getting extra serious and extra ...</td>\n",
       "      <td>https://www.nytimes.com/2022/03/28/opinion/bid...</td>\n",
       "      <td>Washington is getting extra serious and extra ...</td>\n",
       "      <td>Bret Stephens: Hi, Gail. I think many American...</td>\n",
       "      <td>A</td>\n",
       "      <td>22</td>\n",
       "      <td>The New York Times</td>\n",
       "      <td>[{'rank': 0, 'subtype': 'xlarge', 'caption': N...</td>\n",
       "      <td>{'main': 'Ted Cruz Knows Which Side He’s On', ...</td>\n",
       "      <td>[{'name': 'subject', 'value': 'United States E...</td>\n",
       "      <td>2022-03-28T09:00:16+0000</td>\n",
       "      <td>article</td>\n",
       "      <td>OpEd</td>\n",
       "      <td>Opinion</td>\n",
       "      <td>NaN</td>\n",
       "      <td>{'original': 'By Gail Collins and Bret Stephen...</td>\n",
       "      <td>Op-Ed</td>\n",
       "      <td>nyt://article/90101d41-4876-58de-a3eb-483a9a33...</td>\n",
       "      <td>1638</td>\n",
       "      <td>nyt://article/90101d41-4876-58de-a3eb-483a9a33...</td>\n",
       "    </tr>\n",
       "    <tr>\n",
       "      <th>4</th>\n",
       "      <td>Attorney General Maura Healey of Massachusetts...</td>\n",
       "      <td>https://www.nytimes.com/2022/03/28/opinion/swa...</td>\n",
       "      <td>Attorney General Maura Healey of Massachusetts...</td>\n",
       "      <td>Attorney General Maura Healey of Massachusetts...</td>\n",
       "      <td>NaN</td>\n",
       "      <td>NaN</td>\n",
       "      <td>The New York Times</td>\n",
       "      <td>[{'rank': 0, 'subtype': 'xlarge', 'caption': N...</td>\n",
       "      <td>{'main': 'Why Facebook’s ‘Hubris and Arrogance...</td>\n",
       "      <td>[{'name': 'subject', 'value': 'audio-neutral-i...</td>\n",
       "      <td>2022-03-28T09:00:09+0000</td>\n",
       "      <td>article</td>\n",
       "      <td>OpEd</td>\n",
       "      <td>Opinion</td>\n",
       "      <td>NaN</td>\n",
       "      <td>{'original': 'By ‘Sway'', 'person': [{'firstna...</td>\n",
       "      <td>Op-Ed</td>\n",
       "      <td>nyt://article/5479531a-bb4c-5c07-bc93-9cb615e0...</td>\n",
       "      <td>268</td>\n",
       "      <td>nyt://article/5479531a-bb4c-5c07-bc93-9cb615e0...</td>\n",
       "    </tr>\n",
       "    <tr>\n",
       "      <th>5</th>\n",
       "      <td>Are we losing the traditional values that real...</td>\n",
       "      <td>https://www.nytimes.com/2022/03/28/opinion/put...</td>\n",
       "      <td>Are we losing the traditional values that real...</td>\n",
       "      <td>Vladimir Putin’s invasion of Ukraine was, firs...</td>\n",
       "      <td>A</td>\n",
       "      <td>23</td>\n",
       "      <td>The New York Times</td>\n",
       "      <td>[{'rank': 0, 'subtype': 'xlarge', 'caption': N...</td>\n",
       "      <td>{'main': 'Putin and the Myths of Western Decad...</td>\n",
       "      <td>[{'name': 'subject', 'value': 'Storming of the...</td>\n",
       "      <td>2022-03-28T23:00:10+0000</td>\n",
       "      <td>article</td>\n",
       "      <td>OpEd</td>\n",
       "      <td>Opinion</td>\n",
       "      <td>NaN</td>\n",
       "      <td>{'original': 'By Paul Krugman', 'person': [{'f...</td>\n",
       "      <td>Op-Ed</td>\n",
       "      <td>nyt://article/44b2f5aa-f004-5660-9878-10bd6806...</td>\n",
       "      <td>881</td>\n",
       "      <td>nyt://article/44b2f5aa-f004-5660-9878-10bd6806...</td>\n",
       "    </tr>\n",
       "  </tbody>\n",
       "</table>\n",
       "</div>"
      ],
      "text/plain": [
       "                                            abstract  \\\n",
       "0  “The illegality of the plan was obvious,” the ...   \n",
       "1  The House committee investigating the Capitol ...   \n",
       "2  The committee is preparing to reach out to the...   \n",
       "3  Washington is getting extra serious and extra ...   \n",
       "4  Attorney General Maura Healey of Massachusetts...   \n",
       "5  Are we losing the traditional values that real...   \n",
       "\n",
       "                                             web_url  \\\n",
       "0  https://www.nytimes.com/2022/03/28/us/politics...   \n",
       "1  https://www.nytimes.com/2022/03/27/us/politics...   \n",
       "2  https://www.nytimes.com/2022/03/28/us/politics...   \n",
       "3  https://www.nytimes.com/2022/03/28/opinion/bid...   \n",
       "4  https://www.nytimes.com/2022/03/28/opinion/swa...   \n",
       "5  https://www.nytimes.com/2022/03/28/opinion/put...   \n",
       "\n",
       "                                             snippet  \\\n",
       "0  “The illegality of the plan was obvious,” the ...   \n",
       "1  The House committee investigating the Capitol ...   \n",
       "2  The committee is preparing to reach out to the...   \n",
       "3  Washington is getting extra serious and extra ...   \n",
       "4  Attorney General Maura Healey of Massachusetts...   \n",
       "5  Are we losing the traditional values that real...   \n",
       "\n",
       "                                      lead_paragraph print_section print_page  \\\n",
       "0  Follow live updates on the House committee hea...             A          1   \n",
       "1  WASHINGTON — The House committee investigating...             A         17   \n",
       "2  WASHINGTON — The House committee investigating...             A         18   \n",
       "3  Bret Stephens: Hi, Gail. I think many American...             A         22   \n",
       "4  Attorney General Maura Healey of Massachusetts...           NaN        NaN   \n",
       "5  Vladimir Putin’s invasion of Ukraine was, firs...             A         23   \n",
       "\n",
       "               source                                         multimedia  \\\n",
       "0  The New York Times  [{'rank': 0, 'subtype': 'xlarge', 'caption': N...   \n",
       "1  The New York Times  [{'rank': 0, 'subtype': 'xlarge', 'caption': N...   \n",
       "2  The New York Times  [{'rank': 0, 'subtype': 'xlarge', 'caption': N...   \n",
       "3  The New York Times  [{'rank': 0, 'subtype': 'xlarge', 'caption': N...   \n",
       "4  The New York Times  [{'rank': 0, 'subtype': 'xlarge', 'caption': N...   \n",
       "5  The New York Times  [{'rank': 0, 'subtype': 'xlarge', 'caption': N...   \n",
       "\n",
       "                                            headline  \\\n",
       "0  {'main': 'Federal Judge Finds Trump Most Likel...   \n",
       "1  {'main': 'Jan. 6 Panel Makes Case for Contempt...   \n",
       "2  {'main': 'Jan. 6 Panel Is Likely to Seek Inter...   \n",
       "3  {'main': 'Ted Cruz Knows Which Side He’s On', ...   \n",
       "4  {'main': 'Why Facebook’s ‘Hubris and Arrogance...   \n",
       "5  {'main': 'Putin and the Myths of Western Decad...   \n",
       "\n",
       "                                            keywords  \\\n",
       "0  [{'name': 'persons', 'value': 'Trump, Donald J...   \n",
       "1  [{'name': 'subject', 'value': 'Storming of the...   \n",
       "2  [{'name': 'persons', 'value': 'Thomas, Virgini...   \n",
       "3  [{'name': 'subject', 'value': 'United States E...   \n",
       "4  [{'name': 'subject', 'value': 'audio-neutral-i...   \n",
       "5  [{'name': 'subject', 'value': 'Storming of the...   \n",
       "\n",
       "                   pub_date document_type   news_desk section_name  \\\n",
       "0  2022-03-28T16:24:51+0000       article  Washington         U.S.   \n",
       "1  2022-03-28T01:37:40+0000       article  Washington         U.S.   \n",
       "2  2022-03-28T17:52:41+0000       article  Washington         U.S.   \n",
       "3  2022-03-28T09:00:16+0000       article        OpEd      Opinion   \n",
       "4  2022-03-28T09:00:09+0000       article        OpEd      Opinion   \n",
       "5  2022-03-28T23:00:10+0000       article        OpEd      Opinion   \n",
       "\n",
       "  subsection_name                                             byline  \\\n",
       "0        Politics  {'original': 'By Luke Broadwater, Alan Feuer a...   \n",
       "1        Politics  {'original': 'By Luke Broadwater and Alan Feue...   \n",
       "2        Politics  {'original': 'By Luke Broadwater', 'person': [...   \n",
       "3             NaN  {'original': 'By Gail Collins and Bret Stephen...   \n",
       "4             NaN  {'original': 'By ‘Sway'', 'person': [{'firstna...   \n",
       "5             NaN  {'original': 'By Paul Krugman', 'person': [{'f...   \n",
       "\n",
       "  type_of_material                                                _id  \\\n",
       "0             News  nyt://article/47ca02b0-b3a9-5542-b4b0-2dac8769...   \n",
       "1             News  nyt://article/85ff3c5b-819d-583a-9f6c-5dd75c18...   \n",
       "2             News  nyt://article/504254d8-b908-57e0-b0d3-11531b83...   \n",
       "3            Op-Ed  nyt://article/90101d41-4876-58de-a3eb-483a9a33...   \n",
       "4            Op-Ed  nyt://article/5479531a-bb4c-5c07-bc93-9cb615e0...   \n",
       "5            Op-Ed  nyt://article/44b2f5aa-f004-5660-9878-10bd6806...   \n",
       "\n",
       "   word_count                                                uri  \n",
       "0        1602  nyt://article/47ca02b0-b3a9-5542-b4b0-2dac8769...  \n",
       "1        1141  nyt://article/85ff3c5b-819d-583a-9f6c-5dd75c18...  \n",
       "2         675  nyt://article/504254d8-b908-57e0-b0d3-11531b83...  \n",
       "3        1638  nyt://article/90101d41-4876-58de-a3eb-483a9a33...  \n",
       "4         268  nyt://article/5479531a-bb4c-5c07-bc93-9cb615e0...  \n",
       "5         881  nyt://article/44b2f5aa-f004-5660-9878-10bd6806...  "
      ]
     },
     "execution_count": 48,
     "metadata": {},
     "output_type": "execute_result"
    }
   ],
   "source": [
    "import pandas as pd\n",
    "data = pd.DataFrame(r['response']['docs'])\n",
    "print(data.shape)   # look at dim of data\n",
    "print(data.columns) # look at columns\n",
    "data"
   ]
  },
  {
   "cell_type": "code",
   "execution_count": null,
   "id": "d0a6d228-dda0-4752-a251-fed09849ab1f",
   "metadata": {},
   "outputs": [],
   "source": []
  },
  {
   "cell_type": "code",
   "execution_count": null,
   "id": "dc32c1b4-58af-4cda-963c-2c6831d908d5",
   "metadata": {},
   "outputs": [],
   "source": []
  },
  {
   "cell_type": "code",
   "execution_count": null,
   "id": "72b2bb76-b615-412a-8b1c-793f095b6086",
   "metadata": {},
   "outputs": [],
   "source": []
  }
 ],
 "metadata": {
  "kernelspec": {
   "display_name": "Python 3 (ipykernel)",
   "language": "python",
   "name": "python3"
  },
  "language_info": {
   "codemirror_mode": {
    "name": "ipython",
    "version": 3
   },
   "file_extension": ".py",
   "mimetype": "text/x-python",
   "name": "python",
   "nbconvert_exporter": "python",
   "pygments_lexer": "ipython3",
   "version": "3.9.13"
  }
 },
 "nbformat": 4,
 "nbformat_minor": 5
}
