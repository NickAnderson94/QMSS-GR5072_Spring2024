{
 "cells": [
  {
   "cell_type": "markdown",
   "id": "1fc99433",
   "metadata": {},
   "source": [
    "# Week 12"
   ]
  },
  {
   "cell_type": "code",
   "execution_count": 1,
   "id": "9088e997",
   "metadata": {},
   "outputs": [],
   "source": [
    "## importing necessary libraries\n",
    "import pandas as pd \n",
    "import lxml\n",
    "from lxml import html\n",
    "import requests"
   ]
  },
  {
   "cell_type": "markdown",
   "id": "6ec7e997",
   "metadata": {},
   "source": [
    "### Table of Contents"
   ]
  },
  {
   "cell_type": "markdown",
   "id": "dbf38555",
   "metadata": {},
   "source": [
    "1. [What is web scraping](#bullet1)\n",
    "2. [Importing tabular data from the web](#bullet2)\n",
    "3. [Scraping HTML Text](#bullet3)\n",
    "4. [Challenges and limitations with web scraping](#bullet4)"
   ]
  },
  {
   "cell_type": "markdown",
   "id": "e58913af-774c-49dc-a930-4ecdce080e7f",
   "metadata": {},
   "source": [
    "## 1. What is Web Scraping?  <a class=\"anchor\" id=\"bullet1\"></a>"
   ]
  },
  {
   "cell_type": "markdown",
   "id": "ee3810fd-1e6b-4f2e-a96c-2e74dbb30076",
   "metadata": {},
   "source": [
    "The incredible amount of data on the Internet is a rich resource for any field of research or personal interest. To effectively harvest that data, you’ll need to become skilled at **web scraping**. "
   ]
  },
  {
   "cell_type": "markdown",
   "id": "699fcb69-c740-4079-827f-5f2e376eb498",
   "metadata": {},
   "source": [
    "This week, we'll learn how:  \n",
    "- Decipher data encoded in URLs\n",
    "- Use **requests** and **Beautiful Soup** for scraping and parsing data from the Web\n",
    "- Step through a web scraping pipeline from start to finish\n",
    "- Build a script that fetches job offers from the Web and displays relevant information in your console"
   ]
  },
  {
   "cell_type": "markdown",
   "id": "c639f1a7-ea1c-4627-9cc7-b7cc37296aa8",
   "metadata": {},
   "source": [
    "Web scraping is the process of gathering information from the Internet. Even copying and pasting the lyrics of your favorite song is a form of web scraping! However, the words “web scraping” usually refer to a process that involves automation. "
   ]
  },
  {
   "cell_type": "markdown",
   "id": "4ca00839-9af2-41eb-a1a0-475aa7c43369",
   "metadata": {},
   "source": [
    "**Some common reasons for web scraping**: \n",
    "- price monitoring: Sites like Kayak rely on web scraping to compile and compare prices found online.\n",
    "- price and product intelligence: Use webscraping to keep an eye on competitor products, both the price and innovations. Watch the price of a particular good on a website like Amazon\n",
    "- news monitoring\n",
    "- lead generation: a google maps search to find local businesses, An AngelsList companies search, a LinkedIn search to find particular types of companies\n",
    "- market research: Keep track of ever-changing trends\n",
    "- brand monitoring: Review social media websites\n",
    "- Search Engine Optimization (SEO): Gather insights into which keywords are better/used by your competition"
   ]
  },
  {
   "cell_type": "markdown",
   "id": "88b62aae-b241-4fa4-bc73-99b672be7cce",
   "metadata": {},
   "source": [
    "<div class=\"alert alert-block alert-danger\">\n",
    "<b>Warning:</b> Be aware that some websites don’t like it when automatic scrapers gather their data, while others don’t mind. Some websites, like Twitter, explictly have policies against web scraping, preferring instead to have you access their data via an API.\n",
    "    \n",
    "  \n",
    "    \n",
    "If you’re scraping a page respectfully for educational purposes, then you’re unlikely to have any problems. Still, it’s a good idea to do some research on your own and make sure that you’re not violating any Terms of Service before you start a large-scale project.\n",
    "</div>"
   ]
  },
  {
   "cell_type": "markdown",
   "id": "b8c323ef",
   "metadata": {},
   "source": [
    "## 2. Importing tabular data from the web <a class=\"anchor\" id=\"bullet2\"></a>"
   ]
  },
  {
   "cell_type": "markdown",
   "id": "46a601ad-2952-4206-890b-fae054a1b9e5",
   "metadata": {},
   "source": [
    "##### A. Importing csv files"
   ]
  },
  {
   "cell_type": "markdown",
   "id": "85988a09-afa9-4a78-b2ad-e33456fef226",
   "metadata": {},
   "source": [
    "See [this](https://catalog.data.gov/dataset) link for a list of datasets you can access online. We'll be using various datasets from this site to practice web scraping. \n",
    "\n",
    "For example, if we search for [\"city of new york\"](https://catalog.data.gov/dataset?q=city+of+new+york&sort=views_recent+desc&ext_location=&ext_bbox=&ext_prev_extent=-164.53125%2C-80.17871349622823%2C164.53125%2C80.17871349622823), we'll see the government makes all sorts of data publicly available. In fact, you can manually download some data directly via csv files. If you right click on the csv link, you can select \"Copy link address\". You then have a URL which you can use to download the data directly into Python.\n",
    "\n",
    "For example, for the \"Crime Data from 2020 to Present\" dataset, the csv link is \"https://data.lacity.org/api/views/2nrs-mtv8/rows.csv?accessType=DOWNLOAD\". To import this into Python, we need to modify it by dropping the part after \".csv\"."
   ]
  },
  {
   "cell_type": "code",
   "execution_count": 2,
   "id": "138642e4",
   "metadata": {},
   "outputs": [],
   "source": [
    "url1 = \"https://data.lacity.org/api/views/2nrs-mtv8/rows.csv\""
   ]
  },
  {
   "cell_type": "code",
   "execution_count": 3,
   "id": "e42302c3",
   "metadata": {},
   "outputs": [
    {
     "ename": "URLError",
     "evalue": "<urlopen error [SSL: CERTIFICATE_VERIFY_FAILED] certificate verify failed: unable to get local issuer certificate (_ssl.c:1129)>",
     "output_type": "error",
     "traceback": [
      "\u001b[1;31m---------------------------------------------------------------------------\u001b[0m",
      "\u001b[1;31mSSLCertVerificationError\u001b[0m                  Traceback (most recent call last)",
      "\u001b[1;32m~\\anaconda3\\lib\\urllib\\request.py\u001b[0m in \u001b[0;36mdo_open\u001b[1;34m(self, http_class, req, **http_conn_args)\u001b[0m\n\u001b[0;32m   1345\u001b[0m             \u001b[1;32mtry\u001b[0m\u001b[1;33m:\u001b[0m\u001b[1;33m\u001b[0m\u001b[1;33m\u001b[0m\u001b[0m\n\u001b[1;32m-> 1346\u001b[1;33m                 h.request(req.get_method(), req.selector, req.data, headers,\n\u001b[0m\u001b[0;32m   1347\u001b[0m                           encode_chunked=req.has_header('Transfer-encoding'))\n",
      "\u001b[1;32m~\\anaconda3\\lib\\http\\client.py\u001b[0m in \u001b[0;36mrequest\u001b[1;34m(self, method, url, body, headers, encode_chunked)\u001b[0m\n\u001b[0;32m   1284\u001b[0m         \u001b[1;34m\"\"\"Send a complete request to the server.\"\"\"\u001b[0m\u001b[1;33m\u001b[0m\u001b[1;33m\u001b[0m\u001b[0m\n\u001b[1;32m-> 1285\u001b[1;33m         \u001b[0mself\u001b[0m\u001b[1;33m.\u001b[0m\u001b[0m_send_request\u001b[0m\u001b[1;33m(\u001b[0m\u001b[0mmethod\u001b[0m\u001b[1;33m,\u001b[0m \u001b[0murl\u001b[0m\u001b[1;33m,\u001b[0m \u001b[0mbody\u001b[0m\u001b[1;33m,\u001b[0m \u001b[0mheaders\u001b[0m\u001b[1;33m,\u001b[0m \u001b[0mencode_chunked\u001b[0m\u001b[1;33m)\u001b[0m\u001b[1;33m\u001b[0m\u001b[1;33m\u001b[0m\u001b[0m\n\u001b[0m\u001b[0;32m   1286\u001b[0m \u001b[1;33m\u001b[0m\u001b[0m\n",
      "\u001b[1;32m~\\anaconda3\\lib\\http\\client.py\u001b[0m in \u001b[0;36m_send_request\u001b[1;34m(self, method, url, body, headers, encode_chunked)\u001b[0m\n\u001b[0;32m   1330\u001b[0m             \u001b[0mbody\u001b[0m \u001b[1;33m=\u001b[0m \u001b[0m_encode\u001b[0m\u001b[1;33m(\u001b[0m\u001b[0mbody\u001b[0m\u001b[1;33m,\u001b[0m \u001b[1;34m'body'\u001b[0m\u001b[1;33m)\u001b[0m\u001b[1;33m\u001b[0m\u001b[1;33m\u001b[0m\u001b[0m\n\u001b[1;32m-> 1331\u001b[1;33m         \u001b[0mself\u001b[0m\u001b[1;33m.\u001b[0m\u001b[0mendheaders\u001b[0m\u001b[1;33m(\u001b[0m\u001b[0mbody\u001b[0m\u001b[1;33m,\u001b[0m \u001b[0mencode_chunked\u001b[0m\u001b[1;33m=\u001b[0m\u001b[0mencode_chunked\u001b[0m\u001b[1;33m)\u001b[0m\u001b[1;33m\u001b[0m\u001b[1;33m\u001b[0m\u001b[0m\n\u001b[0m\u001b[0;32m   1332\u001b[0m \u001b[1;33m\u001b[0m\u001b[0m\n",
      "\u001b[1;32m~\\anaconda3\\lib\\http\\client.py\u001b[0m in \u001b[0;36mendheaders\u001b[1;34m(self, message_body, encode_chunked)\u001b[0m\n\u001b[0;32m   1279\u001b[0m             \u001b[1;32mraise\u001b[0m \u001b[0mCannotSendHeader\u001b[0m\u001b[1;33m(\u001b[0m\u001b[1;33m)\u001b[0m\u001b[1;33m\u001b[0m\u001b[1;33m\u001b[0m\u001b[0m\n\u001b[1;32m-> 1280\u001b[1;33m         \u001b[0mself\u001b[0m\u001b[1;33m.\u001b[0m\u001b[0m_send_output\u001b[0m\u001b[1;33m(\u001b[0m\u001b[0mmessage_body\u001b[0m\u001b[1;33m,\u001b[0m \u001b[0mencode_chunked\u001b[0m\u001b[1;33m=\u001b[0m\u001b[0mencode_chunked\u001b[0m\u001b[1;33m)\u001b[0m\u001b[1;33m\u001b[0m\u001b[1;33m\u001b[0m\u001b[0m\n\u001b[0m\u001b[0;32m   1281\u001b[0m \u001b[1;33m\u001b[0m\u001b[0m\n",
      "\u001b[1;32m~\\anaconda3\\lib\\http\\client.py\u001b[0m in \u001b[0;36m_send_output\u001b[1;34m(self, message_body, encode_chunked)\u001b[0m\n\u001b[0;32m   1039\u001b[0m         \u001b[1;32mdel\u001b[0m \u001b[0mself\u001b[0m\u001b[1;33m.\u001b[0m\u001b[0m_buffer\u001b[0m\u001b[1;33m[\u001b[0m\u001b[1;33m:\u001b[0m\u001b[1;33m]\u001b[0m\u001b[1;33m\u001b[0m\u001b[1;33m\u001b[0m\u001b[0m\n\u001b[1;32m-> 1040\u001b[1;33m         \u001b[0mself\u001b[0m\u001b[1;33m.\u001b[0m\u001b[0msend\u001b[0m\u001b[1;33m(\u001b[0m\u001b[0mmsg\u001b[0m\u001b[1;33m)\u001b[0m\u001b[1;33m\u001b[0m\u001b[1;33m\u001b[0m\u001b[0m\n\u001b[0m\u001b[0;32m   1041\u001b[0m \u001b[1;33m\u001b[0m\u001b[0m\n",
      "\u001b[1;32m~\\anaconda3\\lib\\http\\client.py\u001b[0m in \u001b[0;36msend\u001b[1;34m(self, data)\u001b[0m\n\u001b[0;32m    979\u001b[0m             \u001b[1;32mif\u001b[0m \u001b[0mself\u001b[0m\u001b[1;33m.\u001b[0m\u001b[0mauto_open\u001b[0m\u001b[1;33m:\u001b[0m\u001b[1;33m\u001b[0m\u001b[1;33m\u001b[0m\u001b[0m\n\u001b[1;32m--> 980\u001b[1;33m                 \u001b[0mself\u001b[0m\u001b[1;33m.\u001b[0m\u001b[0mconnect\u001b[0m\u001b[1;33m(\u001b[0m\u001b[1;33m)\u001b[0m\u001b[1;33m\u001b[0m\u001b[1;33m\u001b[0m\u001b[0m\n\u001b[0m\u001b[0;32m    981\u001b[0m             \u001b[1;32melse\u001b[0m\u001b[1;33m:\u001b[0m\u001b[1;33m\u001b[0m\u001b[1;33m\u001b[0m\u001b[0m\n",
      "\u001b[1;32m~\\anaconda3\\lib\\http\\client.py\u001b[0m in \u001b[0;36mconnect\u001b[1;34m(self)\u001b[0m\n\u001b[0;32m   1453\u001b[0m \u001b[1;33m\u001b[0m\u001b[0m\n\u001b[1;32m-> 1454\u001b[1;33m             self.sock = self._context.wrap_socket(self.sock,\n\u001b[0m\u001b[0;32m   1455\u001b[0m                                                   server_hostname=server_hostname)\n",
      "\u001b[1;32m~\\anaconda3\\lib\\ssl.py\u001b[0m in \u001b[0;36mwrap_socket\u001b[1;34m(self, sock, server_side, do_handshake_on_connect, suppress_ragged_eofs, server_hostname, session)\u001b[0m\n\u001b[0;32m    500\u001b[0m         \u001b[1;31m# ctx._wrap_socket()\u001b[0m\u001b[1;33m\u001b[0m\u001b[1;33m\u001b[0m\u001b[0m\n\u001b[1;32m--> 501\u001b[1;33m         return self.sslsocket_class._create(\n\u001b[0m\u001b[0;32m    502\u001b[0m             \u001b[0msock\u001b[0m\u001b[1;33m=\u001b[0m\u001b[0msock\u001b[0m\u001b[1;33m,\u001b[0m\u001b[1;33m\u001b[0m\u001b[1;33m\u001b[0m\u001b[0m\n",
      "\u001b[1;32m~\\anaconda3\\lib\\ssl.py\u001b[0m in \u001b[0;36m_create\u001b[1;34m(cls, sock, server_side, do_handshake_on_connect, suppress_ragged_eofs, server_hostname, context, session)\u001b[0m\n\u001b[0;32m   1040\u001b[0m                         \u001b[1;32mraise\u001b[0m \u001b[0mValueError\u001b[0m\u001b[1;33m(\u001b[0m\u001b[1;34m\"do_handshake_on_connect should not be specified for non-blocking sockets\"\u001b[0m\u001b[1;33m)\u001b[0m\u001b[1;33m\u001b[0m\u001b[1;33m\u001b[0m\u001b[0m\n\u001b[1;32m-> 1041\u001b[1;33m                     \u001b[0mself\u001b[0m\u001b[1;33m.\u001b[0m\u001b[0mdo_handshake\u001b[0m\u001b[1;33m(\u001b[0m\u001b[1;33m)\u001b[0m\u001b[1;33m\u001b[0m\u001b[1;33m\u001b[0m\u001b[0m\n\u001b[0m\u001b[0;32m   1042\u001b[0m             \u001b[1;32mexcept\u001b[0m \u001b[1;33m(\u001b[0m\u001b[0mOSError\u001b[0m\u001b[1;33m,\u001b[0m \u001b[0mValueError\u001b[0m\u001b[1;33m)\u001b[0m\u001b[1;33m:\u001b[0m\u001b[1;33m\u001b[0m\u001b[1;33m\u001b[0m\u001b[0m\n",
      "\u001b[1;32m~\\anaconda3\\lib\\ssl.py\u001b[0m in \u001b[0;36mdo_handshake\u001b[1;34m(self, block)\u001b[0m\n\u001b[0;32m   1309\u001b[0m                 \u001b[0mself\u001b[0m\u001b[1;33m.\u001b[0m\u001b[0msettimeout\u001b[0m\u001b[1;33m(\u001b[0m\u001b[1;32mNone\u001b[0m\u001b[1;33m)\u001b[0m\u001b[1;33m\u001b[0m\u001b[1;33m\u001b[0m\u001b[0m\n\u001b[1;32m-> 1310\u001b[1;33m             \u001b[0mself\u001b[0m\u001b[1;33m.\u001b[0m\u001b[0m_sslobj\u001b[0m\u001b[1;33m.\u001b[0m\u001b[0mdo_handshake\u001b[0m\u001b[1;33m(\u001b[0m\u001b[1;33m)\u001b[0m\u001b[1;33m\u001b[0m\u001b[1;33m\u001b[0m\u001b[0m\n\u001b[0m\u001b[0;32m   1311\u001b[0m         \u001b[1;32mfinally\u001b[0m\u001b[1;33m:\u001b[0m\u001b[1;33m\u001b[0m\u001b[1;33m\u001b[0m\u001b[0m\n",
      "\u001b[1;31mSSLCertVerificationError\u001b[0m: [SSL: CERTIFICATE_VERIFY_FAILED] certificate verify failed: unable to get local issuer certificate (_ssl.c:1129)",
      "\nDuring handling of the above exception, another exception occurred:\n",
      "\u001b[1;31mURLError\u001b[0m                                  Traceback (most recent call last)",
      "\u001b[1;32m~\\AppData\\Local\\Temp\\ipykernel_2920\\1521922716.py\u001b[0m in \u001b[0;36m<module>\u001b[1;34m\u001b[0m\n\u001b[0;32m      1\u001b[0m \u001b[1;31m## read in csv file\u001b[0m\u001b[1;33m\u001b[0m\u001b[1;33m\u001b[0m\u001b[0m\n\u001b[1;32m----> 2\u001b[1;33m \u001b[0mdata1\u001b[0m \u001b[1;33m=\u001b[0m \u001b[0mpd\u001b[0m\u001b[1;33m.\u001b[0m\u001b[0mread_csv\u001b[0m\u001b[1;33m(\u001b[0m\u001b[0murl1\u001b[0m\u001b[1;33m)\u001b[0m\u001b[1;33m\u001b[0m\u001b[1;33m\u001b[0m\u001b[0m\n\u001b[0m\u001b[0;32m      3\u001b[0m \u001b[0mdata1\u001b[0m\u001b[1;33m.\u001b[0m\u001b[0mhead\u001b[0m\u001b[1;33m(\u001b[0m\u001b[1;33m)\u001b[0m\u001b[1;33m\u001b[0m\u001b[1;33m\u001b[0m\u001b[0m\n",
      "\u001b[1;32m~\\anaconda3\\lib\\site-packages\\pandas\\util\\_decorators.py\u001b[0m in \u001b[0;36mwrapper\u001b[1;34m(*args, **kwargs)\u001b[0m\n\u001b[0;32m    309\u001b[0m                     \u001b[0mstacklevel\u001b[0m\u001b[1;33m=\u001b[0m\u001b[0mstacklevel\u001b[0m\u001b[1;33m,\u001b[0m\u001b[1;33m\u001b[0m\u001b[1;33m\u001b[0m\u001b[0m\n\u001b[0;32m    310\u001b[0m                 )\n\u001b[1;32m--> 311\u001b[1;33m             \u001b[1;32mreturn\u001b[0m \u001b[0mfunc\u001b[0m\u001b[1;33m(\u001b[0m\u001b[1;33m*\u001b[0m\u001b[0margs\u001b[0m\u001b[1;33m,\u001b[0m \u001b[1;33m**\u001b[0m\u001b[0mkwargs\u001b[0m\u001b[1;33m)\u001b[0m\u001b[1;33m\u001b[0m\u001b[1;33m\u001b[0m\u001b[0m\n\u001b[0m\u001b[0;32m    312\u001b[0m \u001b[1;33m\u001b[0m\u001b[0m\n\u001b[0;32m    313\u001b[0m         \u001b[1;32mreturn\u001b[0m \u001b[0mwrapper\u001b[0m\u001b[1;33m\u001b[0m\u001b[1;33m\u001b[0m\u001b[0m\n",
      "\u001b[1;32m~\\anaconda3\\lib\\site-packages\\pandas\\io\\parsers\\readers.py\u001b[0m in \u001b[0;36mread_csv\u001b[1;34m(filepath_or_buffer, sep, delimiter, header, names, index_col, usecols, squeeze, prefix, mangle_dupe_cols, dtype, engine, converters, true_values, false_values, skipinitialspace, skiprows, skipfooter, nrows, na_values, keep_default_na, na_filter, verbose, skip_blank_lines, parse_dates, infer_datetime_format, keep_date_col, date_parser, dayfirst, cache_dates, iterator, chunksize, compression, thousands, decimal, lineterminator, quotechar, quoting, doublequote, escapechar, comment, encoding, encoding_errors, dialect, error_bad_lines, warn_bad_lines, on_bad_lines, delim_whitespace, low_memory, memory_map, float_precision, storage_options)\u001b[0m\n\u001b[0;32m    676\u001b[0m     \u001b[0mkwds\u001b[0m\u001b[1;33m.\u001b[0m\u001b[0mupdate\u001b[0m\u001b[1;33m(\u001b[0m\u001b[0mkwds_defaults\u001b[0m\u001b[1;33m)\u001b[0m\u001b[1;33m\u001b[0m\u001b[1;33m\u001b[0m\u001b[0m\n\u001b[0;32m    677\u001b[0m \u001b[1;33m\u001b[0m\u001b[0m\n\u001b[1;32m--> 678\u001b[1;33m     \u001b[1;32mreturn\u001b[0m \u001b[0m_read\u001b[0m\u001b[1;33m(\u001b[0m\u001b[0mfilepath_or_buffer\u001b[0m\u001b[1;33m,\u001b[0m \u001b[0mkwds\u001b[0m\u001b[1;33m)\u001b[0m\u001b[1;33m\u001b[0m\u001b[1;33m\u001b[0m\u001b[0m\n\u001b[0m\u001b[0;32m    679\u001b[0m \u001b[1;33m\u001b[0m\u001b[0m\n\u001b[0;32m    680\u001b[0m \u001b[1;33m\u001b[0m\u001b[0m\n",
      "\u001b[1;32m~\\anaconda3\\lib\\site-packages\\pandas\\io\\parsers\\readers.py\u001b[0m in \u001b[0;36m_read\u001b[1;34m(filepath_or_buffer, kwds)\u001b[0m\n\u001b[0;32m    573\u001b[0m \u001b[1;33m\u001b[0m\u001b[0m\n\u001b[0;32m    574\u001b[0m     \u001b[1;31m# Create the parser.\u001b[0m\u001b[1;33m\u001b[0m\u001b[1;33m\u001b[0m\u001b[0m\n\u001b[1;32m--> 575\u001b[1;33m     \u001b[0mparser\u001b[0m \u001b[1;33m=\u001b[0m \u001b[0mTextFileReader\u001b[0m\u001b[1;33m(\u001b[0m\u001b[0mfilepath_or_buffer\u001b[0m\u001b[1;33m,\u001b[0m \u001b[1;33m**\u001b[0m\u001b[0mkwds\u001b[0m\u001b[1;33m)\u001b[0m\u001b[1;33m\u001b[0m\u001b[1;33m\u001b[0m\u001b[0m\n\u001b[0m\u001b[0;32m    576\u001b[0m \u001b[1;33m\u001b[0m\u001b[0m\n\u001b[0;32m    577\u001b[0m     \u001b[1;32mif\u001b[0m \u001b[0mchunksize\u001b[0m \u001b[1;32mor\u001b[0m \u001b[0miterator\u001b[0m\u001b[1;33m:\u001b[0m\u001b[1;33m\u001b[0m\u001b[1;33m\u001b[0m\u001b[0m\n",
      "\u001b[1;32m~\\anaconda3\\lib\\site-packages\\pandas\\io\\parsers\\readers.py\u001b[0m in \u001b[0;36m__init__\u001b[1;34m(self, f, engine, **kwds)\u001b[0m\n\u001b[0;32m    930\u001b[0m \u001b[1;33m\u001b[0m\u001b[0m\n\u001b[0;32m    931\u001b[0m         \u001b[0mself\u001b[0m\u001b[1;33m.\u001b[0m\u001b[0mhandles\u001b[0m\u001b[1;33m:\u001b[0m \u001b[0mIOHandles\u001b[0m \u001b[1;33m|\u001b[0m \u001b[1;32mNone\u001b[0m \u001b[1;33m=\u001b[0m \u001b[1;32mNone\u001b[0m\u001b[1;33m\u001b[0m\u001b[1;33m\u001b[0m\u001b[0m\n\u001b[1;32m--> 932\u001b[1;33m         \u001b[0mself\u001b[0m\u001b[1;33m.\u001b[0m\u001b[0m_engine\u001b[0m \u001b[1;33m=\u001b[0m \u001b[0mself\u001b[0m\u001b[1;33m.\u001b[0m\u001b[0m_make_engine\u001b[0m\u001b[1;33m(\u001b[0m\u001b[0mf\u001b[0m\u001b[1;33m,\u001b[0m \u001b[0mself\u001b[0m\u001b[1;33m.\u001b[0m\u001b[0mengine\u001b[0m\u001b[1;33m)\u001b[0m\u001b[1;33m\u001b[0m\u001b[1;33m\u001b[0m\u001b[0m\n\u001b[0m\u001b[0;32m    933\u001b[0m \u001b[1;33m\u001b[0m\u001b[0m\n\u001b[0;32m    934\u001b[0m     \u001b[1;32mdef\u001b[0m \u001b[0mclose\u001b[0m\u001b[1;33m(\u001b[0m\u001b[0mself\u001b[0m\u001b[1;33m)\u001b[0m\u001b[1;33m:\u001b[0m\u001b[1;33m\u001b[0m\u001b[1;33m\u001b[0m\u001b[0m\n",
      "\u001b[1;32m~\\anaconda3\\lib\\site-packages\\pandas\\io\\parsers\\readers.py\u001b[0m in \u001b[0;36m_make_engine\u001b[1;34m(self, f, engine)\u001b[0m\n\u001b[0;32m   1214\u001b[0m             \u001b[1;31m# \"Union[str, PathLike[str], ReadCsvBuffer[bytes], ReadCsvBuffer[str]]\"\u001b[0m\u001b[1;33m\u001b[0m\u001b[1;33m\u001b[0m\u001b[0m\n\u001b[0;32m   1215\u001b[0m             \u001b[1;31m# , \"str\", \"bool\", \"Any\", \"Any\", \"Any\", \"Any\", \"Any\"\u001b[0m\u001b[1;33m\u001b[0m\u001b[1;33m\u001b[0m\u001b[0m\n\u001b[1;32m-> 1216\u001b[1;33m             self.handles = get_handle(  # type: ignore[call-overload]\n\u001b[0m\u001b[0;32m   1217\u001b[0m                 \u001b[0mf\u001b[0m\u001b[1;33m,\u001b[0m\u001b[1;33m\u001b[0m\u001b[1;33m\u001b[0m\u001b[0m\n\u001b[0;32m   1218\u001b[0m                 \u001b[0mmode\u001b[0m\u001b[1;33m,\u001b[0m\u001b[1;33m\u001b[0m\u001b[1;33m\u001b[0m\u001b[0m\n",
      "\u001b[1;32m~\\anaconda3\\lib\\site-packages\\pandas\\io\\common.py\u001b[0m in \u001b[0;36mget_handle\u001b[1;34m(path_or_buf, mode, encoding, compression, memory_map, is_text, errors, storage_options)\u001b[0m\n\u001b[0;32m    665\u001b[0m \u001b[1;33m\u001b[0m\u001b[0m\n\u001b[0;32m    666\u001b[0m     \u001b[1;31m# open URLs\u001b[0m\u001b[1;33m\u001b[0m\u001b[1;33m\u001b[0m\u001b[0m\n\u001b[1;32m--> 667\u001b[1;33m     ioargs = _get_filepath_or_buffer(\n\u001b[0m\u001b[0;32m    668\u001b[0m         \u001b[0mpath_or_buf\u001b[0m\u001b[1;33m,\u001b[0m\u001b[1;33m\u001b[0m\u001b[1;33m\u001b[0m\u001b[0m\n\u001b[0;32m    669\u001b[0m         \u001b[0mencoding\u001b[0m\u001b[1;33m=\u001b[0m\u001b[0mencoding\u001b[0m\u001b[1;33m,\u001b[0m\u001b[1;33m\u001b[0m\u001b[1;33m\u001b[0m\u001b[0m\n",
      "\u001b[1;32m~\\anaconda3\\lib\\site-packages\\pandas\\io\\common.py\u001b[0m in \u001b[0;36m_get_filepath_or_buffer\u001b[1;34m(filepath_or_buffer, encoding, compression, mode, storage_options)\u001b[0m\n\u001b[0;32m    334\u001b[0m         \u001b[1;31m# assuming storage_options is to be interpreted as headers\u001b[0m\u001b[1;33m\u001b[0m\u001b[1;33m\u001b[0m\u001b[0m\n\u001b[0;32m    335\u001b[0m         \u001b[0mreq_info\u001b[0m \u001b[1;33m=\u001b[0m \u001b[0murllib\u001b[0m\u001b[1;33m.\u001b[0m\u001b[0mrequest\u001b[0m\u001b[1;33m.\u001b[0m\u001b[0mRequest\u001b[0m\u001b[1;33m(\u001b[0m\u001b[0mfilepath_or_buffer\u001b[0m\u001b[1;33m,\u001b[0m \u001b[0mheaders\u001b[0m\u001b[1;33m=\u001b[0m\u001b[0mstorage_options\u001b[0m\u001b[1;33m)\u001b[0m\u001b[1;33m\u001b[0m\u001b[1;33m\u001b[0m\u001b[0m\n\u001b[1;32m--> 336\u001b[1;33m         \u001b[1;32mwith\u001b[0m \u001b[0murlopen\u001b[0m\u001b[1;33m(\u001b[0m\u001b[0mreq_info\u001b[0m\u001b[1;33m)\u001b[0m \u001b[1;32mas\u001b[0m \u001b[0mreq\u001b[0m\u001b[1;33m:\u001b[0m\u001b[1;33m\u001b[0m\u001b[1;33m\u001b[0m\u001b[0m\n\u001b[0m\u001b[0;32m    337\u001b[0m             \u001b[0mcontent_encoding\u001b[0m \u001b[1;33m=\u001b[0m \u001b[0mreq\u001b[0m\u001b[1;33m.\u001b[0m\u001b[0mheaders\u001b[0m\u001b[1;33m.\u001b[0m\u001b[0mget\u001b[0m\u001b[1;33m(\u001b[0m\u001b[1;34m\"Content-Encoding\"\u001b[0m\u001b[1;33m,\u001b[0m \u001b[1;32mNone\u001b[0m\u001b[1;33m)\u001b[0m\u001b[1;33m\u001b[0m\u001b[1;33m\u001b[0m\u001b[0m\n\u001b[0;32m    338\u001b[0m             \u001b[1;32mif\u001b[0m \u001b[0mcontent_encoding\u001b[0m \u001b[1;33m==\u001b[0m \u001b[1;34m\"gzip\"\u001b[0m\u001b[1;33m:\u001b[0m\u001b[1;33m\u001b[0m\u001b[1;33m\u001b[0m\u001b[0m\n",
      "\u001b[1;32m~\\anaconda3\\lib\\site-packages\\pandas\\io\\common.py\u001b[0m in \u001b[0;36murlopen\u001b[1;34m(*args, **kwargs)\u001b[0m\n\u001b[0;32m    234\u001b[0m     \u001b[1;32mimport\u001b[0m \u001b[0murllib\u001b[0m\u001b[1;33m.\u001b[0m\u001b[0mrequest\u001b[0m\u001b[1;33m\u001b[0m\u001b[1;33m\u001b[0m\u001b[0m\n\u001b[0;32m    235\u001b[0m \u001b[1;33m\u001b[0m\u001b[0m\n\u001b[1;32m--> 236\u001b[1;33m     \u001b[1;32mreturn\u001b[0m \u001b[0murllib\u001b[0m\u001b[1;33m.\u001b[0m\u001b[0mrequest\u001b[0m\u001b[1;33m.\u001b[0m\u001b[0murlopen\u001b[0m\u001b[1;33m(\u001b[0m\u001b[1;33m*\u001b[0m\u001b[0margs\u001b[0m\u001b[1;33m,\u001b[0m \u001b[1;33m**\u001b[0m\u001b[0mkwargs\u001b[0m\u001b[1;33m)\u001b[0m\u001b[1;33m\u001b[0m\u001b[1;33m\u001b[0m\u001b[0m\n\u001b[0m\u001b[0;32m    237\u001b[0m \u001b[1;33m\u001b[0m\u001b[0m\n\u001b[0;32m    238\u001b[0m \u001b[1;33m\u001b[0m\u001b[0m\n",
      "\u001b[1;32m~\\anaconda3\\lib\\urllib\\request.py\u001b[0m in \u001b[0;36murlopen\u001b[1;34m(url, data, timeout, cafile, capath, cadefault, context)\u001b[0m\n\u001b[0;32m    212\u001b[0m     \u001b[1;32melse\u001b[0m\u001b[1;33m:\u001b[0m\u001b[1;33m\u001b[0m\u001b[1;33m\u001b[0m\u001b[0m\n\u001b[0;32m    213\u001b[0m         \u001b[0mopener\u001b[0m \u001b[1;33m=\u001b[0m \u001b[0m_opener\u001b[0m\u001b[1;33m\u001b[0m\u001b[1;33m\u001b[0m\u001b[0m\n\u001b[1;32m--> 214\u001b[1;33m     \u001b[1;32mreturn\u001b[0m \u001b[0mopener\u001b[0m\u001b[1;33m.\u001b[0m\u001b[0mopen\u001b[0m\u001b[1;33m(\u001b[0m\u001b[0murl\u001b[0m\u001b[1;33m,\u001b[0m \u001b[0mdata\u001b[0m\u001b[1;33m,\u001b[0m \u001b[0mtimeout\u001b[0m\u001b[1;33m)\u001b[0m\u001b[1;33m\u001b[0m\u001b[1;33m\u001b[0m\u001b[0m\n\u001b[0m\u001b[0;32m    215\u001b[0m \u001b[1;33m\u001b[0m\u001b[0m\n\u001b[0;32m    216\u001b[0m \u001b[1;32mdef\u001b[0m \u001b[0minstall_opener\u001b[0m\u001b[1;33m(\u001b[0m\u001b[0mopener\u001b[0m\u001b[1;33m)\u001b[0m\u001b[1;33m:\u001b[0m\u001b[1;33m\u001b[0m\u001b[1;33m\u001b[0m\u001b[0m\n",
      "\u001b[1;32m~\\anaconda3\\lib\\urllib\\request.py\u001b[0m in \u001b[0;36mopen\u001b[1;34m(self, fullurl, data, timeout)\u001b[0m\n\u001b[0;32m    515\u001b[0m \u001b[1;33m\u001b[0m\u001b[0m\n\u001b[0;32m    516\u001b[0m         \u001b[0msys\u001b[0m\u001b[1;33m.\u001b[0m\u001b[0maudit\u001b[0m\u001b[1;33m(\u001b[0m\u001b[1;34m'urllib.Request'\u001b[0m\u001b[1;33m,\u001b[0m \u001b[0mreq\u001b[0m\u001b[1;33m.\u001b[0m\u001b[0mfull_url\u001b[0m\u001b[1;33m,\u001b[0m \u001b[0mreq\u001b[0m\u001b[1;33m.\u001b[0m\u001b[0mdata\u001b[0m\u001b[1;33m,\u001b[0m \u001b[0mreq\u001b[0m\u001b[1;33m.\u001b[0m\u001b[0mheaders\u001b[0m\u001b[1;33m,\u001b[0m \u001b[0mreq\u001b[0m\u001b[1;33m.\u001b[0m\u001b[0mget_method\u001b[0m\u001b[1;33m(\u001b[0m\u001b[1;33m)\u001b[0m\u001b[1;33m)\u001b[0m\u001b[1;33m\u001b[0m\u001b[1;33m\u001b[0m\u001b[0m\n\u001b[1;32m--> 517\u001b[1;33m         \u001b[0mresponse\u001b[0m \u001b[1;33m=\u001b[0m \u001b[0mself\u001b[0m\u001b[1;33m.\u001b[0m\u001b[0m_open\u001b[0m\u001b[1;33m(\u001b[0m\u001b[0mreq\u001b[0m\u001b[1;33m,\u001b[0m \u001b[0mdata\u001b[0m\u001b[1;33m)\u001b[0m\u001b[1;33m\u001b[0m\u001b[1;33m\u001b[0m\u001b[0m\n\u001b[0m\u001b[0;32m    518\u001b[0m \u001b[1;33m\u001b[0m\u001b[0m\n\u001b[0;32m    519\u001b[0m         \u001b[1;31m# post-process response\u001b[0m\u001b[1;33m\u001b[0m\u001b[1;33m\u001b[0m\u001b[0m\n",
      "\u001b[1;32m~\\anaconda3\\lib\\urllib\\request.py\u001b[0m in \u001b[0;36m_open\u001b[1;34m(self, req, data)\u001b[0m\n\u001b[0;32m    532\u001b[0m \u001b[1;33m\u001b[0m\u001b[0m\n\u001b[0;32m    533\u001b[0m         \u001b[0mprotocol\u001b[0m \u001b[1;33m=\u001b[0m \u001b[0mreq\u001b[0m\u001b[1;33m.\u001b[0m\u001b[0mtype\u001b[0m\u001b[1;33m\u001b[0m\u001b[1;33m\u001b[0m\u001b[0m\n\u001b[1;32m--> 534\u001b[1;33m         result = self._call_chain(self.handle_open, protocol, protocol +\n\u001b[0m\u001b[0;32m    535\u001b[0m                                   '_open', req)\n\u001b[0;32m    536\u001b[0m         \u001b[1;32mif\u001b[0m \u001b[0mresult\u001b[0m\u001b[1;33m:\u001b[0m\u001b[1;33m\u001b[0m\u001b[1;33m\u001b[0m\u001b[0m\n",
      "\u001b[1;32m~\\anaconda3\\lib\\urllib\\request.py\u001b[0m in \u001b[0;36m_call_chain\u001b[1;34m(self, chain, kind, meth_name, *args)\u001b[0m\n\u001b[0;32m    492\u001b[0m         \u001b[1;32mfor\u001b[0m \u001b[0mhandler\u001b[0m \u001b[1;32min\u001b[0m \u001b[0mhandlers\u001b[0m\u001b[1;33m:\u001b[0m\u001b[1;33m\u001b[0m\u001b[1;33m\u001b[0m\u001b[0m\n\u001b[0;32m    493\u001b[0m             \u001b[0mfunc\u001b[0m \u001b[1;33m=\u001b[0m \u001b[0mgetattr\u001b[0m\u001b[1;33m(\u001b[0m\u001b[0mhandler\u001b[0m\u001b[1;33m,\u001b[0m \u001b[0mmeth_name\u001b[0m\u001b[1;33m)\u001b[0m\u001b[1;33m\u001b[0m\u001b[1;33m\u001b[0m\u001b[0m\n\u001b[1;32m--> 494\u001b[1;33m             \u001b[0mresult\u001b[0m \u001b[1;33m=\u001b[0m \u001b[0mfunc\u001b[0m\u001b[1;33m(\u001b[0m\u001b[1;33m*\u001b[0m\u001b[0margs\u001b[0m\u001b[1;33m)\u001b[0m\u001b[1;33m\u001b[0m\u001b[1;33m\u001b[0m\u001b[0m\n\u001b[0m\u001b[0;32m    495\u001b[0m             \u001b[1;32mif\u001b[0m \u001b[0mresult\u001b[0m \u001b[1;32mis\u001b[0m \u001b[1;32mnot\u001b[0m \u001b[1;32mNone\u001b[0m\u001b[1;33m:\u001b[0m\u001b[1;33m\u001b[0m\u001b[1;33m\u001b[0m\u001b[0m\n\u001b[0;32m    496\u001b[0m                 \u001b[1;32mreturn\u001b[0m \u001b[0mresult\u001b[0m\u001b[1;33m\u001b[0m\u001b[1;33m\u001b[0m\u001b[0m\n",
      "\u001b[1;32m~\\anaconda3\\lib\\urllib\\request.py\u001b[0m in \u001b[0;36mhttps_open\u001b[1;34m(self, req)\u001b[0m\n\u001b[0;32m   1387\u001b[0m \u001b[1;33m\u001b[0m\u001b[0m\n\u001b[0;32m   1388\u001b[0m         \u001b[1;32mdef\u001b[0m \u001b[0mhttps_open\u001b[0m\u001b[1;33m(\u001b[0m\u001b[0mself\u001b[0m\u001b[1;33m,\u001b[0m \u001b[0mreq\u001b[0m\u001b[1;33m)\u001b[0m\u001b[1;33m:\u001b[0m\u001b[1;33m\u001b[0m\u001b[1;33m\u001b[0m\u001b[0m\n\u001b[1;32m-> 1389\u001b[1;33m             return self.do_open(http.client.HTTPSConnection, req,\n\u001b[0m\u001b[0;32m   1390\u001b[0m                 context=self._context, check_hostname=self._check_hostname)\n\u001b[0;32m   1391\u001b[0m \u001b[1;33m\u001b[0m\u001b[0m\n",
      "\u001b[1;32m~\\anaconda3\\lib\\urllib\\request.py\u001b[0m in \u001b[0;36mdo_open\u001b[1;34m(self, http_class, req, **http_conn_args)\u001b[0m\n\u001b[0;32m   1347\u001b[0m                           encode_chunked=req.has_header('Transfer-encoding'))\n\u001b[0;32m   1348\u001b[0m             \u001b[1;32mexcept\u001b[0m \u001b[0mOSError\u001b[0m \u001b[1;32mas\u001b[0m \u001b[0merr\u001b[0m\u001b[1;33m:\u001b[0m \u001b[1;31m# timeout error\u001b[0m\u001b[1;33m\u001b[0m\u001b[1;33m\u001b[0m\u001b[0m\n\u001b[1;32m-> 1349\u001b[1;33m                 \u001b[1;32mraise\u001b[0m \u001b[0mURLError\u001b[0m\u001b[1;33m(\u001b[0m\u001b[0merr\u001b[0m\u001b[1;33m)\u001b[0m\u001b[1;33m\u001b[0m\u001b[1;33m\u001b[0m\u001b[0m\n\u001b[0m\u001b[0;32m   1350\u001b[0m             \u001b[0mr\u001b[0m \u001b[1;33m=\u001b[0m \u001b[0mh\u001b[0m\u001b[1;33m.\u001b[0m\u001b[0mgetresponse\u001b[0m\u001b[1;33m(\u001b[0m\u001b[1;33m)\u001b[0m\u001b[1;33m\u001b[0m\u001b[1;33m\u001b[0m\u001b[0m\n\u001b[0;32m   1351\u001b[0m         \u001b[1;32mexcept\u001b[0m\u001b[1;33m:\u001b[0m\u001b[1;33m\u001b[0m\u001b[1;33m\u001b[0m\u001b[0m\n",
      "\u001b[1;31mURLError\u001b[0m: <urlopen error [SSL: CERTIFICATE_VERIFY_FAILED] certificate verify failed: unable to get local issuer certificate (_ssl.c:1129)>"
     ]
    }
   ],
   "source": [
    "## read in csv file\n",
    "data1 = pd.read_csv(url1) \n",
    "data1.head()"
   ]
  },
  {
   "cell_type": "markdown",
   "id": "267d12bf-8511-4153-a1f1-76b27eae48e6",
   "metadata": {},
   "source": [
    "##### B. Importing html data tables "
   ]
  },
  {
   "cell_type": "markdown",
   "id": "591afb71-a309-4bcc-aacb-5a7702c16bb4",
   "metadata": {},
   "source": [
    "Navigate to this [wikipedia](https://en.wikipedia.org/wiki/List_of_best-selling_music_artists) article. You'll notice there are multiple html tables there. *pandas* makes it pretty easy to import this data! This is nice, since it saves you time by not forcing you to access the data through the html structure."
   ]
  },
  {
   "cell_type": "code",
   "execution_count": 4,
   "id": "77a59b34",
   "metadata": {},
   "outputs": [],
   "source": [
    "url3 = 'https://en.wikipedia.org/wiki/List_of_best-selling_music_artists'"
   ]
  },
  {
   "cell_type": "code",
   "execution_count": 5,
   "id": "b7a337d9",
   "metadata": {},
   "outputs": [
    {
     "name": "stdout",
     "output_type": "stream",
     "text": [
      "<class 'list'>\n"
     ]
    },
    {
     "data": {
      "text/html": [
       "<div>\n",
       "<style scoped>\n",
       "    .dataframe tbody tr th:only-of-type {\n",
       "        vertical-align: middle;\n",
       "    }\n",
       "\n",
       "    .dataframe tbody tr th {\n",
       "        vertical-align: top;\n",
       "    }\n",
       "\n",
       "    .dataframe thead th {\n",
       "        text-align: right;\n",
       "    }\n",
       "</style>\n",
       "<table border=\"1\" class=\"dataframe\">\n",
       "  <thead>\n",
       "    <tr style=\"text-align: right;\">\n",
       "      <th></th>\n",
       "      <th>Artist</th>\n",
       "      <th>Country</th>\n",
       "      <th>Period active</th>\n",
       "      <th>Release-year of first charted record</th>\n",
       "      <th>Genre</th>\n",
       "      <th>Total certified units(from available markets)[b]</th>\n",
       "      <th>Claimed sales</th>\n",
       "    </tr>\n",
       "  </thead>\n",
       "  <tbody>\n",
       "    <tr>\n",
       "      <th>0</th>\n",
       "      <td>The Beatles</td>\n",
       "      <td>United Kingdom</td>\n",
       "      <td>1960–1970[11]</td>\n",
       "      <td>1962[11]</td>\n",
       "      <td>Rock / pop[11]</td>\n",
       "      <td>.mw-parser-output .hidden-begin{box-sizing:bor...</td>\n",
       "      <td>600 million[43][44]500 million[45][46]</td>\n",
       "    </tr>\n",
       "    <tr>\n",
       "      <th>1</th>\n",
       "      <td>Michael Jackson</td>\n",
       "      <td>United States</td>\n",
       "      <td>1964–2009[47]</td>\n",
       "      <td>1971[47]</td>\n",
       "      <td>Pop / rock / dance / soul / R&amp;B[47]</td>\n",
       "      <td>286 million US: 177.3 million[12] JPN: 4.650 m...</td>\n",
       "      <td>500 million[45]400 million[64]</td>\n",
       "    </tr>\n",
       "    <tr>\n",
       "      <th>2</th>\n",
       "      <td>Elvis Presley</td>\n",
       "      <td>United States</td>\n",
       "      <td>1953–1977[65]</td>\n",
       "      <td>1956[65]</td>\n",
       "      <td>Rock and roll / pop / country[65]</td>\n",
       "      <td>234.3 million US: 199.650 million[12] JPN: 300...</td>\n",
       "      <td>500 million[71]</td>\n",
       "    </tr>\n",
       "    <tr>\n",
       "      <th>3</th>\n",
       "      <td>Elton John</td>\n",
       "      <td>United Kingdom</td>\n",
       "      <td>1962–present[72]</td>\n",
       "      <td>1970[72]</td>\n",
       "      <td>Pop / rock[72]</td>\n",
       "      <td>213.1 million US: 139.050 million[12] JPN: 1.1...</td>\n",
       "      <td>300 million[76][77]250 million[78][79]</td>\n",
       "    </tr>\n",
       "    <tr>\n",
       "      <th>4</th>\n",
       "      <td>Queen</td>\n",
       "      <td>United Kingdom</td>\n",
       "      <td>1971–present[80]</td>\n",
       "      <td>1973[80]</td>\n",
       "      <td>Rock[80]</td>\n",
       "      <td>186.8 million US: 97.7 million[12] JPN: 3.8 mi...</td>\n",
       "      <td>300 million[83][84]250 million[85]</td>\n",
       "    </tr>\n",
       "  </tbody>\n",
       "</table>\n",
       "</div>"
      ],
      "text/plain": [
       "            Artist         Country     Period active  \\\n",
       "0      The Beatles  United Kingdom     1960–1970[11]   \n",
       "1  Michael Jackson   United States     1964–2009[47]   \n",
       "2    Elvis Presley   United States     1953–1977[65]   \n",
       "3       Elton John  United Kingdom  1962–present[72]   \n",
       "4            Queen  United Kingdom  1971–present[80]   \n",
       "\n",
       "  Release-year of first charted record                                Genre  \\\n",
       "0                             1962[11]                       Rock / pop[11]   \n",
       "1                             1971[47]  Pop / rock / dance / soul / R&B[47]   \n",
       "2                             1956[65]    Rock and roll / pop / country[65]   \n",
       "3                             1970[72]                       Pop / rock[72]   \n",
       "4                             1973[80]                             Rock[80]   \n",
       "\n",
       "    Total certified units(from available markets)[b]  \\\n",
       "0  .mw-parser-output .hidden-begin{box-sizing:bor...   \n",
       "1  286 million US: 177.3 million[12] JPN: 4.650 m...   \n",
       "2  234.3 million US: 199.650 million[12] JPN: 300...   \n",
       "3  213.1 million US: 139.050 million[12] JPN: 1.1...   \n",
       "4  186.8 million US: 97.7 million[12] JPN: 3.8 mi...   \n",
       "\n",
       "                            Claimed sales  \n",
       "0  600 million[43][44]500 million[45][46]  \n",
       "1          500 million[45]400 million[64]  \n",
       "2                         500 million[71]  \n",
       "3  300 million[76][77]250 million[78][79]  \n",
       "4      300 million[83][84]250 million[85]  "
      ]
     },
     "execution_count": 5,
     "metadata": {},
     "output_type": "execute_result"
    }
   ],
   "source": [
    "page = pd.read_html(url3)\n",
    "print(type(page)) # this list contains all tables!\n",
    "page[0].head()"
   ]
  },
  {
   "cell_type": "code",
   "execution_count": 6,
   "id": "339ba65c-d23a-4969-b994-b41f3c5f8ba7",
   "metadata": {},
   "outputs": [
    {
     "data": {
      "text/html": [
       "<div>\n",
       "<style scoped>\n",
       "    .dataframe tbody tr th:only-of-type {\n",
       "        vertical-align: middle;\n",
       "    }\n",
       "\n",
       "    .dataframe tbody tr th {\n",
       "        vertical-align: top;\n",
       "    }\n",
       "\n",
       "    .dataframe thead th {\n",
       "        text-align: right;\n",
       "    }\n",
       "</style>\n",
       "<table border=\"1\" class=\"dataframe\">\n",
       "  <thead>\n",
       "    <tr style=\"text-align: right;\">\n",
       "      <th></th>\n",
       "      <th>Artist</th>\n",
       "      <th>Country</th>\n",
       "      <th>Period active</th>\n",
       "      <th>Release-year of first charted record</th>\n",
       "      <th>Genre</th>\n",
       "      <th>Total certified units(from available markets)[b]</th>\n",
       "      <th>Claimed sales</th>\n",
       "    </tr>\n",
       "  </thead>\n",
       "  <tbody>\n",
       "    <tr>\n",
       "      <th>0</th>\n",
       "      <td>Eminem</td>\n",
       "      <td>United States</td>\n",
       "      <td>1996–present[119]</td>\n",
       "      <td>1999[119]</td>\n",
       "      <td>Hip-hop[119]</td>\n",
       "      <td>336.45 million US: 242.7 million[12] JPN: 2.9 ...</td>\n",
       "      <td>220 million[120]</td>\n",
       "    </tr>\n",
       "    <tr>\n",
       "      <th>1</th>\n",
       "      <td>Mariah Carey</td>\n",
       "      <td>United States</td>\n",
       "      <td>1988–present[121]</td>\n",
       "      <td>1990[121]</td>\n",
       "      <td>R&amp;B / pop / soul / hip-hop[121]</td>\n",
       "      <td>222.72 million US: 163.3 million[12] JPN: 14.5...</td>\n",
       "      <td>220 million[125]</td>\n",
       "    </tr>\n",
       "    <tr>\n",
       "      <th>2</th>\n",
       "      <td>Whitney Houston</td>\n",
       "      <td>United States</td>\n",
       "      <td>1977–2012[126]</td>\n",
       "      <td>1984[126]</td>\n",
       "      <td>R&amp;B / soul / pop / gospel[126]</td>\n",
       "      <td>164.5 million US: 113.875 million[12] JPN: 4.3...</td>\n",
       "      <td>220 million[130]</td>\n",
       "    </tr>\n",
       "    <tr>\n",
       "      <th>3</th>\n",
       "      <td>Taylor Swift</td>\n",
       "      <td>United States</td>\n",
       "      <td>2006–present[131]</td>\n",
       "      <td>2006[131]</td>\n",
       "      <td>Pop / country / rock / folk / alternative[132]</td>\n",
       "      <td>290.2 million US: 196 million[12] JPN: 3.3 mil...</td>\n",
       "      <td>200 million[133]170 million[134]</td>\n",
       "    </tr>\n",
       "    <tr>\n",
       "      <th>4</th>\n",
       "      <td>Beyoncé</td>\n",
       "      <td>United States</td>\n",
       "      <td>1997–present[135]</td>\n",
       "      <td>2002[135][136]</td>\n",
       "      <td>R&amp;B / pop / hip-hop[135]</td>\n",
       "      <td>245.2 million US: 176.330 million[12] JPN: 1.7...</td>\n",
       "      <td>200 million[140]160 million[141]</td>\n",
       "    </tr>\n",
       "  </tbody>\n",
       "</table>\n",
       "</div>"
      ],
      "text/plain": [
       "            Artist        Country      Period active  \\\n",
       "0           Eminem  United States  1996–present[119]   \n",
       "1     Mariah Carey  United States  1988–present[121]   \n",
       "2  Whitney Houston  United States     1977–2012[126]   \n",
       "3     Taylor Swift  United States  2006–present[131]   \n",
       "4          Beyoncé  United States  1997–present[135]   \n",
       "\n",
       "  Release-year of first charted record  \\\n",
       "0                            1999[119]   \n",
       "1                            1990[121]   \n",
       "2                            1984[126]   \n",
       "3                            2006[131]   \n",
       "4                       2002[135][136]   \n",
       "\n",
       "                                            Genre  \\\n",
       "0                                    Hip-hop[119]   \n",
       "1                 R&B / pop / soul / hip-hop[121]   \n",
       "2                  R&B / soul / pop / gospel[126]   \n",
       "3  Pop / country / rock / folk / alternative[132]   \n",
       "4                        R&B / pop / hip-hop[135]   \n",
       "\n",
       "    Total certified units(from available markets)[b]  \\\n",
       "0  336.45 million US: 242.7 million[12] JPN: 2.9 ...   \n",
       "1  222.72 million US: 163.3 million[12] JPN: 14.5...   \n",
       "2  164.5 million US: 113.875 million[12] JPN: 4.3...   \n",
       "3  290.2 million US: 196 million[12] JPN: 3.3 mil...   \n",
       "4  245.2 million US: 176.330 million[12] JPN: 1.7...   \n",
       "\n",
       "                      Claimed sales  \n",
       "0                  220 million[120]  \n",
       "1                  220 million[125]  \n",
       "2                  220 million[130]  \n",
       "3  200 million[133]170 million[134]  \n",
       "4  200 million[140]160 million[141]  "
      ]
     },
     "execution_count": 6,
     "metadata": {},
     "output_type": "execute_result"
    }
   ],
   "source": [
    "page[1].head()"
   ]
  },
  {
   "cell_type": "markdown",
   "id": "55cb7a62-f8bf-4123-9188-f69f321bc463",
   "metadata": {},
   "source": [
    "We'll look a little more at how pandas can help us scrap html tables from websites. We'll follow this [Source](https://pbpython.com/pandas-html-table.html).\n",
    "\n",
    "\n",
    "The pandas `read_html()` function is a quick and convenient way to turn an HTML table into a pandas DataFrame. This function can be useful for quickly incorporating tables from various websites without figuring out how to scrape the site’s HTML. **However, there can be some challenges in cleaning and formatting the data before analyzing it.** Here, we look at how to use pandas `read_html()` to read and clean several Wikipedia HTML tables so that you can use them for further numeric analysis."
   ]
  },
  {
   "cell_type": "code",
   "execution_count": 7,
   "id": "55f74872-b961-4f39-8fef-c6f9c97087c0",
   "metadata": {},
   "outputs": [
    {
     "name": "stdout",
     "output_type": "stream",
     "text": [
      "<class 'list'>\n",
      "Total tables: 29\n"
     ]
    }
   ],
   "source": [
    "# This URL has 31 tables!\n",
    "table_MN = pd.read_html('https://en.wikipedia.org/wiki/Minnesota')\n",
    "print(type(table_MN))  # Saves tables in a list object for easy access\n",
    "print(f'Total tables: {len(table_MN)}')"
   ]
  },
  {
   "cell_type": "code",
   "execution_count": 8,
   "id": "d571a61e-87a0-409f-bd71-fd9c154452be",
   "metadata": {},
   "outputs": [
    {
     "data": {
      "text/html": [
       "<div>\n",
       "<style scoped>\n",
       "    .dataframe tbody tr th:only-of-type {\n",
       "        vertical-align: middle;\n",
       "    }\n",
       "\n",
       "    .dataframe tbody tr th {\n",
       "        vertical-align: top;\n",
       "    }\n",
       "\n",
       "    .dataframe thead th {\n",
       "        text-align: right;\n",
       "    }\n",
       "</style>\n",
       "<table border=\"1\" class=\"dataframe\">\n",
       "  <thead>\n",
       "    <tr style=\"text-align: right;\">\n",
       "      <th></th>\n",
       "      <th>Location</th>\n",
       "      <th>July (°F)</th>\n",
       "      <th>July (°C)</th>\n",
       "      <th>January (°F)</th>\n",
       "      <th>January (°C)</th>\n",
       "    </tr>\n",
       "  </thead>\n",
       "  <tbody>\n",
       "    <tr>\n",
       "      <th>0</th>\n",
       "      <td>Minneapolis</td>\n",
       "      <td>83/64</td>\n",
       "      <td>28/18</td>\n",
       "      <td>23/7</td>\n",
       "      <td>−4/−13</td>\n",
       "    </tr>\n",
       "    <tr>\n",
       "      <th>1</th>\n",
       "      <td>Saint Paul</td>\n",
       "      <td>83/63</td>\n",
       "      <td>28/17</td>\n",
       "      <td>23/6</td>\n",
       "      <td>−5/−14</td>\n",
       "    </tr>\n",
       "    <tr>\n",
       "      <th>2</th>\n",
       "      <td>Rochester</td>\n",
       "      <td>82/63</td>\n",
       "      <td>28/17</td>\n",
       "      <td>23/3</td>\n",
       "      <td>−5/−16</td>\n",
       "    </tr>\n",
       "    <tr>\n",
       "      <th>3</th>\n",
       "      <td>Duluth</td>\n",
       "      <td>76/55</td>\n",
       "      <td>24/13</td>\n",
       "      <td>19/1</td>\n",
       "      <td>−7/−17</td>\n",
       "    </tr>\n",
       "    <tr>\n",
       "      <th>4</th>\n",
       "      <td>St. Cloud</td>\n",
       "      <td>81/58</td>\n",
       "      <td>27/14</td>\n",
       "      <td>18/−1</td>\n",
       "      <td>−7/−18</td>\n",
       "    </tr>\n",
       "  </tbody>\n",
       "</table>\n",
       "</div>"
      ],
      "text/plain": [
       "      Location July (°F) July (°C) January (°F) January (°C)\n",
       "0  Minneapolis     83/64     28/18         23/7       −4/−13\n",
       "1   Saint Paul     83/63     28/17         23/6       −5/−14\n",
       "2    Rochester     82/63     28/17         23/3       −5/−16\n",
       "3       Duluth     76/55     24/13         19/1       −7/−17\n",
       "4    St. Cloud     81/58     27/14        18/−1       −7/−18"
      ]
     },
     "execution_count": 8,
     "metadata": {},
     "output_type": "execute_result"
    }
   ],
   "source": [
    "table_MN[2].head()"
   ]
  },
  {
   "cell_type": "markdown",
   "id": "44921b2c-f7ba-4c09-aa2f-50cd458e5a98",
   "metadata": {},
   "source": [
    "With so many tables, it can be challenging to find the one you need. To make the table selection easier, use the match parameter to select a subset of tables. We can use the **table name “United States presidential election results for Minnesota”** to select the table:"
   ]
  },
  {
   "cell_type": "code",
   "execution_count": 9,
   "id": "f39f459c-499a-4931-a0ef-fd3cf459a2ee",
   "metadata": {},
   "outputs": [
    {
     "data": {
      "text/plain": [
       "1"
      ]
     },
     "execution_count": 9,
     "metadata": {},
     "output_type": "execute_result"
    }
   ],
   "source": [
    "table_MN = pd.read_html('https://en.wikipedia.org/wiki/Minnesota', \n",
    "                        match='United States presidential election results for Minnesota')\n",
    "len(table_MN)"
   ]
  },
  {
   "cell_type": "code",
   "execution_count": 10,
   "id": "fa079745-4387-46e3-90d9-359f6f83c1c1",
   "metadata": {},
   "outputs": [
    {
     "data": {
      "text/html": [
       "<div>\n",
       "<style scoped>\n",
       "    .dataframe tbody tr th:only-of-type {\n",
       "        vertical-align: middle;\n",
       "    }\n",
       "\n",
       "    .dataframe tbody tr th {\n",
       "        vertical-align: top;\n",
       "    }\n",
       "\n",
       "    .dataframe thead tr th {\n",
       "        text-align: left;\n",
       "    }\n",
       "</style>\n",
       "<table border=\"1\" class=\"dataframe\">\n",
       "  <thead>\n",
       "    <tr>\n",
       "      <th></th>\n",
       "      <th>Year</th>\n",
       "      <th colspan=\"2\" halign=\"left\">Republican</th>\n",
       "      <th colspan=\"2\" halign=\"left\">Democratic</th>\n",
       "      <th colspan=\"2\" halign=\"left\">Third party</th>\n",
       "    </tr>\n",
       "    <tr>\n",
       "      <th></th>\n",
       "      <th>Year</th>\n",
       "      <th>No.</th>\n",
       "      <th>%</th>\n",
       "      <th>No.</th>\n",
       "      <th>%</th>\n",
       "      <th>No.</th>\n",
       "      <th>%</th>\n",
       "    </tr>\n",
       "  </thead>\n",
       "  <tbody>\n",
       "    <tr>\n",
       "      <th>0</th>\n",
       "      <td>2020</td>\n",
       "      <td>1484065</td>\n",
       "      <td>45.28%</td>\n",
       "      <td>1717077</td>\n",
       "      <td>52.40%</td>\n",
       "      <td>76029</td>\n",
       "      <td>2.32%</td>\n",
       "    </tr>\n",
       "    <tr>\n",
       "      <th>1</th>\n",
       "      <td>2016</td>\n",
       "      <td>1323232</td>\n",
       "      <td>44.93%</td>\n",
       "      <td>1367825</td>\n",
       "      <td>46.44%</td>\n",
       "      <td>254176</td>\n",
       "      <td>8.63%</td>\n",
       "    </tr>\n",
       "    <tr>\n",
       "      <th>2</th>\n",
       "      <td>2012</td>\n",
       "      <td>1320225</td>\n",
       "      <td>44.96%</td>\n",
       "      <td>1546167</td>\n",
       "      <td>52.65%</td>\n",
       "      <td>70169</td>\n",
       "      <td>2.39%</td>\n",
       "    </tr>\n",
       "    <tr>\n",
       "      <th>3</th>\n",
       "      <td>2008</td>\n",
       "      <td>1275409</td>\n",
       "      <td>43.82%</td>\n",
       "      <td>1573354</td>\n",
       "      <td>54.06%</td>\n",
       "      <td>61606</td>\n",
       "      <td>2.12%</td>\n",
       "    </tr>\n",
       "    <tr>\n",
       "      <th>4</th>\n",
       "      <td>2004</td>\n",
       "      <td>1346695</td>\n",
       "      <td>47.61%</td>\n",
       "      <td>1445014</td>\n",
       "      <td>51.09%</td>\n",
       "      <td>36678</td>\n",
       "      <td>1.30%</td>\n",
       "    </tr>\n",
       "  </tbody>\n",
       "</table>\n",
       "</div>"
      ],
      "text/plain": [
       "   Year Republican         Democratic         Third party       \n",
       "   Year        No.       %        No.       %         No.      %\n",
       "0  2020    1484065  45.28%    1717077  52.40%       76029  2.32%\n",
       "1  2016    1323232  44.93%    1367825  46.44%      254176  8.63%\n",
       "2  2012    1320225  44.96%    1546167  52.65%       70169  2.39%\n",
       "3  2008    1275409  43.82%    1573354  54.06%       61606  2.12%\n",
       "4  2004    1346695  47.61%    1445014  51.09%       36678  1.30%"
      ]
     },
     "execution_count": 10,
     "metadata": {},
     "output_type": "execute_result"
    }
   ],
   "source": [
    "df = pd.DataFrame(table_MN[0])\n",
    "df.head()"
   ]
  },
  {
   "cell_type": "code",
   "execution_count": 11,
   "id": "be35068b-b874-425d-b82f-0c51d5000073",
   "metadata": {},
   "outputs": [
    {
     "name": "stdout",
     "output_type": "stream",
     "text": [
      "<class 'pandas.core.frame.DataFrame'>\n",
      "RangeIndex: 41 entries, 0 to 40\n",
      "Data columns (total 7 columns):\n",
      " #   Column              Non-Null Count  Dtype \n",
      "---  ------              --------------  ----- \n",
      " 0   (Year, Year)        41 non-null     int64 \n",
      " 1   (Republican, No.)   41 non-null     int64 \n",
      " 2   (Republican, %)     41 non-null     object\n",
      " 3   (Democratic, No.)   41 non-null     int64 \n",
      " 4   (Democratic, %)     41 non-null     object\n",
      " 5   (Third party, No.)  41 non-null     int64 \n",
      " 6   (Third party, %)    41 non-null     object\n",
      "dtypes: int64(4), object(3)\n",
      "memory usage: 2.4+ KB\n"
     ]
    }
   ],
   "source": [
    "df.info() # Notice the columns which read in with the '%' are not numeric!"
   ]
  },
  {
   "cell_type": "code",
   "execution_count": 12,
   "id": "a8d62686-6a59-4198-82a0-78396fb19e92",
   "metadata": {},
   "outputs": [
    {
     "data": {
      "text/plain": [
       "MultiIndex([(       'Year', 'Year'),\n",
       "            ( 'Republican',  'No.'),\n",
       "            ( 'Republican',    '%'),\n",
       "            ( 'Democratic',  'No.'),\n",
       "            ( 'Democratic',    '%'),\n",
       "            ('Third party',  'No.'),\n",
       "            ('Third party',    '%')],\n",
       "           )"
      ]
     },
     "execution_count": 12,
     "metadata": {},
     "output_type": "execute_result"
    }
   ],
   "source": [
    "df.columns # the columns have hierarchical indexing "
   ]
  },
  {
   "cell_type": "code",
   "execution_count": 13,
   "id": "dd9ab524-a7f8-4a48-ac45-e19f1e48e49c",
   "metadata": {},
   "outputs": [
    {
     "name": "stdout",
     "output_type": "stream",
     "text": [
      "<class 'pandas.core.frame.DataFrame'>\n",
      "RangeIndex: 41 entries, 0 to 40\n",
      "Data columns (total 7 columns):\n",
      " #   Column              Non-Null Count  Dtype  \n",
      "---  ------              --------------  -----  \n",
      " 0   (Year, Year)        41 non-null     int64  \n",
      " 1   (Republican, No.)   41 non-null     int64  \n",
      " 2   (Republican, %)     41 non-null     float64\n",
      " 3   (Democratic, No.)   41 non-null     int64  \n",
      " 4   (Democratic, %)     41 non-null     object \n",
      " 5   (Third party, No.)  41 non-null     int64  \n",
      " 6   (Third party, %)    41 non-null     object \n",
      "dtypes: float64(1), int64(4), object(2)\n",
      "memory usage: 2.4+ KB\n"
     ]
    }
   ],
   "source": [
    "df[('Republican', '%')] = df[('Republican', '%')].replace({'%':''}, regex=True).astype('float') \n",
    "df.info()"
   ]
  },
  {
   "cell_type": "code",
   "execution_count": 14,
   "id": "e6a5247b-a81d-45c5-a3bd-4e1c44dbeb7b",
   "metadata": {},
   "outputs": [
    {
     "data": {
      "text/html": [
       "<div>\n",
       "<style scoped>\n",
       "    .dataframe tbody tr th:only-of-type {\n",
       "        vertical-align: middle;\n",
       "    }\n",
       "\n",
       "    .dataframe tbody tr th {\n",
       "        vertical-align: top;\n",
       "    }\n",
       "\n",
       "    .dataframe thead tr th {\n",
       "        text-align: left;\n",
       "    }\n",
       "</style>\n",
       "<table border=\"1\" class=\"dataframe\">\n",
       "  <thead>\n",
       "    <tr>\n",
       "      <th></th>\n",
       "      <th>Year</th>\n",
       "      <th colspan=\"2\" halign=\"left\">Republican</th>\n",
       "      <th colspan=\"2\" halign=\"left\">Democratic</th>\n",
       "      <th colspan=\"2\" halign=\"left\">Third party</th>\n",
       "    </tr>\n",
       "    <tr>\n",
       "      <th></th>\n",
       "      <th>Year</th>\n",
       "      <th>No.</th>\n",
       "      <th>%</th>\n",
       "      <th>No.</th>\n",
       "      <th>%</th>\n",
       "      <th>No.</th>\n",
       "      <th>%</th>\n",
       "    </tr>\n",
       "  </thead>\n",
       "  <tbody>\n",
       "    <tr>\n",
       "      <th>0</th>\n",
       "      <td>2020</td>\n",
       "      <td>1484065</td>\n",
       "      <td>45.28</td>\n",
       "      <td>1717077</td>\n",
       "      <td>52.40%</td>\n",
       "      <td>76029</td>\n",
       "      <td>2.32%</td>\n",
       "    </tr>\n",
       "    <tr>\n",
       "      <th>1</th>\n",
       "      <td>2016</td>\n",
       "      <td>1323232</td>\n",
       "      <td>44.93</td>\n",
       "      <td>1367825</td>\n",
       "      <td>46.44%</td>\n",
       "      <td>254176</td>\n",
       "      <td>8.63%</td>\n",
       "    </tr>\n",
       "    <tr>\n",
       "      <th>2</th>\n",
       "      <td>2012</td>\n",
       "      <td>1320225</td>\n",
       "      <td>44.96</td>\n",
       "      <td>1546167</td>\n",
       "      <td>52.65%</td>\n",
       "      <td>70169</td>\n",
       "      <td>2.39%</td>\n",
       "    </tr>\n",
       "    <tr>\n",
       "      <th>3</th>\n",
       "      <td>2008</td>\n",
       "      <td>1275409</td>\n",
       "      <td>43.82</td>\n",
       "      <td>1573354</td>\n",
       "      <td>54.06%</td>\n",
       "      <td>61606</td>\n",
       "      <td>2.12%</td>\n",
       "    </tr>\n",
       "    <tr>\n",
       "      <th>4</th>\n",
       "      <td>2004</td>\n",
       "      <td>1346695</td>\n",
       "      <td>47.61</td>\n",
       "      <td>1445014</td>\n",
       "      <td>51.09%</td>\n",
       "      <td>36678</td>\n",
       "      <td>1.30%</td>\n",
       "    </tr>\n",
       "  </tbody>\n",
       "</table>\n",
       "</div>"
      ],
      "text/plain": [
       "   Year Republican        Democratic         Third party       \n",
       "   Year        No.      %        No.       %         No.      %\n",
       "0  2020    1484065  45.28    1717077  52.40%       76029  2.32%\n",
       "1  2016    1323232  44.93    1367825  46.44%      254176  8.63%\n",
       "2  2012    1320225  44.96    1546167  52.65%       70169  2.39%\n",
       "3  2008    1275409  43.82    1573354  54.06%       61606  2.12%\n",
       "4  2004    1346695  47.61    1445014  51.09%       36678  1.30%"
      ]
     },
     "execution_count": 14,
     "metadata": {},
     "output_type": "execute_result"
    }
   ],
   "source": [
    "df.head()"
   ]
  },
  {
   "cell_type": "markdown",
   "id": "489ca7ca-ac7c-401b-ac2f-593e1303056f",
   "metadata": {},
   "source": [
    "## 3. Scraping HTML Text<a class=\"anchor\" id=\"bullet3\"></a>"
   ]
  },
  {
   "cell_type": "markdown",
   "id": "b164097d-aad1-4202-93f9-bf7fcfbcd077",
   "metadata": {},
   "source": [
    "Sources:\n",
    "- [Real Python - Beautiful Soup: Build a Web Scraper With Python](https://realpython.com/beautiful-soup-web-scraper-python/) "
   ]
  },
  {
   "cell_type": "markdown",
   "id": "f7f017f8-2609-4b5a-9e05-970c61b5b84d",
   "metadata": {
    "tags": []
   },
   "source": [
    "### An introduction to HTML (Hypertext Markup Langugage) structure"
   ]
  },
  {
   "cell_type": "code",
   "execution_count": 15,
   "id": "1dd6a293-ba14-4c75-98be-c72f67b45b79",
   "metadata": {},
   "outputs": [],
   "source": [
    "#First, need to know about HTML structure to be able to extract diff't parts of webpage\n",
    "\n",
    "#HTML elements (i.e.-tags) structured in following manner:\n",
    "\n",
    "#<tagname> content </tagname>\n",
    "\n",
    "#---Examples of diff't kinds of tags that contain text:\n",
    "\n",
    "#<h1>, <h2>,…,<h6>: Largest heading, second largest heading, etc.\n",
    "\n",
    "#<p>: Paragraph elements\n",
    "\n",
    "#<ul>: Unordered bulleted list\n",
    "\n",
    "#<ol>: Ordered list\n",
    "\n",
    "#<li>: Individual list item\n",
    "\n",
    "#<div>: Division or section\n",
    "\n",
    "#<table>: Table\n",
    "\n",
    "#<thead>: table head\n",
    "\n",
    "#<tbody>: table body\n",
    "\n",
    "#<tr>: row of data in table \n",
    "\n",
    "##Example of tag structure for <p> paragraph tags\n",
    "\n",
    "#<p>\n",
    "#  This paragraph represents\n",
    "# a typical text paragraph\n",
    "# in HTML form\n",
    "#</p>"
   ]
  },
  {
   "cell_type": "markdown",
   "id": "b4a12eab-4509-4afc-9f3b-012b39ce0709",
   "metadata": {},
   "source": [
    "We'll start by using `pandas` to read html from a string, and then move on to using `pandas` to read html from a URL."
   ]
  },
  {
   "cell_type": "code",
   "execution_count": 16,
   "id": "aac02f7f-da33-4873-86b0-49a6ad5dc982",
   "metadata": {},
   "outputs": [],
   "source": [
    "html_string = \"\"\"\n",
    "<table>\n",
    "  <thead>\n",
    "    <tr>\n",
    "      <th>date</th>\n",
    "      <th>name</th>\n",
    "      <th>year</th>\n",
    "      <th>cost</th>\n",
    "      <th>region</th>\n",
    "    </tr>\n",
    "  </thead>\n",
    "  <tbody>\n",
    "    <tr>\n",
    "      <td>2020-01-01</td>\n",
    "      <td>Jenny</td>\n",
    "      <td>1998</td>\n",
    "      <td>0.2</td>\n",
    "      <td>South</td>\n",
    "    </tr>\n",
    "    <tr>\n",
    "      <td>2020-01-02</td>\n",
    "      <td>Alice</td>\n",
    "      <td>1992</td>\n",
    "      <td>-1.34</td>\n",
    "      <td>East</td>\n",
    "    </tr>\n",
    "    <tr>\n",
    "      <td>2020-01-03</td>\n",
    "      <td>Tomas</td>\n",
    "      <td>1982</td>\n",
    "      <td>1.00023</td>\n",
    "      <td>South</td>\n",
    "    </tr>\n",
    "  </tbody>\n",
    "</table>\n",
    "\"\"\""
   ]
  },
  {
   "cell_type": "markdown",
   "id": "fcb4cde0-8b8d-4bf3-842b-0a84e7d30b1a",
   "metadata": {},
   "source": [
    "This html string has html code for a table:\n",
    "- The `<thead> ~~~ </thead>` tagnames indicate a table header element\n",
    "- The `<tbody> ~~~ </tbody>` tags indicate the body of the table, where each call represents a single record\n",
    "\n",
    "In this case, there are **three** records. When we extract the tabular data from this html code, we should therefore see a table with three records, in addition to the table header. \n",
    "\n",
    "This is what the `pd.read_html()` function actually does - it imports a list of all tables by parsing the html code."
   ]
  },
  {
   "cell_type": "code",
   "execution_count": 17,
   "id": "58c1d2fe-1f71-4195-ae8e-b5aa21981f53",
   "metadata": {},
   "outputs": [
    {
     "data": {
      "text/html": [
       "<div>\n",
       "<style scoped>\n",
       "    .dataframe tbody tr th:only-of-type {\n",
       "        vertical-align: middle;\n",
       "    }\n",
       "\n",
       "    .dataframe tbody tr th {\n",
       "        vertical-align: top;\n",
       "    }\n",
       "\n",
       "    .dataframe thead th {\n",
       "        text-align: right;\n",
       "    }\n",
       "</style>\n",
       "<table border=\"1\" class=\"dataframe\">\n",
       "  <thead>\n",
       "    <tr style=\"text-align: right;\">\n",
       "      <th></th>\n",
       "      <th>date</th>\n",
       "      <th>name</th>\n",
       "      <th>year</th>\n",
       "      <th>cost</th>\n",
       "      <th>region</th>\n",
       "    </tr>\n",
       "  </thead>\n",
       "  <tbody>\n",
       "    <tr>\n",
       "      <th>0</th>\n",
       "      <td>2020-01-01</td>\n",
       "      <td>Jenny</td>\n",
       "      <td>1998</td>\n",
       "      <td>0.20000</td>\n",
       "      <td>South</td>\n",
       "    </tr>\n",
       "    <tr>\n",
       "      <th>1</th>\n",
       "      <td>2020-01-02</td>\n",
       "      <td>Alice</td>\n",
       "      <td>1992</td>\n",
       "      <td>-1.34000</td>\n",
       "      <td>East</td>\n",
       "    </tr>\n",
       "    <tr>\n",
       "      <th>2</th>\n",
       "      <td>2020-01-03</td>\n",
       "      <td>Tomas</td>\n",
       "      <td>1982</td>\n",
       "      <td>1.00023</td>\n",
       "      <td>South</td>\n",
       "    </tr>\n",
       "  </tbody>\n",
       "</table>\n",
       "</div>"
      ],
      "text/plain": [
       "         date   name  year     cost region\n",
       "0  2020-01-01  Jenny  1998  0.20000  South\n",
       "1  2020-01-02  Alice  1992 -1.34000   East\n",
       "2  2020-01-03  Tomas  1982  1.00023  South"
      ]
     },
     "execution_count": 17,
     "metadata": {},
     "output_type": "execute_result"
    }
   ],
   "source": [
    "dfs = pd.read_html(html_string)\n",
    "pd.DataFrame(dfs[0])"
   ]
  },
  {
   "cell_type": "markdown",
   "id": "2eb4ddcf-b2a5-44af-90d0-4f16caf20e5a",
   "metadata": {},
   "source": [
    "<div class=\"alert alert-block alert-info\">\n",
    "<b>Note:</b> Keep in mind that every website will look different. That’s why it’s necessary to inspect and understand the structure of the site you’re currently working with before moving forward.</div>"
   ]
  },
  {
   "cell_type": "markdown",
   "id": "da68aefd-f855-4398-8dce-3dfbd7a20f54",
   "metadata": {
    "tags": []
   },
   "source": [
    "### Scraping HTML content from a web page"
   ]
  },
  {
   "cell_type": "markdown",
   "id": "7462152b-1a24-4103-80d7-be22cbc7a780",
   "metadata": {
    "tags": []
   },
   "source": [
    "##### Step 1: Inspect the data source"
   ]
  },
  {
   "attachments": {
    "e818c21c-309b-4fc5-a4c2-2765c782547c.png": {
     "image/png": "[encoded data removed]"
    }
   },
   "cell_type": "markdown",
   "id": "99d15c78-8ccd-4a4f-b583-174abb9595c2",
   "metadata": {},
   "source": [
    "Before we write any Python code, we need to get to know the website that we want to scrape. That should be our first step for any web scraping project. We’ll need to understand the site structure to extract the information that’s relevant for us. Start by opening [the site we want to scrape](https://realpython.github.io/fake-jobs/) with our favorite browser.\n",
    "\n",
    "**Explore the website**\n",
    "Click through the site and interact with it just like any typical job searcher would. For example, we can scroll through the main page of the website:\n",
    "\n",
    "![download.png](attachment:e818c21c-309b-4fc5-a4c2-2765c782547c.png)\n",
    "\n",
    "We can see many job postings in a card format, and each of them has two buttons. If we click Apply, then we’ll see a new page that contains more detailed descriptions of the selected job. We might also notice that the URL in our browser’s address bar changes when we interact with the website."
   ]
  },
  {
   "cell_type": "markdown",
   "id": "2f4cb64f-cec2-49df-b08c-6d7087d876a8",
   "metadata": {},
   "source": [
    "**Decipher the Information in URLs**\n",
    "A programmer can encode a lot of information in a URL. Our web scraping journey will be much easier if we first become familiar with how URLs work and what they’re made of. For example, we might find a details page that has the following URL:\n",
    "\n",
    "https://realpython.github.io/fake-jobs/jobs/senior-python-developer-0.html\n",
    "\n",
    "We can deconstruct the above URL into two main parts:\n",
    "\n",
    "1. **The base URL** represents the path to the search functionality of the website. In the example above, the base URL is https://realpython.github.io/fake-jobs/.\n",
    "2. The **specific site location** that ends with .html is the path to the job description’s unique resource.\n",
    "\n",
    "\n",
    "Any job posted on this website will use the same base URL. However, the unique resources’ location will be different depending on what specific job posting we’re viewing.\n",
    "\n",
    "URLs can hold more information than just the location of a file. Some websites use **query parameters** to encode values that we submit when performing a search. We can think of them as query strings that we send to the database to retrieve specific records.\n",
    "\n",
    "We’ll find query parameters at the end of a URL. For example, if we go to Indeed and search for “software developer” in “Australia” through their search bar, we’ll see that the URL changes to include these values as query parameters:\n",
    "\n",
    "https://au.indeed.com/jobs?q=software+developer&l=Australia\n",
    "\n",
    "The query parameters in this URL are ?q=software+developer&l=Australia. Recall that last week we saw this same query structure when we made calls to the NY Time API. Query parameters consist of three parts:\n",
    "\n",
    "1. **Start**: The beginning of the query parameters is denoted by a question mark (?).\n",
    "2. **Information**: The pieces of information constituting one query parameter are encoded in key-value pairs, where related keys and values are joined together by an equals sign (key=value).\n",
    "3. **Separator**: Every URL can have multiple query parameters, separated by an ampersand symbol (&).\n",
    "\n",
    "Equipped with this information, we can pick apart the URL’s query parameters into two key-value pairs:\n",
    "\n",
    "`q=software+developer` selects the type of job.\n",
    "`l=Australia` selects the location of the job.\n",
    "\n",
    "Armed with this type of information, it's easy to imagine how we would manipulate URLs on some websites to scrape data. However, we cannot take advantage of this trick when we scrape the [Fake Python Jobs](https://realpython.github.io/fake-jobs/) webpage because this site is a purely static website that doesn’t operate on top of a database, which is why we won’t have to work with query parameters in this scraping tutorial."
   ]
  },
  {
   "cell_type": "markdown",
   "id": "1f542e38-6328-48bf-aa93-31b76a72e9ca",
   "metadata": {
    "tags": []
   },
   "source": [
    "**Inspect the Site Using Developer Tools**"
   ]
  },
  {
   "cell_type": "markdown",
   "id": "92f29b6f-5c58-4bb7-974b-90e54aa693d2",
   "metadata": {},
   "source": [
    "**Developer tools** can help us understand the structure of a website. All modern browsers come with developer tools installed. In this section, we’ll see how to work with the developer tools in Chrome. The process will be very similar to other modern browsers.\n",
    "\n",
    "In **Chrome on macOS**, we can open up the developer tools through the menu by `selecting View → Developer → Developer Tools`. On **Windows and Linux**, we can access them by clicking the `top-right menu button (⋮) and selecting More Tools → Developer Tools`. We can also access our developer tools by right-clicking on the page and selecting the Inspect option or using a keyboard shortcut (F12 on Windows).\n",
    "\n",
    "Developer tools allow us to interactively explore the site’s **document object model (DOM)** to better understand our source. The DOM is (in simplified terms) **a visual representation of the HTML that makes up a web page**. To dig into our page’s DOM, select the Elements tab in developer tools. We’ll see a structure with clickable HTML elements. We can expand, collapse, and even edit elements right in our browser. We can think of the text displayed in our browser as the HTML structure of that page. "
   ]
  },
  {
   "cell_type": "markdown",
   "id": "9aaf789c-14b6-4ab2-8334-d0b438932475",
   "metadata": {},
   "source": [
    "<div class=\"alert alert-block alert-success\">\n",
    "<b>Explore:</b> We'll take a few minutes to explore HTML code on this, or other, web pages. Ask any questions we have, and point out any observations you make once we come back as a class.\n",
    "</div>"
   ]
  },
  {
   "cell_type": "markdown",
   "id": "cb30cbfa-8b38-4139-976d-81eb3b78ea28",
   "metadata": {
    "tags": []
   },
   "source": [
    "##### Step 2: Scrape HTML Content From a Page"
   ]
  },
  {
   "cell_type": "markdown",
   "id": "ee9e68de-d9ed-4f9d-93c3-6b6649757a7b",
   "metadata": {},
   "source": [
    "First, we need to issue an HTTP `GET` request, which we do with the `requests` module. The code below retrieves the HTML data from the server and sends back and stores that data as a Python object."
   ]
  },
  {
   "cell_type": "code",
   "execution_count": 18,
   "id": "dbf91265-67e8-4f1a-997f-6c9c86c54e40",
   "metadata": {},
   "outputs": [],
   "source": [
    "import requests\n",
    "\n",
    "URL = \"https://realpython.github.io/fake-jobs/\"\n",
    "page = requests.get(URL)"
   ]
  },
  {
   "cell_type": "code",
   "execution_count": 19,
   "id": "19c3c22c-5a57-41c4-a01d-377c2c5c6775",
   "metadata": {},
   "outputs": [
    {
     "name": "stdout",
     "output_type": "stream",
     "text": [
      "<class 'requests.models.Response'>\n"
     ]
    }
   ],
   "source": [
    "print(type(page))\n",
    "#print(page.text)  # html code takes up a lot of space!"
   ]
  },
  {
   "cell_type": "markdown",
   "id": "7b88f855-122c-41ac-85d2-39226414c20d",
   "metadata": {},
   "source": [
    "If we inspect the `.text` attribute of *page*, then we'll notice that it looks just like the HTML that we inspected earlier with the developer's tool in the browser we were using. At this point, we've fetched static site content from the internet! Now we can extract the relevant information."
   ]
  },
  {
   "cell_type": "markdown",
   "id": "1fafa6e3-792e-435f-af29-afa19ec14834",
   "metadata": {},
   "source": [
    "**Static Websites**  \n",
    "The website that we’re scraping in this tutorial serves static HTML content. In this scenario, the server that hosts the site sends back HTML documents that already contain all the data that we’ll get to see as a user. When we inspected the page with developer tools earlier on, we discovered that a job posting consists of the following long and messy-looking HTML:"
   ]
  },
  {
   "cell_type": "code",
   "execution_count": 20,
   "id": "eaddc03a-a289-4573-90ca-590a05aaeef8",
   "metadata": {},
   "outputs": [
    {
     "name": "stdout",
     "output_type": "stream",
     "text": [
      "<!DOCTYPE html>\n",
      "<html>\n",
      "  <head>\n",
      "    <meta charset=\"utf-8\">\n",
      "    <meta name=\"viewport\" content=\"width=device-width, initial-scale=1\">\n",
      "    <title>Fake Python</title>\n",
      "    <link rel=\"stylesheet\" href=\"https://cdn.jsdelivr.net/npm/bulma@0.9.2/css/bulma.min.css\">\n",
      "  </head>\n",
      "  <body>\n",
      "  <section class=\"section\">\n",
      "    <div class=\"container mb-5\">\n",
      "      <h1 class=\"title is-1\">\n",
      "        Fake Python\n",
      "      </h1>\n",
      "      <p class=\"subtitle is-3\">\n",
      "        Fake Jobs for Your Web Scraping Journey\n",
      "      </p>\n",
      "    </div>\n",
      "    <div class=\"container\">\n",
      "    <div id=\"ResultsContainer\" class=\"columns is-multiline\">\n",
      "    <div class=\"box\">\n",
      "<h1 class=\"title is-2\">Senior Python Developer</h1>\n",
      "<h2 class=\"subtitle is-4 company\">Payne, Roberts and Davis</h2>\n",
      "<div class=\"content\">\n",
      "    <p>Professional asset web application environmentally friendly detail-oriented asset. Coordinate educational dashboard agile employ growth opportunity. Company programs CSS explore role. Html educational grit web application. Oversea SCRUM talented support. Web Application fast-growing communities inclusive programs job CSS. Css discussions growth opportunity explore open-minded oversee. Css Python environmentally friendly collaborate inclusive role. Django no experience oversee dashboard environmentally friendly willing to learn programs. Programs open-minded programs asset.</p>\n",
      "    <p id=\"location\"><strong>Location:</strong> Stewartbury, AA</p>\n",
      "    <p id=\"date\"><strong>Posted:</strong> 2021-04-08</p>\n",
      "</div>\n",
      "</div>\n",
      "\n",
      "    </div>\n",
      "    </div>\n",
      "  </section>\n",
      "  </body>\n",
      "</html>\n",
      "\n"
     ]
    }
   ],
   "source": [
    "URL2 = \"https://realpython.github.io/fake-jobs/jobs/senior-python-developer-0.html\"\n",
    "page2 = requests.get(URL2)\n",
    "print(page2.text) "
   ]
  },
  {
   "cell_type": "markdown",
   "id": "a452e194-5a31-490d-b7b4-c0fb1b9d365a",
   "metadata": {},
   "source": [
    "It can be challenging to wrap your head around a long block of HTML code. To make it easier to read, we can use an [HTML formatter](https://webformatter.com/html) to clean it up automatically. Good readability helps you better understand the structure of any code block. While it may or may not help improve the HTML formatting, it’s always worth a try."
   ]
  },
  {
   "cell_type": "markdown",
   "id": "d6cc0f4d-7489-4a93-8b2f-e57a9d174c5a",
   "metadata": {},
   "source": [
    "The HTML we’ll encounter will sometimes be confusing. Luckily, the HTML of this job board has descriptive class names for the elements that we’re interested in:\n",
    "\n",
    "- class=\"title is-5\" contains the title of the job posting\n",
    "- class=\"subtitle is-6 company\" contains the name of the company that offers the position\n",
    "- class=\"location\" contains the location \n",
    "\n",
    "In case we ever get lost in a large pile of HTML, remember that we can always go back to our browser and use the developer tools to further explore the HTML structure interactively.\n",
    "\n",
    "By now, we’ve successfully harnessed the power and user-friendly design of Python’s requests library. With only a few lines of code, we managed to scrape static HTML content from the Web and make it available for further processing.\n",
    "\n",
    "However, there are more challenging situations that we might encounter when we’re scraping websites. Before we learn how to pick the relevant information from the HTML that we just scraped, we’ll take a quick look at two of these more challenging situations."
   ]
  },
  {
   "cell_type": "markdown",
   "id": "28c6c70d-d699-4bc2-b041-c641d6e060b0",
   "metadata": {},
   "source": [
    "**Hidden Websites**  \n",
    "Some pages contain information that’s hidden behind a login. That means we’ll need an account to be able to scrape anything from the page. The process to make an HTTP request from our Python script is different from how we access a page from our browser. Just because we can log in to the page through our browser doesn’t mean we’ll be able to scrape it with our Python script.\n",
    "\n",
    "However, the **requests library comes with the built-in capacity to handle authentication**. With these techniques, we can log in to websites when making the HTTP request from our Python script and then scrape information that’s hidden behind a login. We won’t need to log in to access the job board information, which is why this tutorial won’t cover authentication."
   ]
  },
  {
   "cell_type": "markdown",
   "id": "88c60e48-ed20-4db6-9049-6dbb572688f7",
   "metadata": {},
   "source": [
    "**Dynamic Websites**  \n",
    "We use the term dynamic website to refer to a website that doesn’t return the same HTML that we see when viewing the page in our browser. Static sites are straightforward to work with because the server sends us an HTML page that already contains all the page information in the response. We can parse that HTML response and immediately begin to pick out the relevant data.\n",
    "\n",
    "On the other hand, with a dynamic website, the server might not send back any HTML at all. Instead, we could receive JavaScript code as a response. This code will look completely different from what we saw when we inspected the page with our browser’s developer tools. \n",
    "\n",
    "Many modern web applications are designed to provide their functionality in collaboration with the clients’ browsers. **Instead of sending HTML pages, these apps send JavaScript code that instructs our browser to create the desired HTML.** Web apps deliver dynamic content in this way to offload work from the server to the clients’ machines as well as to avoid page reloads and improve the overall user experience.\n",
    "\n",
    "What happens in the browser is not the same as what happens in our script. Our browser will diligently execute the JavaScript code it receives from a server and create the DOM and HTML locally. However, **if we request a dynamic website in our Python script, then we won’t get the HTML page content.**\n",
    "\n",
    "When we use requests, we only receive what the server sends back. In the case of a dynamic website, we’ll end up with some JavaScript code instead of HTML. The only way to go from the JavaScript code we received to the content that we’re interested in is to execute the code, just like our browser does. The *requests* library can’t do that for us, but there are other solutions that can. For example, *requests-html* is a project created by the author of the *requests* library that allows us to render JavaScript using syntax that’s similar to the syntax in requests. It also includes capabilities for parsing the data by using Beautiful Soup under the hood.\n",
    "\n",
    "We won’t go deeper into scraping dynamically-generated content in this tutorial. For now, it’s enough to remember to look into one of the options mentioned above if you need to scrape a dynamic website."
   ]
  },
  {
   "cell_type": "markdown",
   "id": "b1d2ad78-31c7-4e26-b189-0ec7044de7bf",
   "metadata": {},
   "source": [
    "##### Step 3: Parse HTML Code With Beautiful Soup"
   ]
  },
  {
   "cell_type": "markdown",
   "id": "5c4e28e2-a1d5-447a-9ee4-23d96eb9eac1",
   "metadata": {},
   "source": [
    "We’ve successfully scraped some HTML from the Internet, but when we look at it, it just seems like a huge mess. There are tons of HTML elements here and there, thousands of attributes scattered around—and wasn’t there some JavaScript mixed in as well? It’s time to parse this lengthy code response with the help of Python to make it more accessible and pick out the data we want.\n",
    "\n",
    "`Beautiful Soup` is a Python library for parsing structured data. It allows you to interact with HTML in a similar way to how you interact with a web page using developer tools. The library exposes a couple of intuitive functions you can use to explore the HTML you received."
   ]
  },
  {
   "cell_type": "code",
   "execution_count": 22,
   "id": "8a8beb4f-81a2-46be-97d9-c33dc982b3eb",
   "metadata": {},
   "outputs": [
    {
     "name": "stdout",
     "output_type": "stream",
     "text": [
      "<class 'requests.models.Response'>\n",
      "<class 'bs4.BeautifulSoup'>\n"
     ]
    }
   ],
   "source": [
    "import requests\n",
    "from bs4 import BeautifulSoup\n",
    "\n",
    "URL = \"https://realpython.github.io/fake-jobs/\"\n",
    "page = requests.get(URL)\n",
    "print(type(page))\n",
    "\n",
    "soup = BeautifulSoup(page.content, \"html.parser\")  # notice how BeautifulSoup works with requests objects ! \n",
    "print(type(soup))"
   ]
  },
  {
   "cell_type": "markdown",
   "id": "9a453cc6-498b-4608-9985-0720b05f7d2d",
   "metadata": {},
   "source": [
    "Above, we created a *Beautiful Soup* object that takes `page.content`, which is the HTML content we scraped earlier, as its input. The second argument, `html.parser`, makes sure that we use the appropriate parser for HTML content.\n",
    "\n",
    "<div class=\"alert alert-block alert-info\">\n",
    "<b>Note:</b> We’ll want to pass `page.content` instead of `page.text` to avoid problems with character encoding. The `.content` attribute holds raw bytes, which can be decoded better than the text representation we printed earlier using the `.text` attribute.</div>"
   ]
  },
  {
   "cell_type": "markdown",
   "id": "e6eb1528-902f-48fc-a233-06474bda4c82",
   "metadata": {},
   "source": [
    "**Find Elements by ID**\n"
   ]
  },
  {
   "cell_type": "markdown",
   "id": "b5493d63-8f7a-4f1d-b921-dcb59efe4acc",
   "metadata": {},
   "source": [
    "In an HTML web page, every element can have an id attribute assigned. As the name already suggests, that id attribute makes the element uniquely identifiable on the page. We can begin to parse a page by selecting a specific element by its ID.\n",
    "\n",
    "**Challenge**: Switch back to developer tools and identify the HTML object that contains all the job postings. Explore by hovering over parts of the page and using right-click to Inspect.\n",
    "\n",
    "Take a minute and see if you can answer this question! The element we are looking for should be the parent of all HTML objects with job posting information.\n"
   ]
  },
  {
   "cell_type": "markdown",
   "id": "fb2fc54e-3654-45f7-ac23-3eb6c660b6e3",
   "metadata": {},
   "source": [
    "The element we’re looking for is a `<div>` tag with an id attribute that has the value \"ResultsContainer\". It has some other attributes as well, but below is the gist of what we’re looking for:"
   ]
  },
  {
   "cell_type": "code",
   "execution_count": null,
   "id": "573af54a-afd9-4d39-90b9-4279f2244096",
   "metadata": {},
   "outputs": [],
   "source": [
    "<div id=\"ResultsContainer\">\n",
    "  <!-- all the job listings -->\n",
    "</div>"
   ]
  },
  {
   "cell_type": "markdown",
   "id": "6681ca29-0cbb-4a91-99f4-9035c298a444",
   "metadata": {},
   "source": [
    "*Beautiful Soup* allows us to find that specific HTML element by its ID:"
   ]
  },
  {
   "cell_type": "code",
   "execution_count": 28,
   "id": "48c9e590-fe03-428c-bcfe-0d56a3ecfe46",
   "metadata": {},
   "outputs": [],
   "source": [
    "results = soup.find(id=\"ResultsContainer\")\n",
    "#results   # Commented out bc it is so long ! \n",
    "#print(results.prettify())"
   ]
  },
  {
   "cell_type": "markdown",
   "id": "dd96a8b8-a740-49ef-8ae6-da28a841c805",
   "metadata": {},
   "source": [
    "For easier viewing, we can prettify any *Beautiful Soup* object when we print it out. If we call `.prettify()` on the results variable that we just assigned above, then we’ll see all the HTML contained within the `<div>`:"
   ]
  },
  {
   "cell_type": "markdown",
   "id": "ed13cf9e-efd0-4b8d-9bcd-26576a941858",
   "metadata": {},
   "source": [
    "**Find Elements by HTML Class Name**  \n",
    "We’ve seen that every job posting is wrapped in a `<div>` element with the class card-content. Now you can work with your new object called results and select only the job postings in it. These are, after all, the parts of the HTML that you’re interested in! You can do this in one line of code:"
   ]
  },
  {
   "cell_type": "code",
   "execution_count": 29,
   "id": "8bafaebe-70a4-4414-9f3b-f70ae5d525ac",
   "metadata": {},
   "outputs": [],
   "source": [
    "job_elements = results.find_all(\"div\", class_=\"card-content\")"
   ]
  },
  {
   "cell_type": "markdown",
   "id": "f038c85d-9c5d-442e-a5fa-65a6e222ba41",
   "metadata": {},
   "source": [
    "Here, we call `.find_all()` on a *Beautiful Soup* object, which returns an **iterable** containing all the HTML for all the job listings displayed on that page. Take a look at all of them:"
   ]
  },
  {
   "cell_type": "code",
   "execution_count": null,
   "id": "90f359fd-ee50-45ef-aa19-9b66703b0abd",
   "metadata": {},
   "outputs": [],
   "source": [
    "for job_element in job_elements:\n",
    "    print(job_element, end=\"\\n\"*2)"
   ]
  },
  {
   "cell_type": "markdown",
   "id": "e426ee66-491e-4d99-833a-6e3f3eee2817",
   "metadata": {},
   "source": [
    "That’s already pretty neat, but there’s still a lot of HTML! We saw earlier that our page has descriptive class names on some elements. We can pick out those child elements from each job posting with `.find()`:"
   ]
  },
  {
   "cell_type": "code",
   "execution_count": null,
   "id": "ace04388-923c-43b2-b212-c68884480c48",
   "metadata": {},
   "outputs": [],
   "source": [
    "for job_element in job_elements:\n",
    "    title_element = job_element.find(\"h2\", class_=\"title\")\n",
    "    company_element = job_element.find(\"h3\", class_=\"company\")\n",
    "    location_element = job_element.find(\"p\", class_=\"location\")\n",
    "    print(title_element)\n",
    "    print(company_element)\n",
    "    print(location_element)\n",
    "    print()"
   ]
  },
  {
   "cell_type": "markdown",
   "id": "5a30b4be-7745-4ffc-8fbe-dc0e57b12eb1",
   "metadata": {},
   "source": [
    "Each `job_element` is another `BeautifulSoup()` object. Therefore, we can use the same methods on it as we did on its parent element, results.\n",
    "\n",
    "With this code snippet, we’re getting closer and closer to the data that we’re actually interested in. Still, there’s a lot going on with all those HTML tags and attributes floating around:"
   ]
  },
  {
   "cell_type": "code",
   "execution_count": null,
   "id": "657d9e63-ec2f-4300-b840-a3fd39df3230",
   "metadata": {},
   "outputs": [],
   "source": [
    "<h2 class=\"title is-5\">Senior Python Developer</h2>\n",
    "<h3 class=\"subtitle is-6 company\">Payne, Roberts and Davis</h3>\n",
    "<p class=\"location\">Stewartbury, AA</p>"
   ]
  },
  {
   "cell_type": "markdown",
   "id": "26df0e14-a2c2-406a-a2be-e5b5dba53bc3",
   "metadata": {},
   "source": [
    "**Extract Text From HTML Elements**  \n",
    "We only want to see the title, company, and location of each job posting. And behold! *Beautiful Soup* has got us covered. We can add `.text` to a *Beautiful Soup* object to return only the text content of the HTML elements that the object contains:"
   ]
  },
  {
   "cell_type": "code",
   "execution_count": null,
   "id": "f2d24feb-189b-4861-85ad-7015e14fe66f",
   "metadata": {},
   "outputs": [],
   "source": [
    "for job_element in job_elements: \n",
    "    title_element = job_element.find(\"h2\", class_=\"title\")\n",
    "    company_element = job_element.find(\"h3\", class_=\"company\")\n",
    "    location_element = job_element.find(\"p\", class_=\"location\")\n",
    "    print(title_element.text.strip())\n",
    "    print(company_element.text.strip())\n",
    "    print(location_element.text.strip())\n",
    "    print()"
   ]
  },
  {
   "cell_type": "markdown",
   "id": "954545c0-b974-403b-9b4e-f4099934cb2d",
   "metadata": {},
   "source": [
    "**Find Elements by Class Name and Text Content**  \n",
    "Not all of the job listings are developer jobs. Instead of printing out all the jobs listed on the website, we’ll first filter them using keywords. Let's suppose that we want to filter out jobs based on whether they are \"Python\" jobs.\n",
    "\n",
    "We know that job titles in the page are kept within `<h2>` elements. To filter for only specific jobs, we can use the string argument:"
   ]
  },
  {
   "cell_type": "code",
   "execution_count": 37,
   "id": "f789b84f-5a70-4e7c-aa24-526326a691f8",
   "metadata": {},
   "outputs": [
    {
     "data": {
      "text/plain": [
       "[]"
      ]
     },
     "execution_count": 37,
     "metadata": {},
     "output_type": "execute_result"
    }
   ],
   "source": [
    "python_jobs = results.find_all(\"h2\", string=\"Python\")\n",
    "python_jobs"
   ]
  },
  {
   "cell_type": "markdown",
   "id": "dca30fad-cded-455e-9c7c-e6027ee20f54",
   "metadata": {},
   "source": [
    "There was a Python job in the search results, so why is it not showing up?\n",
    "\n",
    "When we use `string=` as we did above, our program looks for that string exactly. Any differences in the spelling, capitalization, or whitespace will prevent the element from matching. \n",
    "\n",
    "Let's find a way to make our search string more general."
   ]
  },
  {
   "cell_type": "code",
   "execution_count": 39,
   "id": "8d10f183-feed-4239-9188-e7be404ade3a",
   "metadata": {},
   "outputs": [
    {
     "data": {
      "text/plain": [
       "[<h2 class=\"title is-5\">Senior Python Developer</h2>,\n",
       " <h2 class=\"title is-5\">Software Engineer (Python)</h2>,\n",
       " <h2 class=\"title is-5\">Python Programmer (Entry-Level)</h2>,\n",
       " <h2 class=\"title is-5\">Python Programmer (Entry-Level)</h2>,\n",
       " <h2 class=\"title is-5\">Software Developer (Python)</h2>,\n",
       " <h2 class=\"title is-5\">Python Developer</h2>,\n",
       " <h2 class=\"title is-5\">Back-End Web Developer (Python, Django)</h2>,\n",
       " <h2 class=\"title is-5\">Back-End Web Developer (Python, Django)</h2>,\n",
       " <h2 class=\"title is-5\">Python Programmer (Entry-Level)</h2>,\n",
       " <h2 class=\"title is-5\">Software Developer (Python)</h2>]"
      ]
     },
     "execution_count": 39,
     "metadata": {},
     "output_type": "execute_result"
    }
   ],
   "source": [
    "python_jobs = results.find_all(\n",
    "    \"h2\", string=lambda text: \"python\" in text.lower()\n",
    ")\n",
    "python_jobs"
   ]
  },
  {
   "cell_type": "code",
   "execution_count": 40,
   "id": "2cffdbc6-bc5d-422d-be1f-037a95527f66",
   "metadata": {},
   "outputs": [
    {
     "data": {
      "text/plain": [
       "'Senior Python Developer'"
      ]
     },
     "execution_count": 40,
     "metadata": {},
     "output_type": "execute_result"
    }
   ],
   "source": [
    "python_jobs[0].text.strip()"
   ]
  },
  {
   "cell_type": "markdown",
   "id": "a45b7dbf-231d-4b3c-9b18-f35ff0b8f4dc",
   "metadata": {},
   "source": [
    "Now we’re passing an **anonymous function** to the `string=` argument. The **lambda function** looks at the text of each `<h2>` elements, converts it to lowercase, and checks whether the substring \"python\" is found anywhere. "
   ]
  },
  {
   "cell_type": "code",
   "execution_count": 41,
   "id": "be6b8048-5fca-495c-97bf-86c018995807",
   "metadata": {},
   "outputs": [
    {
     "name": "stdout",
     "output_type": "stream",
     "text": [
      "Senior Python Developer\n",
      "Software Engineer (Python)\n",
      "Python Programmer (Entry-Level)\n",
      "Python Programmer (Entry-Level)\n",
      "Software Developer (Python)\n",
      "Python Developer\n",
      "Back-End Web Developer (Python, Django)\n",
      "Back-End Web Developer (Python, Django)\n",
      "Python Programmer (Entry-Level)\n",
      "Software Developer (Python)\n"
     ]
    }
   ],
   "source": [
    "python_jobs = results.find_all(\n",
    "    \"h2\", string=lambda text: \"python\" in text.lower()\n",
    ")\n",
    "\n",
    "for job_element in python_jobs:\n",
    "    print(job_element.text.strip())"
   ]
  },
  {
   "cell_type": "markdown",
   "id": "1e162270-3caf-4c23-a934-e798d41dea28",
   "metadata": {},
   "source": [
    "**Accessing Parent Elements**"
   ]
  },
  {
   "attachments": {
    "57f53c99-3d47-4fdc-afd1-85be89430438.JPG": {
     "image/jpeg": "[encoded data removed]"
    }
   },
   "cell_type": "markdown",
   "id": "16e17c53-8b70-4833-ba3e-98d6dbc645f4",
   "metadata": {},
   "source": [
    "![HTML Structure Example.JPG](attachment:57f53c99-3d47-4fdc-afd1-85be89430438.JPG)"
   ]
  },
  {
   "cell_type": "markdown",
   "id": "3dfa2d77-f4dd-4226-97dd-9e81db39233c",
   "metadata": {},
   "source": [
    "The `<div>` element with the card-content class contains all the information we want. It’s a third-level parent of the `<h2>` title element that we found using our filter.\n",
    "\n",
    "With this information in mind, we can now use the elements in `python_jobs` and fetch their **great-grandparent elements** instead to get access to all the information we want:"
   ]
  },
  {
   "cell_type": "code",
   "execution_count": 44,
   "id": "31756844-8fb2-49bc-84e3-4a29e7bbafa3",
   "metadata": {},
   "outputs": [],
   "source": [
    "python_jobs = results.find_all(\n",
    "    \"h2\", string=lambda text: \"python\" in text.lower()\n",
    ")\n",
    "\n",
    "python_job_elements = [ h2_element.parent.parent.parent for h2_element in python_jobs ]"
   ]
  },
  {
   "cell_type": "markdown",
   "id": "c5f41bad-4d2b-479b-ac2a-be29a1460729",
   "metadata": {},
   "source": [
    "We added a list comprehension that operates on each of the `<h2>` title elements in `python_jobs` that you got by filtering with the lambda expression. We’re selecting the parent element of the parent element of the parent element of each `<h2>` title element. That’s three generations up!\n",
    "\n",
    "When we were looking at the HTML of a single job posting, we identified that this specific parent element with the class name card-content contains all the information we need. Now we can adapt the code in your for loop to iterate over the parent elements instead:"
   ]
  },
  {
   "cell_type": "code",
   "execution_count": 82,
   "id": "7c362dec-054e-4093-b607-07db328af34b",
   "metadata": {},
   "outputs": [
    {
     "name": "stdout",
     "output_type": "stream",
     "text": [
      "Senior Python Developer\n",
      "Payne, Roberts and Davis\n",
      "Stewartbury, AA\n",
      "\n",
      "Software Engineer (Python)\n",
      "Garcia PLC\n",
      "Ericberg, AE\n",
      "\n",
      "Python Programmer (Entry-Level)\n",
      "Moss, Duncan and Allen\n",
      "Port Sara, AE\n",
      "\n",
      "Python Programmer (Entry-Level)\n",
      "Cooper and Sons\n",
      "West Victor, AE\n",
      "\n",
      "Software Developer (Python)\n",
      "Adams-Brewer\n",
      "Brockburgh, AE\n",
      "\n",
      "Python Developer\n",
      "Rivera and Sons\n",
      "East Michaelfort, AA\n",
      "\n",
      "Back-End Web Developer (Python, Django)\n",
      "Stewart-Alexander\n",
      "South Kimberly, AA\n",
      "\n",
      "Back-End Web Developer (Python, Django)\n",
      "Jackson, Ali and Mckee\n",
      "New Elizabethside, AA\n",
      "\n",
      "Python Programmer (Entry-Level)\n",
      "Mathews Inc\n",
      "Robertborough, AP\n",
      "\n",
      "Software Developer (Python)\n",
      "Moreno-Rodriguez\n",
      "Martinezburgh, AE\n",
      "\n"
     ]
    }
   ],
   "source": [
    "# this time, we loop through the <div class=\"card-content\"> elements instead of just the <h2> title elements\n",
    "for job_element in python_job_elements:\n",
    "    title_element = job_element.find(\"h2\", class_=\"title\")\n",
    "    company_element = job_element.find(\"h3\", class_=\"company\")\n",
    "    location_element = job_element.find(\"p\", class_=\"location\")\n",
    "    print(title_element.text.strip())\n",
    "    print(company_element.text.strip())\n",
    "    print(location_element.text.strip())\n",
    "    print()"
   ]
  },
  {
   "cell_type": "markdown",
   "id": "aa8081a6-5e55-43ee-9326-51a71ff17a08",
   "metadata": {},
   "source": [
    "<div class=\"alert alert-block alert-info\">\n",
    "<b>Tip:</b> Using the `.parent` attribute that each Beautiful Soup object comes with gives you an intuitive way of stepping through your DOM structure and addressing the elements you need. You can also access child elements and sibling elements in a similar manner. Read up on navigating the tree for more information. </div>\n"
   ]
  },
  {
   "cell_type": "markdown",
   "id": "7e301acf",
   "metadata": {},
   "source": [
    "**Extract links for job applications you are interested in!**  \n",
    "The URL of a link element is associated with the `href` attribute. The specific URL that you’re looking for is the value of the `href` attribute of the second `<a>` tag at the bottom of the HTML text."
   ]
  },
  {
   "cell_type": "code",
   "execution_count": null,
   "id": "012c0adc-3aaf-4350-8009-47b2113b0a57",
   "metadata": {},
   "outputs": [],
   "source": [
    "<!-- snip -->\n",
    "    <footer class=\"card-footer\">\n",
    "        <a href=\"https://www.realpython.com\" target=\"_blank\"\n",
    "           class=\"card-footer-item\">Learn</a>\n",
    "        <a href=\"https://realpython.github.io/fake-jobs/jobs/senior-python-developer-0.html\"\n",
    "           target=\"_blank\"\n",
    "           class=\"card-footer-item\">Apply</a>\n",
    "    </footer>\n",
    "  </div>\n",
    "</div>"
   ]
  },
  {
   "cell_type": "markdown",
   "id": "49fd4ca7-fe3b-4275-9d16-61c9100f45c3",
   "metadata": {},
   "source": [
    "In this code snippet, you first fetched all links from each of the filtered job postings. Then you extracted the `href` attribute, which contains the URL, using `[\"href\"]` and printed it to your console."
   ]
  },
  {
   "cell_type": "code",
   "execution_count": 89,
   "id": "12d59c0d-e65d-4779-8d2f-689843e9f1be",
   "metadata": {},
   "outputs": [
    {
     "name": "stdout",
     "output_type": "stream",
     "text": [
      "Apply here: https://www.realpython.com\n",
      "\n",
      "Apply here: https://realpython.github.io/fake-jobs/jobs/senior-python-developer-0.html\n",
      "\n",
      "Apply here: https://www.realpython.com\n",
      "\n",
      "Apply here: https://realpython.github.io/fake-jobs/jobs/software-engineer-python-10.html\n",
      "\n",
      "Apply here: https://www.realpython.com\n",
      "\n",
      "Apply here: https://realpython.github.io/fake-jobs/jobs/python-programmer-entry-level-20.html\n",
      "\n",
      "Apply here: https://www.realpython.com\n",
      "\n",
      "Apply here: https://realpython.github.io/fake-jobs/jobs/python-programmer-entry-level-30.html\n",
      "\n",
      "Apply here: https://www.realpython.com\n",
      "\n",
      "Apply here: https://realpython.github.io/fake-jobs/jobs/software-developer-python-40.html\n",
      "\n",
      "Apply here: https://www.realpython.com\n",
      "\n",
      "Apply here: https://realpython.github.io/fake-jobs/jobs/python-developer-50.html\n",
      "\n",
      "Apply here: https://www.realpython.com\n",
      "\n",
      "Apply here: https://realpython.github.io/fake-jobs/jobs/back-end-web-developer-python-django-60.html\n",
      "\n",
      "Apply here: https://www.realpython.com\n",
      "\n",
      "Apply here: https://realpython.github.io/fake-jobs/jobs/back-end-web-developer-python-django-70.html\n",
      "\n",
      "Apply here: https://www.realpython.com\n",
      "\n",
      "Apply here: https://realpython.github.io/fake-jobs/jobs/python-programmer-entry-level-80.html\n",
      "\n",
      "Apply here: https://www.realpython.com\n",
      "\n",
      "Apply here: https://realpython.github.io/fake-jobs/jobs/software-developer-python-90.html\n",
      "\n"
     ]
    }
   ],
   "source": [
    "for job_element in python_job_elements:\n",
    "    # -- snip --\n",
    "    links = job_element.find_all(\"a\")\n",
    "    for link in links:\n",
    "        link_url = link[\"href\"]\n",
    "        print(f\"Apply here: {link_url}\\n\")"
   ]
  },
  {
   "cell_type": "markdown",
   "id": "204d16b3-723d-4045-bf69-1ea7ebcf2a18",
   "metadata": {},
   "source": [
    "## 4. Challenges and limitations with web scraping <a class=\"anchor\" id=\"bullet4\"></a>"
   ]
  },
  {
   "cell_type": "markdown",
   "id": "42583c55-0f71-497c-a787-ba59bd2a2805",
   "metadata": {},
   "source": [
    "Web scraping can be an incredibly useful tool for gathering data from websites, but it can also present some significant challenges. Here are some of the biggest problems that you might encounter when web scraping:\n",
    "\n",
    "1. **Website structure changes**: Websites are constantly changing, which means that the structure of the website you are scraping may change as well. This can cause problems with your scraper, as it may no longer be able to find the data it needs. To overcome this, you will need to continuously monitor the website and adjust your scraper accordingly.\n",
    "\n",
    "2. **Captchas and other anti-scraping measures**: Many websites have implemented measures to prevent web scrapings, such as captchas and IP blocking. This can make it difficult or impossible to scrape the website without being detected. To avoid this, you may need to use a proxy server or rotate IP addresses to avoid being blocked.\n",
    "\n",
    "3. **Large datasets**: When scraping large datasets, you may run into issues with memory and processing power. This can slow down your scraper or cause it to crash. To mitigate this, you may need to break up your scraping into smaller chunks or use a distributed scraping system.\n",
    "\n",
    "4. **Data quality**: The data you scrape may not always be accurate or complete. This can be due to errors in the website or issues with your scraper. To ensure that you are getting high-quality data, you will need to perform data cleaning and validation.\n",
    "\n",
    "5. **Legal issues**: Web scraping may be illegal or violate the terms of service of the website you are scraping. This can lead to legal action against you or your organization. To avoid legal issues, it is important to research the legality of web scraping in your jurisdiction and obtain permission from the website owner if necessary.\n",
    "\n",
    "Overall, web scraping can be a powerful tool for gathering data, but it requires careful planning and execution to overcome the challenges that come with it. By addressing these issues head-on, you can ensure that your web scraping efforts are successful and produce high-quality data."
   ]
  },
  {
   "cell_type": "code",
   "execution_count": null,
   "id": "a630a796-8c5b-44ab-97be-b8ee8c48efc3",
   "metadata": {},
   "outputs": [],
   "source": []
  }
 ],
 "metadata": {
  "kernelspec": {
   "display_name": "Python 3 (ipykernel)",
   "language": "python",
   "name": "python3"
  },
  "language_info": {
   "codemirror_mode": {
    "name": "ipython",
    "version": 3
   },
   "file_extension": ".py",
   "mimetype": "text/x-python",
   "name": "python",
   "nbconvert_exporter": "python",
   "pygments_lexer": "ipython3",
   "version": "3.9.13"
  }
 },
 "nbformat": 4,
 "nbformat_minor": 5
}
