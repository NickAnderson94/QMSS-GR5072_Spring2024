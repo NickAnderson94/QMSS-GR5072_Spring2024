{
 "cells": [
  {
   "cell_type": "markdown",
   "id": "c4e0cb90",
   "metadata": {},
   "source": [
    "# Week 6"
   ]
  },
  {
   "cell_type": "markdown",
   "id": "949c9440",
   "metadata": {},
   "source": [
    "### Table of Contents"
   ]
  },
  {
   "cell_type": "markdown",
   "id": "01ecb915",
   "metadata": {},
   "source": [
    "0. [Tips for iteration](#bullet0)\n",
    "1. [Control statements: Repetition](#bullet1)  \n",
    "2. [Practice](#bullet2)  \n",
    "3. [Nested for loops](#bullet3)  \n",
    "4. [break and continue statements](#bullet4)\n",
    "5. [List comprehensions](#bullet5)\n",
    "6. [Lambda functions](#bullet6)\n",
    "7. [Generator expressions](#bullet7)\n",
    "8. [Pandas apply with lambda functions](#bullet8)\n",
    "9. [While loops](#bullet9)\n",
    "10. [Passing functions as arguments](#bullet10)\n",
    "11. [Handling Exceptions](#bullet11)\n",
    "12. [Function docstrings](#bullet12)"
   ]
  },
  {
   "cell_type": "code",
   "execution_count": 1,
   "id": "7274bf60",
   "metadata": {},
   "outputs": [],
   "source": [
    "## importing necessary libraries\n",
    "import numpy as np\n",
    "import pandas as pd \n",
    "import seaborn as sns"
   ]
  },
  {
   "cell_type": "markdown",
   "id": "cda21824-2082-4b78-9266-025063d9755b",
   "metadata": {},
   "source": [
    "## 0. Tips for iteration <a class=\"anchor\" id=\"bullet0\"></a>"
   ]
  },
  {
   "cell_type": "markdown",
   "id": "0594dd1e-0a60-47d2-8f9b-0ce5b7e1bcaf",
   "metadata": {},
   "source": [
    "**Iterables in Python**  \n",
    "Today we will encounter for-loops, wher the term iterable becomes important to understand. Iterables refer to an object that can be “iterated over”, such as in a for-loop. An **iterable** is any Python object capable of returning its members one at a time, permitting it to be iterated over in a for-loop.\n",
    "\n",
    "Familiar examples of iterables include lists, tuples, and strings - any such sequence can be iterated over in a for-loop. We will also encounter important non-sequential collections, like dictionaries and sets; these are iterables as well. It is also possible to have an iterable that “generates” each one of its members upon iteration - meaning that it doesn’t ever store all of its members in memory at once. We dedicate an entire section to generators, a special type of iterator, because they are so useful for writing efficient code.\n",
    "\n",
    "Here are some useful built-in functions that accept iterables as arguments:  \n",
    "- `list`, `tuple`, `dict`, `set`: construct a list, tuple, dictionary, or set, respectively, from the contents of an iterable\n",
    "- `sum`: sum the contents of an iterable.\n",
    "- `sorted`: return a list of the sorted contents of an interable\n",
    "- `any`: returns True and ends the iteration immediately if bool(item) was True for any item in the iterable.\n",
    "- `all`: returns True only if bool(item) was True for all items in the iterable.\n",
    "- `max`: return the largest value in an iterable.\n",
    "- `min`: return the smallest value in an iterable."
   ]
  },
  {
   "cell_type": "markdown",
   "id": "e6136fe2-9cbd-4bcc-9945-e0eae0f640b4",
   "metadata": {},
   "source": [
    "Python provides some syntactic “tricks” for working with iterables: “unpacking” iterables and “enumerating” iterables. Although these may seem like inconsequential niceties at first glance, they deserve our attention because they will help us write clean, readable code. Writing clean, readable code leads to bug-free algorithms that are easy to understand. Furthermore, these tricks will also facilitate the use of other great Python features, like comprehension-statements, which will be introduced in the coming sections.\n",
    "\n",
    "Python provides an extremely useful functionality, known as **iterable unpacking**, which allows us to write the simple, elegant code:"
   ]
  },
  {
   "cell_type": "code",
   "execution_count": 67,
   "id": "543715bf-e2e0-4ebe-91bb-3b2ea40f7f6a",
   "metadata": {},
   "outputs": [
    {
     "name": "stdout",
     "output_type": "stream",
     "text": [
      "7 9 11\n"
     ]
    }
   ],
   "source": [
    "# assigning contents of a list to variables using iterable unpacking\n",
    "my_list = [7, 9, 11]\n",
    "x, y, z = my_list\n",
    "print(x, y, z)\n"
   ]
  },
  {
   "cell_type": "markdown",
   "id": "34ca9c25-45d0-4d3c-b373-d02a2d9197a9",
   "metadata": {},
   "source": [
    "**Iterating through dictionaries**  \n",
    "When you’re working with dictionaries, iterating over both the keys and values at the same time may be a common requirement. The `.items()` method allows you to do exactly that. The method returns a view object containing the dictionary’s items as key-value tuples"
   ]
  },
  {
   "cell_type": "code",
   "execution_count": 57,
   "id": "d6a17f27-ade8-4612-9177-9dd31ff764fb",
   "metadata": {},
   "outputs": [
    {
     "data": {
      "text/plain": [
       "dict_items([('color', 'blue'), ('fruit', 'apple'), ('pet', 'dog')])"
      ]
     },
     "execution_count": 57,
     "metadata": {},
     "output_type": "execute_result"
    }
   ],
   "source": [
    "likes = {\"color\": \"blue\", \"fruit\": \"apple\", \"pet\": \"dog\"}\n",
    "likes.items()  # returns an iterable list, where each element is a tuple of key-value pairs"
   ]
  },
  {
   "cell_type": "code",
   "execution_count": 58,
   "id": "d1c4b68d-2db3-4263-aa87-e004ac57f1ba",
   "metadata": {},
   "outputs": [
    {
     "name": "stdout",
     "output_type": "stream",
     "text": [
      "('color', 'blue')\n",
      "('fruit', 'apple')\n",
      "('pet', 'dog')\n"
     ]
    }
   ],
   "source": [
    "for item in likes.items():\n",
    "    print(item)"
   ]
  },
  {
   "cell_type": "markdown",
   "id": "314e342b-8fa3-48d3-91cd-c0a9c890cf00",
   "metadata": {},
   "source": [
    "To achieve parallel iteration through keys and values, you just need to unpack the elements of every item into two different variables, one for the key and another for the value:"
   ]
  },
  {
   "cell_type": "code",
   "execution_count": 59,
   "id": "fe40823a-e42d-4b39-a591-a926520dd72d",
   "metadata": {},
   "outputs": [
    {
     "name": "stdout",
     "output_type": "stream",
     "text": [
      "color -> blue\n",
      "fruit -> apple\n",
      "pet -> dog\n"
     ]
    }
   ],
   "source": [
    "for key, value in likes.items():\n",
    "    print(key, \"->\", value)"
   ]
  },
  {
   "cell_type": "markdown",
   "id": "04ac1fe0-80e4-46ca-bd44-ed7cae72c4d7",
   "metadata": {},
   "source": [
    "Use the `.keys()` and `.values()` methods to iterate through either of these. Note the `.keys` or .`.values` attributes do not return an iterable object!"
   ]
  },
  {
   "cell_type": "code",
   "execution_count": 60,
   "id": "8b04f75e-a638-483d-8fb4-de2fcf868b3f",
   "metadata": {},
   "outputs": [
    {
     "data": {
      "text/plain": [
       "dict_keys(['color', 'fruit', 'pet'])"
      ]
     },
     "execution_count": 60,
     "metadata": {},
     "output_type": "execute_result"
    }
   ],
   "source": [
    "likes.keys()"
   ]
  },
  {
   "cell_type": "code",
   "execution_count": 61,
   "id": "c982fb5c-bf63-494a-9cf9-134449b5ca7b",
   "metadata": {},
   "outputs": [
    {
     "name": "stdout",
     "output_type": "stream",
     "text": [
      "color\n",
      "fruit\n",
      "pet\n"
     ]
    }
   ],
   "source": [
    "for key in likes.keys():\n",
    "    print(key)"
   ]
  },
  {
   "cell_type": "code",
   "execution_count": 62,
   "id": "fc040d63-4665-4400-94db-33fc16d71038",
   "metadata": {},
   "outputs": [
    {
     "data": {
      "text/plain": [
       "dict_values(['blue', 'apple', 'dog'])"
      ]
     },
     "execution_count": 62,
     "metadata": {},
     "output_type": "execute_result"
    }
   ],
   "source": [
    "likes.values()"
   ]
  },
  {
   "cell_type": "code",
   "execution_count": 63,
   "id": "62c70303-f07d-4b10-9cec-60d46cb5e04e",
   "metadata": {},
   "outputs": [
    {
     "name": "stdout",
     "output_type": "stream",
     "text": [
      "blue\n",
      "apple\n",
      "dog\n"
     ]
    }
   ],
   "source": [
    "for val in likes.values():\n",
    "    print(val)"
   ]
  },
  {
   "cell_type": "code",
   "execution_count": 66,
   "id": "d7a09164-e01d-4b2f-a806-f8c3a125fbd5",
   "metadata": {},
   "outputs": [
    {
     "name": "stdout",
     "output_type": "stream",
     "text": [
      "<built-in method keys of dict object at 0x00000212634C8740>\n"
     ]
    },
    {
     "ename": "TypeError",
     "evalue": "'builtin_function_or_method' object is not iterable",
     "output_type": "error",
     "traceback": [
      "\u001b[1;31m---------------------------------------------------------------------------\u001b[0m",
      "\u001b[1;31mTypeError\u001b[0m                                 Traceback (most recent call last)",
      "\u001b[1;32m~\\AppData\\Local\\Temp\\ipykernel_17380\\1540036061.py\u001b[0m in \u001b[0;36m<module>\u001b[1;34m\u001b[0m\n\u001b[0;32m      1\u001b[0m \u001b[0mprint\u001b[0m\u001b[1;33m(\u001b[0m\u001b[0mlikes\u001b[0m\u001b[1;33m.\u001b[0m\u001b[0mkeys\u001b[0m\u001b[1;33m)\u001b[0m\u001b[1;33m\u001b[0m\u001b[1;33m\u001b[0m\u001b[0m\n\u001b[1;32m----> 2\u001b[1;33m \u001b[1;32mfor\u001b[0m \u001b[0mkey\u001b[0m \u001b[1;32min\u001b[0m \u001b[0mlikes\u001b[0m\u001b[1;33m.\u001b[0m\u001b[0mkeys\u001b[0m\u001b[1;33m:\u001b[0m\u001b[1;33m\u001b[0m\u001b[1;33m\u001b[0m\u001b[0m\n\u001b[0m\u001b[0;32m      3\u001b[0m     \u001b[0mprint\u001b[0m\u001b[1;33m(\u001b[0m\u001b[0mkey\u001b[0m\u001b[1;33m,\u001b[0m \u001b[1;34m\"->\"\u001b[0m\u001b[1;33m,\u001b[0m \u001b[0mlikes\u001b[0m\u001b[1;33m[\u001b[0m\u001b[0mkey\u001b[0m\u001b[1;33m]\u001b[0m\u001b[1;33m)\u001b[0m\u001b[1;33m\u001b[0m\u001b[1;33m\u001b[0m\u001b[0m\n",
      "\u001b[1;31mTypeError\u001b[0m: 'builtin_function_or_method' object is not iterable"
     ]
    }
   ],
   "source": [
    "print(likes.keys)\n",
    "for key in likes.keys:\n",
    "    print(key, \"->\", likes[key])"
   ]
  },
  {
   "cell_type": "markdown",
   "id": "85a85b35-4502-4244-9c91-5cca7b850b90",
   "metadata": {},
   "source": [
    "##### The enumerate() function\n",
    "The `enumerate()` function is a good way for accessing an element's index *and* value. This built-in function works by receiving an iterable and creating an iterator that, for each element, returns a tuple containing the element's index and value."
   ]
  },
  {
   "cell_type": "code",
   "execution_count": 8,
   "id": "d35018da-da30-4deb-bf04-637eb45a3fc3",
   "metadata": {},
   "outputs": [
    {
     "name": "stdout",
     "output_type": "stream",
     "text": [
      "<class 'enumerate'>\n"
     ]
    },
    {
     "data": {
      "text/plain": [
       "[(0, 'red'), (1, 'orange'), (2, 'blue')]"
      ]
     },
     "execution_count": 8,
     "metadata": {},
     "output_type": "execute_result"
    }
   ],
   "source": [
    "colors = [\"red\", \"orange\", \"blue\"] \n",
    "print(type(enumerate(colors)))  # the enumerate class is itslef an iterable object\n",
    "list(enumerate(colors))         # adds int index starting at 1 since no index was specified "
   ]
  },
  {
   "cell_type": "code",
   "execution_count": 9,
   "id": "c27858e4-5b31-48e1-ae85-42911c591ffb",
   "metadata": {},
   "outputs": [
    {
     "name": "stdout",
     "output_type": "stream",
     "text": [
      "0: red\n",
      "1: orange\n",
      "2: blue\n"
     ]
    }
   ],
   "source": [
    "# enumerate() is particularly useful in for loops, since we can use tuple unpacking to access the index and value\n",
    "for index, value in enumerate(colors):\n",
    "    print(f'{index}: {value}')"
   ]
  },
  {
   "cell_type": "markdown",
   "id": "8159f919-456d-4ee3-98de-750562c7b314",
   "metadata": {},
   "source": [
    "##### The zip() function\n",
    "The `zip()` function allows you to iterate over multiple iterables of data *at the same time*!. Let's look at how it works."
   ]
  },
  {
   "cell_type": "code",
   "execution_count": 69,
   "id": "a2647af4-fe7d-49dc-9929-5e5db60b5262",
   "metadata": {},
   "outputs": [
    {
     "name": "stdout",
     "output_type": "stream",
     "text": [
      "Name=Bob, GPA=3.5\n",
      "Name=Sue, GPA=4.0\n",
      "Name=Amanda, GPA=3.75\n"
     ]
    }
   ],
   "source": [
    "names = ['Bob', 'Sue', 'Amanda']\n",
    "gpas   = [3.5, 4.0, 3.75]\n",
    "for name, gpa in zip(names, gpas):\n",
    "    print(f'Name={name}, GPA={gpa}')"
   ]
  },
  {
   "cell_type": "markdown",
   "id": "289386eb",
   "metadata": {},
   "source": [
    "## 1. Control statements: Repetition <a class=\"anchor\" id=\"bullet1\"></a>"
   ]
  },
  {
   "cell_type": "markdown",
   "id": "4b28a19f-4e80-4060-b901-cd07d7a682d8",
   "metadata": {},
   "source": [
    "Last week we were introduced to the idea of **control statements**. Recall that Python typically follows **sequential exectuion**, but we as programmers can **transfer control** of the **execution sequence** by using Python's control statements.\n",
    "\n",
    "Specifically, we learned about if...elif() statements, which are formally called **selection statements**, since they determine whether to execute a snippet (or selection) of code based on some set of logical check(s).\n",
    "\n",
    "This week, we will learn about **repetion statements**. I.E.- Repeating the same operation on different columns or on different datasets. **for loops** and **while loops** are the two kinds of repetition statements available in Python.\n",
    "\n",
    "Why would we want to repeat a set of operations? There are many many reasons why this could be neccessary, but let's look at an example."
   ]
  },
  {
   "cell_type": "code",
   "execution_count": 2,
   "id": "4731b782",
   "metadata": {},
   "outputs": [],
   "source": [
    "rng = np.random.default_rng(seed=3252)\n",
    "\n",
    "a = rng.standard_normal(10)\n",
    "b = rng.standard_normal(10)\n",
    "c = rng.standard_normal(10)\n",
    "d = rng.standard_normal(10)\n",
    "\n",
    "the_dict = {'a':a,'b':b,'c':c,'d':d}\n",
    "\n",
    "df = pd.DataFrame(the_dict)"
   ]
  },
  {
   "cell_type": "markdown",
   "id": "d231836b",
   "metadata": {},
   "source": [
    "We want to compute the median of each column. You could do with copy-and-paste:"
   ]
  },
  {
   "cell_type": "code",
   "execution_count": 4,
   "id": "1611ca12",
   "metadata": {},
   "outputs": [
    {
     "name": "stdout",
     "output_type": "stream",
     "text": [
      "-0.7109216792484936\n",
      "-0.1607751802165395\n",
      "-0.7835127395579766\n",
      "0.43195930703839136\n"
     ]
    }
   ],
   "source": [
    "print(np.median(df['a']))\n",
    "print(np.median(df['b']))\n",
    "print(np.median(df['c']))\n",
    "print(np.median(df['d']))"
   ]
  },
  {
   "cell_type": "markdown",
   "id": "3a098854",
   "metadata": {},
   "source": [
    "But we want to limit repetition as much as possible to write good code. "
   ]
  },
  {
   "cell_type": "markdown",
   "id": "fa6139d8",
   "metadata": {},
   "source": [
    "Remember the __DRY PRINCIPLE: DO NOT REPEAT YOURSELF__. for loops help uphold this principal and are a good choice when you have to apply the same set of actions to some iterable object."
   ]
  },
  {
   "cell_type": "code",
   "execution_count": 22,
   "id": "9590c0cb",
   "metadata": {},
   "outputs": [
    {
     "data": {
      "text/plain": [
       "[-0.71, -0.16, -0.78, 0.43]"
      ]
     },
     "execution_count": 22,
     "metadata": {},
     "output_type": "execute_result"
    }
   ],
   "source": [
    "### iteration using a for loop\n",
    "output = []\n",
    "for i in df.columns:\n",
    "    output.append(round(np.median(df[i]),2))\n",
    "output"
   ]
  },
  {
   "cell_type": "markdown",
   "id": "51cba1c8-0849-41df-b27c-1dca97f2d863",
   "metadata": {},
   "source": [
    "for loops are an essential method for repeating an action or several actions sveral times, usually iterating through some items in a sequence. __Every for loop has three components:__\n",
    "\n",
    "1) __Output:__ You must always allocate sufficient space for the output\n",
    "* Needs to be same structure as final output of your code\n",
    "* Typically we will create and empty list (or tuple) to store the for loop output\n",
    "\n",
    "2) __The sequence:__ for i in df.columns (or more generally, for index in interable). This determines what to loop over: \n",
    "* Each run of the for loop will assign i to a different value from \n",
    "* seq_along(df)\n",
    "\n",
    "3) __The body:__ output.append(round(np.median(df[i]),2)). This is the code that does the work. \n",
    "* It's run repeatedly, each time with a different iterable object i, which in this case is another column of the df DataFrame. \n",
    "* The first iteration will run output.append(round(np.median(df[1]),2)), the second will run output.append(round(np.median(df[2]),2)), and so on"
   ]
  },
  {
   "cell_type": "markdown",
   "id": "edde86ba",
   "metadata": {},
   "source": [
    "We can also use for loops to modify an existing object, instead of creating a new object."
   ]
  },
  {
   "cell_type": "code",
   "execution_count": 72,
   "id": "bf4e1a66-8f0e-4e2e-9dd5-3f06e9c92808",
   "metadata": {},
   "outputs": [],
   "source": [
    "def rescale01(col):\n",
    "    return (col - min(col)) / (max(col)-min(col))"
   ]
  },
  {
   "cell_type": "code",
   "execution_count": 73,
   "id": "c358fb67-2ef1-4910-b9e5-e2e55cbd9ec1",
   "metadata": {},
   "outputs": [
    {
     "data": {
      "text/html": [
       "<div>\n",
       "<style scoped>\n",
       "    .dataframe tbody tr th:only-of-type {\n",
       "        vertical-align: middle;\n",
       "    }\n",
       "\n",
       "    .dataframe tbody tr th {\n",
       "        vertical-align: top;\n",
       "    }\n",
       "\n",
       "    .dataframe thead th {\n",
       "        text-align: right;\n",
       "    }\n",
       "</style>\n",
       "<table border=\"1\" class=\"dataframe\">\n",
       "  <thead>\n",
       "    <tr style=\"text-align: right;\">\n",
       "      <th></th>\n",
       "      <th>a</th>\n",
       "      <th>b</th>\n",
       "      <th>c</th>\n",
       "      <th>d</th>\n",
       "    </tr>\n",
       "  </thead>\n",
       "  <tbody>\n",
       "    <tr>\n",
       "      <th>0</th>\n",
       "      <td>0.378160</td>\n",
       "      <td>0.697880</td>\n",
       "      <td>0.724405</td>\n",
       "      <td>0.799334</td>\n",
       "    </tr>\n",
       "    <tr>\n",
       "      <th>1</th>\n",
       "      <td>1.000000</td>\n",
       "      <td>0.625172</td>\n",
       "      <td>0.104182</td>\n",
       "      <td>1.000000</td>\n",
       "    </tr>\n",
       "    <tr>\n",
       "      <th>2</th>\n",
       "      <td>0.851415</td>\n",
       "      <td>0.000000</td>\n",
       "      <td>0.434190</td>\n",
       "      <td>0.563560</td>\n",
       "    </tr>\n",
       "    <tr>\n",
       "      <th>3</th>\n",
       "      <td>0.301918</td>\n",
       "      <td>0.475349</td>\n",
       "      <td>0.600138</td>\n",
       "      <td>0.896251</td>\n",
       "    </tr>\n",
       "    <tr>\n",
       "      <th>4</th>\n",
       "      <td>0.234498</td>\n",
       "      <td>0.899496</td>\n",
       "      <td>0.319713</td>\n",
       "      <td>0.336876</td>\n",
       "    </tr>\n",
       "    <tr>\n",
       "      <th>5</th>\n",
       "      <td>0.705006</td>\n",
       "      <td>0.820205</td>\n",
       "      <td>0.243673</td>\n",
       "      <td>0.505414</td>\n",
       "    </tr>\n",
       "    <tr>\n",
       "      <th>6</th>\n",
       "      <td>0.435961</td>\n",
       "      <td>0.442933</td>\n",
       "      <td>1.000000</td>\n",
       "      <td>0.000000</td>\n",
       "    </tr>\n",
       "    <tr>\n",
       "      <th>7</th>\n",
       "      <td>0.224704</td>\n",
       "      <td>1.000000</td>\n",
       "      <td>0.110154</td>\n",
       "      <td>0.641517</td>\n",
       "    </tr>\n",
       "    <tr>\n",
       "      <th>8</th>\n",
       "      <td>0.000000</td>\n",
       "      <td>0.515029</td>\n",
       "      <td>0.563276</td>\n",
       "      <td>0.543733</td>\n",
       "    </tr>\n",
       "    <tr>\n",
       "      <th>9</th>\n",
       "      <td>0.415501</td>\n",
       "      <td>0.529946</td>\n",
       "      <td>0.000000</td>\n",
       "      <td>0.121319</td>\n",
       "    </tr>\n",
       "  </tbody>\n",
       "</table>\n",
       "</div>"
      ],
      "text/plain": [
       "          a         b         c         d\n",
       "0  0.378160  0.697880  0.724405  0.799334\n",
       "1  1.000000  0.625172  0.104182  1.000000\n",
       "2  0.851415  0.000000  0.434190  0.563560\n",
       "3  0.301918  0.475349  0.600138  0.896251\n",
       "4  0.234498  0.899496  0.319713  0.336876\n",
       "5  0.705006  0.820205  0.243673  0.505414\n",
       "6  0.435961  0.442933  1.000000  0.000000\n",
       "7  0.224704  1.000000  0.110154  0.641517\n",
       "8  0.000000  0.515029  0.563276  0.543733\n",
       "9  0.415501  0.529946  0.000000  0.121319"
      ]
     },
     "execution_count": 73,
     "metadata": {},
     "output_type": "execute_result"
    }
   ],
   "source": [
    "# now we want to apply the rescale function to every column in df\n",
    "for i in df.columns:\n",
    "    df[i] = rescale01(df[i])  \n",
    "df"
   ]
  },
  {
   "cell_type": "markdown",
   "id": "a152babe",
   "metadata": {},
   "source": [
    "## 2. Practice with for loops <a class=\"anchor\" id=\"bullet2\"></a>"
   ]
  },
  {
   "cell_type": "markdown",
   "id": "f275a3d1",
   "metadata": {},
   "source": [
    "a) Compute the mean of every column in df."
   ]
  },
  {
   "cell_type": "code",
   "execution_count": 17,
   "id": "2df56581",
   "metadata": {},
   "outputs": [
    {
     "data": {
      "text/plain": [
       "[-0.57, -0.07, -0.67, 0.39]"
      ]
     },
     "execution_count": 17,
     "metadata": {},
     "output_type": "execute_result"
    }
   ],
   "source": []
  },
  {
   "cell_type": "markdown",
   "id": "92be9dd3",
   "metadata": {},
   "source": [
    "b) Determine the type of data each column holds."
   ]
  },
  {
   "cell_type": "code",
   "execution_count": 19,
   "id": "1b9dbd76",
   "metadata": {},
   "outputs": [
    {
     "data": {
      "text/plain": [
       "[numpy.float64, numpy.float64, numpy.float64, numpy.float64]"
      ]
     },
     "execution_count": 19,
     "metadata": {},
     "output_type": "execute_result"
    }
   ],
   "source": []
  },
  {
   "cell_type": "markdown",
   "id": "d92a00df",
   "metadata": {},
   "source": [
    "c) Compute the number of unique values in each column of iris."
   ]
  },
  {
   "cell_type": "code",
   "execution_count": 20,
   "id": "3001b5da-2c2b-4d6f-8381-9b7fa7ff3b1d",
   "metadata": {},
   "outputs": [
    {
     "data": {
      "text/html": [
       "<div>\n",
       "<style scoped>\n",
       "    .dataframe tbody tr th:only-of-type {\n",
       "        vertical-align: middle;\n",
       "    }\n",
       "\n",
       "    .dataframe tbody tr th {\n",
       "        vertical-align: top;\n",
       "    }\n",
       "\n",
       "    .dataframe thead th {\n",
       "        text-align: right;\n",
       "    }\n",
       "</style>\n",
       "<table border=\"1\" class=\"dataframe\">\n",
       "  <thead>\n",
       "    <tr style=\"text-align: right;\">\n",
       "      <th></th>\n",
       "      <th>sepal length (cm)</th>\n",
       "      <th>sepal width (cm)</th>\n",
       "      <th>petal length (cm)</th>\n",
       "      <th>petal width (cm)</th>\n",
       "    </tr>\n",
       "  </thead>\n",
       "  <tbody>\n",
       "    <tr>\n",
       "      <th>0</th>\n",
       "      <td>5.1</td>\n",
       "      <td>3.5</td>\n",
       "      <td>1.4</td>\n",
       "      <td>0.2</td>\n",
       "    </tr>\n",
       "    <tr>\n",
       "      <th>1</th>\n",
       "      <td>4.9</td>\n",
       "      <td>3.0</td>\n",
       "      <td>1.4</td>\n",
       "      <td>0.2</td>\n",
       "    </tr>\n",
       "    <tr>\n",
       "      <th>2</th>\n",
       "      <td>4.7</td>\n",
       "      <td>3.2</td>\n",
       "      <td>1.3</td>\n",
       "      <td>0.2</td>\n",
       "    </tr>\n",
       "    <tr>\n",
       "      <th>3</th>\n",
       "      <td>4.6</td>\n",
       "      <td>3.1</td>\n",
       "      <td>1.5</td>\n",
       "      <td>0.2</td>\n",
       "    </tr>\n",
       "    <tr>\n",
       "      <th>4</th>\n",
       "      <td>5.0</td>\n",
       "      <td>3.6</td>\n",
       "      <td>1.4</td>\n",
       "      <td>0.2</td>\n",
       "    </tr>\n",
       "    <tr>\n",
       "      <th>...</th>\n",
       "      <td>...</td>\n",
       "      <td>...</td>\n",
       "      <td>...</td>\n",
       "      <td>...</td>\n",
       "    </tr>\n",
       "    <tr>\n",
       "      <th>145</th>\n",
       "      <td>6.7</td>\n",
       "      <td>3.0</td>\n",
       "      <td>5.2</td>\n",
       "      <td>2.3</td>\n",
       "    </tr>\n",
       "    <tr>\n",
       "      <th>146</th>\n",
       "      <td>6.3</td>\n",
       "      <td>2.5</td>\n",
       "      <td>5.0</td>\n",
       "      <td>1.9</td>\n",
       "    </tr>\n",
       "    <tr>\n",
       "      <th>147</th>\n",
       "      <td>6.5</td>\n",
       "      <td>3.0</td>\n",
       "      <td>5.2</td>\n",
       "      <td>2.0</td>\n",
       "    </tr>\n",
       "    <tr>\n",
       "      <th>148</th>\n",
       "      <td>6.2</td>\n",
       "      <td>3.4</td>\n",
       "      <td>5.4</td>\n",
       "      <td>2.3</td>\n",
       "    </tr>\n",
       "    <tr>\n",
       "      <th>149</th>\n",
       "      <td>5.9</td>\n",
       "      <td>3.0</td>\n",
       "      <td>5.1</td>\n",
       "      <td>1.8</td>\n",
       "    </tr>\n",
       "  </tbody>\n",
       "</table>\n",
       "<p>150 rows × 4 columns</p>\n",
       "</div>"
      ],
      "text/plain": [
       "     sepal length (cm)  sepal width (cm)  petal length (cm)  petal width (cm)\n",
       "0                  5.1               3.5                1.4               0.2\n",
       "1                  4.9               3.0                1.4               0.2\n",
       "2                  4.7               3.2                1.3               0.2\n",
       "3                  4.6               3.1                1.5               0.2\n",
       "4                  5.0               3.6                1.4               0.2\n",
       "..                 ...               ...                ...               ...\n",
       "145                6.7               3.0                5.2               2.3\n",
       "146                6.3               2.5                5.0               1.9\n",
       "147                6.5               3.0                5.2               2.0\n",
       "148                6.2               3.4                5.4               2.3\n",
       "149                5.9               3.0                5.1               1.8\n",
       "\n",
       "[150 rows x 4 columns]"
      ]
     },
     "execution_count": 20,
     "metadata": {},
     "output_type": "execute_result"
    }
   ],
   "source": [
    "from sklearn import datasets # to load iris dataset\n",
    "iris0 = datasets.load_iris()\n",
    "iris = pd.DataFrame(data=iris0.data, columns=iris0.feature_names)\n",
    "iris"
   ]
  },
  {
   "cell_type": "code",
   "execution_count": 24,
   "id": "2658ef03-5f07-4fbc-9a0a-f19e47effa28",
   "metadata": {},
   "outputs": [
    {
     "name": "stdout",
     "output_type": "stream",
     "text": [
      "<class 'sklearn.utils.Bunch'>\n",
      "<class 'pandas.core.frame.DataFrame'>\n"
     ]
    }
   ],
   "source": [
    "# An aside: notice that when we use the sklearn library to load the iris dataset, the dataset is imported \n",
    "# as a sklearn.utils.Bunch object. \n",
    "# Tip: Unless you want to learn about methods, attributes, functions that work on this type of object, use a pd object !\n",
    "print(type(iris0))\n",
    "print(type(iris))"
   ]
  },
  {
   "cell_type": "code",
   "execution_count": 2,
   "id": "bb81a187-9d4e-4ad4-ad99-2bd2e9394d1c",
   "metadata": {},
   "outputs": [
    {
     "data": {
      "text/plain": [
       "[35, 23, 43, 22]"
      ]
     },
     "execution_count": 2,
     "metadata": {},
     "output_type": "execute_result"
    }
   ],
   "source": []
  },
  {
   "cell_type": "markdown",
   "id": "082bf8e7-d5d6-4229-a4de-9b1b7dc1b7f7",
   "metadata": {},
   "source": [
    "d) Write a function that prints the mean of each numeric column in the iris dataframe. This for loop will need to check whether each dtype is numeric. If it is, then you will compute and store the mean, adding it to a list object."
   ]
  },
  {
   "cell_type": "code",
   "execution_count": 38,
   "id": "b9720777-3291-4c39-a786-8ae8403af98c",
   "metadata": {},
   "outputs": [
    {
     "data": {
      "text/plain": [
       "[5.843333333333335, 3.057333333333334, 3.7580000000000027, 1.199333333333334]"
      ]
     },
     "execution_count": 38,
     "metadata": {},
     "output_type": "execute_result"
    }
   ],
   "source": []
  },
  {
   "cell_type": "markdown",
   "id": "d52a7f38",
   "metadata": {},
   "source": [
    "## 3. Nested for loops <a class=\"anchor\" id=\"bullet3\"></a>"
   ]
  },
  {
   "cell_type": "markdown",
   "id": "810e0fbb-0ba2-41d3-978e-4717a844a96c",
   "metadata": {},
   "source": [
    "Often, we will need to use **nested for loops** when you need to iterate over multiple iterables at once. Most commonly, I've used nested for loops when there are two sets of iterables you need to iterate through. For example, suppose I wanted to quickly make a list of all potential outcomes I could get from rolling two different dice."
   ]
  },
  {
   "cell_type": "code",
   "execution_count": 77,
   "id": "697e5ae9",
   "metadata": {},
   "outputs": [
    {
     "name": "stdout",
     "output_type": "stream",
     "text": [
      "['Dice 1:1, Dice 2:1', 'Dice 1:1, Dice 2:2', 'Dice 1:1, Dice 2:3', 'Dice 1:1, Dice 2:4', 'Dice 1:1, Dice 2:5', 'Dice 1:1, Dice 2:6', 'Dice 1:2, Dice 2:1', 'Dice 1:2, Dice 2:2', 'Dice 1:2, Dice 2:3', 'Dice 1:2, Dice 2:4', 'Dice 1:2, Dice 2:5', 'Dice 1:2, Dice 2:6', 'Dice 1:3, Dice 2:1', 'Dice 1:3, Dice 2:2', 'Dice 1:3, Dice 2:3', 'Dice 1:3, Dice 2:4', 'Dice 1:3, Dice 2:5', 'Dice 1:3, Dice 2:6', 'Dice 1:4, Dice 2:1', 'Dice 1:4, Dice 2:2', 'Dice 1:4, Dice 2:3', 'Dice 1:4, Dice 2:4', 'Dice 1:4, Dice 2:5', 'Dice 1:4, Dice 2:6', 'Dice 1:5, Dice 2:1', 'Dice 1:5, Dice 2:2', 'Dice 1:5, Dice 2:3', 'Dice 1:5, Dice 2:4', 'Dice 1:5, Dice 2:5', 'Dice 1:5, Dice 2:6', 'Dice 1:6, Dice 2:1', 'Dice 1:6, Dice 2:2', 'Dice 1:6, Dice 2:3', 'Dice 1:6, Dice 2:4', 'Dice 1:6, Dice 2:5', 'Dice 1:6, Dice 2:6']\n"
     ]
    }
   ],
   "source": [
    "x = [1, 2, 3, 4, 5, 6]\n",
    "y = [1, 2, 3, 4, 5, 6]\n",
    "output = []\n",
    "\n",
    "for i in x:\n",
    "  for j in y:\n",
    "    output.append(f'Die 1:{i}, Die 2:{j}')\n",
    "\n",
    "print(output)"
   ]
  },
  {
   "cell_type": "code",
   "execution_count": 78,
   "id": "5b03022c-50fc-46b2-8c0e-07f89735a69a",
   "metadata": {},
   "outputs": [
    {
     "name": "stdout",
     "output_type": "stream",
     "text": [
      "red apple\n",
      "red banana\n",
      "red cherry\n",
      "big apple\n",
      "big banana\n",
      "big cherry\n",
      "tasty apple\n",
      "tasty banana\n",
      "tasty cherry\n"
     ]
    }
   ],
   "source": [
    "# another example\n",
    "adj = [\"red\", \"big\", \"tasty\"]\n",
    "fruits = [\"apple\", \"banana\", \"cherry\"]\n",
    "\n",
    "for x in adj:\n",
    "  for y in fruits:\n",
    "    print(x, y)"
   ]
  },
  {
   "cell_type": "markdown",
   "id": "5e6de200",
   "metadata": {},
   "source": [
    "# 4. break and continue statements <a class=\"anchor\" id=\"bullet4\"></a>"
   ]
  },
  {
   "cell_type": "markdown",
   "id": "2816ae0f-163a-4afb-ae24-075bdbf002e6",
   "metadata": {},
   "source": [
    "`break` and `continue` statements alter a loop's flow of control. Executing a **break** statement in a *while* (more on this later) or *for* loop immediately exits the loop."
   ]
  },
  {
   "cell_type": "code",
   "execution_count": 39,
   "id": "41446b6c",
   "metadata": {},
   "outputs": [
    {
     "name": "stdout",
     "output_type": "stream",
     "text": [
      "0  1  2  3  4  5  6  7  8  9  "
     ]
    }
   ],
   "source": [
    "for number in range(100):\n",
    "    if number == 10:\n",
    "        break\n",
    "    print(number, end = '  ')"
   ]
  },
  {
   "cell_type": "markdown",
   "id": "eeb6261e-2d2a-4ad5-996a-79f9522cd358",
   "metadata": {},
   "source": [
    "Executing a **continue** statement while in a loopskips the remainder the loop's commands. In a for loop, the loop simply processes the next item in the sequence (if any). In a while loop, the condition is then tested to determine whether the loop should continue executing."
   ]
  },
  {
   "cell_type": "code",
   "execution_count": 42,
   "id": "942cf0b2-3110-4e72-bb70-3928452de41f",
   "metadata": {},
   "outputs": [
    {
     "name": "stdout",
     "output_type": "stream",
     "text": [
      "0  1  2  3  4  6  7  8  9  "
     ]
    }
   ],
   "source": [
    "for number in range(10):\n",
    "    if number == 5:\n",
    "        continue\n",
    "    print(number, end = '  ')  # notice the 5 is skipped !"
   ]
  },
  {
   "cell_type": "markdown",
   "id": "4d8c4917",
   "metadata": {},
   "source": [
    "## 5. List comprehensions<a class=\"anchor\" id=\"bullet5\"></a>"
   ]
  },
  {
   "cell_type": "markdown",
   "id": "cd67a8f0",
   "metadata": {},
   "source": [
    "List comprehensions allow you to concisely create a new list by either transforming or filtering the elements of another collection. They are a key part of *functional-style* programing. They are similar to for loops in how they iterate through the elements of an iterable."
   ]
  },
  {
   "cell_type": "code",
   "execution_count": 11,
   "id": "997f5613-2c41-4d33-8b9e-a9a9a888cbfc",
   "metadata": {},
   "outputs": [
    {
     "name": "stdout",
     "output_type": "stream",
     "text": [
      "[1, 2, 3, 4, 5]\n",
      "[1, 2, 3, 4, 5]\n"
     ]
    }
   ],
   "source": [
    "list1 = []\n",
    "for item in range(1,6):\n",
    "    list1.append(item)\n",
    "print(list1)\n",
    "list2 = [item for item in range(1,6)]\n",
    "print(list2)"
   ]
  },
  {
   "cell_type": "code",
   "execution_count": null,
   "id": "5bc755cf-abd8-4add-976c-3c4769cfea1f",
   "metadata": {},
   "outputs": [],
   "source": [
    "# structure of a list comprehension:\n",
    "[do_something for value in collection if condition]\n",
    "\n",
    "# equivalent:\n",
    "output = []\n",
    "for value in collection:\n",
    "    if condition:\n",
    "        output.append(do_something)"
   ]
  },
  {
   "cell_type": "code",
   "execution_count": 33,
   "id": "25369a0a",
   "metadata": {},
   "outputs": [
    {
     "data": {
      "text/plain": [
       "['BAT', 'CAR', 'DOVE', 'PYTHON']"
      ]
     },
     "execution_count": 33,
     "metadata": {},
     "output_type": "execute_result"
    }
   ],
   "source": [
    "# example: \n",
    "strings = [\"a\", \"as\", \"bat\", \"car\", \"dove\", \"python\"]\n",
    "[x.upper() for x in strings if len(x) > 2]"
   ]
  },
  {
   "cell_type": "code",
   "execution_count": null,
   "id": "3b5fc0d0-1a75-4e50-ab9e-3852dacbf783",
   "metadata": {},
   "outputs": [],
   "source": [
    "# structure of a dictionary comprehension:\n",
    "dict_comp = {key-expr: value-expr for value in collection if condition}"
   ]
  },
  {
   "cell_type": "code",
   "execution_count": null,
   "id": "b1fe0da5-29f9-43c6-a728-3f58f767fbd7",
   "metadata": {},
   "outputs": [],
   "source": [
    "# structure of a set comprehension:\n",
    "set_comp = {expr for value in collection if condition}"
   ]
  },
  {
   "cell_type": "markdown",
   "id": "b415c88d-cd75-43c8-b56c-211d6e5bbb6b",
   "metadata": {},
   "source": [
    "We can also use nested list comprehensions:"
   ]
  },
  {
   "cell_type": "code",
   "execution_count": 36,
   "id": "d2a956ab-5d8c-466d-b32c-8695e8655c71",
   "metadata": {},
   "outputs": [
    {
     "name": "stdout",
     "output_type": "stream",
     "text": [
      "[['Mercury', 'Venus', 'Earth'], ['Mars', 'Jupiter', 'Saturn'], ['Uranus', 'Neptune', 'Pluto']]\n",
      "['Venus', 'Earth', 'Mars', 'Pluto']\n"
     ]
    }
   ],
   "source": [
    "# 2-D List of planets\n",
    "planets = [['Mercury', 'Venus', 'Earth'], ['Mars', 'Jupiter', 'Saturn'], ['Uranus', 'Neptune', 'Pluto']]\n",
    "print(planets)\n",
    "# print(planets.shape) Doesn't work!\n",
    "\n",
    "# Nested List comprehension with an if condition\n",
    "flatten_planets = [planet for sublist in planets for planet in sublist if len(planet) < 6]\n",
    "print(flatten_planets)\n"
   ]
  },
  {
   "cell_type": "code",
   "execution_count": 37,
   "id": "b53d5d1c",
   "metadata": {},
   "outputs": [],
   "source": [
    "all_data = [[\"John\", \"Emily\", \"Michael\", \"Mary\", \"Steven\"],\n",
    "            [\"Maria\", \"Juan\", \"Javier\", \"Natalia\", \"Pilar\"]]"
   ]
  },
  {
   "cell_type": "code",
   "execution_count": 38,
   "id": "aa0559bc",
   "metadata": {},
   "outputs": [],
   "source": [
    "result = [name for name_list in all_data for name in name_list if name.count('i') >= 1]"
   ]
  },
  {
   "cell_type": "code",
   "execution_count": 39,
   "id": "2c9ac563",
   "metadata": {},
   "outputs": [
    {
     "data": {
      "text/plain": [
       "['Emily', 'Michael', 'Maria', 'Javier', 'Natalia', 'Pilar']"
      ]
     },
     "execution_count": 39,
     "metadata": {},
     "output_type": "execute_result"
    }
   ],
   "source": [
    "result"
   ]
  },
  {
   "cell_type": "code",
   "execution_count": 40,
   "id": "2f63e08a",
   "metadata": {},
   "outputs": [
    {
     "data": {
      "text/plain": [
       "['Emily', 'Michael', 'Maria', 'Javier', 'Natalia', 'Pilar']"
      ]
     },
     "execution_count": 40,
     "metadata": {},
     "output_type": "execute_result"
    }
   ],
   "source": [
    "# equivalent to this for loop:\n",
    "result2 = []\n",
    "for names in all_data:\n",
    "    for name in names:\n",
    "        if name.count('i') >= 1:\n",
    "            result2.append(name)\n",
    "result2"
   ]
  },
  {
   "cell_type": "markdown",
   "id": "9b7e682b",
   "metadata": {},
   "source": [
    "## 6. Lambda Functions<a class=\"anchor\" id=\"bullet6\"></a>"
   ]
  },
  {
   "cell_type": "markdown",
   "id": "74245e1b",
   "metadata": {},
   "source": [
    "**Lambda functions**, also known as **anonymous functions**, are short functions that have not been bound to a variable. Lambda functions are defined with less clarity/documentation then a standard function would have. \n",
    "\n",
    "Structure of lambda functions consists of three parts:\n",
    "* __The Keyword__: lambda\n",
    "* __A bound variable:__ x\n",
    "* __A body:__ x + 1"
   ]
  },
  {
   "cell_type": "code",
   "execution_count": 3,
   "id": "70aeeb7e-aaef-4006-b4dc-fbdec136794f",
   "metadata": {},
   "outputs": [
    {
     "data": {
      "text/plain": [
       "3"
      ]
     },
     "execution_count": 3,
     "metadata": {},
     "output_type": "execute_result"
    }
   ],
   "source": [
    "add_one = lambda x: x + 1\n",
    "add_one(2)"
   ]
  },
  {
   "cell_type": "code",
   "execution_count": 42,
   "id": "24e8e3c8-b3a7-4321-9106-2d8b1357344f",
   "metadata": {},
   "outputs": [
    {
     "data": {
      "text/plain": [
       "3"
      ]
     },
     "execution_count": 42,
     "metadata": {},
     "output_type": "execute_result"
    }
   ],
   "source": [
    "# The above lambda function is equivalent to writing this:\n",
    "def add_one(x):\n",
    "    return x + 1\n",
    "add_one(2)"
   ]
  },
  {
   "cell_type": "code",
   "execution_count": 43,
   "id": "44c449db-d814-47f9-87ff-23baf52c91e2",
   "metadata": {},
   "outputs": [
    {
     "data": {
      "text/plain": [
       "5"
      ]
     },
     "execution_count": 43,
     "metadata": {},
     "output_type": "execute_result"
    }
   ],
   "source": [
    "(lambda x, y: x + y)(2, 3)  # we are passing 2 and 3 as x and y respectively"
   ]
  },
  {
   "cell_type": "markdown",
   "id": "798bc2f5-8490-4796-b53e-f9da20d187d0",
   "metadata": {},
   "source": [
    "Why lambad functions? They allow you to write functions in a quick and dirty way. Usually we write these functions when we need to pass some arbitrary function to another function. For example, the `map()` function takes a function and applies it to each element in a sequence/list (this is similar to broadcasting). \n",
    "\n",
    "To use the `map()`, we might need to raise each element to some arbitrary exponent, like 2.245. In this case, lambad functions allow us to quickly so this since base Python does not come with such a function."
   ]
  },
  {
   "cell_type": "code",
   "execution_count": 13,
   "id": "71e70054-3859-4592-beeb-be9852a785b2",
   "metadata": {},
   "outputs": [
    {
     "name": "stdout",
     "output_type": "stream",
     "text": [
      "<map object at 0x00000199CB13F940>\n"
     ]
    }
   ],
   "source": [
    "nums = [1, 10, 100]\n",
    "\n",
    "square_all = map(lambda x: x ** 2.245, nums)\n",
    "\n",
    "print(square_all)  # Map returns a map object using lazy evaluation"
   ]
  },
  {
   "cell_type": "code",
   "execution_count": 14,
   "id": "288581af-0940-41f8-b18c-aa6485181df2",
   "metadata": {},
   "outputs": [
    {
     "name": "stdout",
     "output_type": "stream",
     "text": [
      "[1.0, 175.7923613958693, 30902.95432513592]\n"
     ]
    }
   ],
   "source": [
    "print(list(square_all))"
   ]
  },
  {
   "cell_type": "markdown",
   "id": "25e6045b-49bb-44f8-ac09-ffac1fc767d6",
   "metadata": {},
   "source": [
    "## 7. Generator expressions <a class=\"anchor\" id=\"bullet7\"></a>"
   ]
  },
  {
   "cell_type": "markdown",
   "id": "81f0f4b0-dc05-409c-9178-3a1800832db1",
   "metadata": {},
   "source": [
    "A **generator expression** is similar to a list comprehension, but creates an iterable **generator object** that produces values only *on demand*. This is known as **lazy evaluation**. List comprehension use **greedy evaluation**, they create lists immediately when you execute them. For large numbers of items, creating a list can take substantial memory consumption and improve the performance if the whole list is not exectuted at once. \n",
    "\n",
    "Generator expressions have the same capabilities as list comprehensions, but you define them in parentheses instead of square brackets. For example:"
   ]
  },
  {
   "cell_type": "code",
   "execution_count": 13,
   "id": "153a19c9-8743-4338-b25d-ac140202cb60",
   "metadata": {},
   "outputs": [
    {
     "name": "stdout",
     "output_type": "stream",
     "text": [
      "25  9  9  25  49  81  1  "
     ]
    }
   ],
   "source": [
    "numbers = [10, 4, 5, 3, 3, 5, 7, 9, 1]\n",
    "for value in (x ** 2 for x in numbers if x % 2 != 0):\n",
    "    print(value, end='  ')"
   ]
  },
  {
   "cell_type": "markdown",
   "id": "2f8c4daf-8d36-4fdd-977e-23fb261a5365",
   "metadata": {},
   "source": [
    "To show that a generator expression does not create a list, let's assign the preceding snippet's generator expression to a variable and evaluate the variable:"
   ]
  },
  {
   "cell_type": "code",
   "execution_count": 14,
   "id": "ed2da240-d925-4c33-ba2e-0ee9f9ef669a",
   "metadata": {},
   "outputs": [
    {
     "data": {
      "text/plain": [
       "<generator object <genexpr> at 0x0000021262F09200>"
      ]
     },
     "execution_count": 14,
     "metadata": {},
     "output_type": "execute_result"
    }
   ],
   "source": [
    "square_of_odds = (x ** 2 for x in numbers if x % 2 != 0)\n",
    "square_of_odds"
   ]
  },
  {
   "cell_type": "markdown",
   "id": "6ff23e71-fc61-4486-8725-b69ac2caacb7",
   "metadata": {},
   "source": [
    "The text \"<generator object \\<genexpr\\>\" indicates that the square_of_odds is a generator object that was created from a generator expression (genexpr)."
   ]
  },
  {
   "cell_type": "markdown",
   "id": "26822579",
   "metadata": {},
   "source": [
    "## 8. Pandas apply with lambda functions<a class=\"anchor\" id=\"bullet8\"></a>"
   ]
  },
  {
   "cell_type": "markdown",
   "id": "24a87f91-731f-46f0-8ebb-a08fb074fcc7",
   "metadata": {},
   "source": [
    "The **apply** function takes in a function and applies it to all items within a series. Objects passed to the function are Series objects whose index is either the DataFrame’s index (axis=0) or the DataFrame’s columns (axis=1). Read about these functions here: [pd.DataFrame.apply](https://pandas.pydata.org/docs/reference/api/pandas.DataFrame.apply.html)"
   ]
  },
  {
   "cell_type": "code",
   "execution_count": 11,
   "id": "08e9c543-5cf9-42d5-8da3-70ab30aea97d",
   "metadata": {},
   "outputs": [
    {
     "data": {
      "text/plain": [
       "0    0.280663\n",
       "1    0.217212\n",
       "2   -0.510782\n",
       "3   -0.013346\n",
       "4   -0.314173\n",
       "5   -0.032878\n",
       "6   -0.284667\n",
       "7   -0.178175\n",
       "8   -0.461314\n",
       "9   -0.988423\n",
       "dtype: float64"
      ]
     },
     "execution_count": 11,
     "metadata": {},
     "output_type": "execute_result"
    }
   ],
   "source": [
    "df2 = df.apply(np.mean, axis = 1) # Row means (takes the mean across the columns, hence axis=1)\n",
    "df2"
   ]
  },
  {
   "cell_type": "code",
   "execution_count": 12,
   "id": "88045f5d-3e28-4bf2-846e-4dd736513656",
   "metadata": {},
   "outputs": [
    {
     "data": {
      "text/plain": [
       "a   -0.565180\n",
       "b   -0.073327\n",
       "c   -0.669364\n",
       "d    0.393518\n",
       "dtype: float64"
      ]
     },
     "execution_count": 12,
     "metadata": {},
     "output_type": "execute_result"
    }
   ],
   "source": [
    "df2 = df.apply(np.mean, axis = 0) # Col means (takes the mean across the rows, hence axis=0)\n",
    "df2"
   ]
  },
  {
   "cell_type": "code",
   "execution_count": 13,
   "id": "e010e39d",
   "metadata": {},
   "outputs": [
    {
     "data": {
      "text/html": [
       "<div>\n",
       "<style scoped>\n",
       "    .dataframe tbody tr th:only-of-type {\n",
       "        vertical-align: middle;\n",
       "    }\n",
       "\n",
       "    .dataframe tbody tr th {\n",
       "        vertical-align: top;\n",
       "    }\n",
       "\n",
       "    .dataframe thead th {\n",
       "        text-align: right;\n",
       "    }\n",
       "</style>\n",
       "<table border=\"1\" class=\"dataframe\">\n",
       "  <thead>\n",
       "    <tr style=\"text-align: right;\">\n",
       "      <th></th>\n",
       "      <th>a</th>\n",
       "      <th>b</th>\n",
       "      <th>c</th>\n",
       "      <th>d</th>\n",
       "    </tr>\n",
       "  </thead>\n",
       "  <tbody>\n",
       "    <tr>\n",
       "      <th>0</th>\n",
       "      <td>0.242071</td>\n",
       "      <td>1.295862</td>\n",
       "      <td>1.417556</td>\n",
       "      <td>2.167163</td>\n",
       "    </tr>\n",
       "    <tr>\n",
       "      <th>1</th>\n",
       "      <td>1.807697</td>\n",
       "      <td>1.019923</td>\n",
       "      <td>-0.726416</td>\n",
       "      <td>2.767645</td>\n",
       "    </tr>\n",
       "    <tr>\n",
       "      <th>2</th>\n",
       "      <td>1.433601</td>\n",
       "      <td>-1.352702</td>\n",
       "      <td>0.414348</td>\n",
       "      <td>1.461624</td>\n",
       "    </tr>\n",
       "    <tr>\n",
       "      <th>3</th>\n",
       "      <td>0.050115</td>\n",
       "      <td>0.451323</td>\n",
       "      <td>0.987995</td>\n",
       "      <td>2.457183</td>\n",
       "    </tr>\n",
       "    <tr>\n",
       "      <th>4</th>\n",
       "      <td>-0.119631</td>\n",
       "      <td>2.061025</td>\n",
       "      <td>0.018627</td>\n",
       "      <td>0.783286</td>\n",
       "    </tr>\n",
       "    <tr>\n",
       "      <th>5</th>\n",
       "      <td>1.064981</td>\n",
       "      <td>1.760106</td>\n",
       "      <td>-0.244226</td>\n",
       "      <td>1.287626</td>\n",
       "    </tr>\n",
       "    <tr>\n",
       "      <th>6</th>\n",
       "      <td>0.387600</td>\n",
       "      <td>0.328299</td>\n",
       "      <td>2.370228</td>\n",
       "      <td>-0.224794</td>\n",
       "    </tr>\n",
       "    <tr>\n",
       "      <th>7</th>\n",
       "      <td>-0.144289</td>\n",
       "      <td>2.442454</td>\n",
       "      <td>-0.705773</td>\n",
       "      <td>1.694906</td>\n",
       "    </tr>\n",
       "    <tr>\n",
       "      <th>8</th>\n",
       "      <td>-0.710033</td>\n",
       "      <td>0.601912</td>\n",
       "      <td>0.860570</td>\n",
       "      <td>1.402294</td>\n",
       "    </tr>\n",
       "    <tr>\n",
       "      <th>9</th>\n",
       "      <td>0.336085</td>\n",
       "      <td>0.658527</td>\n",
       "      <td>-1.086549</td>\n",
       "      <td>0.138246</td>\n",
       "    </tr>\n",
       "  </tbody>\n",
       "</table>\n",
       "</div>"
      ],
      "text/plain": [
       "          a         b         c         d\n",
       "0  0.242071  1.295862  1.417556  2.167163\n",
       "1  1.807697  1.019923 -0.726416  2.767645\n",
       "2  1.433601 -1.352702  0.414348  1.461624\n",
       "3  0.050115  0.451323  0.987995  2.457183\n",
       "4 -0.119631  2.061025  0.018627  0.783286\n",
       "5  1.064981  1.760106 -0.244226  1.287626\n",
       "6  0.387600  0.328299  2.370228 -0.224794\n",
       "7 -0.144289  2.442454 -0.705773  1.694906\n",
       "8 -0.710033  0.601912  0.860570  1.402294\n",
       "9  0.336085  0.658527 -1.086549  0.138246"
      ]
     },
     "execution_count": 13,
     "metadata": {},
     "output_type": "execute_result"
    }
   ],
   "source": [
    "# lambda function we defined earlier, notice the behavior here is to broadcast this function\n",
    "# In other words, we are applying this function element by element\n",
    "df2 = df.apply(add_one) \n",
    "df2"
   ]
  },
  {
   "cell_type": "code",
   "execution_count": 16,
   "id": "1770f363-22d8-4411-ac10-69ea7bb29cff",
   "metadata": {},
   "outputs": [
    {
     "data": {
      "text/html": [
       "<div>\n",
       "<style scoped>\n",
       "    .dataframe tbody tr th:only-of-type {\n",
       "        vertical-align: middle;\n",
       "    }\n",
       "\n",
       "    .dataframe tbody tr th {\n",
       "        vertical-align: top;\n",
       "    }\n",
       "\n",
       "    .dataframe thead th {\n",
       "        text-align: right;\n",
       "    }\n",
       "</style>\n",
       "<table border=\"1\" class=\"dataframe\">\n",
       "  <thead>\n",
       "    <tr style=\"text-align: right;\">\n",
       "      <th></th>\n",
       "      <th>a</th>\n",
       "      <th>b</th>\n",
       "      <th>c</th>\n",
       "      <th>d</th>\n",
       "    </tr>\n",
       "  </thead>\n",
       "  <tbody>\n",
       "    <tr>\n",
       "      <th>0</th>\n",
       "      <td>True</td>\n",
       "      <td>True</td>\n",
       "      <td>True</td>\n",
       "      <td>True</td>\n",
       "    </tr>\n",
       "    <tr>\n",
       "      <th>1</th>\n",
       "      <td>True</td>\n",
       "      <td>True</td>\n",
       "      <td>True</td>\n",
       "      <td>True</td>\n",
       "    </tr>\n",
       "    <tr>\n",
       "      <th>2</th>\n",
       "      <td>True</td>\n",
       "      <td>True</td>\n",
       "      <td>True</td>\n",
       "      <td>True</td>\n",
       "    </tr>\n",
       "    <tr>\n",
       "      <th>3</th>\n",
       "      <td>True</td>\n",
       "      <td>True</td>\n",
       "      <td>True</td>\n",
       "      <td>True</td>\n",
       "    </tr>\n",
       "    <tr>\n",
       "      <th>4</th>\n",
       "      <td>True</td>\n",
       "      <td>True</td>\n",
       "      <td>True</td>\n",
       "      <td>True</td>\n",
       "    </tr>\n",
       "    <tr>\n",
       "      <th>5</th>\n",
       "      <td>True</td>\n",
       "      <td>True</td>\n",
       "      <td>True</td>\n",
       "      <td>True</td>\n",
       "    </tr>\n",
       "    <tr>\n",
       "      <th>6</th>\n",
       "      <td>True</td>\n",
       "      <td>True</td>\n",
       "      <td>True</td>\n",
       "      <td>True</td>\n",
       "    </tr>\n",
       "    <tr>\n",
       "      <th>7</th>\n",
       "      <td>True</td>\n",
       "      <td>True</td>\n",
       "      <td>True</td>\n",
       "      <td>True</td>\n",
       "    </tr>\n",
       "    <tr>\n",
       "      <th>8</th>\n",
       "      <td>True</td>\n",
       "      <td>True</td>\n",
       "      <td>True</td>\n",
       "      <td>True</td>\n",
       "    </tr>\n",
       "    <tr>\n",
       "      <th>9</th>\n",
       "      <td>True</td>\n",
       "      <td>True</td>\n",
       "      <td>True</td>\n",
       "      <td>True</td>\n",
       "    </tr>\n",
       "  </tbody>\n",
       "</table>\n",
       "</div>"
      ],
      "text/plain": [
       "      a     b     c     d\n",
       "0  True  True  True  True\n",
       "1  True  True  True  True\n",
       "2  True  True  True  True\n",
       "3  True  True  True  True\n",
       "4  True  True  True  True\n",
       "5  True  True  True  True\n",
       "6  True  True  True  True\n",
       "7  True  True  True  True\n",
       "8  True  True  True  True\n",
       "9  True  True  True  True"
      ]
     },
     "execution_count": 16,
     "metadata": {},
     "output_type": "execute_result"
    }
   ],
   "source": [
    "# Because this function makes use of broadcasting, there is no difference between axis=0 or axis=1\n",
    "df.apply(add_one, axis=1) == df.apply(add_one, axis=1) # Same result since element-wise function was called "
   ]
  },
  {
   "cell_type": "markdown",
   "id": "41052423-efd7-41f0-bba7-3ad716783d7d",
   "metadata": {},
   "source": [
    "One of the most useful aspects of Python's `lambda()` function is that they can be defined and passed on the fly to the apply functions. For example:"
   ]
  },
  {
   "cell_type": "code",
   "execution_count": 45,
   "id": "91850b1a",
   "metadata": {},
   "outputs": [
    {
     "data": {
      "text/html": [
       "<div>\n",
       "<style scoped>\n",
       "    .dataframe tbody tr th:only-of-type {\n",
       "        vertical-align: middle;\n",
       "    }\n",
       "\n",
       "    .dataframe tbody tr th {\n",
       "        vertical-align: top;\n",
       "    }\n",
       "\n",
       "    .dataframe thead th {\n",
       "        text-align: right;\n",
       "    }\n",
       "</style>\n",
       "<table border=\"1\" class=\"dataframe\">\n",
       "  <thead>\n",
       "    <tr style=\"text-align: right;\">\n",
       "      <th></th>\n",
       "      <th>a</th>\n",
       "      <th>b</th>\n",
       "      <th>c</th>\n",
       "      <th>d</th>\n",
       "    </tr>\n",
       "  </thead>\n",
       "  <tbody>\n",
       "    <tr>\n",
       "      <th>0</th>\n",
       "      <td>1.378160</td>\n",
       "      <td>1.697880</td>\n",
       "      <td>1.724405</td>\n",
       "      <td>1.799334</td>\n",
       "    </tr>\n",
       "    <tr>\n",
       "      <th>1</th>\n",
       "      <td>2.000000</td>\n",
       "      <td>1.625172</td>\n",
       "      <td>1.104182</td>\n",
       "      <td>2.000000</td>\n",
       "    </tr>\n",
       "    <tr>\n",
       "      <th>2</th>\n",
       "      <td>1.851415</td>\n",
       "      <td>1.000000</td>\n",
       "      <td>1.434190</td>\n",
       "      <td>1.563560</td>\n",
       "    </tr>\n",
       "    <tr>\n",
       "      <th>3</th>\n",
       "      <td>1.301918</td>\n",
       "      <td>1.475349</td>\n",
       "      <td>1.600138</td>\n",
       "      <td>1.896251</td>\n",
       "    </tr>\n",
       "    <tr>\n",
       "      <th>4</th>\n",
       "      <td>1.234498</td>\n",
       "      <td>1.899496</td>\n",
       "      <td>1.319713</td>\n",
       "      <td>1.336876</td>\n",
       "    </tr>\n",
       "    <tr>\n",
       "      <th>5</th>\n",
       "      <td>1.705006</td>\n",
       "      <td>1.820205</td>\n",
       "      <td>1.243673</td>\n",
       "      <td>1.505414</td>\n",
       "    </tr>\n",
       "    <tr>\n",
       "      <th>6</th>\n",
       "      <td>1.435961</td>\n",
       "      <td>1.442933</td>\n",
       "      <td>2.000000</td>\n",
       "      <td>1.000000</td>\n",
       "    </tr>\n",
       "    <tr>\n",
       "      <th>7</th>\n",
       "      <td>1.224704</td>\n",
       "      <td>2.000000</td>\n",
       "      <td>1.110154</td>\n",
       "      <td>1.641517</td>\n",
       "    </tr>\n",
       "    <tr>\n",
       "      <th>8</th>\n",
       "      <td>1.000000</td>\n",
       "      <td>1.515029</td>\n",
       "      <td>1.563276</td>\n",
       "      <td>1.543733</td>\n",
       "    </tr>\n",
       "    <tr>\n",
       "      <th>9</th>\n",
       "      <td>1.415501</td>\n",
       "      <td>1.529946</td>\n",
       "      <td>1.000000</td>\n",
       "      <td>1.121319</td>\n",
       "    </tr>\n",
       "  </tbody>\n",
       "</table>\n",
       "</div>"
      ],
      "text/plain": [
       "          a         b         c         d\n",
       "0  1.378160  1.697880  1.724405  1.799334\n",
       "1  2.000000  1.625172  1.104182  2.000000\n",
       "2  1.851415  1.000000  1.434190  1.563560\n",
       "3  1.301918  1.475349  1.600138  1.896251\n",
       "4  1.234498  1.899496  1.319713  1.336876\n",
       "5  1.705006  1.820205  1.243673  1.505414\n",
       "6  1.435961  1.442933  2.000000  1.000000\n",
       "7  1.224704  2.000000  1.110154  1.641517\n",
       "8  1.000000  1.515029  1.563276  1.543733\n",
       "9  1.415501  1.529946  1.000000  1.121319"
      ]
     },
     "execution_count": 45,
     "metadata": {},
     "output_type": "execute_result"
    }
   ],
   "source": [
    "df3 = df.apply(lambda x: x + 1) # add_one\n",
    "df3 # equal to df2 "
   ]
  },
  {
   "cell_type": "markdown",
   "id": "23a1a98a-ea58-497c-be1c-9b84af7081e7",
   "metadata": {},
   "source": [
    "## 9. While loops <a class=\"anchor\" id=\"bullet9\"></a>"
   ]
  },
  {
   "cell_type": "markdown",
   "id": "074f7f86-e58a-4eee-a4af-a262a3ddd788",
   "metadata": {},
   "source": [
    "A **while** loop allows you to repeat one or more actions while a condition remains True. The syntax is highly similar to a for loop. Genearlly speaking while loops are not as useful as for loops, so you should be aware of while loops by my suggestion is you should focus on mastering for loops first if both of these concepts are new to you."
   ]
  },
  {
   "cell_type": "code",
   "execution_count": 80,
   "id": "3a3bf8df-80a4-4e10-a415-1fcb1c98ed32",
   "metadata": {},
   "outputs": [
    {
     "name": "stdout",
     "output_type": "stream",
     "text": [
      "3\n",
      "6\n",
      "12\n",
      "24\n",
      "48\n"
     ]
    }
   ],
   "source": [
    "product = 3\n",
    "while product <= 50:\n",
    "    print(product)\n",
    "    product = product * 2  "
   ]
  },
  {
   "cell_type": "markdown",
   "id": "fa6f3017-825e-4b6b-a4d8-d2ce6108a3b9",
   "metadata": {},
   "source": [
    "**Warning**: While loops can get stuck in an infinite loop! So you must be careful when using these! You can use a break statement to help prevent infinite loops from opening up."
   ]
  },
  {
   "cell_type": "code",
   "execution_count": 81,
   "id": "3a5d00e8-af34-40ea-9fcb-3b79ea64cf8c",
   "metadata": {},
   "outputs": [
    {
     "name": "stdout",
     "output_type": "stream",
     "text": [
      "4\n",
      "3\n",
      "Loop ended.\n"
     ]
    }
   ],
   "source": [
    "n = 5\n",
    "while n > 0:\n",
    "    n -= 1\n",
    "    if n == 2:\n",
    "        break\n",
    "    print(n)\n",
    "print('Loop ended.')"
   ]
  },
  {
   "cell_type": "markdown",
   "id": "bf75cada",
   "metadata": {},
   "source": [
    "## 10. Passing functions as arguments <a class=\"anchor\" id=\"bullet10\"></a>"
   ]
  },
  {
   "cell_type": "markdown",
   "id": "06d68b93-6a06-4ec8-87d6-1fc65d4d1e02",
   "metadata": {},
   "source": [
    "Let's first simulate some data to use for this example."
   ]
  },
  {
   "cell_type": "code",
   "execution_count": 17,
   "id": "95f0dcd1",
   "metadata": {},
   "outputs": [
    {
     "data": {
      "text/html": [
       "<div>\n",
       "<style scoped>\n",
       "    .dataframe tbody tr th:only-of-type {\n",
       "        vertical-align: middle;\n",
       "    }\n",
       "\n",
       "    .dataframe tbody tr th {\n",
       "        vertical-align: top;\n",
       "    }\n",
       "\n",
       "    .dataframe thead th {\n",
       "        text-align: right;\n",
       "    }\n",
       "</style>\n",
       "<table border=\"1\" class=\"dataframe\">\n",
       "  <thead>\n",
       "    <tr style=\"text-align: right;\">\n",
       "      <th></th>\n",
       "      <th>a</th>\n",
       "      <th>b</th>\n",
       "      <th>c</th>\n",
       "      <th>d</th>\n",
       "    </tr>\n",
       "  </thead>\n",
       "  <tbody>\n",
       "    <tr>\n",
       "      <th>0</th>\n",
       "      <td>-0.757929</td>\n",
       "      <td>0.295862</td>\n",
       "      <td>0.417556</td>\n",
       "      <td>1.167163</td>\n",
       "    </tr>\n",
       "    <tr>\n",
       "      <th>1</th>\n",
       "      <td>0.807697</td>\n",
       "      <td>0.019923</td>\n",
       "      <td>-1.726416</td>\n",
       "      <td>1.767645</td>\n",
       "    </tr>\n",
       "    <tr>\n",
       "      <th>2</th>\n",
       "      <td>0.433601</td>\n",
       "      <td>-2.352702</td>\n",
       "      <td>-0.585652</td>\n",
       "      <td>0.461624</td>\n",
       "    </tr>\n",
       "    <tr>\n",
       "      <th>3</th>\n",
       "      <td>-0.949885</td>\n",
       "      <td>-0.548677</td>\n",
       "      <td>-0.012005</td>\n",
       "      <td>1.457183</td>\n",
       "    </tr>\n",
       "    <tr>\n",
       "      <th>4</th>\n",
       "      <td>-1.119631</td>\n",
       "      <td>1.061025</td>\n",
       "      <td>-0.981373</td>\n",
       "      <td>-0.216714</td>\n",
       "    </tr>\n",
       "    <tr>\n",
       "      <th>5</th>\n",
       "      <td>0.064981</td>\n",
       "      <td>0.760106</td>\n",
       "      <td>-1.244226</td>\n",
       "      <td>0.287626</td>\n",
       "    </tr>\n",
       "    <tr>\n",
       "      <th>6</th>\n",
       "      <td>-0.612400</td>\n",
       "      <td>-0.671701</td>\n",
       "      <td>1.370228</td>\n",
       "      <td>-1.224794</td>\n",
       "    </tr>\n",
       "    <tr>\n",
       "      <th>7</th>\n",
       "      <td>-1.144289</td>\n",
       "      <td>1.442454</td>\n",
       "      <td>-1.705773</td>\n",
       "      <td>0.694906</td>\n",
       "    </tr>\n",
       "    <tr>\n",
       "      <th>8</th>\n",
       "      <td>-1.710033</td>\n",
       "      <td>-0.398088</td>\n",
       "      <td>-0.139430</td>\n",
       "      <td>0.402294</td>\n",
       "    </tr>\n",
       "    <tr>\n",
       "      <th>9</th>\n",
       "      <td>-0.663915</td>\n",
       "      <td>-0.341473</td>\n",
       "      <td>-2.086549</td>\n",
       "      <td>-0.861754</td>\n",
       "    </tr>\n",
       "  </tbody>\n",
       "</table>\n",
       "</div>"
      ],
      "text/plain": [
       "          a         b         c         d\n",
       "0 -0.757929  0.295862  0.417556  1.167163\n",
       "1  0.807697  0.019923 -1.726416  1.767645\n",
       "2  0.433601 -2.352702 -0.585652  0.461624\n",
       "3 -0.949885 -0.548677 -0.012005  1.457183\n",
       "4 -1.119631  1.061025 -0.981373 -0.216714\n",
       "5  0.064981  0.760106 -1.244226  0.287626\n",
       "6 -0.612400 -0.671701  1.370228 -1.224794\n",
       "7 -1.144289  1.442454 -1.705773  0.694906\n",
       "8 -1.710033 -0.398088 -0.139430  0.402294\n",
       "9 -0.663915 -0.341473 -2.086549 -0.861754"
      ]
     },
     "execution_count": 17,
     "metadata": {},
     "output_type": "execute_result"
    }
   ],
   "source": [
    "rng = np.random.default_rng(seed=3252)\n",
    "\n",
    "a = rng.standard_normal(10)\n",
    "b = rng.standard_normal(10)\n",
    "c = rng.standard_normal(10)\n",
    "d = rng.standard_normal(10)\n",
    "\n",
    "the_dict = {'a':a,'b':b,'c':c,'d':d}\n",
    "\n",
    "df = pd.DataFrame(the_dict)\n",
    "df"
   ]
  },
  {
   "cell_type": "code",
   "execution_count": 18,
   "id": "4b463fdc",
   "metadata": {},
   "outputs": [
    {
     "data": {
      "text/plain": [
       "[-0.5651802647782048,\n",
       " -0.07332713554716727,\n",
       " -0.6693640830516738,\n",
       " 0.3935178923880054]"
      ]
     },
     "execution_count": 18,
     "metadata": {},
     "output_type": "execute_result"
    }
   ],
   "source": [
    "# Let's compute column means with a for loop:\n",
    "output = []\n",
    "\n",
    "for i in df.columns:\n",
    "    mean = np.mean(df[i])\n",
    "    output.append(mean)\n",
    "    \n",
    "output"
   ]
  },
  {
   "cell_type": "markdown",
   "id": "9e3c3dde-78c0-4d89-b40c-5793b802e4c2",
   "metadata": {},
   "source": [
    "What if you wanted to loop over the column means, and wanted to use other functions to crunch the numbers on that axis. Well, we could make separate functions to do this, such as the `col_median()` and the `col_std()` functions below."
   ]
  },
  {
   "cell_type": "code",
   "execution_count": 19,
   "id": "e7fbf44d",
   "metadata": {},
   "outputs": [],
   "source": [
    "def col_median(df):\n",
    "    output = []\n",
    "    for i in df.columns:\n",
    "        output.append(np.median(df[i]))\n",
    "    return output\n",
    "\n",
    "def col_std(df):\n",
    "    output = []\n",
    "    for i in df.columns:\n",
    "        output.append(np.std(df[i]))\n",
    "    return output"
   ]
  },
  {
   "cell_type": "markdown",
   "id": "f2ed01f7-dced-465f-9849-9a1f34f34731",
   "metadata": {},
   "source": [
    "But, we can make this better through functional programming and the **DRY** principle. It turns out that you can *pass a function as an input parameter into another function!!*"
   ]
  },
  {
   "cell_type": "code",
   "execution_count": 20,
   "id": "cf5a795a",
   "metadata": {},
   "outputs": [],
   "source": [
    "# Create function which applies any arbitrary function over the columns\n",
    "def col_computations(func, df):\n",
    "    output = []\n",
    "    for i in df.columns:\n",
    "        computation = func(df[i])\n",
    "        output.append(computation)\n",
    "    return output"
   ]
  },
  {
   "cell_type": "code",
   "execution_count": 21,
   "id": "995fba25",
   "metadata": {},
   "outputs": [
    {
     "data": {
      "text/plain": [
       "[-0.5651802647782048,\n",
       " -0.07332713554716727,\n",
       " -0.6693640830516738,\n",
       " 0.3935178923880054]"
      ]
     },
     "execution_count": 21,
     "metadata": {},
     "output_type": "execute_result"
    }
   ],
   "source": [
    "col_computations(np.mean, df)"
   ]
  },
  {
   "cell_type": "code",
   "execution_count": 22,
   "id": "18897f4f",
   "metadata": {},
   "outputs": [
    {
     "data": {
      "text/plain": [
       "[-0.7109216792484936,\n",
       " -0.1607751802165395,\n",
       " -0.7835127395579766,\n",
       " 0.43195930703839136]"
      ]
     },
     "execution_count": 22,
     "metadata": {},
     "output_type": "execute_result"
    }
   ],
   "source": [
    "col_computations(np.median, df)"
   ]
  },
  {
   "cell_type": "code",
   "execution_count": 23,
   "id": "ffaaf37c",
   "metadata": {},
   "outputs": [
    {
     "data": {
      "text/plain": [
       "[0.7368890274704306, 1.018866356682112, 1.0338772433992203, 0.9105999606403393]"
      ]
     },
     "execution_count": 23,
     "metadata": {},
     "output_type": "execute_result"
    }
   ],
   "source": [
    "col_computations(np.std, df)"
   ]
  },
  {
   "cell_type": "markdown",
   "id": "d1d5a757-8751-4135-9449-418f2e73f749",
   "metadata": {},
   "source": [
    "## 11. Handling Exceptions <a class=\"anchor\" id=\"bullet11\"></a>"
   ]
  },
  {
   "cell_type": "markdown",
   "id": "fecd6d91-c4a1-4ca9-9176-174c570a8a82",
   "metadata": {},
   "source": [
    "An **exception** is an event which occurs during the execution of a program that __disrupts the normal flow of the program's instructions.__ In general, when a Python script encounters a situation that it cannot cope with, it raises an exception. __An exception is a Python object that represents an error.__ There are many different types of errors/exceptions that we will encounter in the Python langauge."
   ]
  },
  {
   "cell_type": "code",
   "execution_count": 24,
   "id": "6e9961c1-395f-473f-99c9-b1051f19851b",
   "metadata": {},
   "outputs": [
    {
     "ename": "ZeroDivisionError",
     "evalue": "division by zero",
     "output_type": "error",
     "traceback": [
      "\u001b[1;31m---------------------------------------------------------------------------\u001b[0m",
      "\u001b[1;31mZeroDivisionError\u001b[0m                         Traceback (most recent call last)",
      "\u001b[1;32m~\\AppData\\Local\\Temp\\ipykernel_9996\\3185314217.py\u001b[0m in \u001b[0;36m<module>\u001b[1;34m\u001b[0m\n\u001b[0;32m      1\u001b[0m \u001b[1;31m# An example:\u001b[0m\u001b[1;33m\u001b[0m\u001b[1;33m\u001b[0m\u001b[0m\n\u001b[1;32m----> 2\u001b[1;33m \u001b[1;36m10\u001b[0m \u001b[1;33m/\u001b[0m \u001b[1;36m0\u001b[0m\u001b[1;33m\u001b[0m\u001b[1;33m\u001b[0m\u001b[0m\n\u001b[0m",
      "\u001b[1;31mZeroDivisionError\u001b[0m: division by zero"
     ]
    }
   ],
   "source": [
    "# An example: \n",
    "10 / 0"
   ]
  },
  {
   "cell_type": "markdown",
   "id": "c50e6f99-5bd1-4b4b-92b7-ba4c53896108",
   "metadata": {},
   "source": [
    "If exceptions occur, they can create run-time errors for your programs which cause them to crash. Below, we will learn how to handle exceptions like a developer!"
   ]
  },
  {
   "cell_type": "markdown",
   "id": "e0fffe03-ba86-41b8-88fc-0a7c66b1f83c",
   "metadata": {},
   "source": [
    "There are four statements/blocks/clauses that Python has for handling exceptions:\n",
    "* __try block:__ The `try` block lets you test a block of code for errors.\n",
    "* __except block:__ The `except` block lets you handle the error.\n",
    "* __else block:__ The `else` block lets you execute code when there is no error.\n",
    "* __finally block:__ The `finally` block lets you execute code, regardless of the result of the try- and except blocks."
   ]
  },
  {
   "cell_type": "code",
   "execution_count": 25,
   "id": "bf6a6cf4-f9e1-4ab4-9f3f-8ae4cef0e60e",
   "metadata": {},
   "outputs": [
    {
     "name": "stdin",
     "output_type": "stream",
     "text": [
      "Enter numerator:  3\n",
      "Enter denominator:  1\n"
     ]
    },
    {
     "name": "stdout",
     "output_type": "stream",
     "text": [
      " 3.000 /  1.000 =  3.000\n"
     ]
    }
   ],
   "source": [
    "\"\"\" Simple exception handling example \"\"\"\n",
    "while True:\n",
    "    \n",
    "    try:                                          # attempt to convert and divide\n",
    "        num1 = int(input('Enter numerator: '))\n",
    "        num2 = int(input('Enter denominator: '))\n",
    "        result = num1 / num2\n",
    "        \n",
    "    except ValueError:                            # if the user inputs a non-numeric argument, raise an exception\n",
    "        print('You must enter two integers\\n')\n",
    "    except ZeroDivisionError:                     # if the denom is 0, raise an exception\n",
    "        print('Attempted to divide by zero\\n')\n",
    "    else:                                         # executes only if no exceptions occur\n",
    "        print(f'{num1: .3f} / {num2: .3f} = {result: .3f}')\n",
    "        break "
   ]
  },
  {
   "cell_type": "markdown",
   "id": "232a1639-59e5-405a-a22f-3f1124467c01",
   "metadata": {},
   "source": [
    "## 12. Function docstrings <a class=\"anchor\" id=\"bullet12\"></a>"
   ]
  },
  {
   "cell_type": "markdown",
   "id": "b4f8444a-4f84-49fd-a08e-1f076efd2a84",
   "metadata": {},
   "source": [
    "As Datacamp covered, there are many different style conventions when it comes to function documentation. It does not matter which you use, so pick one of the major ones (e.g., javadoc,  reStructuredText (reST), or Numpydoc)  and stick with that. We will use the **Google Style** in this class. Docustrings are very useful for developing IC for a business, where you might develop a function which will be used by many different analysts (this saves you time in the long run, since less peopel will bug you about details related to how your function works!)"
   ]
  },
  {
   "cell_type": "code",
   "execution_count": 3,
   "id": "4ae0d6f7-d88e-455b-91db-132715d265ff",
   "metadata": {},
   "outputs": [],
   "source": [
    "def create_docustring(arg_1, arg_2=42):\n",
    "    \"\"\"Description of what the function does.\n",
    "    \n",
    "    Args:\n",
    "        arg_1 (str): Description of arg_1 that can break onto the next line\n",
    "            if needed.\n",
    "        arg_2 (int, optional): Write optional when an argument has a default\n",
    "            value.\n",
    "            \n",
    "    Returns:\n",
    "        bool: Optional description of the return value\n",
    "        \n",
    "    \"\"\""
   ]
  },
  {
   "cell_type": "code",
   "execution_count": 4,
   "id": "10db08d7-c7e3-41e3-94eb-746090c620c8",
   "metadata": {},
   "outputs": [
    {
     "data": {
      "text/plain": [
       "\u001b[1;31mSignature:\u001b[0m \u001b[0mcreate_docustring\u001b[0m\u001b[1;33m(\u001b[0m\u001b[0marg_1\u001b[0m\u001b[1;33m,\u001b[0m \u001b[0marg_2\u001b[0m\u001b[1;33m=\u001b[0m\u001b[1;36m42\u001b[0m\u001b[1;33m)\u001b[0m\u001b[1;33m\u001b[0m\u001b[1;33m\u001b[0m\u001b[0m\n",
       "\u001b[1;31mDocstring:\u001b[0m\n",
       "Description of what the function does.\n",
       "\n",
       "Args:\n",
       "    arg_1 (str): Description of arg_1 that can break onto the next line\n",
       "        if needed.\n",
       "    arg_2 (int, optional): Write optional when an argument has a default\n",
       "        value.\n",
       "        \n",
       "Returns:\n",
       "    bool: Optional description of the return value\n",
       "    \n",
       "\u001b[1;31mFile:\u001b[0m      c:\\users\\nicka\\appdata\\local\\temp\\ipykernel_20956\\2713870796.py\n",
       "\u001b[1;31mType:\u001b[0m      function\n"
      ]
     },
     "metadata": {},
     "output_type": "display_data"
    }
   ],
   "source": [
    "# Use the \"?\" followed by the function name to access the function's docustrings\n",
    "?create_docustring"
   ]
  },
  {
   "cell_type": "code",
   "execution_count": 5,
   "id": "f772e513-f9a8-44de-a8d3-4da04a8e517c",
   "metadata": {},
   "outputs": [
    {
     "name": "stdout",
     "output_type": "stream",
     "text": [
      "Help on function create_docustring in module __main__:\n",
      "\n",
      "create_docustring(arg_1, arg_2=42)\n",
      "    Description of what the function does.\n",
      "    \n",
      "    Args:\n",
      "        arg_1 (str): Description of arg_1 that can break onto the next line\n",
      "            if needed.\n",
      "        arg_2 (int, optional): Write optional when an argument has a default\n",
      "            value.\n",
      "            \n",
      "    Returns:\n",
      "        bool: Optional description of the return value\n",
      "\n"
     ]
    }
   ],
   "source": [
    "# An alternative\n",
    "help(create_docustring)"
   ]
  },
  {
   "cell_type": "markdown",
   "id": "aee31c9a-0741-410d-a818-3e4e2ed4b8c0",
   "metadata": {},
   "source": [
    "It is possible to use a tool like *Pyment* to automatically generate docstrings to a Python project not yet documented, or to convert existing docstrings (can be mixing several formats) from a format to an other one."
   ]
  },
  {
   "cell_type": "code",
   "execution_count": null,
   "id": "fffb55e0-1d15-4fe3-b399-d6d56f46b5a1",
   "metadata": {},
   "outputs": [],
   "source": []
  }
 ],
 "metadata": {
  "kernelspec": {
   "display_name": "Python 3 (ipykernel)",
   "language": "python",
   "name": "python3"
  },
  "language_info": {
   "codemirror_mode": {
    "name": "ipython",
    "version": 3
   },
   "file_extension": ".py",
   "mimetype": "text/x-python",
   "name": "python",
   "nbconvert_exporter": "python",
   "pygments_lexer": "ipython3",
   "version": "3.9.13"
  }
 },
 "nbformat": 4,
 "nbformat_minor": 5
}
