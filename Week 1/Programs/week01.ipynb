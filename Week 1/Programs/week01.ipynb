{
 "cells": [
  {
   "cell_type": "markdown",
   "id": "80f39e54",
   "metadata": {},
   "source": [
    "# Week 1: Intro to Python"
   ]
  },
  {
   "cell_type": "markdown",
   "id": "f9bd1d64",
   "metadata": {},
   "source": [
    "### Table of contents\n",
    "* [Python as a calculator](#bullet1)\n",
    "* [Boolean data types](#bullet2)\n",
    "* [String data types](#bullet3)\n",
    "* [Numeric data types](#bullet4)\n",
    "* [Storing values in variables](#bullet5)\n",
    "* [Commenting your code!](#bullet6)\n",
    "* [List objects](#bullet7)\n",
    "* [Tuple objects](#bullet8)\n",
    "* [Dictionary and set objects](#bullet9)\n",
    "* [Built in Functions](#bullet10)\n",
    "* [Methods](#bullet11)\n",
    "* [Installing other Python packages](#bullet12)"
   ]
  },
  {
   "cell_type": "markdown",
   "id": "070f791c",
   "metadata": {},
   "source": [
    "## 1. Python as a calculator <a class=\"anchor\" id=\"bullet1\"></a>"
   ]
  },
  {
   "cell_type": "code",
   "execution_count": 3,
   "id": "b18c5ff7",
   "metadata": {},
   "outputs": [
    {
     "data": {
      "text/plain": [
       "2"
      ]
     },
     "execution_count": 3,
     "metadata": {},
     "output_type": "execute_result"
    }
   ],
   "source": [
    "1+1"
   ]
  },
  {
   "cell_type": "code",
   "execution_count": 4,
   "id": "6910fa8b",
   "metadata": {},
   "outputs": [
    {
     "data": {
      "text/plain": [
       "7"
      ]
     },
     "execution_count": 4,
     "metadata": {},
     "output_type": "execute_result"
    }
   ],
   "source": [
    "1+2*3"
   ]
  },
  {
   "cell_type": "code",
   "execution_count": 5,
   "id": "ef6a8c3c",
   "metadata": {},
   "outputs": [
    {
     "data": {
      "text/plain": [
       "9"
      ]
     },
     "execution_count": 5,
     "metadata": {},
     "output_type": "execute_result"
    }
   ],
   "source": [
    "(1+2)*3"
   ]
  },
  {
   "cell_type": "markdown",
   "id": "77f5898c",
   "metadata": {},
   "source": [
    "##### + is called an operator. Like all programing langugages, Python includes many types of operators: +, -, *, /, **"
   ]
  },
  {
   "cell_type": "markdown",
   "id": "9cd28c32",
   "metadata": {},
   "source": [
    "## 2. Boolean data types (True / False) <a class=\"anchor\" id=\"bullet2\"></a>"
   ]
  },
  {
   "cell_type": "code",
   "execution_count": 6,
   "id": "f93db4b0",
   "metadata": {},
   "outputs": [
    {
     "data": {
      "text/plain": [
       "True"
      ]
     },
     "execution_count": 6,
     "metadata": {},
     "output_type": "execute_result"
    }
   ],
   "source": [
    "2 * 2 == 4"
   ]
  },
  {
   "cell_type": "code",
   "execution_count": 7,
   "id": "933023c1",
   "metadata": {},
   "outputs": [
    {
     "data": {
      "text/plain": [
       "True"
      ]
     },
     "execution_count": 7,
     "metadata": {},
     "output_type": "execute_result"
    }
   ],
   "source": [
    "(3 ** 3) == 27  # Note the ** operator is an exponent operator! This is 3^3"
   ]
  },
  {
   "cell_type": "code",
   "execution_count": 8,
   "id": "3489a60f",
   "metadata": {},
   "outputs": [
    {
     "data": {
      "text/plain": [
       "9"
      ]
     },
     "execution_count": 8,
     "metadata": {},
     "output_type": "execute_result"
    }
   ],
   "source": [
    "(3 ** 2)"
   ]
  },
  {
   "cell_type": "code",
   "execution_count": 9,
   "id": "95041172",
   "metadata": {},
   "outputs": [
    {
     "data": {
      "text/plain": [
       "bool"
      ]
     },
     "execution_count": 9,
     "metadata": {},
     "output_type": "execute_result"
    }
   ],
   "source": [
    "type(False)"
   ]
  },
  {
   "cell_type": "markdown",
   "id": "ce07f30b",
   "metadata": {},
   "source": [
    "## 3. String data types <a class=\"anchor\" id=\"bullet3\"></a>"
   ]
  },
  {
   "cell_type": "code",
   "execution_count": 12,
   "id": "bb75583d-500b-4ca3-89a7-e2980ee13d44",
   "metadata": {},
   "outputs": [
    {
     "data": {
      "text/plain": [
       "'string'"
      ]
     },
     "execution_count": 12,
     "metadata": {},
     "output_type": "execute_result"
    }
   ],
   "source": [
    "'string'"
   ]
  },
  {
   "cell_type": "code",
   "execution_count": 13,
   "id": "4a3a9bfa",
   "metadata": {},
   "outputs": [
    {
     "data": {
      "text/plain": [
       "'string'"
      ]
     },
     "execution_count": 13,
     "metadata": {},
     "output_type": "execute_result"
    }
   ],
   "source": [
    "\"string\""
   ]
  },
  {
   "cell_type": "code",
   "execution_count": 14,
   "id": "51901b71",
   "metadata": {},
   "outputs": [
    {
     "data": {
      "text/plain": [
       "str"
      ]
     },
     "execution_count": 14,
     "metadata": {},
     "output_type": "execute_result"
    }
   ],
   "source": [
    "type(\"string\")"
   ]
  },
  {
   "cell_type": "markdown",
   "id": "010ea6aa",
   "metadata": {},
   "source": [
    "## 4. Numeric data types <a class=\"anchor\" id=\"bullet4\"></a>"
   ]
  },
  {
   "cell_type": "markdown",
   "id": "a17f0e3c",
   "metadata": {},
   "source": [
    "For numeric data, Python has a \"int\" and \"float\" (ie decimal) data type"
   ]
  },
  {
   "cell_type": "code",
   "execution_count": 15,
   "id": "1be79d98",
   "metadata": {},
   "outputs": [
    {
     "data": {
      "text/plain": [
       "10"
      ]
     },
     "execution_count": 15,
     "metadata": {},
     "output_type": "execute_result"
    }
   ],
   "source": [
    "5 + 5"
   ]
  },
  {
   "cell_type": "code",
   "execution_count": 16,
   "id": "fde9451c",
   "metadata": {},
   "outputs": [
    {
     "data": {
      "text/plain": [
       "int"
      ]
     },
     "execution_count": 16,
     "metadata": {},
     "output_type": "execute_result"
    }
   ],
   "source": [
    "type(5 + 5)"
   ]
  },
  {
   "cell_type": "code",
   "execution_count": 17,
   "id": "27a24812",
   "metadata": {},
   "outputs": [
    {
     "data": {
      "text/plain": [
       "float"
      ]
     },
     "execution_count": 17,
     "metadata": {},
     "output_type": "execute_result"
    }
   ],
   "source": [
    "type(3.24)"
   ]
  },
  {
   "cell_type": "code",
   "execution_count": 18,
   "id": "366ae779",
   "metadata": {},
   "outputs": [
    {
     "name": "stdout",
     "output_type": "stream",
     "text": [
      "7.875\n"
     ]
    }
   ],
   "source": [
    "print(63/8)"
   ]
  },
  {
   "cell_type": "markdown",
   "id": "a33a0e43",
   "metadata": {},
   "source": [
    "## 5. Storing values in variables <a class=\"anchor\" id=\"bullet5\"></a>"
   ]
  },
  {
   "cell_type": "markdown",
   "id": "b862d1ba",
   "metadata": {},
   "source": [
    "* A variable is a name for a value. \n",
    "* We can create a new variable by assigning a value to it with `=`, which is what we call the assignment operator in Python. \n",
    "* Once you create a variable, it's value is said to be \"initialized\" into your environment\n",
    "* You cannot use a space within a variable name, use `_` in place of spaces\n",
    "* Variable names cannot start with a number, nor can they contain a `.`"
   ]
  },
  {
   "cell_type": "code",
   "execution_count": 19,
   "id": "01c48aaf",
   "metadata": {},
   "outputs": [
    {
     "data": {
      "text/plain": [
       "5"
      ]
     },
     "execution_count": 19,
     "metadata": {},
     "output_type": "execute_result"
    }
   ],
   "source": [
    "width = 5\n",
    "width"
   ]
  },
  {
   "cell_type": "code",
   "execution_count": 20,
   "id": "41b76b47",
   "metadata": {},
   "outputs": [
    {
     "data": {
      "text/plain": [
       "25"
      ]
     },
     "execution_count": 20,
     "metadata": {},
     "output_type": "execute_result"
    }
   ],
   "source": [
    "width * width # We can do arithmetic with variables"
   ]
  },
  {
   "cell_type": "code",
   "execution_count": 21,
   "id": "812f9dbe",
   "metadata": {},
   "outputs": [
    {
     "data": {
      "text/plain": [
       "25"
      ]
     },
     "execution_count": 21,
     "metadata": {},
     "output_type": "execute_result"
    }
   ],
   "source": [
    "area = width * width  # We can store the results of arithmetic in another variable\n",
    "area"
   ]
  },
  {
   "cell_type": "code",
   "execution_count": 22,
   "id": "cd747eab",
   "metadata": {},
   "outputs": [
    {
     "data": {
      "text/plain": [
       "10"
      ]
     },
     "execution_count": 22,
     "metadata": {},
     "output_type": "execute_result"
    }
   ],
   "source": [
    "width = 10   # We can change a variables value by reassigning a value to it\n",
    "width"
   ]
  },
  {
   "cell_type": "code",
   "execution_count": 23,
   "id": "a2bee868",
   "metadata": {},
   "outputs": [
    {
     "data": {
      "text/plain": [
       "25"
      ]
     },
     "execution_count": 23,
     "metadata": {},
     "output_type": "execute_result"
    }
   ],
   "source": [
    "area  # The value of area hasn't been updated, and won't be until we reassign the area variable"
   ]
  },
  {
   "cell_type": "code",
   "execution_count": 24,
   "id": "08cf81cb",
   "metadata": {},
   "outputs": [],
   "source": [
    "pre_test_score = 96"
   ]
  },
  {
   "cell_type": "code",
   "execution_count": 25,
   "id": "da877d6a",
   "metadata": {},
   "outputs": [
    {
     "name": "stdout",
     "output_type": "stream",
     "text": [
      "96\n"
     ]
    }
   ],
   "source": [
    "print(pre_test_score)"
   ]
  },
  {
   "cell_type": "code",
   "execution_count": 26,
   "id": "8beded4c",
   "metadata": {},
   "outputs": [
    {
     "ename": "SyntaxError",
     "evalue": "invalid syntax (3937181391.py, line 1)",
     "output_type": "error",
     "traceback": [
      "\u001b[1;36m  File \u001b[1;32m\"C:\\Users\\nicho\\AppData\\Local\\Temp\\ipykernel_3048\\3937181391.py\"\u001b[1;36m, line \u001b[1;32m1\u001b[0m\n\u001b[1;33m    4test = 4\u001b[0m\n\u001b[1;37m     ^\u001b[0m\n\u001b[1;31mSyntaxError\u001b[0m\u001b[1;31m:\u001b[0m invalid syntax\n"
     ]
    }
   ],
   "source": [
    "4test = 4"
   ]
  },
  {
   "cell_type": "code",
   "execution_count": 27,
   "id": "82b42ef7",
   "metadata": {},
   "outputs": [],
   "source": [
    "test4 = 5"
   ]
  },
  {
   "cell_type": "code",
   "execution_count": 28,
   "id": "2f43471f",
   "metadata": {},
   "outputs": [
    {
     "ename": "NameError",
     "evalue": "name 'pre' is not defined",
     "output_type": "error",
     "traceback": [
      "\u001b[1;31m---------------------------------------------------------------------------\u001b[0m",
      "\u001b[1;31mNameError\u001b[0m                                 Traceback (most recent call last)",
      "\u001b[1;32m~\\AppData\\Local\\Temp\\ipykernel_3048\\2702413970.py\u001b[0m in \u001b[0;36m<module>\u001b[1;34m\u001b[0m\n\u001b[1;32m----> 1\u001b[1;33m \u001b[0mpre\u001b[0m\u001b[1;33m.\u001b[0m\u001b[0mtest\u001b[0m\u001b[1;33m.\u001b[0m\u001b[0mscore\u001b[0m \u001b[1;33m=\u001b[0m \u001b[1;36m10\u001b[0m\u001b[1;33m\u001b[0m\u001b[1;33m\u001b[0m\u001b[0m\n\u001b[0m",
      "\u001b[1;31mNameError\u001b[0m: name 'pre' is not defined"
     ]
    }
   ],
   "source": [
    "pre.test.score = 10"
   ]
  },
  {
   "cell_type": "code",
   "execution_count": 29,
   "id": "2f608ee5",
   "metadata": {},
   "outputs": [
    {
     "data": {
      "text/plain": [
       "87"
      ]
     },
     "execution_count": 29,
     "metadata": {},
     "output_type": "execute_result"
    }
   ],
   "source": [
    "# Challenge: Rewrite this code in a single line\n",
    "a = 4*20\n",
    "b = 7\n",
    "a+b"
   ]
  },
  {
   "cell_type": "markdown",
   "id": "df8d6ae7-fb02-4cac-b867-865c34c6ff1c",
   "metadata": {},
   "source": [
    "**Challenge: Rewrite this code in several lines**\n",
    "`2*2+2*2+2*2`"
   ]
  },
  {
   "cell_type": "code",
   "execution_count": null,
   "id": "08557f64-5521-4723-a82b-d9add0d83366",
   "metadata": {},
   "outputs": [],
   "source": []
  },
  {
   "cell_type": "markdown",
   "id": "17e425dc",
   "metadata": {},
   "source": [
    "## 6. Commenting your code! <a class=\"anchor\" id=\"bullet6\"></a>"
   ]
  },
  {
   "cell_type": "markdown",
   "id": "46a89660",
   "metadata": {},
   "source": [
    "the `#` symbol is used to add comments, which will ignore all code on a line following the `#`"
   ]
  },
  {
   "cell_type": "code",
   "execution_count": 31,
   "id": "8ef12565",
   "metadata": {},
   "outputs": [],
   "source": [
    "## This code computes updates the area\n",
    "area = width * width  # Comments can also be added in-line following code"
   ]
  },
  {
   "cell_type": "markdown",
   "id": "af448576",
   "metadata": {
    "tags": []
   },
   "source": [
    "You can also use triple single or double quotes to add comments"
   ]
  },
  {
   "cell_type": "code",
   "execution_count": 33,
   "id": "5ba49b0d",
   "metadata": {},
   "outputs": [
    {
     "data": {
      "text/plain": [
       "11"
      ]
     },
     "execution_count": 33,
     "metadata": {},
     "output_type": "execute_result"
    }
   ],
   "source": [
    "\"\"\" This will be ignored  \"\"\" \n",
    "''' So will this '''\n",
    "5 + 6"
   ]
  },
  {
   "cell_type": "markdown",
   "id": "e0868082",
   "metadata": {},
   "source": [
    "#### Tip: When applying to jobs, you should clearly comment your code and describe what you are doing! This makes it easier for those who are \"grading\" your work, and saves them time, which increases your chances of \"passing\""
   ]
  },
  {
   "cell_type": "markdown",
   "id": "1ced990a",
   "metadata": {},
   "source": [
    "## 7. List objects <a class=\"anchor\" id=\"bullet7\"></a>"
   ]
  },
  {
   "cell_type": "markdown",
   "id": "f34bfb50",
   "metadata": {},
   "source": [
    "* list are a special data type in python which can hold multiple \"elements\", similar to vectors in R\n",
    "* Unlike the vector from R, list elements can be of different data types themsevles - they can even be another list\n",
    "* Indexing, or slicing, a list refers to extracting a particular set of its elements"
   ]
  },
  {
   "cell_type": "code",
   "execution_count": 3,
   "id": "cd40cd05",
   "metadata": {},
   "outputs": [
    {
     "data": {
      "text/plain": [
       "[]"
      ]
     },
     "execution_count": 3,
     "metadata": {},
     "output_type": "execute_result"
    }
   ],
   "source": [
    "# intialize an empty list\n",
    "lst = []\n",
    "lst"
   ]
  },
  {
   "cell_type": "code",
   "execution_count": 4,
   "id": "68088a4a",
   "metadata": {},
   "outputs": [
    {
     "data": {
      "text/plain": [
       "[2, 4, 6, 8, 10]"
      ]
     },
     "execution_count": 4,
     "metadata": {},
     "output_type": "execute_result"
    }
   ],
   "source": [
    "# intialize an unempty list\n",
    "lst = [2, 4, 6, 8, 10]\n",
    "lst"
   ]
  },
  {
   "cell_type": "code",
   "execution_count": 5,
   "id": "049b5851-c9d8-4d1c-ad54-ec7b2ddc6bbc",
   "metadata": {},
   "outputs": [
    {
     "data": {
      "text/plain": [
       "[2, 4, 6, 10]"
      ]
     },
     "execution_count": 5,
     "metadata": {},
     "output_type": "execute_result"
    }
   ],
   "source": [
    "# delete operator to remove the item in position 3 (which is 8 here)\n",
    "del lst[3]\n",
    "lst"
   ]
  },
  {
   "cell_type": "code",
   "execution_count": 6,
   "id": "7c189895-609e-4966-9490-73ef77d4db6b",
   "metadata": {},
   "outputs": [
    {
     "data": {
      "text/plain": [
       "[2, 4, 10]"
      ]
     },
     "execution_count": 6,
     "metadata": {},
     "output_type": "execute_result"
    }
   ],
   "source": [
    "# We can also use the remove method\n",
    "lst.remove(6) # Remove the first occurence of the int 6 value\n",
    "lst"
   ]
  },
  {
   "cell_type": "code",
   "execution_count": 7,
   "id": "f33d0b9a-424e-46ba-84f2-058db4a4be43",
   "metadata": {},
   "outputs": [],
   "source": [
    "# Re-intialize an unempty list\n",
    "lst = [2, 4, 6, 8, 10]"
   ]
  },
  {
   "cell_type": "code",
   "execution_count": 8,
   "id": "4bf5ef41",
   "metadata": {},
   "outputs": [
    {
     "data": {
      "text/plain": [
       "list"
      ]
     },
     "execution_count": 8,
     "metadata": {},
     "output_type": "execute_result"
    }
   ],
   "source": [
    "type(lst)"
   ]
  },
  {
   "cell_type": "code",
   "execution_count": 12,
   "id": "a80c37a6-0f72-4315-8786-b676a8446607",
   "metadata": {},
   "outputs": [
    {
     "data": {
      "text/plain": [
       "5"
      ]
     },
     "execution_count": 12,
     "metadata": {},
     "output_type": "execute_result"
    }
   ],
   "source": [
    "# length of list\n",
    "len(lst)"
   ]
  },
  {
   "cell_type": "markdown",
   "id": "fc846cfe-578c-4662-a918-350c083309ed",
   "metadata": {},
   "source": [
    "The list object `lst` has five **elements**. An element is defined as one"
   ]
  },
  {
   "cell_type": "code",
   "execution_count": 3,
   "id": "dd07cdf6-5684-4dad-aee5-ffe2296b4062",
   "metadata": {},
   "outputs": [
    {
     "data": {
      "text/plain": [
       "2"
      ]
     },
     "execution_count": 3,
     "metadata": {},
     "output_type": "execute_result"
    }
   ],
   "source": [
    "# index function (or method)\n",
    "lst1 = [1,2,3,3,3,4,5,6]\n",
    "lst1.index(3) # returns the index or position of the first occurence for the int 3"
   ]
  },
  {
   "cell_type": "code",
   "execution_count": 39,
   "id": "3e5b65bb",
   "metadata": {},
   "outputs": [
    {
     "data": {
      "text/plain": [
       "[3, 5, 7, 9, 11]"
      ]
     },
     "execution_count": 39,
     "metadata": {},
     "output_type": "execute_result"
    }
   ],
   "source": [
    "# arithmetic \n",
    "[i+1 for i in lst] # This syntax is called a \"list comprehension\", which we will learn about later in the course"
   ]
  },
  {
   "cell_type": "code",
   "execution_count": 40,
   "id": "7b30911b",
   "metadata": {},
   "outputs": [
    {
     "data": {
      "text/plain": [
       "[4, 8, 12, 16, 20]"
      ]
     },
     "execution_count": 40,
     "metadata": {},
     "output_type": "execute_result"
    }
   ],
   "source": [
    "[i+i for i in lst]"
   ]
  },
  {
   "cell_type": "code",
   "execution_count": 41,
   "id": "8e4c0cf1",
   "metadata": {},
   "outputs": [
    {
     "data": {
      "text/plain": [
       "[2, 4, 6, 8, 10, 60]"
      ]
     },
     "execution_count": 41,
     "metadata": {},
     "output_type": "execute_result"
    }
   ],
   "source": [
    "# Add the interger 60 to the list\n",
    "lst + [60] "
   ]
  },
  {
   "cell_type": "code",
   "execution_count": 35,
   "id": "a81f25cd",
   "metadata": {},
   "outputs": [
    {
     "data": {
      "text/plain": [
       "[2, 4, 6, 8, 10, 2, 4, 6, 8, 10]"
      ]
     },
     "execution_count": 35,
     "metadata": {},
     "output_type": "execute_result"
    }
   ],
   "source": [
    "# Challenge: What do you think this will do?\n",
    "lst + lst "
   ]
  },
  {
   "cell_type": "code",
   "execution_count": 43,
   "id": "61cf6b9b",
   "metadata": {},
   "outputs": [
    {
     "ename": "TypeError",
     "evalue": "can only concatenate list (not \"int\") to list",
     "output_type": "error",
     "traceback": [
      "\u001b[1;31m---------------------------------------------------------------------------\u001b[0m",
      "\u001b[1;31mTypeError\u001b[0m                                 Traceback (most recent call last)",
      "\u001b[1;32m~\\AppData\\Local\\Temp\\ipykernel_3048\\2668063340.py\u001b[0m in \u001b[0;36m<module>\u001b[1;34m\u001b[0m\n\u001b[0;32m      1\u001b[0m \u001b[1;31m# This returns an error, because when Python sees the \"+\" following a list object,\u001b[0m\u001b[1;33m\u001b[0m\u001b[1;33m\u001b[0m\u001b[0m\n\u001b[0;32m      2\u001b[0m \u001b[1;31m# it is looking to concatanate or add another list data type\u001b[0m\u001b[1;33m\u001b[0m\u001b[1;33m\u001b[0m\u001b[0m\n\u001b[1;32m----> 3\u001b[1;33m \u001b[0mlst\u001b[0m \u001b[1;33m+\u001b[0m \u001b[1;36m1\u001b[0m\u001b[1;33m\u001b[0m\u001b[1;33m\u001b[0m\u001b[0m\n\u001b[0m",
      "\u001b[1;31mTypeError\u001b[0m: can only concatenate list (not \"int\") to list"
     ]
    }
   ],
   "source": [
    "# This returns an error, because when Python sees the \"+\" following a list object, \n",
    "# it is looking to concatanate or add another list data type\n",
    "lst + 1 "
   ]
  },
  {
   "cell_type": "code",
   "execution_count": 45,
   "id": "eaa08b18",
   "metadata": {},
   "outputs": [
    {
     "data": {
      "text/plain": [
       "[2, 4, 6, 8, 10, 60, 60]"
      ]
     },
     "execution_count": 45,
     "metadata": {},
     "output_type": "execute_result"
    }
   ],
   "source": [
    "lst.append(60) # another valid way to add an element using a 'method', which we will learn about later\n",
    "lst"
   ]
  },
  {
   "cell_type": "code",
   "execution_count": 46,
   "id": "037ee90c",
   "metadata": {},
   "outputs": [
    {
     "data": {
      "text/plain": [
       "['hello', 'world']"
      ]
     },
     "execution_count": 46,
     "metadata": {},
     "output_type": "execute_result"
    }
   ],
   "source": [
    "lst = ['hello', 'world'] # list of strings\n",
    "lst"
   ]
  },
  {
   "cell_type": "code",
   "execution_count": 47,
   "id": "c1fc00c4",
   "metadata": {},
   "outputs": [
    {
     "data": {
      "text/plain": [
       "[True, False]"
      ]
     },
     "execution_count": 47,
     "metadata": {},
     "output_type": "execute_result"
    }
   ],
   "source": [
    "lst = [True, False] # boolean list\n",
    "lst"
   ]
  },
  {
   "cell_type": "code",
   "execution_count": 48,
   "id": "7a9e7ab1",
   "metadata": {},
   "outputs": [
    {
     "name": "stdout",
     "output_type": "stream",
     "text": [
      "[2, 54, 5, 'hello', 'world', True, False, 23]\n"
     ]
    }
   ],
   "source": [
    "# Mixing types: lists can also store multiple data types - but be careful when doing this! \n",
    "lst = [2, 54, 5, \"hello\", \"world\", True, False, 23]\n",
    "print(lst)"
   ]
  },
  {
   "cell_type": "code",
   "execution_count": 49,
   "id": "3bb80d08",
   "metadata": {},
   "outputs": [
    {
     "data": {
      "text/plain": [
       "2"
      ]
     },
     "execution_count": 49,
     "metadata": {},
     "output_type": "execute_result"
    }
   ],
   "source": [
    "# indexing or slicing a list. Python starts indexing at 0, not 1! This is different from R\n",
    "lst = [2, 4, 6, 8, 10]\n",
    "lst[0] # To slice the first element, use an index value of 0"
   ]
  },
  {
   "cell_type": "code",
   "execution_count": 50,
   "id": "bb109d22",
   "metadata": {},
   "outputs": [
    {
     "data": {
      "text/plain": [
       "8"
      ]
     },
     "execution_count": 50,
     "metadata": {},
     "output_type": "execute_result"
    }
   ],
   "source": [
    "lst[3] # this slices the fourth element in the list object"
   ]
  },
  {
   "cell_type": "code",
   "execution_count": 51,
   "id": "9b13d29f",
   "metadata": {},
   "outputs": [
    {
     "data": {
      "text/plain": [
       "[2, 4, 6]"
      ]
     },
     "execution_count": 51,
     "metadata": {},
     "output_type": "execute_result"
    }
   ],
   "source": [
    "# Slice multiple values using \":\". Note: In the code below, we will extract elements 1, 2 and 3. Not element 4!\n",
    "# While we start with the first element 0, the element in final position is not included in the slice\n",
    "lst[0:3]"
   ]
  },
  {
   "cell_type": "code",
   "execution_count": 52,
   "id": "36f1e6de",
   "metadata": {},
   "outputs": [
    {
     "data": {
      "text/plain": [
       "[2, 4, 5, 8, 10]"
      ]
     },
     "execution_count": 52,
     "metadata": {},
     "output_type": "execute_result"
    }
   ],
   "source": [
    "# We can update values by assigning new values to a particular set of elements\n",
    "lst[2] = 5  # update the third element to be a 5\n",
    "lst"
   ]
  },
  {
   "cell_type": "code",
   "execution_count": 53,
   "id": "795bb999",
   "metadata": {},
   "outputs": [
    {
     "data": {
      "text/plain": [
       "10"
      ]
     },
     "execution_count": 53,
     "metadata": {},
     "output_type": "execute_result"
    }
   ],
   "source": [
    "# We can also use indexing with a \"-\" sign, which starts from the end rather than the beginning of the list\n",
    "lst[-1]  # note that -1 is the first element when using this reverse indexing method. "
   ]
  },
  {
   "cell_type": "code",
   "execution_count": 54,
   "id": "227f5f6e",
   "metadata": {},
   "outputs": [
    {
     "data": {
      "text/plain": [
       "2"
      ]
     },
     "execution_count": 54,
     "metadata": {},
     "output_type": "execute_result"
    }
   ],
   "source": [
    "lst[-0] # \"-0\" defaults to the first element that starts a list"
   ]
  },
  {
   "cell_type": "code",
   "execution_count": 55,
   "id": "390da905",
   "metadata": {},
   "outputs": [
    {
     "data": {
      "text/plain": [
       "[2, 2, 3, 4, 10]"
      ]
     },
     "execution_count": 55,
     "metadata": {},
     "output_type": "execute_result"
    }
   ],
   "source": [
    "# We can assign multiple values at once\n",
    "lst[1:4] = [2, 3, 4]\n",
    "lst"
   ]
  },
  {
   "cell_type": "code",
   "execution_count": 56,
   "id": "218a0ff4",
   "metadata": {},
   "outputs": [
    {
     "data": {
      "text/plain": [
       "[60, 2, 4, 6, 8, 10]"
      ]
     },
     "execution_count": 56,
     "metadata": {},
     "output_type": "execute_result"
    }
   ],
   "source": [
    "# Below, we use a method called \".insert\" to insert the element 60 at the 0 index position\n",
    "lst = [2, 4, 6, 8, 10]\n",
    "lst.insert(0, 60)\n",
    "lst"
   ]
  },
  {
   "cell_type": "code",
   "execution_count": 57,
   "id": "c6da19b0",
   "metadata": {},
   "outputs": [
    {
     "data": {
      "text/plain": [
       "[60, 2, 4]"
      ]
     },
     "execution_count": 57,
     "metadata": {},
     "output_type": "execute_result"
    }
   ],
   "source": [
    "# Experimenting with the \":\" while sliceing\n",
    "lst[:3]  # Grab everything from 0 until index spot 2"
   ]
  },
  {
   "cell_type": "code",
   "execution_count": 58,
   "id": "f4df57b0",
   "metadata": {},
   "outputs": [
    {
     "data": {
      "text/plain": [
       "[60, 2, 4, 6, 8]"
      ]
     },
     "execution_count": 58,
     "metadata": {},
     "output_type": "execute_result"
    }
   ],
   "source": [
    "lst[:5]"
   ]
  },
  {
   "cell_type": "code",
   "execution_count": 60,
   "id": "8bbec764",
   "metadata": {},
   "outputs": [
    {
     "data": {
      "text/plain": [
       "[60, 2, 4, 6, 8, 10]"
      ]
     },
     "execution_count": 60,
     "metadata": {},
     "output_type": "execute_result"
    }
   ],
   "source": [
    "lst[:] # Grab entire list"
   ]
  },
  {
   "cell_type": "code",
   "execution_count": 62,
   "id": "50f39647",
   "metadata": {},
   "outputs": [
    {
     "data": {
      "text/plain": [
       "[4, 6, 8, 10]"
      ]
     },
     "execution_count": 62,
     "metadata": {},
     "output_type": "execute_result"
    }
   ],
   "source": [
    "lst[2:] # go to element at index 2, and grab everything until to the end of the list"
   ]
  },
  {
   "cell_type": "code",
   "execution_count": 63,
   "id": "a712e3e5",
   "metadata": {},
   "outputs": [
    {
     "data": {
      "text/plain": [
       "[60, 2, 4]"
      ]
     },
     "execution_count": 63,
     "metadata": {},
     "output_type": "execute_result"
    }
   ],
   "source": [
    "lst[:3] # Slice everything up to, but not including, element 3"
   ]
  },
  {
   "cell_type": "code",
   "execution_count": 64,
   "id": "c0d74b37",
   "metadata": {},
   "outputs": [
    {
     "data": {
      "text/plain": [
       "[6, 8]"
      ]
     },
     "execution_count": 64,
     "metadata": {},
     "output_type": "execute_result"
    }
   ],
   "source": [
    "lst[-3:-1] # use negative indeces to slice from the end of the list"
   ]
  },
  {
   "cell_type": "code",
   "execution_count": 65,
   "id": "561c682d",
   "metadata": {},
   "outputs": [
    {
     "data": {
      "text/plain": [
       "[60, 4, 8]"
      ]
     },
     "execution_count": 65,
     "metadata": {},
     "output_type": "execute_result"
    }
   ],
   "source": [
    "# A step can also be used after a second colon to, say, take every other element:\n",
    "lst[::2] # Starting from the first element, take every other element - takes evens"
   ]
  },
  {
   "cell_type": "code",
   "execution_count": 66,
   "id": "cd88e2ae",
   "metadata": {},
   "outputs": [
    {
     "data": {
      "text/plain": [
       "[2, 6, 10]"
      ]
     },
     "execution_count": 66,
     "metadata": {},
     "output_type": "execute_result"
    }
   ],
   "source": [
    "lst[1::2] # Starting from the second element, take every other element - takes odds"
   ]
  },
  {
   "cell_type": "code",
   "execution_count": 67,
   "id": "f4890b80",
   "metadata": {},
   "outputs": [
    {
     "data": {
      "text/plain": [
       "range(0, 10)"
      ]
     },
     "execution_count": 67,
     "metadata": {},
     "output_type": "execute_result"
    }
   ],
   "source": [
    "# You can also create sequences with the range function\n",
    "lst99 = range(0,10)  # This is called a \"generator expression\", also called \"lazy evaluation\"\n",
    "lst99"
   ]
  },
  {
   "cell_type": "markdown",
   "id": "81e488e0",
   "metadata": {},
   "source": [
    "A **generator expression** is a special kind of function that returns a \"lazy iterator\". Certain python objects will be able to loop through such expressions (i.e., a *for* loop which we will study later), however the generator expression is not executed and committed to your PC's memory. It's basically a programing hack to save computer resources. \n",
    "\n",
    "In the example above, we can make make a list object by wrapping the generator expression in the `list()` function, which is alternative syntax for creating a list object."
   ]
  },
  {
   "cell_type": "code",
   "execution_count": 68,
   "id": "73d5ea8f",
   "metadata": {},
   "outputs": [
    {
     "data": {
      "text/plain": [
       "[0, 1, 2, 3, 4, 5, 6, 7, 8, 9]"
      ]
     },
     "execution_count": 68,
     "metadata": {},
     "output_type": "execute_result"
    }
   ],
   "source": [
    "# For example:\n",
    "lst99 = list( range(0,10) )\n",
    "lst99"
   ]
  },
  {
   "cell_type": "code",
   "execution_count": 69,
   "id": "be62fb14",
   "metadata": {},
   "outputs": [
    {
     "data": {
      "text/plain": [
       "[['John', 23], ['Sally', 19], ['Sarah', 43]]"
      ]
     },
     "execution_count": 69,
     "metadata": {},
     "output_type": "execute_result"
    }
   ],
   "source": [
    "# a nested list\n",
    "lst3 = [[\"John\", 23],\n",
    "        [\"Sally\", 19],\n",
    "        [\"Sarah\", 43]]\n",
    "lst3"
   ]
  },
  {
   "cell_type": "code",
   "execution_count": 70,
   "id": "af88e1fc",
   "metadata": {},
   "outputs": [
    {
     "data": {
      "text/plain": [
       "['John', 23]"
      ]
     },
     "execution_count": 70,
     "metadata": {},
     "output_type": "execute_result"
    }
   ],
   "source": [
    "# The above is a multi-dimensional list object, so you have to use multi-dimensional slicing to index it\n",
    "lst3[0] # the first element (index 0) is actually another list!"
   ]
  },
  {
   "cell_type": "code",
   "execution_count": 71,
   "id": "35938570",
   "metadata": {},
   "outputs": [
    {
     "data": {
      "text/plain": [
       "[['John', 23], ['Sally', 19]]"
      ]
     },
     "execution_count": 71,
     "metadata": {},
     "output_type": "execute_result"
    }
   ],
   "source": [
    "lst3[0:2]"
   ]
  },
  {
   "cell_type": "code",
   "execution_count": 72,
   "id": "426fbbe1",
   "metadata": {},
   "outputs": [
    {
     "data": {
      "text/plain": [
       "23"
      ]
     },
     "execution_count": 72,
     "metadata": {},
     "output_type": "execute_result"
    }
   ],
   "source": [
    "lst3[0][1] # We can keep adding slices to keep slicing further"
   ]
  },
  {
   "cell_type": "code",
   "execution_count": 73,
   "id": "86c6080e",
   "metadata": {},
   "outputs": [
    {
     "data": {
      "text/plain": [
       "[['John', 23], ['Sally', 19]]"
      ]
     },
     "execution_count": 73,
     "metadata": {},
     "output_type": "execute_result"
    }
   ],
   "source": [
    "lst3[0:2]"
   ]
  },
  {
   "cell_type": "code",
   "execution_count": 13,
   "id": "1068d641-0900-444e-bcd2-b16960e64bb9",
   "metadata": {},
   "outputs": [
    {
     "data": {
      "text/plain": [
       "[[1, 2, 3], [4, 5, 6], [7, 8, 9]]"
      ]
     },
     "execution_count": 13,
     "metadata": {},
     "output_type": "execute_result"
    }
   ],
   "source": [
    "A = [[1, 2, 3], [4, 5, 6], [7, 8, 9]]\n",
    "A"
   ]
  },
  {
   "cell_type": "code",
   "execution_count": 76,
   "id": "313c7152",
   "metadata": {},
   "outputs": [
    {
     "name": "stdout",
     "output_type": "stream",
     "text": [
      "1\n",
      "2\n"
     ]
    },
    {
     "data": {
      "text/plain": [
       "6"
      ]
     },
     "execution_count": 76,
     "metadata": {},
     "output_type": "execute_result"
    }
   ],
   "source": [
    "i, j = 1, 2\n",
    "print(i)\n",
    "print(j)\n",
    "A[i][j]"
   ]
  },
  {
   "cell_type": "markdown",
   "id": "edb20847",
   "metadata": {},
   "source": [
    "### Challenge: Use the following list to answer the following questions"
   ]
  },
  {
   "cell_type": "code",
   "execution_count": 77,
   "id": "078f4cf3",
   "metadata": {},
   "outputs": [],
   "source": [
    "items = [\"spam\", \"eggs\", \"beans\", \"bacon\", \"sausage\"]"
   ]
  },
  {
   "cell_type": "markdown",
   "id": "0ebb3494",
   "metadata": {},
   "source": [
    "##### Challenge: What does items[::-1] produce? Based on what you find, use indexing to create a version of items without \"spam\""
   ]
  },
  {
   "cell_type": "code",
   "execution_count": null,
   "id": "1937487b-abd5-4524-9c65-a423086d6973",
   "metadata": {},
   "outputs": [],
   "source": []
  },
  {
   "cell_type": "markdown",
   "id": "89739079",
   "metadata": {},
   "source": [
    "##### Challenge: Use indexing and concatenation to create a list containing spam, eggs, sausage, spam, and spam"
   ]
  },
  {
   "cell_type": "code",
   "execution_count": null,
   "id": "a374a25c-f4dc-466c-9671-67788a684e3b",
   "metadata": {},
   "outputs": [],
   "source": []
  },
  {
   "cell_type": "markdown",
   "id": "a71604f3",
   "metadata": {},
   "source": [
    "##### Challenge: Add a new item, “lobster”, to items"
   ]
  },
  {
   "cell_type": "code",
   "execution_count": null,
   "id": "bb1429a2-1f56-4a00-bda9-96af64881c2a",
   "metadata": {},
   "outputs": [],
   "source": []
  },
  {
   "cell_type": "markdown",
   "id": "0411b55c",
   "metadata": {},
   "source": [
    "## 8. Tuple objects <a class=\"anchor\" id=\"bullet8\"></a>"
   ]
  },
  {
   "cell_type": "markdown",
   "id": "b87b763e-3f52-4cff-af57-d426138c31c0",
   "metadata": {},
   "source": [
    "Tuples are used to store multiple items in a single variable. **A tuple is one of 4 built-in data types in Python used to store collections of data, the other 3 are List, Set, and Dictionary**, all with different qualities and usage.\n",
    "\n",
    "A tuple is a collection which is ordered and unchangeable. Tuples are written with round brackets."
   ]
  },
  {
   "cell_type": "code",
   "execution_count": 78,
   "id": "5761ca11",
   "metadata": {},
   "outputs": [
    {
     "data": {
      "text/plain": [
       "('Modern', 'Data', 'Structures')"
      ]
     },
     "execution_count": 78,
     "metadata": {},
     "output_type": "execute_result"
    }
   ],
   "source": [
    "t1 = (\"Modern\", \"Data\", \"Structures\")\n",
    "t1"
   ]
  },
  {
   "cell_type": "code",
   "execution_count": 79,
   "id": "20f98714",
   "metadata": {},
   "outputs": [
    {
     "data": {
      "text/plain": [
       "tuple"
      ]
     },
     "execution_count": 79,
     "metadata": {},
     "output_type": "execute_result"
    }
   ],
   "source": [
    "type(t1)"
   ]
  },
  {
   "cell_type": "code",
   "execution_count": 80,
   "id": "0d16273e",
   "metadata": {},
   "outputs": [
    {
     "data": {
      "text/plain": [
       "'Data'"
      ]
     },
     "execution_count": 80,
     "metadata": {},
     "output_type": "execute_result"
    }
   ],
   "source": [
    "# index the same way as lists\n",
    "t1[1]"
   ]
  },
  {
   "cell_type": "code",
   "execution_count": 81,
   "id": "970224f0",
   "metadata": {},
   "outputs": [],
   "source": [
    "t2 = (1, 2, 3, 4, 5, 6, 7)"
   ]
  },
  {
   "cell_type": "code",
   "execution_count": 83,
   "id": "20a747ea",
   "metadata": {},
   "outputs": [
    {
     "data": {
      "text/plain": [
       "('Modern', 'Data', 'Structures', 1, 2, 3, 4, 5, 6, 7)"
      ]
     },
     "execution_count": 83,
     "metadata": {},
     "output_type": "execute_result"
    }
   ],
   "source": [
    "# add 2 tuples of different types, showing that tuples can hold different types\n",
    "t1 + t2"
   ]
  },
  {
   "cell_type": "code",
   "execution_count": 84,
   "id": "4b1a842d",
   "metadata": {},
   "outputs": [
    {
     "data": {
      "text/plain": [
       "(1, 2, 3, 4, 5, 6, 7, 1, 2, 3, 4, 5, 6, 7, 1, 2, 3, 4, 5, 6, 7)"
      ]
     },
     "execution_count": 84,
     "metadata": {},
     "output_type": "execute_result"
    }
   ],
   "source": [
    "# What does the code below do ? \n",
    "t2 * 3 # Note this will work for list objects as well!"
   ]
  },
  {
   "cell_type": "code",
   "execution_count": 87,
   "id": "0143b64b-dab8-4a6b-ab94-fe9500400d5e",
   "metadata": {},
   "outputs": [
    {
     "name": "stdout",
     "output_type": "stream",
     "text": [
      "('apple', 'banana', 'cherry', 'apple', 'cherry')\n"
     ]
    }
   ],
   "source": [
    "# Since tuples are indexed, they can have items with the same value\n",
    "thistuple = (\"apple\", \"banana\", \"cherry\", \"apple\", \"cherry\")\n",
    "print(thistuple)"
   ]
  },
  {
   "cell_type": "code",
   "execution_count": 89,
   "id": "c3cb515e-dc50-4a44-b92f-11c670a4013f",
   "metadata": {},
   "outputs": [
    {
     "name": "stdout",
     "output_type": "stream",
     "text": [
      "5\n"
     ]
    }
   ],
   "source": [
    "# Most of the functions which work for list objects will also work for tuple objects\n",
    "print(len(thistuple)) # Count the number of elements in a tuple object"
   ]
  },
  {
   "cell_type": "markdown",
   "id": "dda51b8b-a07c-42f8-bf1c-09a3d6f4d6cd",
   "metadata": {},
   "source": [
    "Tuples are **immutable**, unlike lists. This means their values can never be modified!"
   ]
  },
  {
   "cell_type": "code",
   "execution_count": 86,
   "id": "24183de8",
   "metadata": {},
   "outputs": [
    {
     "ename": "TypeError",
     "evalue": "'tuple' object does not support item assignment",
     "output_type": "error",
     "traceback": [
      "\u001b[1;31m---------------------------------------------------------------------------\u001b[0m",
      "\u001b[1;31mTypeError\u001b[0m                                 Traceback (most recent call last)",
      "\u001b[1;32m~\\AppData\\Local\\Temp\\ipykernel_3048\\1140509070.py\u001b[0m in \u001b[0;36m<module>\u001b[1;34m\u001b[0m\n\u001b[1;32m----> 1\u001b[1;33m \u001b[0mt2\u001b[0m\u001b[1;33m[\u001b[0m\u001b[1;36m0\u001b[0m\u001b[1;33m]\u001b[0m \u001b[1;33m=\u001b[0m \u001b[1;36m0\u001b[0m \u001b[1;31m# Note this throws a \"TypeError\". We will learn more about errors and debugging code later this semester\u001b[0m\u001b[1;33m\u001b[0m\u001b[1;33m\u001b[0m\u001b[0m\n\u001b[0m",
      "\u001b[1;31mTypeError\u001b[0m: 'tuple' object does not support item assignment"
     ]
    }
   ],
   "source": [
    "t2[0] = 0 # Note this throws a \"TypeError\". We will learn more about errors and debugging code later this semester"
   ]
  },
  {
   "cell_type": "code",
   "execution_count": 90,
   "id": "0de7f759-a86d-486f-8c15-9c9e6996af11",
   "metadata": {},
   "outputs": [],
   "source": [
    "# String, int and boolean data types:\n",
    "tuple1 = (\"apple\", \"banana\", \"cherry\")\n",
    "tuple2 = (1, 5, 7, 9, 3)\n",
    "tuple3 = (True, False, False)"
   ]
  },
  {
   "cell_type": "markdown",
   "id": "20fccf62",
   "metadata": {},
   "source": [
    "## 9. Dictionary and set objects <a class=\"anchor\" id=\"bullet9\"></a>"
   ]
  },
  {
   "cell_type": "markdown",
   "id": "e7e11197-e654-4d6f-982d-8e166112f362",
   "metadata": {},
   "source": [
    "A **dictionary** object is a collection which is ordered and changeable. No duplicate members. When we say that dictionaries are ordered, it means that the items have a defined order, and that order will not change."
   ]
  },
  {
   "cell_type": "code",
   "execution_count": 105,
   "id": "767f48f4",
   "metadata": {},
   "outputs": [
    {
     "name": "stdout",
     "output_type": "stream",
     "text": [
      "{'player': 'Tom Brady', 'age': 45, 'position': 'QB'}\n"
     ]
    }
   ],
   "source": [
    "# key, value pairs\n",
    "dic = {\n",
    "    \"player\": \"Tom Brady\",  # \"player\" = key, \"Tom Brady\" = value\n",
    "    \"age\": 45,\n",
    "    \"position\": \"QB\"\n",
    "}\n",
    "print(dic)"
   ]
  },
  {
   "cell_type": "code",
   "execution_count": 106,
   "id": "826a9cff",
   "metadata": {},
   "outputs": [
    {
     "data": {
      "text/plain": [
       "'Tom Brady'"
      ]
     },
     "execution_count": 106,
     "metadata": {},
     "output_type": "execute_result"
    }
   ],
   "source": [
    "dic['player']"
   ]
  },
  {
   "cell_type": "code",
   "execution_count": 91,
   "id": "fb9cc26b-f6b3-4674-82a0-f246b87c195d",
   "metadata": {},
   "outputs": [
    {
     "name": "stdout",
     "output_type": "stream",
     "text": [
      "{'brand': 'Ford', 'model': 'Mustang', 'year': 2020}\n"
     ]
    }
   ],
   "source": [
    "# Dictionaries cannot have two items with the same key.\n",
    "thisdict = {\n",
    "  \"brand\": \"Ford\",\n",
    "  \"model\": \"Mustang\",\n",
    "  \"year\": 1964,\n",
    "  \"year\": 2020\n",
    "}\n",
    "print(thisdict)"
   ]
  },
  {
   "cell_type": "code",
   "execution_count": 93,
   "id": "2ff7d745-a9d1-41f4-8817-cca579ceac16",
   "metadata": {},
   "outputs": [],
   "source": [
    "# String, int, boolean, and list data types:\n",
    "thisdict = {\n",
    "  \"brand\": \"Ford\",\n",
    "  \"electric\": False,\n",
    "  \"year\": 1964,\n",
    "  \"colors\": [\"red\", \"white\", \"blue\"]  # Notice how the \"value\" here is a list object with multiple elements\n",
    "}"
   ]
  },
  {
   "cell_type": "code",
   "execution_count": 94,
   "id": "e558508f-c5fa-4da9-a2b4-f6e702f711ed",
   "metadata": {},
   "outputs": [
    {
     "name": "stdout",
     "output_type": "stream",
     "text": [
      "{'name': 'John', 'age': 36, 'country': 'Norway'}\n"
     ]
    }
   ],
   "source": [
    "# Using the dict() method to make a dictionary\n",
    "thisdict = dict(name = \"John\", age = 36, country = \"Norway\")\n",
    "print(thisdict)"
   ]
  },
  {
   "cell_type": "markdown",
   "id": "6c263cb9-8a83-4a0f-8be2-06b1f9322f39",
   "metadata": {},
   "source": [
    "A **set** is a collection which is unordered, unchangeable, and unindexed. No duplicate members. Set **items** are unchangeable, but you can remove and/or add items whenever you like. Unordered means that the items does not have a defined order, you cannot refer to an item by using an index."
   ]
  },
  {
   "cell_type": "code",
   "execution_count": 95,
   "id": "5c9e12c0-b780-446e-bdb7-11cd59047d7a",
   "metadata": {},
   "outputs": [
    {
     "name": "stdout",
     "output_type": "stream",
     "text": [
      "{'banana', 'cherry', 'apple'}\n"
     ]
    }
   ],
   "source": [
    "thisset = {\"apple\", \"banana\", \"cherry\"}\n",
    "print(thisset)"
   ]
  },
  {
   "cell_type": "code",
   "execution_count": 96,
   "id": "e54f7a07-018b-42e8-b91b-20df575bcff9",
   "metadata": {},
   "outputs": [
    {
     "name": "stdout",
     "output_type": "stream",
     "text": [
      "{'banana', 'cherry', 'apple'}\n"
     ]
    }
   ],
   "source": [
    "# Sets cannot have two items with the same value. Duplicate values will be ignored:\n",
    "thisset = {\"apple\", \"banana\", \"cherry\", \"apple\"}\n",
    "print(thisset)"
   ]
  },
  {
   "cell_type": "code",
   "execution_count": 99,
   "id": "b7858c87-56d9-47d4-8b61-2a871fc572d3",
   "metadata": {},
   "outputs": [
    {
     "name": "stdout",
     "output_type": "stream",
     "text": [
      "{0, True, 2, 'cherry', 'apple', 'banana'}\n"
     ]
    }
   ],
   "source": [
    "# True and 1 is considered the same value, while 0 and False are the same value.\n",
    "thisset = {\"apple\", \"banana\", \"cherry\", True, 1, 2, 0, False}\n",
    "print(thisset)"
   ]
  },
  {
   "cell_type": "code",
   "execution_count": 100,
   "id": "0461362b-fbe1-443f-b90a-2b6ce7812647",
   "metadata": {},
   "outputs": [
    {
     "name": "stdout",
     "output_type": "stream",
     "text": [
      "3\n"
     ]
    }
   ],
   "source": [
    "# Get the number of items in a set\n",
    "thisset = {\"apple\", \"banana\", \"cherry\"}\n",
    "print(len(thisset))"
   ]
  },
  {
   "cell_type": "code",
   "execution_count": 101,
   "id": "513bf97b-093a-490b-8f9e-fd658551c460",
   "metadata": {},
   "outputs": [],
   "source": [
    "# String, int and boolean data types\n",
    "set1 = {\"apple\", \"banana\", \"cherry\"}\n",
    "set2 = {1, 5, 7, 9, 3}\n",
    "set3 = {True, False, False}"
   ]
  },
  {
   "cell_type": "code",
   "execution_count": 102,
   "id": "1ddc47ac-6fbb-4574-a27a-24a914750762",
   "metadata": {},
   "outputs": [],
   "source": [
    "# A set with strings, integers and boolean values\n",
    "set1 = {\"abc\", 34, True, 40, \"male\"}"
   ]
  },
  {
   "cell_type": "code",
   "execution_count": 103,
   "id": "1ada844e-10c8-4b2d-925f-c57daed3e697",
   "metadata": {},
   "outputs": [
    {
     "name": "stdout",
     "output_type": "stream",
     "text": [
      "{'banana', 'cherry', 'apple'}\n"
     ]
    }
   ],
   "source": [
    "# Using the set() constructor to make a set\n",
    "thisset = set((\"apple\", \"banana\", \"cherry\")) # note the double round-brackets\n",
    "print(thisset)"
   ]
  },
  {
   "cell_type": "markdown",
   "id": "7b9ba4de-6112-407a-a96c-33ec7c6b53f5",
   "metadata": {},
   "source": [
    "In summary, there are four *collection data types*, or **arrays**, in the Python programming language. Throughout the semester, we will use all four collection data types. \n",
    "* **List** is a collection which is ordered and changeable. Allows duplicate members.\n",
    "* **Tuple** is a collection which is ordered and unchangeable. Allows duplicate members.\n",
    "* **Set** is a collection which is unordered, unchangeable, and unindexed. No duplicate members.\n",
    "* **Dictionary** is a collection which is ordered and changeable. No duplicate members.\n",
    "\n",
    "Note the list and dictionary data types are the most important ones to get familiar with."
   ]
  },
  {
   "cell_type": "markdown",
   "id": "2c25e913",
   "metadata": {},
   "source": [
    "## 10. Built in Functions <a class=\"anchor\" id=\"bullet10\"></a>"
   ]
  },
  {
   "cell_type": "markdown",
   "id": "61fcc903",
   "metadata": {},
   "source": [
    "* **Functions** are the things that do all the work for us. They take a set of inputs, and produce a set of outputs.\n",
    "* They always follow the same rules / logic when executing them.\n",
    "* They save a lot of time, and you can use functions from base python, other libraries, or ones that you write.\n",
    "* Functions can be identified anytime you see `()` in python.\n",
    "* For example, `max()` is a function called max, which takes an input (called **arguments** or **parameters** of the function) placed inside the parentheses. This function will return the largest number."
   ]
  },
  {
   "cell_type": "code",
   "execution_count": 108,
   "id": "db69526d",
   "metadata": {},
   "outputs": [],
   "source": [
    "lst = [0, 10, 20, 30, 40, 50, 60, 70 ,80, 90, 100]"
   ]
  },
  {
   "cell_type": "code",
   "execution_count": 109,
   "id": "d994ad83",
   "metadata": {},
   "outputs": [
    {
     "data": {
      "text/plain": [
       "100"
      ]
     },
     "execution_count": 109,
     "metadata": {},
     "output_type": "execute_result"
    }
   ],
   "source": [
    "max(lst)"
   ]
  },
  {
   "cell_type": "code",
   "execution_count": 110,
   "id": "ac6a3416",
   "metadata": {},
   "outputs": [
    {
     "data": {
      "text/plain": [
       "0"
      ]
     },
     "execution_count": 110,
     "metadata": {},
     "output_type": "execute_result"
    }
   ],
   "source": [
    "min(lst)"
   ]
  },
  {
   "cell_type": "code",
   "execution_count": 111,
   "id": "f20e9294",
   "metadata": {},
   "outputs": [
    {
     "data": {
      "text/plain": [
       "550"
      ]
     },
     "execution_count": 111,
     "metadata": {},
     "output_type": "execute_result"
    }
   ],
   "source": [
    "sum(lst)"
   ]
  },
  {
   "cell_type": "code",
   "execution_count": 112,
   "id": "aa8a823f",
   "metadata": {},
   "outputs": [
    {
     "data": {
      "text/plain": [
       "['spam', 'eggs', 'beans', 'bacon', 'sausage']"
      ]
     },
     "execution_count": 112,
     "metadata": {},
     "output_type": "execute_result"
    }
   ],
   "source": [
    "items"
   ]
  },
  {
   "cell_type": "code",
   "execution_count": 113,
   "id": "1ed4715d",
   "metadata": {},
   "outputs": [
    {
     "data": {
      "text/plain": [
       "'spam'"
      ]
     },
     "execution_count": 113,
     "metadata": {},
     "output_type": "execute_result"
    }
   ],
   "source": [
    "# function behavior depends on the data type! \n",
    "max(items) "
   ]
  },
  {
   "cell_type": "code",
   "execution_count": 114,
   "id": "6858eb3b",
   "metadata": {},
   "outputs": [
    {
     "data": {
      "text/plain": [
       "'bacon'"
      ]
     },
     "execution_count": 114,
     "metadata": {},
     "output_type": "execute_result"
    }
   ],
   "source": [
    "min(items)"
   ]
  },
  {
   "cell_type": "code",
   "execution_count": 115,
   "id": "e5e7f979",
   "metadata": {},
   "outputs": [
    {
     "ename": "NameError",
     "evalue": "name 'mean' is not defined",
     "output_type": "error",
     "traceback": [
      "\u001b[1;31m---------------------------------------------------------------------------\u001b[0m",
      "\u001b[1;31mNameError\u001b[0m                                 Traceback (most recent call last)",
      "\u001b[1;32m~\\AppData\\Local\\Temp\\ipykernel_3048\\1959606051.py\u001b[0m in \u001b[0;36m<module>\u001b[1;34m\u001b[0m\n\u001b[1;32m----> 1\u001b[1;33m \u001b[0mmean\u001b[0m\u001b[1;33m(\u001b[0m\u001b[0mlst\u001b[0m\u001b[1;33m)\u001b[0m \u001b[1;31m# Where's the mean function ?\u001b[0m\u001b[1;33m\u001b[0m\u001b[1;33m\u001b[0m\u001b[0m\n\u001b[0m",
      "\u001b[1;31mNameError\u001b[0m: name 'mean' is not defined"
     ]
    }
   ],
   "source": [
    "mean(lst) # Where's the mean function ?"
   ]
  },
  {
   "cell_type": "code",
   "execution_count": 116,
   "id": "172c3575",
   "metadata": {},
   "outputs": [
    {
     "data": {
      "text/plain": [
       "50"
      ]
     },
     "execution_count": 116,
     "metadata": {},
     "output_type": "execute_result"
    }
   ],
   "source": [
    "# We can use functions written by other Pythonistas! We can import their functions using the from / import calls\n",
    "# Here, we import the mean function from the statistics module/library\n",
    "from statistics import mean\n",
    "mean(lst)"
   ]
  },
  {
   "cell_type": "code",
   "execution_count": 117,
   "id": "e3979bde",
   "metadata": {},
   "outputs": [
    {
     "ename": "TypeError",
     "evalue": "can't convert type 'str' to numerator/denominator",
     "output_type": "error",
     "traceback": [
      "\u001b[1;31m---------------------------------------------------------------------------\u001b[0m",
      "\u001b[1;31mTypeError\u001b[0m                                 Traceback (most recent call last)",
      "\u001b[1;32m~\\AppData\\Local\\Temp\\ipykernel_3048\\385744412.py\u001b[0m in \u001b[0;36m<module>\u001b[1;34m\u001b[0m\n\u001b[0;32m      1\u001b[0m \u001b[1;31m# Sometimes, a function is not compatible with a certain datatype, which will result in a \"TypeError\"\u001b[0m\u001b[1;33m\u001b[0m\u001b[1;33m\u001b[0m\u001b[0m\n\u001b[1;32m----> 2\u001b[1;33m \u001b[0mmean\u001b[0m\u001b[1;33m(\u001b[0m\u001b[1;34m\"test\"\u001b[0m\u001b[1;33m)\u001b[0m\u001b[1;33m\u001b[0m\u001b[1;33m\u001b[0m\u001b[0m\n\u001b[0m",
      "\u001b[1;32m~\\anaconda3\\lib\\statistics.py\u001b[0m in \u001b[0;36mmean\u001b[1;34m(data)\u001b[0m\n\u001b[0;32m    314\u001b[0m     \u001b[1;32mif\u001b[0m \u001b[0mn\u001b[0m \u001b[1;33m<\u001b[0m \u001b[1;36m1\u001b[0m\u001b[1;33m:\u001b[0m\u001b[1;33m\u001b[0m\u001b[1;33m\u001b[0m\u001b[0m\n\u001b[0;32m    315\u001b[0m         \u001b[1;32mraise\u001b[0m \u001b[0mStatisticsError\u001b[0m\u001b[1;33m(\u001b[0m\u001b[1;34m'mean requires at least one data point'\u001b[0m\u001b[1;33m)\u001b[0m\u001b[1;33m\u001b[0m\u001b[1;33m\u001b[0m\u001b[0m\n\u001b[1;32m--> 316\u001b[1;33m     \u001b[0mT\u001b[0m\u001b[1;33m,\u001b[0m \u001b[0mtotal\u001b[0m\u001b[1;33m,\u001b[0m \u001b[0mcount\u001b[0m \u001b[1;33m=\u001b[0m \u001b[0m_sum\u001b[0m\u001b[1;33m(\u001b[0m\u001b[0mdata\u001b[0m\u001b[1;33m)\u001b[0m\u001b[1;33m\u001b[0m\u001b[1;33m\u001b[0m\u001b[0m\n\u001b[0m\u001b[0;32m    317\u001b[0m     \u001b[1;32massert\u001b[0m \u001b[0mcount\u001b[0m \u001b[1;33m==\u001b[0m \u001b[0mn\u001b[0m\u001b[1;33m\u001b[0m\u001b[1;33m\u001b[0m\u001b[0m\n\u001b[0;32m    318\u001b[0m     \u001b[1;32mreturn\u001b[0m \u001b[0m_convert\u001b[0m\u001b[1;33m(\u001b[0m\u001b[0mtotal\u001b[0m \u001b[1;33m/\u001b[0m \u001b[0mn\u001b[0m\u001b[1;33m,\u001b[0m \u001b[0mT\u001b[0m\u001b[1;33m)\u001b[0m\u001b[1;33m\u001b[0m\u001b[1;33m\u001b[0m\u001b[0m\n",
      "\u001b[1;32m~\\anaconda3\\lib\\statistics.py\u001b[0m in \u001b[0;36m_sum\u001b[1;34m(data, start)\u001b[0m\n\u001b[0;32m    164\u001b[0m     \u001b[1;32mfor\u001b[0m \u001b[0mtyp\u001b[0m\u001b[1;33m,\u001b[0m \u001b[0mvalues\u001b[0m \u001b[1;32min\u001b[0m \u001b[0mgroupby\u001b[0m\u001b[1;33m(\u001b[0m\u001b[0mdata\u001b[0m\u001b[1;33m,\u001b[0m \u001b[0mtype\u001b[0m\u001b[1;33m)\u001b[0m\u001b[1;33m:\u001b[0m\u001b[1;33m\u001b[0m\u001b[1;33m\u001b[0m\u001b[0m\n\u001b[0;32m    165\u001b[0m         \u001b[0mT\u001b[0m \u001b[1;33m=\u001b[0m \u001b[0m_coerce\u001b[0m\u001b[1;33m(\u001b[0m\u001b[0mT\u001b[0m\u001b[1;33m,\u001b[0m \u001b[0mtyp\u001b[0m\u001b[1;33m)\u001b[0m  \u001b[1;31m# or raise TypeError\u001b[0m\u001b[1;33m\u001b[0m\u001b[1;33m\u001b[0m\u001b[0m\n\u001b[1;32m--> 166\u001b[1;33m         \u001b[1;32mfor\u001b[0m \u001b[0mn\u001b[0m\u001b[1;33m,\u001b[0m \u001b[0md\u001b[0m \u001b[1;32min\u001b[0m \u001b[0mmap\u001b[0m\u001b[1;33m(\u001b[0m\u001b[0m_exact_ratio\u001b[0m\u001b[1;33m,\u001b[0m \u001b[0mvalues\u001b[0m\u001b[1;33m)\u001b[0m\u001b[1;33m:\u001b[0m\u001b[1;33m\u001b[0m\u001b[1;33m\u001b[0m\u001b[0m\n\u001b[0m\u001b[0;32m    167\u001b[0m             \u001b[0mcount\u001b[0m \u001b[1;33m+=\u001b[0m \u001b[1;36m1\u001b[0m\u001b[1;33m\u001b[0m\u001b[1;33m\u001b[0m\u001b[0m\n\u001b[0;32m    168\u001b[0m             \u001b[0mpartials\u001b[0m\u001b[1;33m[\u001b[0m\u001b[0md\u001b[0m\u001b[1;33m]\u001b[0m \u001b[1;33m=\u001b[0m \u001b[0mpartials_get\u001b[0m\u001b[1;33m(\u001b[0m\u001b[0md\u001b[0m\u001b[1;33m,\u001b[0m \u001b[1;36m0\u001b[0m\u001b[1;33m)\u001b[0m \u001b[1;33m+\u001b[0m \u001b[0mn\u001b[0m\u001b[1;33m\u001b[0m\u001b[1;33m\u001b[0m\u001b[0m\n",
      "\u001b[1;32m~\\anaconda3\\lib\\statistics.py\u001b[0m in \u001b[0;36m_exact_ratio\u001b[1;34m(x)\u001b[0m\n\u001b[0;32m    246\u001b[0m         \u001b[1;32mreturn\u001b[0m \u001b[1;33m(\u001b[0m\u001b[0mx\u001b[0m\u001b[1;33m,\u001b[0m \u001b[1;32mNone\u001b[0m\u001b[1;33m)\u001b[0m\u001b[1;33m\u001b[0m\u001b[1;33m\u001b[0m\u001b[0m\n\u001b[0;32m    247\u001b[0m     \u001b[0mmsg\u001b[0m \u001b[1;33m=\u001b[0m \u001b[1;34m\"can't convert type '{}' to numerator/denominator\"\u001b[0m\u001b[1;33m\u001b[0m\u001b[1;33m\u001b[0m\u001b[0m\n\u001b[1;32m--> 248\u001b[1;33m     \u001b[1;32mraise\u001b[0m \u001b[0mTypeError\u001b[0m\u001b[1;33m(\u001b[0m\u001b[0mmsg\u001b[0m\u001b[1;33m.\u001b[0m\u001b[0mformat\u001b[0m\u001b[1;33m(\u001b[0m\u001b[0mtype\u001b[0m\u001b[1;33m(\u001b[0m\u001b[0mx\u001b[0m\u001b[1;33m)\u001b[0m\u001b[1;33m.\u001b[0m\u001b[0m__name__\u001b[0m\u001b[1;33m)\u001b[0m\u001b[1;33m)\u001b[0m\u001b[1;33m\u001b[0m\u001b[1;33m\u001b[0m\u001b[0m\n\u001b[0m\u001b[0;32m    249\u001b[0m \u001b[1;33m\u001b[0m\u001b[0m\n\u001b[0;32m    250\u001b[0m \u001b[1;33m\u001b[0m\u001b[0m\n",
      "\u001b[1;31mTypeError\u001b[0m: can't convert type 'str' to numerator/denominator"
     ]
    }
   ],
   "source": [
    "# Sometimes, a function is not compatible with a certain datatype, which will result in a \"TypeError\"\n",
    "mean(\"test\")"
   ]
  },
  {
   "cell_type": "code",
   "execution_count": 118,
   "id": "a79c4d1e",
   "metadata": {},
   "outputs": [
    {
     "data": {
      "text/plain": [
       "52"
      ]
     },
     "execution_count": 118,
     "metadata": {},
     "output_type": "execute_result"
    }
   ],
   "source": [
    "round(51.63452)"
   ]
  },
  {
   "cell_type": "code",
   "execution_count": 120,
   "id": "358a93fd",
   "metadata": {},
   "outputs": [
    {
     "data": {
      "text/plain": [
       "51.63"
      ]
     },
     "execution_count": 120,
     "metadata": {},
     "output_type": "execute_result"
    }
   ],
   "source": [
    "# Some functions can use multiple arguments. \n",
    "# You can tell the round() function for example how many decimal places to round to:\n",
    "round(51.63452,2)"
   ]
  },
  {
   "cell_type": "code",
   "execution_count": 122,
   "id": "a0a887fa",
   "metadata": {},
   "outputs": [
    {
     "data": {
      "text/plain": [
       "\u001b[1;31mSignature:\u001b[0m \u001b[0mround\u001b[0m\u001b[1;33m(\u001b[0m\u001b[0mnumber\u001b[0m\u001b[1;33m,\u001b[0m \u001b[0mndigits\u001b[0m\u001b[1;33m=\u001b[0m\u001b[1;32mNone\u001b[0m\u001b[1;33m)\u001b[0m\u001b[1;33m\u001b[0m\u001b[1;33m\u001b[0m\u001b[0m\n",
       "\u001b[1;31mDocstring:\u001b[0m\n",
       "Round a number to a given precision in decimal digits.\n",
       "\n",
       "The return value is an integer if ndigits is omitted or None.  Otherwise\n",
       "the return value has the same type as the number.  ndigits may be negative.\n",
       "\u001b[1;31mType:\u001b[0m      builtin_function_or_method\n"
      ]
     },
     "metadata": {},
     "output_type": "display_data"
    }
   ],
   "source": [
    "# ? followed by a function name opens a help menu\n",
    "?round"
   ]
  },
  {
   "cell_type": "code",
   "execution_count": 123,
   "id": "c9acb0dd",
   "metadata": {},
   "outputs": [
    {
     "data": {
      "text/plain": [
       "51.63"
      ]
     },
     "execution_count": 123,
     "metadata": {},
     "output_type": "execute_result"
    }
   ],
   "source": [
    "# When setting the arguments to a function, you can name them or rely on their default order\n",
    "round(number=51.63452, ndigits=2)"
   ]
  },
  {
   "cell_type": "code",
   "execution_count": 14,
   "id": "bdc2ae7f-16a9-4784-855c-0ca47606ba1d",
   "metadata": {},
   "outputs": [
    {
     "data": {
      "text/plain": [
       "51.63"
      ]
     },
     "execution_count": 14,
     "metadata": {},
     "output_type": "execute_result"
    }
   ],
   "source": [
    "round( ndigits=2, number=51.63452)"
   ]
  },
  {
   "cell_type": "code",
   "execution_count": 125,
   "id": "3c7ecd7b",
   "metadata": {},
   "outputs": [
    {
     "ename": "SyntaxError",
     "evalue": "positional argument follows keyword argument (2550835299.py, line 3)",
     "output_type": "error",
     "traceback": [
      "\u001b[1;36m  File \u001b[1;32m\"C:\\Users\\nicho\\AppData\\Local\\Temp\\ipykernel_3048\\2550835299.py\"\u001b[1;36m, line \u001b[1;32m3\u001b[0m\n\u001b[1;33m    round( ndigits=2, 51.63452)\u001b[0m\n\u001b[1;37m                              ^\u001b[0m\n\u001b[1;31mSyntaxError\u001b[0m\u001b[1;31m:\u001b[0m positional argument follows keyword argument\n"
     ]
    }
   ],
   "source": [
    "# \"SyntaxError\" here, because the function expects the unnamed second argument to be ndigits.\n",
    "# So be careful when defining function arguments based on position!\n",
    "round( ndigits=2, 51.63452) "
   ]
  },
  {
   "cell_type": "code",
   "execution_count": 126,
   "id": "d43ad101",
   "metadata": {},
   "outputs": [
    {
     "data": {
      "text/plain": [
       "11"
      ]
     },
     "execution_count": 126,
     "metadata": {},
     "output_type": "execute_result"
    }
   ],
   "source": [
    "len(lst)"
   ]
  },
  {
   "cell_type": "markdown",
   "id": "c5d7c455",
   "metadata": {},
   "source": [
    "##### Challenge: Use the sum function to sum the numbers 1 to 10,000"
   ]
  },
  {
   "cell_type": "markdown",
   "id": "a16980f9",
   "metadata": {},
   "source": [
    "##### Challenge: Look at documentation for the pop() function. Then practice using it!"
   ]
  },
  {
   "cell_type": "markdown",
   "id": "d7429149",
   "metadata": {},
   "source": [
    "##### Challenge: Can you find a function that will allow you to create a list of length 100 where every element is 99? Hint: Use google!"
   ]
  },
  {
   "cell_type": "markdown",
   "id": "b0546319",
   "metadata": {},
   "source": [
    "## 11. Methods <a class=\"anchor\" id=\"bullet11\"></a>"
   ]
  },
  {
   "cell_type": "markdown",
   "id": "b0886a93",
   "metadata": {},
   "source": [
    "Some data types allow you to use special functions called **methods**. Methods are accessed by appending a `.` to the end of an object name, followed by particular method. See below.\n",
    "\n",
    "In other words, a method is a function that is available to make our code more redable."
   ]
  },
  {
   "cell_type": "code",
   "execution_count": 127,
   "id": "f60dee41",
   "metadata": {},
   "outputs": [],
   "source": [
    "a = (1, 2, 3, 3, 2, 22, 1, 2)"
   ]
  },
  {
   "cell_type": "code",
   "execution_count": 128,
   "id": "d1b46a60",
   "metadata": {},
   "outputs": [
    {
     "data": {
      "text/plain": [
       "3"
      ]
     },
     "execution_count": 128,
     "metadata": {},
     "output_type": "execute_result"
    }
   ],
   "source": [
    "a.count(2) # a method which counts the number of 2s"
   ]
  },
  {
   "cell_type": "code",
   "execution_count": 129,
   "id": "b82c8014",
   "metadata": {},
   "outputs": [
    {
     "data": {
      "text/plain": [
       "'String'"
      ]
     },
     "execution_count": 129,
     "metadata": {},
     "output_type": "execute_result"
    }
   ],
   "source": [
    "b = 'string'\n",
    "b.replace('s', 'S')"
   ]
  },
  {
   "cell_type": "code",
   "execution_count": 130,
   "id": "f3e8fa10-17d2-496c-834d-ac75523b4956",
   "metadata": {},
   "outputs": [
    {
     "data": {
      "text/plain": [
       "'StringS'"
      ]
     },
     "execution_count": 130,
     "metadata": {},
     "output_type": "execute_result"
    }
   ],
   "source": [
    "b = 'strings'\n",
    "b.replace('s', 'S')"
   ]
  },
  {
   "cell_type": "code",
   "execution_count": 131,
   "id": "afceb6bd",
   "metadata": {},
   "outputs": [
    {
     "data": {
      "text/plain": [
       "'strings'"
      ]
     },
     "execution_count": 131,
     "metadata": {},
     "output_type": "execute_result"
    }
   ],
   "source": [
    "b # Be aware that sometimes when you call a function/method, it may not neccessarily update the underlying object"
   ]
  },
  {
   "cell_type": "markdown",
   "id": "ef9681ec-f238-4aa2-a4ce-86e7686b2fbe",
   "metadata": {},
   "source": [
    "There is a difference between working with a view of a data object and a copy of that data object. See the data camp chapter 2 slide I posted, where there are several good slides and visuals on this. This is tricky, and takes some getting used to. "
   ]
  },
  {
   "cell_type": "markdown",
   "id": "c9f756eb-b05d-4eae-bc8f-c49bc7819910",
   "metadata": {},
   "source": [
    "The main difference between a copy and a view of an array is that the copy is a new array, and the view is just a view of the original array. The copy owns the data and any changes made to the copy will not affect original array, and any changes made to the original array will not affect the copy. \n",
    "\n",
    "The command `b.replace('s', 'S')` creates a view of the `b` array where we capitalize the lower case s wherever it appears.  But this command is not being saved to the original array."
   ]
  },
  {
   "cell_type": "code",
   "execution_count": 13,
   "id": "c84971f2-99aa-4688-95a1-ad513db902a9",
   "metadata": {},
   "outputs": [
    {
     "name": "stdout",
     "output_type": "stream",
     "text": [
      "['a', 'b', 'c']\n"
     ]
    }
   ],
   "source": [
    "x = [\"a\", \"b\", \"c\"]\n",
    "print(x)"
   ]
  },
  {
   "cell_type": "code",
   "execution_count": 14,
   "id": "2741a829-1de4-47fc-b22f-3c13c5eff9c0",
   "metadata": {},
   "outputs": [
    {
     "name": "stdout",
     "output_type": "stream",
     "text": [
      "['a', 'z', 'c']\n"
     ]
    }
   ],
   "source": [
    "y = x\n",
    "y[1] = \"z\"\n",
    "print(y)"
   ]
  },
  {
   "cell_type": "code",
   "execution_count": 16,
   "id": "4aeb1d0a-9b7e-4d33-b582-09c98c046570",
   "metadata": {},
   "outputs": [
    {
     "name": "stdout",
     "output_type": "stream",
     "text": [
      "['a', 'z', 'c']\n"
     ]
    }
   ],
   "source": [
    "print(x) # x and y are referring to the same underlying object, so when you update y \n",
    "         # it is going to update x since they are both pointing to the same data array"
   ]
  },
  {
   "cell_type": "code",
   "execution_count": 17,
   "id": "26f0b8c5-3ec2-452c-9e79-3f684fce3cd9",
   "metadata": {},
   "outputs": [
    {
     "name": "stdout",
     "output_type": "stream",
     "text": [
      "['a', 'b', 'c']\n",
      "['a', 'z', 'c']\n"
     ]
    }
   ],
   "source": [
    "x = [\"a\", \"b\", \"c\"]\n",
    "y = list(x)  # this creates a separate copy, so y and x are now stored as separate objects in your PC's memory\n",
    "y[1] = \"z\"\n",
    "print(x)\n",
    "print(y)"
   ]
  },
  {
   "cell_type": "code",
   "execution_count": 20,
   "id": "7d20a019-adeb-4096-8c7d-9f35ef19b276",
   "metadata": {},
   "outputs": [
    {
     "name": "stdout",
     "output_type": "stream",
     "text": [
      "['a', 'b', 'c']\n",
      "['a', 'z', 'c']\n"
     ]
    }
   ],
   "source": [
    "x = [\"a\", \"b\", \"c\"]\n",
    "y = x[:]  # A 2nd way to create a separate copy\n",
    "y[1] = \"z\"\n",
    "print(x)\n",
    "print(y)"
   ]
  },
  {
   "cell_type": "code",
   "execution_count": 132,
   "id": "c8b44270",
   "metadata": {},
   "outputs": [
    {
     "ename": "AttributeError",
     "evalue": "'tuple' object has no attribute 'replace'",
     "output_type": "error",
     "traceback": [
      "\u001b[1;31m---------------------------------------------------------------------------\u001b[0m",
      "\u001b[1;31mAttributeError\u001b[0m                            Traceback (most recent call last)",
      "\u001b[1;32m~\\AppData\\Local\\Temp\\ipykernel_3048\\4172441015.py\u001b[0m in \u001b[0;36m<module>\u001b[1;34m\u001b[0m\n\u001b[1;32m----> 1\u001b[1;33m \u001b[0ma\u001b[0m\u001b[1;33m.\u001b[0m\u001b[0mreplace\u001b[0m\u001b[1;33m(\u001b[0m\u001b[1;36m1\u001b[0m\u001b[1;33m,\u001b[0m \u001b[1;36m99\u001b[0m\u001b[1;33m)\u001b[0m  \u001b[1;31m# methods depend on data types! Because tuples are immutable, we cannot use the replace method\u001b[0m\u001b[1;33m\u001b[0m\u001b[1;33m\u001b[0m\u001b[0m\n\u001b[0m",
      "\u001b[1;31mAttributeError\u001b[0m: 'tuple' object has no attribute 'replace'"
     ]
    }
   ],
   "source": [
    "a.replace(1, 99)  # methods depend on data types! Because tuples are immutable, we cannot use the replace method"
   ]
  },
  {
   "cell_type": "code",
   "execution_count": 133,
   "id": "1d629544",
   "metadata": {},
   "outputs": [
    {
     "ename": "AttributeError",
     "evalue": "'tuple' object has no attribute 'append'",
     "output_type": "error",
     "traceback": [
      "\u001b[1;31m---------------------------------------------------------------------------\u001b[0m",
      "\u001b[1;31mAttributeError\u001b[0m                            Traceback (most recent call last)",
      "\u001b[1;32m~\\AppData\\Local\\Temp\\ipykernel_3048\\3497594127.py\u001b[0m in \u001b[0;36m<module>\u001b[1;34m\u001b[0m\n\u001b[1;32m----> 1\u001b[1;33m \u001b[0ma\u001b[0m\u001b[1;33m.\u001b[0m\u001b[0mappend\u001b[0m\u001b[1;33m(\u001b[0m\u001b[1;36m2\u001b[0m\u001b[1;33m)\u001b[0m \u001b[1;31m# We also cannot append to tuples since tuples are immutable\u001b[0m\u001b[1;33m\u001b[0m\u001b[1;33m\u001b[0m\u001b[0m\n\u001b[0m",
      "\u001b[1;31mAttributeError\u001b[0m: 'tuple' object has no attribute 'append'"
     ]
    }
   ],
   "source": [
    "a.append(2) # We also cannot append to tuples since tuples are immutable"
   ]
  },
  {
   "cell_type": "code",
   "execution_count": 139,
   "id": "cb3858b4",
   "metadata": {},
   "outputs": [
    {
     "data": {
      "text/plain": [
       "[1, 2, 3, 4, 4, 4, 4, 5]"
      ]
     },
     "execution_count": 139,
     "metadata": {},
     "output_type": "execute_result"
    }
   ],
   "source": [
    "c = [1, 2, 3, 4, 4, 4, 4]\n",
    "c.append(5)   # The append method can modify list objects however\n",
    "c"
   ]
  },
  {
   "cell_type": "code",
   "execution_count": 141,
   "id": "97bf67a6",
   "metadata": {},
   "outputs": [
    {
     "data": {
      "text/plain": [
       "[1, 2, 3, 4, 4, 5]"
      ]
     },
     "execution_count": 141,
     "metadata": {},
     "output_type": "execute_result"
    }
   ],
   "source": [
    "c.remove(4) # the remove method removes the first element which is an integer 4 data type\n",
    "c"
   ]
  },
  {
   "cell_type": "markdown",
   "id": "84bd568a",
   "metadata": {},
   "source": [
    "## 12. Installing Other Python Packages <a class=\"anchor\" id=\"bullet12\"></a>"
   ]
  },
  {
   "cell_type": "markdown",
   "id": "8bec352c",
   "metadata": {},
   "source": [
    "In general, you should not need to install many, if any, extra python packages when you use the Anaconda distribution. This is because it already comes with the most popular packages that people use! \n",
    "\n",
    "But, you can install packages from the Anaconda Prompt with the following code `pip install package_name`\n",
    "For example, if you want to install the **pyautogui** library, open your conda terminal and paste in the following code:\n",
    "`pip install pyautogui`"
   ]
  }
 ],
 "metadata": {
  "kernelspec": {
   "display_name": "Python 3 (ipykernel)",
   "language": "python",
   "name": "python3"
  },
  "language_info": {
   "codemirror_mode": {
    "name": "ipython",
    "version": 3
   },
   "file_extension": ".py",
   "mimetype": "text/x-python",
   "name": "python",
   "nbconvert_exporter": "python",
   "pygments_lexer": "ipython3",
   "version": "3.9.13"
  }
 },
 "nbformat": 4,
 "nbformat_minor": 5
}
