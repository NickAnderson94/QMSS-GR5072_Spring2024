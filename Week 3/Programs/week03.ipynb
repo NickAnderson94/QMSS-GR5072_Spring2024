{
 "cells": [
  {
   "cell_type": "markdown",
   "id": "be7ffeab",
   "metadata": {},
   "source": [
    "# Week 3: Numpy"
   ]
  },
  {
   "cell_type": "markdown",
   "id": "fc906826",
   "metadata": {},
   "source": [
    "### Table of Contents"
   ]
  },
  {
   "cell_type": "markdown",
   "id": "9b0149c5",
   "metadata": {},
   "source": [
    "0. [A few things from base python first](#bullet0)\n",
    "1. [Intialize an array](#bullet1)\n",
    "2. [Operations with arrays](#bullet2)\n",
    "3. [Converting a list to an array](#bullet3)\n",
    "4. [Nested arrays](#bullet4)\n",
    "5. [Numpy shortcut functions](#bullet5)\n",
    "6. [dtype attribute](#bullet6)\n",
    "7. [Indexing and Slicing](#bullet7)\n",
    "8. [copy function](#bullet8)\n",
    "9. [Boolean Indexing](#bullet9)\n",
    "10. [Reshaping and Transposing Arrays](#bullet10)\n",
    "11. [Uniform and Standard Normal Distributions](#bullet11)\n",
    "12. [Universal Functions](#bullet12)\n",
    "13. [np.where and list comprehensions](#bullet13)\n",
    "14. [Mathematical and Statistical Methods](#bullet14)\n",
    "15. [Methods for Boolean arrays](#bullet15)\n",
    "16. [Sorting](#bullet16)\n",
    "17. [The unique function](#bullet17)\n",
    "18. [Linear Algebra](#bullet18)"
   ]
  },
  {
   "cell_type": "markdown",
   "id": "6f23824f",
   "metadata": {},
   "source": [
    "## 0. A few things from base python first  <a class=\"anchor\" id=\"bullet0\"></a>"
   ]
  },
  {
   "cell_type": "markdown",
   "id": "53d24d71",
   "metadata": {},
   "source": [
    "##### Changing your working directory"
   ]
  },
  {
   "cell_type": "markdown",
   "id": "c156dbcd",
   "metadata": {},
   "source": [
    "It is common for Python to interact with your hard drive to read and write data. There will always be a default working directory. Let's start with checking what it is. Then, we'll learn how to change it. "
   ]
  },
  {
   "cell_type": "code",
   "execution_count": 24,
   "id": "6f0fc406",
   "metadata": {},
   "outputs": [
    {
     "data": {
      "text/plain": [
       "'C:\\\\Users\\\\nicho\\\\Desktop\\\\1 Modern Data Structures - GR5072\\\\QMSS-GR5072_Spring2024\\\\Week 3\\\\Programs'"
      ]
     },
     "execution_count": 24,
     "metadata": {},
     "output_type": "execute_result"
    }
   ],
   "source": [
    "import os # Part of the standard libraries you get, you'll never need to install but you do need to import\n",
    "os.getcwd() # get the current working directory"
   ]
  },
  {
   "cell_type": "code",
   "execution_count": 26,
   "id": "9b6e005e",
   "metadata": {},
   "outputs": [
    {
     "data": {
      "text/plain": [
       "'C:\\\\Users\\\\nicho\\\\Desktop\\\\1 Modern Data Structures - GR5072\\\\QMSS-GR5072_Spring2024\\\\Week 3'"
      ]
     },
     "execution_count": 26,
     "metadata": {},
     "output_type": "execute_result"
    }
   ],
   "source": [
    "import os \n",
    "os.chdir(r\"C:\\Users\\nicho\\Desktop\\1 Modern Data Structures - GR5072\\QMSS-GR5072_Spring2024\\Week 3\") \n",
    "os.getcwd()"
   ]
  },
  {
   "cell_type": "markdown",
   "id": "b49eb5c0",
   "metadata": {},
   "source": [
    "##### Importing data into Python - Using the open() context manager"
   ]
  },
  {
   "cell_type": "markdown",
   "id": "7f7adc1f",
   "metadata": {},
   "source": [
    "Over the course of the semester, we will learn many ways to import data into python, from using SQL databases, web scraping, or from APIs. This week, we will start with the basics when it comes to importing data: excel and text files. \n",
    "\n",
    "Let's start with opening `.txt` files. The `open()` function accepts two essential parameters: the file name and the mode. The default mode is 'r' , which opens the file for reading only. The `open()` function is a **context manager**, which in this case makes sure the connection to the file automatically closes when you are done with the connection. This frees up some RAM memory. \n",
    "\n",
    "Context managers are objects to be used with the python `with` keyword. It runs code when entering the block and exiting the block, i.e., it performs **setup and teardown steps**. Context managers let you avoid `try()` and `finally()` blocks of code (which we will study in depth later), in that no matter how the block exits, you get to execute some more code at the end of the block - even if the block raises an **exception** or uses a `return()` call to exit a function. We use context managers when you want to clean up or take other actions after a block ends."
   ]
  },
  {
   "cell_type": "code",
   "execution_count": 16,
   "id": "bb4d8acb",
   "metadata": {},
   "outputs": [
    {
     "data": {
      "text/plain": [
       "'C:\\\\Users\\\\nicho\\\\Desktop\\\\1 Modern Data Structures - GR5072\\\\QMSS-GR5072_Spring2024\\\\Week 3\\\\Data\\\\Importing data test.xlsx'"
      ]
     },
     "execution_count": 16,
     "metadata": {},
     "output_type": "execute_result"
    }
   ],
   "source": [
    "path = r\"C:\\Users\\nicho\\Desktop\\1 Modern Data Structures - GR5072\\QMSS-GR5072_Spring2024\\Week 3\\Data\"\n",
    "path + r\"\\Importing data test.xlsx\""
   ]
  },
  {
   "cell_type": "code",
   "execution_count": 17,
   "id": "54fc3e29",
   "metadata": {},
   "outputs": [
    {
     "name": "stdout",
     "output_type": "stream",
     "text": [
      "\n"
     ]
    }
   ],
   "source": [
    "with open(path + r\"\\Importing data test.txt\") as f:\n",
    "    print(f.read())"
   ]
  },
  {
   "cell_type": "markdown",
   "id": "f39debd5-f8dc-4ee7-bf71-22db3554fa82",
   "metadata": {},
   "source": [
    "##### Importing .xlsx data into Python"
   ]
  },
  {
   "cell_type": "code",
   "execution_count": 20,
   "id": "e6f03c3d",
   "metadata": {},
   "outputs": [
    {
     "ename": "UnicodeDecodeError",
     "evalue": "'charmap' codec can't decode byte 0x9d in position 16: character maps to <undefined>",
     "output_type": "error",
     "traceback": [
      "\u001b[1;31m---------------------------------------------------------------------------\u001b[0m",
      "\u001b[1;31mUnicodeDecodeError\u001b[0m                        Traceback (most recent call last)",
      "\u001b[1;32m~\\AppData\\Local\\Temp\\ipykernel_17908\\281148617.py\u001b[0m in \u001b[0;36m<module>\u001b[1;34m\u001b[0m\n\u001b[0;32m      1\u001b[0m \u001b[1;31m# Note that we cannot import the .xlsx file this way\u001b[0m\u001b[1;33m\u001b[0m\u001b[1;33m\u001b[0m\u001b[0m\n\u001b[0;32m      2\u001b[0m \u001b[1;32mwith\u001b[0m \u001b[0mopen\u001b[0m\u001b[1;33m(\u001b[0m\u001b[0mpath\u001b[0m \u001b[1;33m+\u001b[0m \u001b[1;34mr\"\\Importing data test.xlsx\"\u001b[0m\u001b[1;33m)\u001b[0m \u001b[1;32mas\u001b[0m \u001b[0mf\u001b[0m\u001b[1;33m:\u001b[0m\u001b[1;33m\u001b[0m\u001b[1;33m\u001b[0m\u001b[0m\n\u001b[1;32m----> 3\u001b[1;33m     \u001b[0mdf1\u001b[0m \u001b[1;33m=\u001b[0m \u001b[0mf\u001b[0m\u001b[1;33m.\u001b[0m\u001b[0mread\u001b[0m\u001b[1;33m(\u001b[0m\u001b[1;33m)\u001b[0m\u001b[1;33m\u001b[0m\u001b[1;33m\u001b[0m\u001b[0m\n\u001b[0m",
      "\u001b[1;32m~\\anaconda3\\lib\\encodings\\cp1252.py\u001b[0m in \u001b[0;36mdecode\u001b[1;34m(self, input, final)\u001b[0m\n\u001b[0;32m     21\u001b[0m \u001b[1;32mclass\u001b[0m \u001b[0mIncrementalDecoder\u001b[0m\u001b[1;33m(\u001b[0m\u001b[0mcodecs\u001b[0m\u001b[1;33m.\u001b[0m\u001b[0mIncrementalDecoder\u001b[0m\u001b[1;33m)\u001b[0m\u001b[1;33m:\u001b[0m\u001b[1;33m\u001b[0m\u001b[1;33m\u001b[0m\u001b[0m\n\u001b[0;32m     22\u001b[0m     \u001b[1;32mdef\u001b[0m \u001b[0mdecode\u001b[0m\u001b[1;33m(\u001b[0m\u001b[0mself\u001b[0m\u001b[1;33m,\u001b[0m \u001b[0minput\u001b[0m\u001b[1;33m,\u001b[0m \u001b[0mfinal\u001b[0m\u001b[1;33m=\u001b[0m\u001b[1;32mFalse\u001b[0m\u001b[1;33m)\u001b[0m\u001b[1;33m:\u001b[0m\u001b[1;33m\u001b[0m\u001b[1;33m\u001b[0m\u001b[0m\n\u001b[1;32m---> 23\u001b[1;33m         \u001b[1;32mreturn\u001b[0m \u001b[0mcodecs\u001b[0m\u001b[1;33m.\u001b[0m\u001b[0mcharmap_decode\u001b[0m\u001b[1;33m(\u001b[0m\u001b[0minput\u001b[0m\u001b[1;33m,\u001b[0m\u001b[0mself\u001b[0m\u001b[1;33m.\u001b[0m\u001b[0merrors\u001b[0m\u001b[1;33m,\u001b[0m\u001b[0mdecoding_table\u001b[0m\u001b[1;33m)\u001b[0m\u001b[1;33m[\u001b[0m\u001b[1;36m0\u001b[0m\u001b[1;33m]\u001b[0m\u001b[1;33m\u001b[0m\u001b[1;33m\u001b[0m\u001b[0m\n\u001b[0m\u001b[0;32m     24\u001b[0m \u001b[1;33m\u001b[0m\u001b[0m\n\u001b[0;32m     25\u001b[0m \u001b[1;32mclass\u001b[0m \u001b[0mStreamWriter\u001b[0m\u001b[1;33m(\u001b[0m\u001b[0mCodec\u001b[0m\u001b[1;33m,\u001b[0m\u001b[0mcodecs\u001b[0m\u001b[1;33m.\u001b[0m\u001b[0mStreamWriter\u001b[0m\u001b[1;33m)\u001b[0m\u001b[1;33m:\u001b[0m\u001b[1;33m\u001b[0m\u001b[1;33m\u001b[0m\u001b[0m\n",
      "\u001b[1;31mUnicodeDecodeError\u001b[0m: 'charmap' codec can't decode byte 0x9d in position 16: character maps to <undefined>"
     ]
    }
   ],
   "source": [
    "# Note that we cannot import the .xlsx file this way\n",
    "with open(path + r\"\\Importing data test.xlsx\") as f:\n",
    "    df1 = f.read()"
   ]
  },
  {
   "cell_type": "code",
   "execution_count": 19,
   "id": "2f545041",
   "metadata": {},
   "outputs": [
    {
     "data": {
      "text/html": [
       "<div>\n",
       "<style scoped>\n",
       "    .dataframe tbody tr th:only-of-type {\n",
       "        vertical-align: middle;\n",
       "    }\n",
       "\n",
       "    .dataframe tbody tr th {\n",
       "        vertical-align: top;\n",
       "    }\n",
       "\n",
       "    .dataframe thead th {\n",
       "        text-align: right;\n",
       "    }\n",
       "</style>\n",
       "<table border=\"1\" class=\"dataframe\">\n",
       "  <thead>\n",
       "    <tr style=\"text-align: right;\">\n",
       "      <th></th>\n",
       "      <th>Y</th>\n",
       "    </tr>\n",
       "    <tr>\n",
       "      <th>X</th>\n",
       "      <th></th>\n",
       "    </tr>\n",
       "  </thead>\n",
       "  <tbody>\n",
       "    <tr>\n",
       "      <th>5</th>\n",
       "      <td>7</td>\n",
       "    </tr>\n",
       "    <tr>\n",
       "      <th>4</th>\n",
       "      <td>6</td>\n",
       "    </tr>\n",
       "    <tr>\n",
       "      <th>2</th>\n",
       "      <td>4</td>\n",
       "    </tr>\n",
       "    <tr>\n",
       "      <th>7</th>\n",
       "      <td>10</td>\n",
       "    </tr>\n",
       "    <tr>\n",
       "      <th>7</th>\n",
       "      <td>10</td>\n",
       "    </tr>\n",
       "    <tr>\n",
       "      <th>5</th>\n",
       "      <td>3</td>\n",
       "    </tr>\n",
       "  </tbody>\n",
       "</table>\n",
       "</div>"
      ],
      "text/plain": [
       "    Y\n",
       "X    \n",
       "5   7\n",
       "4   6\n",
       "2   4\n",
       "7  10\n",
       "7  10\n",
       "5   3"
      ]
     },
     "execution_count": 19,
     "metadata": {},
     "output_type": "execute_result"
    }
   ],
   "source": [
    "# import excel file using pandas \n",
    "import pandas as pd\n",
    "pd.read_excel(path + r\"\\Importing data test.xlsx\", index_col=0)  "
   ]
  },
  {
   "cell_type": "markdown",
   "id": "40274271",
   "metadata": {},
   "source": [
    "##### Tuple unpacking"
   ]
  },
  {
   "cell_type": "markdown",
   "id": "af368fe2",
   "metadata": {},
   "source": [
    "This is important to know because as you interact with some packages/libraries, they will either return their results as tuples or you might have to input data as tuples. The key thing to remember about tuples is that they are **immutable**, so once they are made they cannot be edited."
   ]
  },
  {
   "cell_type": "code",
   "execution_count": 35,
   "id": "ec99fd65",
   "metadata": {},
   "outputs": [
    {
     "name": "stdout",
     "output_type": "stream",
     "text": [
      "apple\n",
      "banana\n",
      "cherry\n"
     ]
    }
   ],
   "source": [
    "fruits = (\"apple\", \"banana\", \"cherry\")\n",
    "\n",
    "# Unpack this into variable names\n",
    "(green, yellow, red) = fruits\n",
    "\n",
    "print(green)\n",
    "print(yellow)\n",
    "print(red)"
   ]
  },
  {
   "cell_type": "code",
   "execution_count": 36,
   "id": "c3705f07",
   "metadata": {},
   "outputs": [
    {
     "name": "stdout",
     "output_type": "stream",
     "text": [
      "<class 'str'>\n",
      "appleapple\n"
     ]
    }
   ],
   "source": [
    "print(type(green)) # The individual tuple elements are not tuples! You can change/edit these values\n",
    "green = green + green \n",
    "print(green)"
   ]
  },
  {
   "cell_type": "markdown",
   "id": "30714916",
   "metadata": {},
   "source": [
    "## 1. Intialize an array <a class=\"anchor\" id=\"bullet1\"></a>"
   ]
  },
  {
   "cell_type": "code",
   "execution_count": 1,
   "id": "3013f9dc",
   "metadata": {},
   "outputs": [],
   "source": [
    "## importing necessary libraries\n",
    "import numpy as np "
   ]
  },
  {
   "cell_type": "markdown",
   "id": "bf2095ce",
   "metadata": {},
   "source": [
    "One of the features of NumPy is its **N-dimensional array object**. "
   ]
  },
  {
   "cell_type": "code",
   "execution_count": 2,
   "id": "ee5c9432",
   "metadata": {},
   "outputs": [
    {
     "name": "stdout",
     "output_type": "stream",
     "text": [
      "[1 2 3 4 5]\n"
     ]
    }
   ],
   "source": [
    "# use np.array to intialize a new ndarray object\n",
    "arr1 = np.array([1, 2, 3, 4, 5])\n",
    "print(arr1)"
   ]
  },
  {
   "cell_type": "code",
   "execution_count": 17,
   "id": "588ed824",
   "metadata": {},
   "outputs": [
    {
     "name": "stdout",
     "output_type": "stream",
     "text": [
      "[[10 20 30]\n",
      " [ 5 10 15]\n",
      " [ 1  1  1]]\n"
     ]
    }
   ],
   "source": [
    "arr2 = np.array([[10, 20, 30], [5, 10, 15], [1, 1, 1]]) # nested 2D array (aka, a matrix)\n",
    "print(arr2)"
   ]
  },
  {
   "cell_type": "markdown",
   "id": "98a0416a",
   "metadata": {},
   "source": [
    "## 2. Operations with arrays <a class=\"anchor\" id=\"bullet2\"></a>"
   ]
  },
  {
   "cell_type": "code",
   "execution_count": 6,
   "id": "1e4ab014",
   "metadata": {},
   "outputs": [
    {
     "data": {
      "text/plain": [
       "array([10, 20, 30, 40, 50])"
      ]
     },
     "execution_count": 6,
     "metadata": {},
     "output_type": "execute_result"
    }
   ],
   "source": [
    "# scale an entire ndarray\n",
    "arr1 * 10"
   ]
  },
  {
   "cell_type": "code",
   "execution_count": 7,
   "id": "a732f2ee",
   "metadata": {},
   "outputs": [
    {
     "data": {
      "text/plain": [
       "array([[2. , 4. , 6. ],\n",
       "       [1. , 2. , 3. ],\n",
       "       [0.2, 0.2, 0.2]])"
      ]
     },
     "execution_count": 7,
     "metadata": {},
     "output_type": "execute_result"
    }
   ],
   "source": [
    "# scale an entire ndarray\n",
    "arr2 / 5"
   ]
  },
  {
   "cell_type": "code",
   "execution_count": 10,
   "id": "3393ef3b",
   "metadata": {},
   "outputs": [
    {
     "data": {
      "text/plain": [
       "array([2, 3, 4, 5, 6])"
      ]
     },
     "execution_count": 10,
     "metadata": {},
     "output_type": "execute_result"
    }
   ],
   "source": [
    "# can add/subtract a value to every element in an entire ndarray\n",
    "arr1 + 1 # Notice how the \"+\" operator's behavior depends on the object type. \n",
    "         # Recall that for lists, this operate concatenates or combines two lists into one"
   ]
  },
  {
   "cell_type": "code",
   "execution_count": 11,
   "id": "bc995107",
   "metadata": {},
   "outputs": [
    {
     "data": {
      "text/plain": [
       "array([[ 9, 19, 29],\n",
       "       [ 4,  9, 14],\n",
       "       [ 0,  0,  0]])"
      ]
     },
     "execution_count": 11,
     "metadata": {},
     "output_type": "execute_result"
    }
   ],
   "source": [
    "arr2 - 1"
   ]
  },
  {
   "cell_type": "code",
   "execution_count": 12,
   "id": "36645ea9",
   "metadata": {},
   "outputs": [
    {
     "data": {
      "text/plain": [
       "array([ 2,  4,  6,  8, 10])"
      ]
     },
     "execution_count": 12,
     "metadata": {},
     "output_type": "execute_result"
    }
   ],
   "source": [
    "# can add/subtract arrays of the same dimension\n",
    "arr1 + arr1"
   ]
  },
  {
   "cell_type": "code",
   "execution_count": 13,
   "id": "f8194e2d",
   "metadata": {},
   "outputs": [
    {
     "data": {
      "text/plain": [
       "array([[20, 40, 60],\n",
       "       [10, 20, 30],\n",
       "       [ 2,  2,  2]])"
      ]
     },
     "execution_count": 13,
     "metadata": {},
     "output_type": "execute_result"
    }
   ],
   "source": [
    "arr2 + arr2"
   ]
  },
  {
   "cell_type": "code",
   "execution_count": 14,
   "id": "e83212c6",
   "metadata": {},
   "outputs": [
    {
     "data": {
      "text/plain": [
       "array([0, 0, 0, 0, 0])"
      ]
     },
     "execution_count": 14,
     "metadata": {},
     "output_type": "execute_result"
    }
   ],
   "source": [
    "arr1 - arr1"
   ]
  },
  {
   "cell_type": "code",
   "execution_count": 15,
   "id": "3875482b",
   "metadata": {},
   "outputs": [
    {
     "data": {
      "text/plain": [
       "array([[0, 0, 0],\n",
       "       [0, 0, 0],\n",
       "       [0, 0, 0]])"
      ]
     },
     "execution_count": 15,
     "metadata": {},
     "output_type": "execute_result"
    }
   ],
   "source": [
    "arr2 - arr2"
   ]
  },
  {
   "cell_type": "code",
   "execution_count": 16,
   "id": "0052ddb7",
   "metadata": {},
   "outputs": [
    {
     "ename": "ValueError",
     "evalue": "operands could not be broadcast together with shapes (5,) (3,3) ",
     "output_type": "error",
     "traceback": [
      "\u001b[1;31m---------------------------------------------------------------------------\u001b[0m",
      "\u001b[1;31mValueError\u001b[0m                                Traceback (most recent call last)",
      "\u001b[1;32m~\\AppData\\Local\\Temp\\ipykernel_4168\\2767413341.py\u001b[0m in \u001b[0;36m<module>\u001b[1;34m\u001b[0m\n\u001b[0;32m      1\u001b[0m \u001b[1;31m# what happens if you try to add/subtract arrays of different dimensions?\u001b[0m\u001b[1;33m\u001b[0m\u001b[1;33m\u001b[0m\u001b[0m\n\u001b[1;32m----> 2\u001b[1;33m \u001b[0marr1\u001b[0m \u001b[1;33m+\u001b[0m \u001b[0marr2\u001b[0m \u001b[1;31m# Raises a ValueError\u001b[0m\u001b[1;33m\u001b[0m\u001b[1;33m\u001b[0m\u001b[0m\n\u001b[0m",
      "\u001b[1;31mValueError\u001b[0m: operands could not be broadcast together with shapes (5,) (3,3) "
     ]
    }
   ],
   "source": [
    "# what happens if you try to add/subtract arrays of different dimensions?\n",
    "arr1 + arr2 # Raises a ValueError"
   ]
  },
  {
   "cell_type": "code",
   "execution_count": 17,
   "id": "764e14e3",
   "metadata": {},
   "outputs": [
    {
     "ename": "ValueError",
     "evalue": "operands could not be broadcast together with shapes (5,) (3,3) ",
     "output_type": "error",
     "traceback": [
      "\u001b[1;31m---------------------------------------------------------------------------\u001b[0m",
      "\u001b[1;31mValueError\u001b[0m                                Traceback (most recent call last)",
      "\u001b[1;32m~\\AppData\\Local\\Temp\\ipykernel_4168\\2927974865.py\u001b[0m in \u001b[0;36m<module>\u001b[1;34m\u001b[0m\n\u001b[1;32m----> 1\u001b[1;33m \u001b[0marr1\u001b[0m \u001b[1;33m-\u001b[0m \u001b[0marr2\u001b[0m\u001b[1;33m\u001b[0m\u001b[1;33m\u001b[0m\u001b[0m\n\u001b[0m",
      "\u001b[1;31mValueError\u001b[0m: operands could not be broadcast together with shapes (5,) (3,3) "
     ]
    }
   ],
   "source": [
    "arr1 - arr2"
   ]
  },
  {
   "cell_type": "code",
   "execution_count": 23,
   "id": "9ac4db7e",
   "metadata": {},
   "outputs": [
    {
     "data": {
      "text/plain": [
       "array([ 1,  4,  9, 16, 25])"
      ]
     },
     "execution_count": 23,
     "metadata": {},
     "output_type": "execute_result"
    }
   ],
   "source": [
    "# same rules apply for multiplication and division\n",
    "arr1 * arr1"
   ]
  },
  {
   "cell_type": "code",
   "execution_count": 24,
   "id": "44953b72",
   "metadata": {},
   "outputs": [
    {
     "data": {
      "text/plain": [
       "array([[100, 400, 900],\n",
       "       [ 25, 100, 225],\n",
       "       [  1,   1,   1]])"
      ]
     },
     "execution_count": 24,
     "metadata": {},
     "output_type": "execute_result"
    }
   ],
   "source": [
    "arr2 * arr2"
   ]
  },
  {
   "cell_type": "code",
   "execution_count": 25,
   "id": "331b134c",
   "metadata": {},
   "outputs": [
    {
     "data": {
      "text/plain": [
       "array([1., 1., 1., 1., 1.])"
      ]
     },
     "execution_count": 25,
     "metadata": {},
     "output_type": "execute_result"
    }
   ],
   "source": [
    "arr1 / arr1"
   ]
  },
  {
   "cell_type": "code",
   "execution_count": 26,
   "id": "846835e0",
   "metadata": {},
   "outputs": [
    {
     "data": {
      "text/plain": [
       "array([[1., 1., 1.],\n",
       "       [1., 1., 1.],\n",
       "       [1., 1., 1.]])"
      ]
     },
     "execution_count": 26,
     "metadata": {},
     "output_type": "execute_result"
    }
   ],
   "source": [
    "arr2 / arr2"
   ]
  },
  {
   "cell_type": "code",
   "execution_count": 27,
   "id": "8dfe242e",
   "metadata": {},
   "outputs": [
    {
     "data": {
      "text/plain": [
       "array([[100, 400, 900],\n",
       "       [ 25, 100, 225],\n",
       "       [  1,   1,   1]], dtype=int32)"
      ]
     },
     "execution_count": 27,
     "metadata": {},
     "output_type": "execute_result"
    }
   ],
   "source": [
    "# can raise every element in an array to some power\n",
    "arr2 ** 2"
   ]
  },
  {
   "cell_type": "code",
   "execution_count": 28,
   "id": "4426eaef",
   "metadata": {},
   "outputs": [
    {
     "data": {
      "text/plain": [
       "array([  1,  16,  81, 256, 625], dtype=int32)"
      ]
     },
     "execution_count": 28,
     "metadata": {},
     "output_type": "execute_result"
    }
   ],
   "source": [
    "arr1 ** 4"
   ]
  },
  {
   "cell_type": "markdown",
   "id": "a692dc20-10e6-4114-a7a0-4b570f800dfb",
   "metadata": {},
   "source": [
    "We can compare arrays of the same size to make a boolean array. Below, we will compare arr1 to temp."
   ]
  },
  {
   "cell_type": "code",
   "execution_count": 5,
   "id": "3373c60d",
   "metadata": {},
   "outputs": [],
   "source": [
    "temp = [5, 1, 2, 3, 4]"
   ]
  },
  {
   "cell_type": "code",
   "execution_count": 24,
   "id": "d6c881f1",
   "metadata": {},
   "outputs": [
    {
     "data": {
      "text/plain": [
       "array([False,  True,  True,  True,  True])"
      ]
     },
     "execution_count": 24,
     "metadata": {},
     "output_type": "execute_result"
    }
   ],
   "source": [
    "arr1 > temp # this creates a boolean array"
   ]
  },
  {
   "cell_type": "markdown",
   "id": "308deef4",
   "metadata": {},
   "source": [
    "Based off the error, the arrays have different dimensions, or specifically, **shapes**. Shape is an **attribute** of ndarrays. Attributes consist of a name (shape) and a value (dimensions) that describe the object. Attributes should not be confused with **methods** (which are functions) although the syntax is similar."
   ]
  },
  {
   "cell_type": "code",
   "execution_count": 30,
   "id": "ae4fc8b2",
   "metadata": {},
   "outputs": [
    {
     "name": "stdout",
     "output_type": "stream",
     "text": [
      "(5,)\n"
     ]
    },
    {
     "data": {
      "text/plain": [
       "(3, 3)"
      ]
     },
     "execution_count": 30,
     "metadata": {},
     "output_type": "execute_result"
    }
   ],
   "source": [
    "print(arr1.shape) # print the shape attribute\n",
    "arr2.shape"
   ]
  },
  {
   "cell_type": "markdown",
   "id": "29687c62",
   "metadata": {},
   "source": [
    "## 3. Converting a list to an array <a class=\"anchor\" id=\"bullet3\"></a>"
   ]
  },
  {
   "cell_type": "code",
   "execution_count": 31,
   "id": "2b128261",
   "metadata": {},
   "outputs": [
    {
     "data": {
      "text/plain": [
       "list"
      ]
     },
     "execution_count": 31,
     "metadata": {},
     "output_type": "execute_result"
    }
   ],
   "source": [
    "lst = [2, 4, 5, 2, 3, 8]\n",
    "type(lst)"
   ]
  },
  {
   "cell_type": "code",
   "execution_count": 32,
   "id": "07ad2d2c",
   "metadata": {},
   "outputs": [
    {
     "data": {
      "text/plain": [
       "numpy.ndarray"
      ]
     },
     "execution_count": 32,
     "metadata": {},
     "output_type": "execute_result"
    }
   ],
   "source": [
    "arr3 = np.array(lst)\n",
    "type(arr3)"
   ]
  },
  {
   "cell_type": "markdown",
   "id": "a85f0a93",
   "metadata": {},
   "source": [
    "###### Challenge: Create an np.array which goes from 2 through 20 and only includes even numbers (Hint: Create a list using base Python, and then coerce this list to be a nd.array)"
   ]
  },
  {
   "cell_type": "code",
   "execution_count": 35,
   "id": "97901fbb",
   "metadata": {},
   "outputs": [
    {
     "data": {
      "text/plain": [
       "array([ 2,  4,  6,  8, 10, 12, 14, 16, 18, 20])"
      ]
     },
     "execution_count": 35,
     "metadata": {},
     "output_type": "execute_result"
    }
   ],
   "source": []
  },
  {
   "cell_type": "markdown",
   "id": "b57b178f",
   "metadata": {},
   "source": [
    "## 4. Nested array <a class=\"anchor\" id=\"bullet4\"></a>"
   ]
  },
  {
   "cell_type": "code",
   "execution_count": 39,
   "id": "7bf5287d",
   "metadata": {},
   "outputs": [
    {
     "name": "stdout",
     "output_type": "stream",
     "text": [
      "[[10 20 30]\n",
      " [ 5 10 15]\n",
      " [ 1  1  1]]\n"
     ]
    }
   ],
   "source": [
    "# arr2 is an example of a nested array, specifically a matrix\n",
    "print(arr2)"
   ]
  },
  {
   "cell_type": "code",
   "execution_count": 40,
   "id": "98fda6f6",
   "metadata": {},
   "outputs": [],
   "source": [
    "# other examples of nested arrays"
   ]
  },
  {
   "cell_type": "code",
   "execution_count": 41,
   "id": "08cbb703",
   "metadata": {},
   "outputs": [
    {
     "name": "stdout",
     "output_type": "stream",
     "text": [
      "[[ 1  3  5]\n",
      " [ 7  9 11]]\n"
     ]
    }
   ],
   "source": [
    "arr4 = np.array([[1, 3, 5], [7, 9, 11]])\n",
    "print(arr4)"
   ]
  },
  {
   "cell_type": "code",
   "execution_count": 45,
   "id": "6bd5cdc8",
   "metadata": {},
   "outputs": [
    {
     "name": "stderr",
     "output_type": "stream",
     "text": [
      "C:\\Users\\nicho\\AppData\\Local\\Temp\\ipykernel_4168\\390692237.py:1: VisibleDeprecationWarning: Creating an ndarray from ragged nested sequences (which is a list-or-tuple of lists-or-tuples-or ndarrays with different lengths or shapes) is deprecated. If you meant to do this, you must specify 'dtype=object' when creating the ndarray.\n",
      "  arr5 = np.array([[1, 3, 5], [7, 9]]) # nested sequences need to be a list of EQUAL-LENGTH lists\n"
     ]
    }
   ],
   "source": [
    "arr5 = np.array([[1, 3, 5], [7, 9]]) # nested sequences need to be a list of EQUAL-LENGTH lists"
   ]
  },
  {
   "cell_type": "code",
   "execution_count": 46,
   "id": "859eb1c6",
   "metadata": {},
   "outputs": [
    {
     "name": "stdout",
     "output_type": "stream",
     "text": [
      "2\n"
     ]
    },
    {
     "data": {
      "text/plain": [
       "(3, 3)"
      ]
     },
     "execution_count": 46,
     "metadata": {},
     "output_type": "execute_result"
    }
   ],
   "source": [
    "# ndim and shape attributes of a nested array\n",
    "print(arr2.ndim)\n",
    "arr2.shape"
   ]
  },
  {
   "cell_type": "code",
   "execution_count": 47,
   "id": "d8f19dc3",
   "metadata": {},
   "outputs": [
    {
     "name": "stdout",
     "output_type": "stream",
     "text": [
      "2\n"
     ]
    },
    {
     "data": {
      "text/plain": [
       "(2, 3)"
      ]
     },
     "execution_count": 47,
     "metadata": {},
     "output_type": "execute_result"
    }
   ],
   "source": [
    "print(arr4.ndim)\n",
    "arr4.shape"
   ]
  },
  {
   "attachments": {
    "9f441c58-a21e-48ef-81f3-bcd03606179c.png": {
     "image/png": "[encoded data removed]"
    }
   },
   "cell_type": "markdown",
   "id": "6cdb89cb-cf1b-45fc-99f1-0fc79403b166",
   "metadata": {},
   "source": [
    "**Question: How often should you use 3D arrays like this?**\n",
    "![3D array.png](attachment:9f441c58-a21e-48ef-81f3-bcd03606179c.png)"
   ]
  },
  {
   "cell_type": "markdown",
   "id": "622d42a2-8ee7-4e92-b999-659089ad6561",
   "metadata": {},
   "source": [
    "We can refer to 3D arrays/matricies as tensors. [Valchanov, 2023](https://365datascience.com/tutorials/python-tutorials/tensor/) provides some useful highlights about why we might want to use tensors in our programs:\n",
    "> A **tensor** is a mathematical object that generalizes scalars, vectors, and matrices into higher-dimensional spaces. It’s an array of numbers and functions encompassing physical quantities, geometric transformations, and various mathematical entities. In a way, tensors are containers that present data in n-dimensions. They are typically grids of numbers called N-way arrays.\n",
    "\n",
    ">The word tensor, however, is still somewhat obscure. You won’t hear it in high school. Your math teacher may have never heard of it. But state-of-the-art machine learning frameworks are doubling down on tensors, with the most prominent example being Google’s TensorFlow.\n",
    "\n",
    "> In machine learning, we often explain a single object with several dimensions. For instance, a photo is described by pixels—each with intensity, position, and (color) depth. \n",
    "\n",
    ">TensorFlow works with tensors, which not only optimizes CPU usage but also allows us to employ **GPUs** to make calculations. In 2016, Google developed **Tensor Processing Units** (TPUs)—processors that consider a tensor a building block for a calculation, not 0s and 1s, as does a CPU. This makes calculations exponentially faster.\n",
    "\n",
    "> If you wish to grow your machine and deep learning knowledge, tensors are a great addition to your toolkit. You can learn more in our Deep Learning with TensorFlow 2 and Convolutional Neural Networks with TensorFlow in Python courses.\n",
    "\n",
    "If you are interested in learning more about how GPUs can speed up computation, read this [IBM](https://www.intel.com/content/www/us/en/products/docs/processors/what-is-a-gpu.html) article. "
   ]
  },
  {
   "cell_type": "markdown",
   "id": "8bee719d",
   "metadata": {},
   "source": [
    "## 5. Shortcut numpy functons! <a class=\"anchor\" id=\"bullet5\"></a>"
   ]
  },
  {
   "cell_type": "code",
   "execution_count": 48,
   "id": "ce62c2e9",
   "metadata": {},
   "outputs": [
    {
     "name": "stdout",
     "output_type": "stream",
     "text": [
      "[0. 0. 0. 0. 0.]\n"
     ]
    }
   ],
   "source": [
    "# create a ndarray of 5 0s\n",
    "arr6 = np.zeros(5)\n",
    "print(arr6)"
   ]
  },
  {
   "cell_type": "code",
   "execution_count": 49,
   "id": "8f560db5",
   "metadata": {},
   "outputs": [
    {
     "name": "stdout",
     "output_type": "stream",
     "text": [
      "[1. 1. 1. 1. 1. 1. 1. 1. 1. 1.]\n"
     ]
    }
   ],
   "source": [
    "# create a ndarray of 10 1s\n",
    "arr7 = np.ones(10)\n",
    "print(arr7)"
   ]
  },
  {
   "cell_type": "code",
   "execution_count": 50,
   "id": "e3c7824a",
   "metadata": {},
   "outputs": [
    {
     "name": "stdout",
     "output_type": "stream",
     "text": [
      "[[1. 0.]\n",
      " [0. 1.]]\n"
     ]
    }
   ],
   "source": [
    "# create an identity matrix of size 2 by 2\n",
    "arr8 = np.identity(2)\n",
    "print(arr8)"
   ]
  },
  {
   "cell_type": "markdown",
   "id": "8822fed5",
   "metadata": {},
   "source": [
    "The following demonstrates different ways of using np.arange to create lists. "
   ]
  },
  {
   "cell_type": "code",
   "execution_count": 58,
   "id": "6b5b5943",
   "metadata": {},
   "outputs": [
    {
     "name": "stdout",
     "output_type": "stream",
     "text": [
      "[0 1 2 3 4 5 6 7 8 9]\n"
     ]
    },
    {
     "data": {
      "text/plain": [
       "numpy.ndarray"
      ]
     },
     "execution_count": 58,
     "metadata": {},
     "output_type": "execute_result"
    }
   ],
   "source": [
    "# numpy has its own version of base python's range function which creates a ndarray function\n",
    "arr9 = np.arange(10)  # by default this function starts at 0\n",
    "print(arr9)\n",
    "type(arr9)"
   ]
  },
  {
   "cell_type": "code",
   "execution_count": 55,
   "id": "49e8b92e",
   "metadata": {},
   "outputs": [
    {
     "name": "stdout",
     "output_type": "stream",
     "text": [
      "[1 2 3 4 5 6 7 8 9]\n"
     ]
    }
   ],
   "source": [
    "arr10 = np.arange(1, 10) # start at 1\n",
    "print(arr10)"
   ]
  },
  {
   "cell_type": "code",
   "execution_count": 56,
   "id": "ebe4cc9e",
   "metadata": {},
   "outputs": [
    {
     "name": "stdout",
     "output_type": "stream",
     "text": [
      "[1 3 5 7 9]\n"
     ]
    }
   ],
   "source": [
    "arr11 = np.arange(1, 10, 2) # skip every other number\n",
    "print(arr11)"
   ]
  },
  {
   "cell_type": "markdown",
   "id": "a5a56070",
   "metadata": {},
   "source": [
    "## 6. dtype attribute <a class=\"anchor\" id=\"bullet6\"></a>"
   ]
  },
  {
   "cell_type": "markdown",
   "id": "92a32251",
   "metadata": {},
   "source": [
    "The **dtype** (data type) attribute tells us information about the kind of data the ndarray holds. Numpy data types also record the number of bits a data value requires to store it in memory. For example, `np.int64` and `np.int32` refer to integer data types which store 64 and 32 bits respectively. This allows us to optimize our code by only commiting the smallest bit size we need for a particular variable.  \n",
    "\n",
    "Recall that a **bit** is short for binary (1/0) digit, it is the smallest component available for consuming computer memory. 8 bits = 1 byte. A byte is a sequence of bits. `np.int32` can store 2^32 integers (or more than 4.2 trillion integers!). `np.int64` can hold 2^64 hold much more!\n",
    "\n",
    "For string data types, you will see the data type reported as, for example, `<U11`, which literally means it is storing a unicode value with maximum length 11. "
   ]
  },
  {
   "cell_type": "code",
   "execution_count": 60,
   "id": "d8d78829-f905-4545-80f0-51a03e297b6a",
   "metadata": {},
   "outputs": [
    {
     "name": "stdout",
     "output_type": "stream",
     "text": [
      "<U4\n",
      "<U5\n",
      "<U7\n"
     ]
    }
   ],
   "source": [
    "print(np.array(['test']).dtype)\n",
    "print(np.array(['tests']).dtype)\n",
    "print(np.array(['testing']).dtype)"
   ]
  },
  {
   "cell_type": "markdown",
   "id": "4962432d-ffdb-4dee-820a-34c5a3bb515c",
   "metadata": {},
   "source": [
    "Remember: 1D numpy arrays can only have one data type! This is called **type conversion**."
   ]
  },
  {
   "cell_type": "code",
   "execution_count": 62,
   "id": "9f8e3db1-c8c4-4d2e-8593-49b7401f29e3",
   "metadata": {},
   "outputs": [
    {
     "name": "stdout",
     "output_type": "stream",
     "text": [
      "['1' '3' '5' '7']\n"
     ]
    },
    {
     "data": {
      "text/plain": [
       "dtype('<U11')"
      ]
     },
     "execution_count": 62,
     "metadata": {},
     "output_type": "execute_result"
    }
   ],
   "source": [
    "arr = np.array([1, 3, 5, '7'])  # Because arrays can only have one data type, they will automatically coerce the data values into a single type.\n",
    "print(arr)\n",
    "arr.dtype"
   ]
  },
  {
   "cell_type": "code",
   "execution_count": 65,
   "id": "925d6fc6-4620-4c62-ac77-2198da0e060b",
   "metadata": {},
   "outputs": [
    {
     "name": "stdout",
     "output_type": "stream",
     "text": [
      "['1' '3' '5' '7']\n"
     ]
    },
    {
     "data": {
      "text/plain": [
       "dtype('<U1')"
      ]
     },
     "execution_count": 65,
     "metadata": {},
     "output_type": "execute_result"
    }
   ],
   "source": [
    "arr = np.array([1, 3, 5, '7'], dtype='<U1')  # We can also define the dtype when we create the array\n",
    "print(arr)\n",
    "arr.dtype   # If we only need single digits, <U1 is a more efficient dtype as compared to the default <U11 we were getting before"
   ]
  },
  {
   "cell_type": "code",
   "execution_count": 62,
   "id": "c127645e",
   "metadata": {},
   "outputs": [
    {
     "name": "stdout",
     "output_type": "stream",
     "text": [
      "[1. 1. 1. 1. 1. 1. 1. 1. 1. 1.]\n"
     ]
    },
    {
     "data": {
      "text/plain": [
       "dtype('float64')"
      ]
     },
     "execution_count": 62,
     "metadata": {},
     "output_type": "execute_result"
    }
   ],
   "source": [
    "print(arr7)\n",
    "arr7.dtype"
   ]
  },
  {
   "cell_type": "code",
   "execution_count": 63,
   "id": "9ab6b94a",
   "metadata": {},
   "outputs": [
    {
     "name": "stdout",
     "output_type": "stream",
     "text": [
      "[1 2 3 4 5 6 7 8 9]\n"
     ]
    },
    {
     "data": {
      "text/plain": [
       "dtype('int32')"
      ]
     },
     "execution_count": 63,
     "metadata": {},
     "output_type": "execute_result"
    }
   ],
   "source": [
    "print(arr10)\n",
    "arr10.dtype"
   ]
  },
  {
   "cell_type": "markdown",
   "id": "52227616",
   "metadata": {},
   "source": [
    "The method **astype** can convert or cast a ndarray's data from one type to another"
   ]
  },
  {
   "cell_type": "code",
   "execution_count": 64,
   "id": "abf5ebec",
   "metadata": {},
   "outputs": [
    {
     "name": "stdout",
     "output_type": "stream",
     "text": [
      "[1 1 1 1 1 1 1 1 1 1]\n"
     ]
    },
    {
     "data": {
      "text/plain": [
       "dtype('int64')"
      ]
     },
     "execution_count": 64,
     "metadata": {},
     "output_type": "execute_result"
    }
   ],
   "source": [
    "arr7_temp = arr7.astype(np.int64)\n",
    "print(arr7_temp)\n",
    "arr7_temp.dtype"
   ]
  },
  {
   "cell_type": "markdown",
   "id": "4bc362cb",
   "metadata": {},
   "source": [
    "## 7. Index and Slicing <a class=\"anchor\" id=\"bullet7\"></a>"
   ]
  },
  {
   "cell_type": "markdown",
   "id": "9e4f6502-6459-4905-be6c-c8694a1c337f",
   "metadata": {},
   "source": [
    "Slicing for nd.arrays is similar to slicing for lists"
   ]
  },
  {
   "cell_type": "code",
   "execution_count": 66,
   "id": "d66b54a9",
   "metadata": {},
   "outputs": [
    {
     "data": {
      "text/plain": [
       "array([0, 1, 2, 3, 4, 5, 6, 7, 8, 9])"
      ]
     },
     "execution_count": 66,
     "metadata": {},
     "output_type": "execute_result"
    }
   ],
   "source": [
    "arr9"
   ]
  },
  {
   "cell_type": "code",
   "execution_count": 79,
   "id": "23028155",
   "metadata": {},
   "outputs": [
    {
     "data": {
      "text/plain": [
       "50"
      ]
     },
     "execution_count": 79,
     "metadata": {},
     "output_type": "execute_result"
    }
   ],
   "source": [
    "# grabbing one element using its index, in this case, grabbing the 3rd element\n",
    "arr9[2]"
   ]
  },
  {
   "cell_type": "code",
   "execution_count": 80,
   "id": "36f475e0",
   "metadata": {},
   "outputs": [
    {
     "data": {
      "text/plain": [
       "array([50, 50, 50, 50])"
      ]
     },
     "execution_count": 80,
     "metadata": {},
     "output_type": "execute_result"
    }
   ],
   "source": [
    "# grabbing a range/subset of elements within the array\n",
    "## format =[start:stop], does not include 'stop' index element\n",
    "arr9[2:6]"
   ]
  },
  {
   "cell_type": "code",
   "execution_count": 81,
   "id": "f7e1e507",
   "metadata": {},
   "outputs": [
    {
     "data": {
      "text/plain": [
       "array([ 1,  1, 50, 50, 50, 50,  6,  7,  8,  9])"
      ]
     },
     "execution_count": 81,
     "metadata": {},
     "output_type": "execute_result"
    }
   ],
   "source": [
    "# replace a value or range of values in the array\n",
    "arr9[0] = 1\n",
    "arr9[2:6] = 50\n",
    "arr9"
   ]
  },
  {
   "cell_type": "code",
   "execution_count": 82,
   "id": "ce0bc86e",
   "metadata": {},
   "outputs": [
    {
     "name": "stdout",
     "output_type": "stream",
     "text": [
      "[1 1]\n",
      "[50 50 50 50  6  7  8  9]\n"
     ]
    }
   ],
   "source": [
    "# other ways to slice\n",
    "print(arr9[:2])\n",
    "print(arr9[2:])"
   ]
  },
  {
   "cell_type": "markdown",
   "id": "b8b4f56e",
   "metadata": {},
   "source": [
    "With higher dimensional arrays, there are more options for indexing/slicing."
   ]
  },
  {
   "cell_type": "code",
   "execution_count": 83,
   "id": "38cc4cd8",
   "metadata": {},
   "outputs": [
    {
     "data": {
      "text/plain": [
       "array([[10, 20, 30],\n",
       "       [ 5, 10, 15],\n",
       "       [ 1,  1,  1]])"
      ]
     },
     "execution_count": 83,
     "metadata": {},
     "output_type": "execute_result"
    }
   ],
   "source": [
    "arr2"
   ]
  },
  {
   "cell_type": "code",
   "execution_count": 84,
   "id": "95c773b9",
   "metadata": {},
   "outputs": [
    {
     "data": {
      "text/plain": [
       "array([ 5, 10, 15])"
      ]
     },
     "execution_count": 84,
     "metadata": {},
     "output_type": "execute_result"
    }
   ],
   "source": [
    "# Here, we extract the 2nd element from the first dimension from the nested array\n",
    "arr2[1]"
   ]
  },
  {
   "cell_type": "code",
   "execution_count": 86,
   "id": "df5518e6",
   "metadata": {},
   "outputs": [
    {
     "data": {
      "text/plain": [
       "10"
      ]
     },
     "execution_count": 86,
     "metadata": {},
     "output_type": "execute_result"
    }
   ],
   "source": [
    "# 2nd element from first dim, and then the 2nd element from second dim\n",
    "arr2[1][1]"
   ]
  },
  {
   "cell_type": "code",
   "execution_count": 87,
   "id": "d12816cc",
   "metadata": {},
   "outputs": [
    {
     "data": {
      "text/plain": [
       "10"
      ]
     },
     "execution_count": 87,
     "metadata": {},
     "output_type": "execute_result"
    }
   ],
   "source": [
    "arr2[1, 1] # another way to do it"
   ]
  },
  {
   "cell_type": "markdown",
   "id": "7e55645a",
   "metadata": {},
   "source": [
    "You can think of the first index (of a 2D array) as subsetting the row and then secondly the column."
   ]
  },
  {
   "cell_type": "code",
   "execution_count": 88,
   "id": "30f1b9d8",
   "metadata": {},
   "outputs": [
    {
     "data": {
      "text/plain": [
       "array([[20],\n",
       "       [10],\n",
       "       [ 1]])"
      ]
     },
     "execution_count": 88,
     "metadata": {},
     "output_type": "execute_result"
    }
   ],
   "source": [
    "# grabbing a column\n",
    "arr2[:, 1:2]"
   ]
  },
  {
   "cell_type": "code",
   "execution_count": 89,
   "id": "e2127582",
   "metadata": {},
   "outputs": [
    {
     "data": {
      "text/plain": [
       "array([20, 10,  1])"
      ]
     },
     "execution_count": 89,
     "metadata": {},
     "output_type": "execute_result"
    }
   ],
   "source": [
    "arr2[:, 1]"
   ]
  },
  {
   "cell_type": "code",
   "execution_count": 90,
   "id": "646a8dcd",
   "metadata": {},
   "outputs": [
    {
     "data": {
      "text/plain": [
       "array([[10, 20],\n",
       "       [ 5, 10]])"
      ]
     },
     "execution_count": 90,
     "metadata": {},
     "output_type": "execute_result"
    }
   ],
   "source": [
    "# grabbing the first two elements of the row given columns\n",
    "arr2[:2, :2]"
   ]
  },
  {
   "cell_type": "markdown",
   "id": "dbaef7e9",
   "metadata": {},
   "source": [
    "## 8. copy function <a class=\"anchor\" id=\"bullet8\"></a>"
   ]
  },
  {
   "cell_type": "code",
   "execution_count": 18,
   "id": "96dee4b1",
   "metadata": {},
   "outputs": [
    {
     "data": {
      "text/plain": [
       "array([[10, 20, 30],\n",
       "       [ 5, 10, 15],\n",
       "       [ 1,  1,  1]])"
      ]
     },
     "execution_count": 18,
     "metadata": {},
     "output_type": "execute_result"
    }
   ],
   "source": [
    "arr2"
   ]
  },
  {
   "cell_type": "code",
   "execution_count": 19,
   "id": "e7e75901",
   "metadata": {},
   "outputs": [
    {
     "data": {
      "text/plain": [
       "array([10, 20, 30])"
      ]
     },
     "execution_count": 19,
     "metadata": {},
     "output_type": "execute_result"
    }
   ],
   "source": [
    "# copies values in a duplicate, unrelated array \n",
    "old_values = arr2[0].copy()  # .copy() method\n",
    "old_values"
   ]
  },
  {
   "cell_type": "code",
   "execution_count": 20,
   "id": "5e533e0e",
   "metadata": {},
   "outputs": [
    {
     "data": {
      "text/plain": [
       "array([[42, 42, 42],\n",
       "       [ 5, 10, 15],\n",
       "       [ 1,  1,  1]])"
      ]
     },
     "execution_count": 20,
     "metadata": {},
     "output_type": "execute_result"
    }
   ],
   "source": [
    "arr2[0] = 42\n",
    "arr2"
   ]
  },
  {
   "cell_type": "code",
   "execution_count": 21,
   "id": "c9f3a895",
   "metadata": {},
   "outputs": [
    {
     "data": {
      "text/plain": [
       "array([[10, 20, 30],\n",
       "       [ 5, 10, 15],\n",
       "       [ 1,  1,  1]])"
      ]
     },
     "execution_count": 21,
     "metadata": {},
     "output_type": "execute_result"
    }
   ],
   "source": [
    "arr2[0] = old_values\n",
    "arr2"
   ]
  },
  {
   "cell_type": "code",
   "execution_count": 24,
   "id": "403e317f",
   "metadata": {},
   "outputs": [
    {
     "data": {
      "text/plain": [
       "array([[0, 0, 0],\n",
       "       [0, 0, 0],\n",
       "       [0, 0, 0]])"
      ]
     },
     "execution_count": 24,
     "metadata": {},
     "output_type": "execute_result"
    }
   ],
   "source": [
    "test_array = arr2\n",
    "test_array[:, :] = 0   # This does not create a copy, but a view! Meaning when you change test_array, you are changing arr2 since they are pointing to the same object in memory\n",
    "test_array"
   ]
  },
  {
   "cell_type": "markdown",
   "id": "d71ba0cf",
   "metadata": {},
   "source": [
    "###### Challenge: Based on all the code in section 8, what is the result of print(arr2)?"
   ]
  },
  {
   "cell_type": "code",
   "execution_count": null,
   "id": "e64805a7-9e0d-45c7-a678-e6ad1b3a4816",
   "metadata": {},
   "outputs": [],
   "source": [
    "arr2"
   ]
  },
  {
   "cell_type": "markdown",
   "id": "902dfc0a",
   "metadata": {},
   "source": [
    "## 9. Boolean Indexing <a class=\"anchor\" id=\"bullet9\"></a>"
   ]
  },
  {
   "cell_type": "code",
   "execution_count": 50,
   "id": "25a3ce73",
   "metadata": {},
   "outputs": [],
   "source": [
    "names = np.array([\"Bob\", \"Joe\", \"Will\", \"Bob\", \"Will\", \"Joe\", \"Joe\"])"
   ]
  },
  {
   "cell_type": "code",
   "execution_count": 100,
   "id": "65036876",
   "metadata": {},
   "outputs": [
    {
     "data": {
      "text/plain": [
       "array([False,  True, False, False, False,  True,  True])"
      ]
     },
     "execution_count": 100,
     "metadata": {},
     "output_type": "execute_result"
    }
   ],
   "source": [
    "names == \"Joe\" # Create boolean array based on logical check (very useful for slicing as we will soon see)"
   ]
  },
  {
   "cell_type": "code",
   "execution_count": 101,
   "id": "8cdffd0b",
   "metadata": {},
   "outputs": [
    {
     "data": {
      "text/plain": [
       "array([ 1,  1, 50, 50, 50, 50,  6,  7,  8,  9])"
      ]
     },
     "execution_count": 101,
     "metadata": {},
     "output_type": "execute_result"
    }
   ],
   "source": [
    "arr9"
   ]
  },
  {
   "cell_type": "code",
   "execution_count": 102,
   "id": "ce94c474",
   "metadata": {},
   "outputs": [
    {
     "data": {
      "text/plain": [
       "array([False, False, False, False, False, False, False, False, False,\n",
       "       False])"
      ]
     },
     "execution_count": 102,
     "metadata": {},
     "output_type": "execute_result"
    }
   ],
   "source": [
    "arr9 >= 98"
   ]
  },
  {
   "cell_type": "code",
   "execution_count": 103,
   "id": "5f758965",
   "metadata": {},
   "outputs": [
    {
     "data": {
      "text/plain": [
       "array(['Joe', 'Joe', 'Joe'], dtype='<U4')"
      ]
     },
     "execution_count": 103,
     "metadata": {},
     "output_type": "execute_result"
    }
   ],
   "source": [
    "names[names == \"Joe\"] # boolean array can be used to slice arrays"
   ]
  },
  {
   "cell_type": "code",
   "execution_count": 104,
   "id": "a468f0f8",
   "metadata": {},
   "outputs": [
    {
     "data": {
      "text/plain": [
       "array([50, 50, 50, 50,  9])"
      ]
     },
     "execution_count": 104,
     "metadata": {},
     "output_type": "execute_result"
    }
   ],
   "source": [
    "arr9[arr9 >= 9]"
   ]
  },
  {
   "cell_type": "code",
   "execution_count": 105,
   "id": "62d98389",
   "metadata": {},
   "outputs": [
    {
     "name": "stdout",
     "output_type": "stream",
     "text": [
      "[ True False  True  True  True False False]\n",
      "[ True False  True  True  True False False]\n"
     ]
    }
   ],
   "source": [
    "# Use the negation operator (2 ways):\n",
    "print(names != \"Joe\")\n",
    "print(~(names == \"Joe\"))"
   ]
  },
  {
   "cell_type": "code",
   "execution_count": 106,
   "id": "1b7011b5",
   "metadata": {},
   "outputs": [
    {
     "data": {
      "text/plain": [
       "array([False,  True,  True, False,  True,  True,  True])"
      ]
     },
     "execution_count": 106,
     "metadata": {},
     "output_type": "execute_result"
    }
   ],
   "source": [
    "# to combine multiple booleans conditions, use % (and) and | (or)\n",
    "mask = (names == \"Joe\") | (names == \"Will\")\n",
    "mask"
   ]
  },
  {
   "cell_type": "code",
   "execution_count": 107,
   "id": "e010ee8f",
   "metadata": {},
   "outputs": [
    {
     "data": {
      "text/plain": [
       "array(['Joe', 'Will', 'Will', 'Joe', 'Joe'], dtype='<U4')"
      ]
     },
     "execution_count": 107,
     "metadata": {},
     "output_type": "execute_result"
    }
   ],
   "source": [
    "names[mask]"
   ]
  },
  {
   "cell_type": "markdown",
   "id": "e60ecafe",
   "metadata": {},
   "source": [
    "## 10. Reshaping and Transposing Arrays <a class=\"anchor\" id=\"bullet10\"></a>"
   ]
  },
  {
   "cell_type": "markdown",
   "id": "c758ae38",
   "metadata": {},
   "source": [
    "Transposing is a form of reshaping that swaps the axes."
   ]
  },
  {
   "cell_type": "code",
   "execution_count": 108,
   "id": "29b03e22",
   "metadata": {},
   "outputs": [
    {
     "data": {
      "text/plain": [
       "array([[ 0,  1,  2,  3,  4],\n",
       "       [ 5,  6,  7,  8,  9],\n",
       "       [10, 11, 12, 13, 14]])"
      ]
     },
     "execution_count": 108,
     "metadata": {},
     "output_type": "execute_result"
    }
   ],
   "source": [
    "arr12 = np.arange(15).reshape((3, 5))\n",
    "arr12"
   ]
  },
  {
   "cell_type": "markdown",
   "id": "aca91987-f26b-4631-ba73-fb0cc4c4b938",
   "metadata": {},
   "source": [
    "The **transpose** of a matric is found by interchanging its rows and columns. In Python can be accessed with the `.T` attribute."
   ]
  },
  {
   "cell_type": "code",
   "execution_count": 109,
   "id": "dd318e9a",
   "metadata": {},
   "outputs": [
    {
     "data": {
      "text/plain": [
       "array([[ 0,  5, 10],\n",
       "       [ 1,  6, 11],\n",
       "       [ 2,  7, 12],\n",
       "       [ 3,  8, 13],\n",
       "       [ 4,  9, 14]])"
      ]
     },
     "execution_count": 109,
     "metadata": {},
     "output_type": "execute_result"
    }
   ],
   "source": [
    "arr12.T"
   ]
  },
  {
   "cell_type": "code",
   "execution_count": 111,
   "id": "ab25414e",
   "metadata": {},
   "outputs": [
    {
     "data": {
      "text/plain": [
       "array([[ 0,  1,  0],\n",
       "       [ 1,  2, -2],\n",
       "       [ 6,  3,  2],\n",
       "       [-1,  0, -1],\n",
       "       [ 1,  0,  1]])"
      ]
     },
     "execution_count": 111,
     "metadata": {},
     "output_type": "execute_result"
    }
   ],
   "source": [
    "arr13 = np.array([[0, 1, 0], [1, 2, -2], [6, 3, 2], [-1, 0, -1], [1, 0, 1]])\n",
    "arr13"
   ]
  },
  {
   "cell_type": "code",
   "execution_count": 112,
   "id": "07b550d9",
   "metadata": {},
   "outputs": [
    {
     "name": "stdout",
     "output_type": "stream",
     "text": [
      "[[39 20 12]\n",
      " [20 14  2]\n",
      " [12  2 10]]\n"
     ]
    },
    {
     "data": {
      "text/plain": [
       "array([[39, 20, 12],\n",
       "       [20, 14,  2],\n",
       "       [12,  2, 10]])"
      ]
     },
     "execution_count": 112,
     "metadata": {},
     "output_type": "execute_result"
    }
   ],
   "source": [
    "print(np.dot(arr13.T, arr13)) # Transposes are often used for matrix computations such as calculating the inner matrix product\n",
    "arr13.T @ arr13"
   ]
  },
  {
   "cell_type": "code",
   "execution_count": 113,
   "id": "e997b9f9",
   "metadata": {},
   "outputs": [
    {
     "data": {
      "text/plain": [
       "array([[ 0,  5, 10],\n",
       "       [ 1,  6, 11],\n",
       "       [ 2,  7, 12],\n",
       "       [ 3,  8, 13],\n",
       "       [ 4,  9, 14]])"
      ]
     },
     "execution_count": 113,
     "metadata": {},
     "output_type": "execute_result"
    }
   ],
   "source": [
    "# another way to transpose\n",
    "arr12.swapaxes(0, 1)"
   ]
  },
  {
   "cell_type": "markdown",
   "id": "782bee49-9f0b-4976-b3e5-1bcd7e8403c6",
   "metadata": {},
   "source": [
    "A common data transformation you will need to make is concatenation, or simply combining two arrays. This means adding extra rows/columns to your dataset. "
   ]
  },
  {
   "cell_type": "code",
   "execution_count": 75,
   "id": "fbc70495-5150-4ae7-8cbb-3a605bec20f8",
   "metadata": {},
   "outputs": [
    {
     "data": {
      "text/plain": [
       "array([[ 1, 22],\n",
       "       [ 2, 21],\n",
       "       [ 3, 27],\n",
       "       [ 4, 26],\n",
       "       [ 5, 30],\n",
       "       [ 6, 17]])"
      ]
     },
     "execution_count": 75,
     "metadata": {},
     "output_type": "execute_result"
    }
   ],
   "source": [
    "classroom_ids_and_sizes = np.array([[1, 22], [2, 21], [3, 27], [4, 26]])\n",
    "new_classrooms = np.array([[5, 30], [6, 17]])  # add the new classroom as classes 5 and 6!\n",
    "np.concatenate((classroom_ids_and_sizes, new_classrooms)) # by defaul, this appends rows"
   ]
  },
  {
   "cell_type": "code",
   "execution_count": 77,
   "id": "b7542706-35d8-48e1-8c6d-7249cc5d0771",
   "metadata": {},
   "outputs": [
    {
     "data": {
      "text/plain": [
       "array([['1', '22', '1', 'James'],\n",
       "       ['2', '21', '1', 'George'],\n",
       "       ['3', '27', '3', 'Amy'],\n",
       "       ['4', '26', '3', 'Meehir']], dtype='<U11')"
      ]
     },
     "execution_count": 77,
     "metadata": {},
     "output_type": "execute_result"
    }
   ],
   "source": [
    "classroom_ids_and_sizes = np.array([[1, 22], [2, 21], [3, 27], [4, 26]])\n",
    "grade_levels_and_teachers = np.array([[1, \"James\"], [1, \"George\"], [3,\"Amy\"], [3, \"Meehir\"]])\n",
    "np.concatenate((classroom_ids_and_sizes, grade_levels_and_teachers), axis=1)  # adds 2 new columns to data. Notice the type conversion going on here, all data values are made into strings"
   ]
  },
  {
   "attachments": {
    "04d55585-f307-4b52-b4ad-9d65eb2cb3ca.PNG": {
     "image/png": "[encoded data removed]"
    }
   },
   "cell_type": "markdown",
   "id": "aa3c8238-4dce-439e-a372-a612a7b8791f",
   "metadata": {},
   "source": [
    "For this to work, the shape or dimension of the two arrays you are attempting to concatenate must be compatible. \n",
    "![NumpyShapeCompatibility.PNG](attachment:04d55585-f307-4b52-b4ad-9d65eb2cb3ca.PNG)"
   ]
  },
  {
   "cell_type": "code",
   "execution_count": 92,
   "id": "5017e352-e3ec-4486-b7d5-cd4fdd4f5741",
   "metadata": {},
   "outputs": [
    {
     "name": "stdout",
     "output_type": "stream",
     "text": [
      "[[0 1 2]\n",
      " [3 4 5]\n",
      " [6 7 8]]\n",
      "(3, 3)\n"
     ]
    }
   ],
   "source": [
    "mat1 = np.arange(0,9).reshape((3,3))\n",
    "print(mat1)\n",
    "print(mat1.shape)"
   ]
  },
  {
   "cell_type": "code",
   "execution_count": 98,
   "id": "b6f756c2-9c86-4e8b-8732-69bfa7e93d91",
   "metadata": {},
   "outputs": [
    {
     "name": "stdout",
     "output_type": "stream",
     "text": [
      "[[0]\n",
      " [1]\n",
      " [2]]\n",
      "(3, 1)\n"
     ]
    }
   ],
   "source": [
    "mat2 = np.arange(0,3).reshape((3,1))\n",
    "np.concatenate( (mat1, mat2), axis = 1)  # this works"
   ]
  },
  {
   "cell_type": "code",
   "execution_count": 101,
   "id": "c0d5e414-1ff9-427b-a316-22ef3b6a0b95",
   "metadata": {},
   "outputs": [
    {
     "ename": "ValueError",
     "evalue": "all the input arrays must have same number of dimensions, but the array at index 0 has 2 dimension(s) and the array at index 1 has 1 dimension(s)",
     "output_type": "error",
     "traceback": [
      "\u001b[1;31m---------------------------------------------------------------------------\u001b[0m",
      "\u001b[1;31mValueError\u001b[0m                                Traceback (most recent call last)",
      "\u001b[1;32m~\\AppData\\Local\\Temp\\ipykernel_17016\\458336197.py\u001b[0m in \u001b[0;36m<module>\u001b[1;34m\u001b[0m\n\u001b[0;32m      1\u001b[0m \u001b[0mmat2\u001b[0m \u001b[1;33m=\u001b[0m \u001b[0mnp\u001b[0m\u001b[1;33m.\u001b[0m\u001b[0marange\u001b[0m\u001b[1;33m(\u001b[0m\u001b[1;36m0\u001b[0m\u001b[1;33m,\u001b[0m\u001b[1;36m3\u001b[0m\u001b[1;33m)\u001b[0m\u001b[1;33m.\u001b[0m\u001b[0mreshape\u001b[0m\u001b[1;33m(\u001b[0m\u001b[1;33m(\u001b[0m\u001b[1;36m3\u001b[0m\u001b[1;33m,\u001b[0m\u001b[1;33m)\u001b[0m\u001b[1;33m)\u001b[0m\u001b[1;33m\u001b[0m\u001b[1;33m\u001b[0m\u001b[0m\n\u001b[1;32m----> 2\u001b[1;33m \u001b[0mnp\u001b[0m\u001b[1;33m.\u001b[0m\u001b[0mconcatenate\u001b[0m\u001b[1;33m(\u001b[0m \u001b[1;33m(\u001b[0m\u001b[0mmat1\u001b[0m\u001b[1;33m,\u001b[0m \u001b[0mmat2\u001b[0m\u001b[1;33m)\u001b[0m\u001b[1;33m,\u001b[0m \u001b[0maxis\u001b[0m \u001b[1;33m=\u001b[0m \u001b[1;36m1\u001b[0m\u001b[1;33m)\u001b[0m  \u001b[1;31m# this does not work\u001b[0m\u001b[1;33m\u001b[0m\u001b[1;33m\u001b[0m\u001b[0m\n\u001b[0m",
      "\u001b[1;32m<__array_function__ internals>\u001b[0m in \u001b[0;36mconcatenate\u001b[1;34m(*args, **kwargs)\u001b[0m\n",
      "\u001b[1;31mValueError\u001b[0m: all the input arrays must have same number of dimensions, but the array at index 0 has 2 dimension(s) and the array at index 1 has 1 dimension(s)"
     ]
    }
   ],
   "source": [
    "mat2 = np.arange(0,3).reshape((3,))\n",
    "np.concatenate( (mat1, mat2), axis = 1)  # this does not work"
   ]
  },
  {
   "cell_type": "markdown",
   "id": "e3a87d0c",
   "metadata": {},
   "source": [
    "## 11. Uniform and standard normal distributions <a class=\"anchor\" id=\"bullet11\"></a>"
   ]
  },
  {
   "cell_type": "code",
   "execution_count": 26,
   "id": "66ce9b5f",
   "metadata": {},
   "outputs": [],
   "source": [
    "import matplotlib.pyplot as plt"
   ]
  },
  {
   "cell_type": "code",
   "execution_count": 27,
   "id": "4d9dbe65",
   "metadata": {},
   "outputs": [],
   "source": [
    "rng = np.random.default_rng(seed=3252)"
   ]
  },
  {
   "cell_type": "code",
   "execution_count": 119,
   "id": "c9f5c103-284e-4cf7-8c40-782a21e16474",
   "metadata": {},
   "outputs": [],
   "source": [
    "s1 = rng.uniform(-1,0,1000)\n",
    "hist, bin_edges = np.histogram(s1)"
   ]
  },
  {
   "cell_type": "code",
   "execution_count": 122,
   "id": "983b9373",
   "metadata": {},
   "outputs": [
    {
     "data": {
      "text/plain": [
       "(0.0, 120.0)"
      ]
     },
     "execution_count": 122,
     "metadata": {},
     "output_type": "execute_result"
    },
    {
     "data": {
      "image/png": "[encoded data removed]",
      "text/plain": [
       "<Figure size 640x480 with 1 Axes>"
      ]
     },
     "metadata": {},
     "output_type": "display_data"
    }
   ],
   "source": [
    "s1 = rng.uniform(-1,0,1000)\n",
    "\n",
    "# matplotlib method\n",
    "n, bins, patches = plt.hist(x=s1, bins='auto', color='#0504aa',\n",
    "                            alpha=0.7, rwidth=0.85)\n",
    "plt.grid(axis='y', alpha=0.75)\n",
    "plt.xlabel('Value')\n",
    "plt.ylabel('Frequency')\n",
    "plt.title('My Very Own Histogram')\n",
    "#plt.text(23, 45, r'$\\mu=15, b=3$')\n",
    "maxfreq = n.max()\n",
    "# Set a clean upper y-axis limit.\n",
    "plt.ylim(ymax=np.ceil(maxfreq / 10) * 10 if maxfreq % 10 else maxfreq + 10)"
   ]
  },
  {
   "cell_type": "code",
   "execution_count": 123,
   "id": "006906b3",
   "metadata": {},
   "outputs": [
    {
     "data": {
      "text/plain": [
       "(0.0, 120.0)"
      ]
     },
     "execution_count": 123,
     "metadata": {},
     "output_type": "execute_result"
    },
    {
     "data": {
      "image/png": "[encoded data removed]",
      "text/plain": [
       "<Figure size 640x480 with 1 Axes>"
      ]
     },
     "metadata": {},
     "output_type": "display_data"
    }
   ],
   "source": [
    "s2 = rng.standard_normal(1000)\n",
    "from scipy import stats\n",
    "\n",
    "# matplotlib method\n",
    "n, bins, patches = plt.hist(x=s2, bins='auto', color='#0504aa',\n",
    "                            alpha=0.7, rwidth=0.85)\n",
    "plt.grid(axis='y', alpha=0.75)\n",
    "plt.xlabel('Value')\n",
    "plt.ylabel('Frequency')\n",
    "plt.title('My Very Own Histogram')\n",
    "#plt.text(23, 45, r'$\\mu=15, b=3$')\n",
    "maxfreq = n.max()\n",
    "# Set a clean upper y-axis limit.\n",
    "plt.ylim(ymax=np.ceil(maxfreq / 10) * 10 if maxfreq % 10 else maxfreq + 10)"
   ]
  },
  {
   "cell_type": "markdown",
   "id": "88526df3",
   "metadata": {},
   "source": [
    "## 12. Universal Functions <a class=\"anchor\" id=\"bullet12\"></a>"
   ]
  },
  {
   "cell_type": "markdown",
   "id": "c1727b23",
   "metadata": {},
   "source": [
    "\"A **universal function**, or ufunc, is a function that performs element-wise operations on data in ndarrays.\" - _McKinney_"
   ]
  },
  {
   "cell_type": "code",
   "execution_count": 39,
   "id": "389de5dd",
   "metadata": {},
   "outputs": [
    {
     "data": {
      "text/plain": [
       "array([0, 1, 2, 3, 4, 5, 6, 7, 8, 9])"
      ]
     },
     "execution_count": 39,
     "metadata": {},
     "output_type": "execute_result"
    }
   ],
   "source": [
    "arr14 = np.arange(10)\n",
    "arr14"
   ]
  },
  {
   "cell_type": "code",
   "execution_count": 125,
   "id": "d8b77bd7",
   "metadata": {},
   "outputs": [
    {
     "data": {
      "text/plain": [
       "array([0.        , 1.        , 1.41421356, 1.73205081, 2.        ,\n",
       "       2.23606798, 2.44948974, 2.64575131, 2.82842712, 3.        ])"
      ]
     },
     "execution_count": 125,
     "metadata": {},
     "output_type": "execute_result"
    }
   ],
   "source": [
    "np.sqrt(arr14) # square root every element"
   ]
  },
  {
   "cell_type": "code",
   "execution_count": 127,
   "id": "d4b29557",
   "metadata": {},
   "outputs": [
    {
     "data": {
      "text/plain": [
       "array([1.00000000e+00, 2.71828183e+00, 7.38905610e+00, 2.00855369e+01,\n",
       "       5.45981500e+01, 1.48413159e+02, 4.03428793e+02, 1.09663316e+03,\n",
       "       2.98095799e+03, 8.10308393e+03])"
      ]
     },
     "execution_count": 127,
     "metadata": {},
     "output_type": "execute_result"
    }
   ],
   "source": [
    "np.exp(arr14)"
   ]
  },
  {
   "cell_type": "markdown",
   "id": "c6c2101a-8ae0-423d-a079-efe3843562d9",
   "metadata": {},
   "source": [
    "There are also binary ufuncs, which simply means functions applied to a pair of elements from different objects"
   ]
  },
  {
   "cell_type": "code",
   "execution_count": 128,
   "id": "0117f826",
   "metadata": {},
   "outputs": [
    {
     "data": {
      "text/plain": [
       "array([-1.15721576, -0.86957165, -1.18562267,  0.12977259, -0.19213664,\n",
       "       -0.57189922, -0.45562554,  0.27400029])"
      ]
     },
     "execution_count": 128,
     "metadata": {},
     "output_type": "execute_result"
    }
   ],
   "source": [
    "x = rng.standard_normal(8)\n",
    "x"
   ]
  },
  {
   "cell_type": "code",
   "execution_count": 129,
   "id": "dececb5a",
   "metadata": {},
   "outputs": [
    {
     "data": {
      "text/plain": [
       "array([-1.16156143, -0.66002152, -0.86512571, -0.48307428,  0.31365211,\n",
       "        0.22876398,  0.73776771,  0.70107717])"
      ]
     },
     "execution_count": 129,
     "metadata": {},
     "output_type": "execute_result"
    }
   ],
   "source": [
    "y = rng.standard_normal(8)\n",
    "y"
   ]
  },
  {
   "cell_type": "code",
   "execution_count": 130,
   "id": "4aba33a2",
   "metadata": {},
   "outputs": [
    {
     "data": {
      "text/plain": [
       "array([-1.15721576, -0.66002152, -0.86512571,  0.12977259,  0.31365211,\n",
       "        0.22876398,  0.73776771,  0.70107717])"
      ]
     },
     "execution_count": 130,
     "metadata": {},
     "output_type": "execute_result"
    }
   ],
   "source": [
    "np.maximum(x, y)"
   ]
  },
  {
   "cell_type": "code",
   "execution_count": 131,
   "id": "215190be",
   "metadata": {},
   "outputs": [
    {
     "data": {
      "text/plain": [
       "array([-2.31877719, -1.52959316, -2.05074838, -0.35330169,  0.12151547,\n",
       "       -0.34313523,  0.28214218,  0.97507746])"
      ]
     },
     "execution_count": 131,
     "metadata": {},
     "output_type": "execute_result"
    }
   ],
   "source": [
    "np.add(x, y)"
   ]
  },
  {
   "cell_type": "code",
   "execution_count": 132,
   "id": "d8d5601d",
   "metadata": {},
   "outputs": [
    {
     "data": {
      "text/plain": [
       "array([ 0.00434567, -0.20955013, -0.32049696,  0.61284687, -0.50578875,\n",
       "       -0.8006632 , -1.19339325, -0.42707689])"
      ]
     },
     "execution_count": 132,
     "metadata": {},
     "output_type": "execute_result"
    }
   ],
   "source": [
    "np.subtract(x, y)"
   ]
  },
  {
   "cell_type": "code",
   "execution_count": 133,
   "id": "15a4fa2f",
   "metadata": {},
   "outputs": [
    {
     "data": {
      "text/plain": [
       "array([ 0.99625877,  1.31748985,  1.37046288, -0.26863899, -0.61257881,\n",
       "       -2.49995306, -0.61757316,  0.39082757])"
      ]
     },
     "execution_count": 133,
     "metadata": {},
     "output_type": "execute_result"
    }
   ],
   "source": [
    "np.divide(x, y)"
   ]
  },
  {
   "cell_type": "code",
   "execution_count": 134,
   "id": "1b349e03",
   "metadata": {},
   "outputs": [
    {
     "data": {
      "text/plain": [
       "array([ 1.34417719,  0.573936  ,  1.02571265, -0.0626898 , -0.06026406,\n",
       "       -0.13082994, -0.33614581,  0.19209535])"
      ]
     },
     "execution_count": 134,
     "metadata": {},
     "output_type": "execute_result"
    }
   ],
   "source": [
    "np.multiply(x, y)"
   ]
  },
  {
   "cell_type": "code",
   "execution_count": 135,
   "id": "443925ed",
   "metadata": {},
   "outputs": [
    {
     "data": {
      "text/plain": [
       "array([ 0.,  1.,  1., -1., -1., -3., -1.,  0.])"
      ]
     },
     "execution_count": 135,
     "metadata": {},
     "output_type": "execute_result"
    }
   ],
   "source": [
    "np.floor_divide(x, y)"
   ]
  },
  {
   "cell_type": "code",
   "execution_count": 146,
   "id": "39e1e3ab",
   "metadata": {},
   "outputs": [
    {
     "data": {
      "text/plain": [
       "64"
      ]
     },
     "execution_count": 146,
     "metadata": {},
     "output_type": "execute_result"
    }
   ],
   "source": [
    "# Quick examples of power() function\n",
    "# Example 1: Get the scalar as exponent of an array \n",
    "arr = np.power(4,3)\n",
    "arr"
   ]
  },
  {
   "cell_type": "code",
   "execution_count": 148,
   "id": "acb8af9b",
   "metadata": {},
   "outputs": [
    {
     "data": {
      "text/plain": [
       "array([  8,  27, 125, 512, 729,  64], dtype=int32)"
      ]
     },
     "execution_count": 148,
     "metadata": {},
     "output_type": "execute_result"
    }
   ],
   "source": [
    "# Example 2: Get the exponents of an array \n",
    "arr = np.array([2, 3, 5, 8, 9,4])\n",
    "arr1 = np.power(arr, 3)\n",
    "arr1"
   ]
  },
  {
   "cell_type": "code",
   "execution_count": 151,
   "id": "68295571-cff8-4348-9148-69ca7dda1ce5",
   "metadata": {},
   "outputs": [
    {
     "data": {
      "text/plain": [
       "array([  4,  64,  36, 625,   3], dtype=int32)"
      ]
     },
     "execution_count": 151,
     "metadata": {},
     "output_type": "execute_result"
    }
   ],
   "source": [
    "# Example 3: Get the exponents of two 1-Darray\n",
    "arr = [2, 4, 6, 5, 3]\n",
    "arr1 = [2, 3, 2, 4, 1]\n",
    "arr2 = np.power(arr,arr1)\n",
    "arr2"
   ]
  },
  {
   "cell_type": "code",
   "execution_count": 152,
   "id": "39af59a2",
   "metadata": {},
   "outputs": [],
   "source": [
    "# And more... refer back to Mckinney for a complete list"
   ]
  },
  {
   "cell_type": "markdown",
   "id": "8f7e289f",
   "metadata": {},
   "source": [
    "## 13. np.where and list comprehensions <a class=\"anchor\" id=\"bullet13\"></a>"
   ]
  },
  {
   "cell_type": "markdown",
   "id": "df58bd5c-0bc5-487d-a42d-88ec7c480cb5",
   "metadata": {},
   "source": [
    "A typical use of where in data analysis is to produce a new array of values based on another array. Suppose you had a matrix of randomly generated data and you wanted to replace all positive values with 2 and all negative values with –2. This is possible to do with numpy.where."
   ]
  },
  {
   "cell_type": "code",
   "execution_count": 156,
   "id": "d94caed1-d661-442b-af2b-184de4085113",
   "metadata": {},
   "outputs": [
    {
     "data": {
      "text/plain": [
       "array([[-1.00276357,  1.22535896,  1.20286734, -0.56090888],\n",
       "       [ 1.47384242, -0.34954825,  0.54352156, -0.77796839],\n",
       "       [ 0.95912692,  0.82805587,  0.06535135,  0.63161167],\n",
       "       [ 0.79758905, -0.28188053, -0.09010887, -0.90075393]])"
      ]
     },
     "execution_count": 156,
     "metadata": {},
     "output_type": "execute_result"
    }
   ],
   "source": [
    "arr = rng.standard_normal((4, 4))\n",
    "arr"
   ]
  },
  {
   "cell_type": "code",
   "execution_count": 157,
   "id": "8bdda461-7224-4d9b-940b-e52946e8324b",
   "metadata": {},
   "outputs": [
    {
     "data": {
      "text/plain": [
       "array([[False,  True,  True, False],\n",
       "       [ True, False,  True, False],\n",
       "       [ True,  True,  True,  True],\n",
       "       [ True, False, False, False]])"
      ]
     },
     "execution_count": 157,
     "metadata": {},
     "output_type": "execute_result"
    }
   ],
   "source": [
    "arr > 0 # codition or logical check, which returns boolen array of same dims"
   ]
  },
  {
   "cell_type": "code",
   "execution_count": 159,
   "id": "55b63b9a-d98d-4515-8a21-96060d758619",
   "metadata": {},
   "outputs": [
    {
     "data": {
      "text/plain": [
       "array([[-2,  2,  2, -2],\n",
       "       [ 2, -2,  2, -2],\n",
       "       [ 2,  2,  2,  2],\n",
       "       [ 2, -2, -2, -2]])"
      ]
     },
     "execution_count": 159,
     "metadata": {},
     "output_type": "execute_result"
    }
   ],
   "source": [
    "np.where(arr > 0, 2, -2) # if value is positive, we input a 2. Otherwise, -2"
   ]
  },
  {
   "cell_type": "markdown",
   "id": "a488931e-874f-46ae-89bd-11a26975be47",
   "metadata": {},
   "source": [
    "**Challenge:** Imagine we wanted to clean the gender data below, keeping only the entries with a single character. How could we efficiently do this?"
   ]
  },
  {
   "cell_type": "code",
   "execution_count": 4,
   "id": "f590785d",
   "metadata": {},
   "outputs": [
    {
     "data": {
      "text/plain": [
       "array(['Female', 'F', 'Female', 'M', 'Male'], dtype='<U6')"
      ]
     },
     "execution_count": 4,
     "metadata": {},
     "output_type": "execute_result"
    }
   ],
   "source": [
    "gender = np.array(['Female', 'F', 'Female', 'M', 'Male'])\n",
    "gender"
   ]
  },
  {
   "cell_type": "code",
   "execution_count": 6,
   "id": "2c988be3",
   "metadata": {},
   "outputs": [
    {
     "data": {
      "text/plain": [
       "['F', 'F', 'F', 'M', 'M']"
      ]
     },
     "execution_count": 6,
     "metadata": {},
     "output_type": "execute_result"
    }
   ],
   "source": [
    "# np.where avoids this convuluted code, where we needed two list comprehensions \n",
    "# Let's use this opportunity to learn about list comprehensions\n",
    "result = [(x if c else y)\n",
    "           for x, y, c in zip(gender, gender.astype('<U1'), \n",
    "                              [ x==1 for x in [len(i) for i in gender]])]\n",
    "result"
   ]
  },
  {
   "cell_type": "markdown",
   "id": "c501118f-a797-4ee8-907e-59dcd596cf17",
   "metadata": {},
   "source": [
    "List comprehensions have the format below. These are similar to for loops, so we will review these in more detail when we study for loops in the near future. For now, let's focus on the three main elements of a list comprehension:\n",
    "- An **iterable** is something like the object gender, which is (in this case) a list of length 5. Python treats this as an \"iterable\" object, since we can use various functions or control statements to iterate through the elements or items of a list object.\n",
    "- An **item** or **element** refer to the unique values in the iterable object.\n",
    "- An **expression** which is telling python to adjust the item in some specific way."
   ]
  },
  {
   "cell_type": "code",
   "execution_count": null,
   "id": "886cb997-db61-4137-82be-99d7c9fd5f82",
   "metadata": {},
   "outputs": [],
   "source": [
    "newlist = [expression for item in iterable]"
   ]
  },
  {
   "cell_type": "markdown",
   "id": "23b964e8-30b2-4988-a84e-af7acc5afe87",
   "metadata": {},
   "source": [
    "Let's look at how list comprehensions work in practice to learn more about them. The code above for modifying the gender object has multiple list comprehensions embedded in it. Let's that break down step by step."
   ]
  },
  {
   "cell_type": "code",
   "execution_count": 8,
   "id": "a28aad8a",
   "metadata": {},
   "outputs": [
    {
     "data": {
      "text/plain": [
       "[6, 1, 6, 1, 4]"
      ]
     },
     "execution_count": 8,
     "metadata": {},
     "output_type": "execute_result"
    }
   ],
   "source": [
    "[len(i) for i in gender] # this is a list comprehension\n",
    "# gender = iterable.   List objects, tuples, dictionaries and sets are all iterable objects in python\n",
    "# i      = item.       We could name it whatever we want, like x for example.\n",
    "# len(i) = expression. Here, we are telling python to return the length of each value i."
   ]
  },
  {
   "cell_type": "code",
   "execution_count": 10,
   "id": "dbda75d0",
   "metadata": {},
   "outputs": [
    {
     "data": {
      "text/plain": [
       "[False, True, False, True, False]"
      ]
     },
     "execution_count": 10,
     "metadata": {},
     "output_type": "execute_result"
    }
   ],
   "source": [
    "[ x==1 for x in [len(i) for i in gender]] # nested list comprehension to make a boolean array"
   ]
  },
  {
   "cell_type": "code",
   "execution_count": 24,
   "id": "3c460443",
   "metadata": {},
   "outputs": [
    {
     "data": {
      "text/plain": [
       "<zip at 0x1e84eb79a40>"
      ]
     },
     "execution_count": 24,
     "metadata": {},
     "output_type": "execute_result"
    }
   ],
   "source": [
    "# the zip function will extract the first letter of each value in the gender object. \n",
    "# But it returns it as a tuple as we can see \n",
    "zipped_obj = zip(gender, gender.astype('<U1'), [ x==1 for x in [len(i) for i in gender]]) \n",
    "zipped_obj "
   ]
  },
  {
   "cell_type": "code",
   "execution_count": 23,
   "id": "94cb81fe",
   "metadata": {},
   "outputs": [
    {
     "name": "stdout",
     "output_type": "stream",
     "text": [
      "[('Female', 'F', False), ('F', 'F', True), ('Female', 'F', False), ('M', 'M', True), ('Male', 'M', False)]\n"
     ]
    }
   ],
   "source": [
    "# Close to what we wanted, but we need to keep going\n",
    "print(list(zipped_obj))"
   ]
  },
  {
   "cell_type": "code",
   "execution_count": 20,
   "id": "a082874c-9034-4429-8290-b588f32f527d",
   "metadata": {},
   "outputs": [
    {
     "data": {
      "text/plain": [
       "['F', 'F', 'F', 'M', 'M']"
      ]
     },
     "execution_count": 20,
     "metadata": {},
     "output_type": "execute_result"
    }
   ],
   "source": [
    "# From here, we need to extract the 2nd element of each tuple. We can do this with another list comprehension.\n",
    "result = [(x if c else y) for x, y, c in list(zipped_obj)]\n",
    "result"
   ]
  },
  {
   "cell_type": "code",
   "execution_count": 50,
   "id": "110126c2-e62a-4a93-9850-38da068c7248",
   "metadata": {},
   "outputs": [
    {
     "data": {
      "text/plain": [
       "array([False,  True, False,  True, False])"
      ]
     },
     "execution_count": 50,
     "metadata": {},
     "output_type": "execute_result"
    }
   ],
   "source": [
    "np.in1d(gender, ['F', 'M']) # np.in1d tests membership of the values in one array in another, returning a Boolean array"
   ]
  },
  {
   "cell_type": "markdown",
   "id": "ed044c73-57de-45e6-b9b9-d21ebdf1a8f7",
   "metadata": {},
   "source": [
    "**Challenge**: Use the cell below to use the np.where() function to recode the gender array. Note that there are many ways to do this!"
   ]
  },
  {
   "cell_type": "code",
   "execution_count": 51,
   "id": "38ab4608-0dbd-4649-aa35-63220bca88dc",
   "metadata": {},
   "outputs": [
    {
     "data": {
      "text/plain": [
       "array(['F', 'F', 'F', 'M', 'M'], dtype='<U6')"
      ]
     },
     "execution_count": 51,
     "metadata": {},
     "output_type": "execute_result"
    }
   ],
   "source": []
  },
  {
   "cell_type": "markdown",
   "id": "766b3c0f-a2c3-4657-a016-958dcaeb566f",
   "metadata": {},
   "source": [
    "The zip function is confusing, but I've included some details below about what it does exactly."
   ]
  },
  {
   "cell_type": "code",
   "execution_count": 13,
   "id": "086b46a5",
   "metadata": {},
   "outputs": [
    {
     "name": "stdout",
     "output_type": "stream",
     "text": [
      "<zip object at 0x000001E85000B600>\n"
     ]
    }
   ],
   "source": [
    "# zip() returns an iterator of tuples, where the i-th tuple contains the i-th element \n",
    "# from each of the argument iterables.\n",
    "# zip() is lazy: The elements won’t be processed until the iterable is iterated on, \n",
    "# e.g. by a for loop or by wrapping in a list.\n",
    "print(test) "
   ]
  },
  {
   "cell_type": "markdown",
   "id": "7ab9de61",
   "metadata": {},
   "source": [
    "## 14. Mathematical and Statistical Methods <a class=\"anchor\" id=\"bullet14\"></a>"
   ]
  },
  {
   "cell_type": "markdown",
   "id": "674e6bad",
   "metadata": {},
   "source": [
    "\"A set of mathematical functions that compute statistics about an entire array or about the data along an axis are accessible as methods of the array class.\" - *McKinney*"
   ]
  },
  {
   "cell_type": "code",
   "execution_count": 29,
   "id": "49287694-6623-4635-ac33-456ce67517e5",
   "metadata": {},
   "outputs": [
    {
     "data": {
      "text/plain": [
       "array([[ 0.41755604, -1.7264161 , -0.58565225, -0.01200473],\n",
       "       [-0.98137323, -1.24422591,  1.37022778, -1.70577306],\n",
       "       [-0.1394301 , -2.08654926,  1.16716323,  1.76764486],\n",
       "       [ 0.46162428,  1.45718303, -0.21671437,  0.28762552],\n",
       "       [-1.22479424,  0.69490583,  0.40229433, -0.86175355]])"
      ]
     },
     "execution_count": 29,
     "metadata": {},
     "output_type": "execute_result"
    }
   ],
   "source": [
    "arr16 = rng.standard_normal((5, 4))\n",
    "arr16"
   ]
  },
  {
   "cell_type": "code",
   "execution_count": 30,
   "id": "ad907571",
   "metadata": {},
   "outputs": [
    {
     "data": {
      "text/plain": [
       "-0.13792309533183414"
      ]
     },
     "execution_count": 30,
     "metadata": {},
     "output_type": "execute_result"
    }
   ],
   "source": [
    "# Note it may not make sense to take the mean of a 2D array. Column or row means could make more sense\n",
    "arr16.mean() # mean as a method"
   ]
  },
  {
   "cell_type": "code",
   "execution_count": 34,
   "id": "f61b3fb9",
   "metadata": {},
   "outputs": [
    {
     "data": {
      "text/plain": [
       "-0.13792309533183414"
      ]
     },
     "execution_count": 34,
     "metadata": {},
     "output_type": "execute_result"
    }
   ],
   "source": [
    "np.mean(arr16) # mean as a function"
   ]
  },
  {
   "cell_type": "code",
   "execution_count": 35,
   "id": "69a9edf1",
   "metadata": {},
   "outputs": [
    {
     "data": {
      "text/plain": [
       "-2.7584619066366827"
      ]
     },
     "execution_count": 35,
     "metadata": {},
     "output_type": "execute_result"
    }
   ],
   "source": [
    "arr16.sum() # sum as a method"
   ]
  },
  {
   "cell_type": "code",
   "execution_count": 36,
   "id": "2d6616e3",
   "metadata": {},
   "outputs": [
    {
     "data": {
      "text/plain": [
       "array([-0.47662926, -0.64028611,  0.17720718,  0.49742962, -0.24733691])"
      ]
     },
     "execution_count": 36,
     "metadata": {},
     "output_type": "execute_result"
    }
   ],
   "source": [
    "# Functions like mean and sum take an optional axis argument that computes the statistic over the given axis, resulting in an array with one less dimension:\n",
    "# compute mean across the columns\n",
    "arr16.mean(axis=1)"
   ]
  },
  {
   "cell_type": "code",
   "execution_count": 37,
   "id": "fd15075f",
   "metadata": {},
   "outputs": [
    {
     "data": {
      "text/plain": [
       "array([-1.46641724, -2.90510242,  2.13731872, -0.52426097])"
      ]
     },
     "execution_count": 37,
     "metadata": {},
     "output_type": "execute_result"
    }
   ],
   "source": [
    "# compute sum down the rows\n",
    "arr16.sum(axis=0)"
   ]
  },
  {
   "attachments": {
    "bb78aea5-0be5-4e7c-87bf-a983794e3c83.PNG": {
     "image/png": "[encoded data removed]"
    }
   },
   "cell_type": "markdown",
   "id": "3c5734e5-7b60-4444-9b0f-500bb4984202",
   "metadata": {},
   "source": [
    "In other words, axis=1 computes the mean across the columns while axis=0 computes the mean down the rows.\n",
    "![NumpyAxis.PNG](attachment:bb78aea5-0be5-4e7c-87bf-a983794e3c83.PNG)"
   ]
  },
  {
   "cell_type": "code",
   "execution_count": 40,
   "id": "60bb3cfe",
   "metadata": {},
   "outputs": [
    {
     "data": {
      "text/plain": [
       "array([0, 1, 2, 3, 4, 5, 6, 7, 8, 9])"
      ]
     },
     "execution_count": 40,
     "metadata": {},
     "output_type": "execute_result"
    }
   ],
   "source": [
    "# Other methods like cumsum and cumprod do not aggregate, instead producing an array of the intermediate results:\n",
    "arr14"
   ]
  },
  {
   "cell_type": "code",
   "execution_count": 41,
   "id": "0eba5bf3",
   "metadata": {},
   "outputs": [
    {
     "data": {
      "text/plain": [
       "array([ 0,  1,  3,  6, 10, 15, 21, 28, 36, 45], dtype=int32)"
      ]
     },
     "execution_count": 41,
     "metadata": {},
     "output_type": "execute_result"
    }
   ],
   "source": [
    "arr14.cumsum()"
   ]
  },
  {
   "cell_type": "code",
   "execution_count": 42,
   "id": "69a03882",
   "metadata": {},
   "outputs": [
    {
     "data": {
      "text/plain": [
       "array([[ 0.41755604, -1.7264161 , -0.58565225, -0.01200473],\n",
       "       [-0.56381719, -2.97064202,  0.78457553, -1.71777779],\n",
       "       [-0.70324729, -5.05719128,  1.95173876,  0.04986706],\n",
       "       [-0.241623  , -3.60000825,  1.73502439,  0.33749258],\n",
       "       [-1.46641724, -2.90510242,  2.13731872, -0.52426097]])"
      ]
     },
     "execution_count": 42,
     "metadata": {},
     "output_type": "execute_result"
    }
   ],
   "source": [
    "arr16.cumsum(axis=0) # computes along rows"
   ]
  },
  {
   "cell_type": "code",
   "execution_count": 43,
   "id": "a0957c98",
   "metadata": {},
   "outputs": [
    {
     "data": {
      "text/plain": [
       "array([[ 0.41755604, -1.30886006, -1.89451231, -1.90651704],\n",
       "       [-0.98137323, -2.22559915, -0.85537137, -2.56114443],\n",
       "       [-0.1394301 , -2.22597936, -1.05881613,  0.70882872],\n",
       "       [ 0.46162428,  1.91880732,  1.70209295,  1.98971847],\n",
       "       [-1.22479424, -0.52988841, -0.12759408, -0.98934763]])"
      ]
     },
     "execution_count": 43,
     "metadata": {},
     "output_type": "execute_result"
    }
   ],
   "source": [
    "arr16.cumsum(axis=1) # computes along columns"
   ]
  },
  {
   "cell_type": "markdown",
   "id": "1ecf2fc4",
   "metadata": {},
   "source": [
    "## 15. Methods for boolean arrays <a class=\"anchor\" id=\"bullet15\"></a>"
   ]
  },
  {
   "cell_type": "markdown",
   "id": "86c65376",
   "metadata": {},
   "source": [
    "Boolean values are coerced to 1 (True) and 0 (False) in the preceding methods. Thus, sum is often used as a means of counting True values in a Boolean array:"
   ]
  },
  {
   "cell_type": "code",
   "execution_count": 44,
   "id": "47e5df97",
   "metadata": {},
   "outputs": [
    {
     "data": {
      "text/plain": [
       "array([-1.05632854, -0.3284181 , -1.47805528,  0.18223605,  0.08588379,\n",
       "        0.65269164, -0.08316468,  0.72757985, -0.01378854, -1.63344875,\n",
       "        0.07321504,  0.35520815,  0.42665606, -0.94711127, -1.02688466,\n",
       "       -0.14785233,  1.44203469, -0.49887421, -0.70674284, -1.0062537 ,\n",
       "        1.12153039, -0.86417432, -0.2621393 , -3.64343527,  0.08913665,\n",
       "        0.52172846,  1.19535631, -1.39388665,  0.7640927 ,  0.79955293,\n",
       "       -1.41203198, -1.57686896, -0.23213383,  0.3175884 ,  2.38924687,\n",
       "       -0.38953395,  0.35961123, -0.54209628, -0.29092171, -1.64155816,\n",
       "        0.37810878,  0.97834479, -0.34380259,  2.54589611, -1.85232436,\n",
       "       -0.04964718,  0.89569557,  1.73608718, -0.35702636,  0.47659672,\n",
       "        1.26163812,  0.16015635,  1.37905332,  0.06315142,  1.03626819,\n",
       "       -0.46078553,  0.12408023, -1.11365991, -0.48969546, -0.23404932,\n",
       "        1.66098094, -0.23936535,  0.56908478, -0.42024436, -0.22641628,\n",
       "        0.43341821,  0.82901625, -0.3207447 ,  0.74659985, -0.31245252,\n",
       "        0.89853283,  0.71068758, -1.10018749, -0.89238291,  0.37337401,\n",
       "        0.8875809 ,  1.20064532,  0.3801546 , -0.28046871, -0.60773883,\n",
       "       -0.36725921, -0.05734371,  0.99841934,  0.3433014 ,  0.81127964,\n",
       "        0.85075659, -1.0885226 ,  0.00734985,  0.20827804, -0.02430487,\n",
       "       -0.84299754,  0.96143385, -1.08590109,  1.24019218, -1.09707216,\n",
       "       -0.04202838,  0.27715365,  0.15908156,  0.83692191,  0.611845  ])"
      ]
     },
     "execution_count": 44,
     "metadata": {},
     "output_type": "execute_result"
    }
   ],
   "source": [
    "arr17 = rng.standard_normal(100)\n",
    "arr17"
   ]
  },
  {
   "cell_type": "code",
   "execution_count": 45,
   "id": "f9036395-0d1f-4163-960e-c21b3f481493",
   "metadata": {},
   "outputs": [
    {
     "data": {
      "text/plain": [
       "array([False, False, False,  True,  True,  True, False,  True, False,\n",
       "       False,  True,  True,  True, False, False, False,  True, False,\n",
       "       False, False,  True, False, False, False,  True,  True,  True,\n",
       "       False,  True,  True, False, False, False,  True,  True, False,\n",
       "        True, False, False, False,  True,  True, False,  True, False,\n",
       "       False,  True,  True, False,  True,  True,  True,  True,  True,\n",
       "        True, False,  True, False, False, False,  True, False,  True,\n",
       "       False, False,  True,  True, False,  True, False,  True,  True,\n",
       "       False, False,  True,  True,  True,  True, False, False, False,\n",
       "       False,  True,  True,  True,  True, False,  True,  True, False,\n",
       "       False,  True, False,  True, False, False,  True,  True,  True,\n",
       "        True])"
      ]
     },
     "execution_count": 45,
     "metadata": {},
     "output_type": "execute_result"
    }
   ],
   "source": [
    "(arr17 > 0) # boolean array"
   ]
  },
  {
   "cell_type": "code",
   "execution_count": 46,
   "id": "e6c47327",
   "metadata": {},
   "outputs": [
    {
     "data": {
      "text/plain": [
       "52"
      ]
     },
     "execution_count": 46,
     "metadata": {},
     "output_type": "execute_result"
    }
   ],
   "source": [
    "(arr17 > 0).sum() # Number of positive values"
   ]
  },
  {
   "cell_type": "code",
   "execution_count": 47,
   "id": "9c920838",
   "metadata": {},
   "outputs": [
    {
     "data": {
      "text/plain": [
       "48"
      ]
     },
     "execution_count": 47,
     "metadata": {},
     "output_type": "execute_result"
    }
   ],
   "source": [
    "(arr17 <= 0).sum() # Number of non-positive values"
   ]
  },
  {
   "cell_type": "markdown",
   "id": "0184a7e5",
   "metadata": {},
   "source": [
    "Two additional methods, `any()` and `all()` are useful for Boolean arrays.\n",
    "- `any()` tests whether one or more values in an array is True\n",
    "- `all()` checks if every value is True."
   ]
  },
  {
   "cell_type": "code",
   "execution_count": 48,
   "id": "14303169",
   "metadata": {},
   "outputs": [
    {
     "name": "stdout",
     "output_type": "stream",
     "text": [
      "True\n"
     ]
    },
    {
     "data": {
      "text/plain": [
       "False"
      ]
     },
     "execution_count": 48,
     "metadata": {},
     "output_type": "execute_result"
    }
   ],
   "source": [
    "bools = np.array([False, False, True, False])\n",
    "\n",
    "print(bools.any())\n",
    "bools.all()"
   ]
  },
  {
   "cell_type": "markdown",
   "id": "2a65187e",
   "metadata": {},
   "source": [
    "These methods also work with non-Boolean arrays, where nonzero elements are treated as True."
   ]
  },
  {
   "cell_type": "markdown",
   "id": "be00ad88",
   "metadata": {},
   "source": [
    "## 16. Sorting <a class=\"anchor\" id=\"bullet16\"></a>"
   ]
  },
  {
   "cell_type": "code",
   "execution_count": 113,
   "id": "8b4fc31f",
   "metadata": {},
   "outputs": [
    {
     "data": {
      "text/plain": [
       "array([ 0.5872965 ,  1.46189064, -0.26993541,  1.51737643, -0.91751874,\n",
       "       -0.69139623])"
      ]
     },
     "execution_count": 113,
     "metadata": {},
     "output_type": "execute_result"
    }
   ],
   "source": [
    "arr18 = rng.standard_normal(6)\n",
    "arr18"
   ]
  },
  {
   "cell_type": "code",
   "execution_count": 114,
   "id": "a3a65a0a",
   "metadata": {},
   "outputs": [
    {
     "data": {
      "text/plain": [
       "array([-0.91751874, -0.69139623, -0.26993541,  0.5872965 ,  1.46189064,\n",
       "        1.51737643])"
      ]
     },
     "execution_count": 114,
     "metadata": {},
     "output_type": "execute_result"
    }
   ],
   "source": [
    "arr18.sort()\n",
    "arr18"
   ]
  },
  {
   "cell_type": "code",
   "execution_count": 115,
   "id": "69189c2c",
   "metadata": {},
   "outputs": [
    {
     "data": {
      "text/plain": [
       "array([[ 1.37613133, -0.4740934 , -0.39577908],\n",
       "       [-0.65298439,  2.02218852, -0.07984649],\n",
       "       [-0.95380272,  0.05534965,  0.0057336 ],\n",
       "       [-0.41212907,  0.59028033, -0.42022751],\n",
       "       [ 2.1818843 ,  0.37009795, -1.80932207]])"
      ]
     },
     "execution_count": 115,
     "metadata": {},
     "output_type": "execute_result"
    }
   ],
   "source": [
    "# multidimensional sorting\n",
    "arr19 = rng.standard_normal((5, 3))\n",
    "arr19"
   ]
  },
  {
   "cell_type": "code",
   "execution_count": 116,
   "id": "98ba0262",
   "metadata": {},
   "outputs": [
    {
     "data": {
      "text/plain": [
       "array([[-0.95380272, -0.4740934 , -1.80932207],\n",
       "       [-0.65298439,  0.05534965, -0.42022751],\n",
       "       [-0.41212907,  0.37009795, -0.39577908],\n",
       "       [ 1.37613133,  0.59028033, -0.07984649],\n",
       "       [ 2.1818843 ,  2.02218852,  0.0057336 ]])"
      ]
     },
     "execution_count": 116,
     "metadata": {},
     "output_type": "execute_result"
    }
   ],
   "source": [
    "arr19.sort(axis=0) # sort within each column\n",
    "arr19"
   ]
  },
  {
   "cell_type": "code",
   "execution_count": 117,
   "id": "f53f8dd7",
   "metadata": {},
   "outputs": [
    {
     "data": {
      "text/plain": [
       "array([[-1.80932207, -0.95380272, -0.4740934 ],\n",
       "       [-0.65298439, -0.42022751,  0.05534965],\n",
       "       [-0.41212907, -0.39577908,  0.37009795],\n",
       "       [-0.07984649,  0.59028033,  1.37613133],\n",
       "       [ 0.0057336 ,  2.02218852,  2.1818843 ]])"
      ]
     },
     "execution_count": 117,
     "metadata": {},
     "output_type": "execute_result"
    }
   ],
   "source": [
    "arr19.sort(axis=1) # sort across each row\n",
    "arr19"
   ]
  },
  {
   "cell_type": "markdown",
   "id": "28734031",
   "metadata": {},
   "source": [
    "The top-level method numpy.sort returns a sorted copy of an array (like the Python built-in function sorted) instead of modifying the array in place. For example:"
   ]
  },
  {
   "cell_type": "code",
   "execution_count": 118,
   "id": "682777fb",
   "metadata": {},
   "outputs": [
    {
     "data": {
      "text/plain": [
       "array([  5, -10,   7,   1,   0,  -3])"
      ]
     },
     "execution_count": 118,
     "metadata": {},
     "output_type": "execute_result"
    }
   ],
   "source": [
    "arr20 = np.array([5, -10, 7, 1, 0, -3])\n",
    "arr20"
   ]
  },
  {
   "cell_type": "code",
   "execution_count": 119,
   "id": "fb13a286",
   "metadata": {},
   "outputs": [
    {
     "data": {
      "text/plain": [
       "array([-10,  -3,   0,   1,   5,   7])"
      ]
     },
     "execution_count": 119,
     "metadata": {},
     "output_type": "execute_result"
    }
   ],
   "source": [
    "sorted_arr20 = np.sort(arr20)\n",
    "sorted_arr20"
   ]
  },
  {
   "cell_type": "markdown",
   "id": "a97cba18",
   "metadata": {},
   "source": [
    "## 17. The unique function <a class=\"anchor\" id=\"bullet17\"></a>"
   ]
  },
  {
   "cell_type": "code",
   "execution_count": 51,
   "id": "ab20a283",
   "metadata": {},
   "outputs": [
    {
     "data": {
      "text/plain": [
       "array(['Bob', 'Joe', 'Will', 'Bob', 'Will', 'Joe', 'Joe'], dtype='<U4')"
      ]
     },
     "execution_count": 51,
     "metadata": {},
     "output_type": "execute_result"
    }
   ],
   "source": [
    "names"
   ]
  },
  {
   "cell_type": "code",
   "execution_count": 52,
   "id": "4c14f02c",
   "metadata": {},
   "outputs": [
    {
     "data": {
      "text/plain": [
       "array(['Bob', 'Joe', 'Will'], dtype='<U4')"
      ]
     },
     "execution_count": 52,
     "metadata": {},
     "output_type": "execute_result"
    }
   ],
   "source": [
    "np.unique(names)"
   ]
  },
  {
   "cell_type": "code",
   "execution_count": 53,
   "id": "a6ab2fdc",
   "metadata": {},
   "outputs": [],
   "source": [
    "ints = np.array([3, 3, 3, 2, 2, 1, 1, 4, 4])"
   ]
  },
  {
   "cell_type": "code",
   "execution_count": 54,
   "id": "28ecad87",
   "metadata": {},
   "outputs": [
    {
     "data": {
      "text/plain": [
       "array([1, 2, 3, 4])"
      ]
     },
     "execution_count": 54,
     "metadata": {},
     "output_type": "execute_result"
    }
   ],
   "source": [
    "np.unique(ints)"
   ]
  },
  {
   "cell_type": "code",
   "execution_count": 55,
   "id": "56af9aac",
   "metadata": {},
   "outputs": [
    {
     "data": {
      "text/plain": [
       "['Bob', 'Joe', 'Will']"
      ]
     },
     "execution_count": 55,
     "metadata": {},
     "output_type": "execute_result"
    }
   ],
   "source": [
    "# pure python alternative:\n",
    "sorted(set(names)) # sets don't reflect duplicates, so this is another way to get all unique values"
   ]
  },
  {
   "cell_type": "markdown",
   "id": "2407e03d",
   "metadata": {},
   "source": [
    "Another function, `numpy.in1d()`, tests membership of the values in one array in another, returning a Boolean array:"
   ]
  },
  {
   "cell_type": "code",
   "execution_count": 125,
   "id": "55a893dd",
   "metadata": {},
   "outputs": [
    {
     "data": {
      "text/plain": [
       "array([6, 0, 0, 3, 2, 5, 6])"
      ]
     },
     "execution_count": 125,
     "metadata": {},
     "output_type": "execute_result"
    }
   ],
   "source": [
    "values = np.array([6, 0, 0, 3, 2, 5, 6])\n",
    "values"
   ]
  },
  {
   "cell_type": "code",
   "execution_count": 126,
   "id": "5c957ac1",
   "metadata": {},
   "outputs": [
    {
     "data": {
      "text/plain": [
       "array([ True, False, False,  True,  True, False,  True])"
      ]
     },
     "execution_count": 126,
     "metadata": {},
     "output_type": "execute_result"
    }
   ],
   "source": [
    "np.in1d(values, [2, 3, 6])"
   ]
  },
  {
   "cell_type": "markdown",
   "id": "09ee6837",
   "metadata": {},
   "source": [
    "## 18. Linear Algebra <a class=\"anchor\" id=\"bullet18\"></a>"
   ]
  },
  {
   "cell_type": "code",
   "execution_count": 127,
   "id": "631e35fb",
   "metadata": {},
   "outputs": [
    {
     "data": {
      "text/plain": [
       "array([[1., 2., 3.],\n",
       "       [4., 5., 6.]])"
      ]
     },
     "execution_count": 127,
     "metadata": {},
     "output_type": "execute_result"
    }
   ],
   "source": [
    "x = np.array([[1., 2., 3.], [4., 5., 6.]])\n",
    "x"
   ]
  },
  {
   "cell_type": "code",
   "execution_count": 128,
   "id": "b73250f5",
   "metadata": {},
   "outputs": [
    {
     "data": {
      "text/plain": [
       "array([[ 6., 23.],\n",
       "       [-1.,  7.],\n",
       "       [ 8.,  9.]])"
      ]
     },
     "execution_count": 128,
     "metadata": {},
     "output_type": "execute_result"
    }
   ],
   "source": [
    "y = np.array([[6., 23.], [-1, 7], [8, 9]])\n",
    "y"
   ]
  },
  {
   "cell_type": "code",
   "execution_count": 129,
   "id": "10966b7e",
   "metadata": {},
   "outputs": [
    {
     "data": {
      "text/plain": [
       "array([[ 28.,  64.],\n",
       "       [ 67., 181.]])"
      ]
     },
     "execution_count": 129,
     "metadata": {},
     "output_type": "execute_result"
    }
   ],
   "source": [
    "x.dot(y) # == np.dot(x, y)"
   ]
  },
  {
   "cell_type": "code",
   "execution_count": 130,
   "id": "6f1d8c77",
   "metadata": {},
   "outputs": [
    {
     "data": {
      "text/plain": [
       "array([[-0.99964764,  0.27121979,  0.2615495 , -0.40614748,  0.29957505],\n",
       "       [-1.03007853,  0.02724933,  0.07251864,  0.8134973 ,  0.22825615],\n",
       "       [ 0.6629406 , -0.67142736, -1.38924924,  0.3837671 ,  0.26852461],\n",
       "       [ 0.90694772,  0.37393356,  0.30201629,  0.63940787, -0.21934853],\n",
       "       [-0.53134316,  0.32450794,  0.22476238,  1.14858811, -0.90642337]])"
      ]
     },
     "execution_count": 130,
     "metadata": {},
     "output_type": "execute_result"
    }
   ],
   "source": [
    "# importing inverse and determinant functions\n",
    "from numpy.linalg import inv, qr\n",
    "\n",
    "X = rng.standard_normal((5, 5))\n",
    "X"
   ]
  },
  {
   "cell_type": "code",
   "execution_count": 131,
   "id": "ec0bb752",
   "metadata": {},
   "outputs": [
    {
     "data": {
      "text/plain": [
       "array([[ 3.60472713, -0.57759652, -1.10265992, -0.20793187, -0.07389119],\n",
       "       [-0.57759652,  0.77024912,  1.19156465,  0.26616231, -0.46898762],\n",
       "       [-1.10265992,  1.19156465,  2.14541252, -0.12911111, -0.54811779],\n",
       "       [-0.20793187,  0.26616231, -0.12911111,  2.70210789, -1.01429526],\n",
       "       [-0.07389119, -0.46898762, -0.54811779, -1.01429526,  1.08366865]])"
      ]
     },
     "execution_count": 131,
     "metadata": {},
     "output_type": "execute_result"
    }
   ],
   "source": [
    "mat = X.T @ X\n",
    "mat"
   ]
  },
  {
   "cell_type": "code",
   "execution_count": 132,
   "id": "28d17fe5",
   "metadata": {},
   "outputs": [
    {
     "data": {
      "text/plain": [
       "array([[ 0.38667244, -0.24513565,  0.42776131,  0.19367725,  0.31791599],\n",
       "       [-0.24513565, 15.77424496, -8.79399367, -1.70536966,  0.76584258],\n",
       "       [ 0.42776131, -8.79399367,  5.73630021,  1.3021957 ,  0.34356692],\n",
       "       [ 0.19367725, -1.70536966,  1.3021957 ,  0.91009652,  0.78564327],\n",
       "       [ 0.31791599,  0.76584258,  0.34356692,  0.78564327,  2.18503254]])"
      ]
     },
     "execution_count": 132,
     "metadata": {},
     "output_type": "execute_result"
    }
   ],
   "source": [
    "inv(mat)"
   ]
  },
  {
   "cell_type": "code",
   "execution_count": 133,
   "id": "60303de9",
   "metadata": {},
   "outputs": [
    {
     "data": {
      "text/plain": [
       "array([[ 1.00000000e+00, -5.27873423e-16,  1.40302242e-15,\n",
       "         1.36483996e-16, -8.02717149e-17],\n",
       "       [-1.68290081e-17,  1.00000000e+00,  2.28740480e-15,\n",
       "         6.69834089e-16,  9.88953104e-17],\n",
       "       [-2.01295638e-16,  2.28041497e-15,  1.00000000e+00,\n",
       "         5.46098920e-18,  2.28282174e-16],\n",
       "       [-6.77078316e-17,  1.81425617e-15, -2.68022934e-16,\n",
       "         1.00000000e+00,  2.81700605e-17],\n",
       "       [ 4.56108311e-17, -1.63053403e-15,  4.38489629e-16,\n",
       "         6.07017299e-17,  1.00000000e+00]])"
      ]
     },
     "execution_count": 133,
     "metadata": {},
     "output_type": "execute_result"
    }
   ],
   "source": [
    "mat @ inv(mat)"
   ]
  },
  {
   "cell_type": "code",
   "execution_count": 134,
   "id": "c88b86db",
   "metadata": {},
   "outputs": [],
   "source": [
    "# and more... refer back to Mckinney for a complete list"
   ]
  },
  {
   "cell_type": "markdown",
   "id": "07e53fc8",
   "metadata": {},
   "source": [
    "### Challenge: Use the code below to generate Y,  X1 and X2. Then, use NumPy's linear algebra functions to fit a regression of Y on X1 and X2 using matrix multiplication"
   ]
  },
  {
   "cell_type": "code",
   "execution_count": 30,
   "id": "de9b30aa",
   "metadata": {},
   "outputs": [],
   "source": [
    "# Generate data for this exercise\n",
    "x1 = rng.standard_normal(1000)\n",
    "x2 = rng.standard_normal(1000)"
   ]
  },
  {
   "cell_type": "code",
   "execution_count": 31,
   "id": "a7cb2c8f",
   "metadata": {},
   "outputs": [],
   "source": [
    "Y = -1 + 2*x1 + 7*x2 + rng.standard_normal(1000)"
   ]
  },
  {
   "cell_type": "markdown",
   "id": "40f40271",
   "metadata": {},
   "source": [
    "**Step 1:** Create the design matrix, which has n rows and 3 columns (the first columns is all 1s, then x1 and x2 are the second columnd). Hint: Use np.column_stack((col1, col2)) to combine an array of 1s, x1, and x2"
   ]
  },
  {
   "cell_type": "code",
   "execution_count": 36,
   "id": "46869e17",
   "metadata": {},
   "outputs": [],
   "source": []
  },
  {
   "cell_type": "code",
   "execution_count": 37,
   "id": "47ff1c3e",
   "metadata": {},
   "outputs": [
    {
     "data": {
      "text/plain": [
       "(1000, 3)"
      ]
     },
     "execution_count": 37,
     "metadata": {},
     "output_type": "execute_result"
    }
   ],
   "source": [
    "X.shape # hint, this is the shape of the design matrix which you should get"
   ]
  },
  {
   "cell_type": "markdown",
   "id": "5b3df6a3",
   "metadata": {},
   "source": [
    "**Step 2:** Read [here](https://cmdlinetips.com/2020/03/linear-regression-using-matrix-multiplication-in-python-using-numpy/) if you are interested in learning more about using linear algebra to fin a linear regression. About half way down the page, there is a formula for the regression estimates $\\hat{\\beta} = (X^{T} * X)^{-1} * X^{T} * Y$. If you are not familiar with linear algebra, there are two things you need to know to do this: (1) when we multiply matrices, the operation is called taking the \"dop product\", which you can do with the `.dot()` method shown above in this section. And (2), the -1 exponent is linear algebra notation for \"take the inverse\". What this means exactly is beyond the scope of this class, but for our purposes there is a function in NumPy's linalg module that can return an inverse function (assuming one exists). You can call this function with the following syntax: `np.linalg.inv(X)`. Using this function, compute the linear regression estimates for the regression of Y on x1 and x2\n",
    "\n",
    "You challenge is to execute this formula and generate slope estimates of $\\hat\\beta_{0}$, $\\hat\\beta_{1}$, and $\\hat\\beta_{2}$. According to the data generating process above, these estimates should be close to -1, 2 and 7 respectively. "
   ]
  },
  {
   "cell_type": "code",
   "execution_count": 43,
   "id": "4a0d425a",
   "metadata": {},
   "outputs": [
    {
     "data": {
      "text/plain": [
       "array([-0.99892518,  1.99304026,  6.98964048])"
      ]
     },
     "execution_count": 43,
     "metadata": {},
     "output_type": "execute_result"
    }
   ],
   "source": [
    "# Perform linear algebra calculations here, store in an object called beta_hat\n",
    "beta_hat = \n",
    "beta_hat"
   ]
  },
  {
   "cell_type": "code",
   "execution_count": null,
   "id": "11d079e3-d19c-474a-a996-8516ace05001",
   "metadata": {},
   "outputs": [],
   "source": []
  }
 ],
 "metadata": {
  "kernelspec": {
   "display_name": "Python 3 (ipykernel)",
   "language": "python",
   "name": "python3"
  },
  "language_info": {
   "codemirror_mode": {
    "name": "ipython",
    "version": 3
   },
   "file_extension": ".py",
   "mimetype": "text/x-python",
   "name": "python",
   "nbconvert_exporter": "python",
   "pygments_lexer": "ipython3",
   "version": "3.9.13"
  }
 },
 "nbformat": 4,
 "nbformat_minor": 5
}
