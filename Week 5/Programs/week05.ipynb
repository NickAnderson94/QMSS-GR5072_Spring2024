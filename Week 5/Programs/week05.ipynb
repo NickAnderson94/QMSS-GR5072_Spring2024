{
 "cells": [
  {
   "cell_type": "markdown",
   "id": "96d3ba45",
   "metadata": {},
   "source": [
    "# Week 5 - Functions I"
   ]
  },
  {
   "cell_type": "markdown",
   "id": "373bf42e",
   "metadata": {},
   "source": [
    "1. [Question 1](#bullet1)\n",
    "2. [Question 2](#bullet2)\n",
    "3. [How to name functions](#bullet3)\n",
    "4. [Comments](#bullet4)\n",
    "5. [Practice](#bullet5)\n",
    "6. [Looking at function source code](#bullet6)\n",
    "7. [Control Statements: if...elif()](#bullet7)\n",
    "8. [Types of function parameters](#bullet8)\n",
    "9. [Handling errors](#bullet9)\n",
    "10. [Args and Kwargs](#bullet10)\n",
    "11. [Return statements](#bullet11)\n",
    "12. [Lazy evaluation](#bullet12)\n",
    "13. [Lexical scoping](#bullet13)"
   ]
  },
  {
   "cell_type": "code",
   "execution_count": 1,
   "id": "cfa873b6-150c-4594-b651-69b6f6f3d761",
   "metadata": {},
   "outputs": [],
   "source": [
    "## importing necessary libraries\n",
    "import numpy as np\n",
    "import pandas as pd\n",
    "import scipy"
   ]
  },
  {
   "cell_type": "markdown",
   "id": "0bc1ab9e",
   "metadata": {},
   "source": [
    "## 1.  Question: What does the following code do?<a class=\"anchor\" id=\"bullet1\"></a>"
   ]
  },
  {
   "cell_type": "code",
   "execution_count": 6,
   "id": "89e61076",
   "metadata": {},
   "outputs": [
    {
     "data": {
      "text/html": [
       "<div>\n",
       "<style scoped>\n",
       "    .dataframe tbody tr th:only-of-type {\n",
       "        vertical-align: middle;\n",
       "    }\n",
       "\n",
       "    .dataframe tbody tr th {\n",
       "        vertical-align: top;\n",
       "    }\n",
       "\n",
       "    .dataframe thead th {\n",
       "        text-align: right;\n",
       "    }\n",
       "</style>\n",
       "<table border=\"1\" class=\"dataframe\">\n",
       "  <thead>\n",
       "    <tr style=\"text-align: right;\">\n",
       "      <th></th>\n",
       "      <th>a</th>\n",
       "      <th>b</th>\n",
       "      <th>c</th>\n",
       "      <th>d</th>\n",
       "    </tr>\n",
       "  </thead>\n",
       "  <tbody>\n",
       "    <tr>\n",
       "      <th>0</th>\n",
       "      <td>0.980714</td>\n",
       "      <td>2.102271</td>\n",
       "      <td>-0.475476</td>\n",
       "      <td>0.192623</td>\n",
       "    </tr>\n",
       "    <tr>\n",
       "      <th>1</th>\n",
       "      <td>2.467158</td>\n",
       "      <td>0.689942</td>\n",
       "      <td>0.092262</td>\n",
       "      <td>-0.317355</td>\n",
       "    </tr>\n",
       "    <tr>\n",
       "      <th>2</th>\n",
       "      <td>-0.959375</td>\n",
       "      <td>-0.234055</td>\n",
       "      <td>-0.041392</td>\n",
       "      <td>1.468489</td>\n",
       "    </tr>\n",
       "    <tr>\n",
       "      <th>3</th>\n",
       "      <td>0.771635</td>\n",
       "      <td>0.753869</td>\n",
       "      <td>-0.529850</td>\n",
       "      <td>-1.024178</td>\n",
       "    </tr>\n",
       "    <tr>\n",
       "      <th>4</th>\n",
       "      <td>-1.249973</td>\n",
       "      <td>-1.253808</td>\n",
       "      <td>-0.064688</td>\n",
       "      <td>0.521052</td>\n",
       "    </tr>\n",
       "    <tr>\n",
       "      <th>5</th>\n",
       "      <td>0.594245</td>\n",
       "      <td>-1.508091</td>\n",
       "      <td>-1.245175</td>\n",
       "      <td>1.485229</td>\n",
       "    </tr>\n",
       "    <tr>\n",
       "      <th>6</th>\n",
       "      <td>0.164417</td>\n",
       "      <td>0.380744</td>\n",
       "      <td>0.274783</td>\n",
       "      <td>-0.535932</td>\n",
       "    </tr>\n",
       "    <tr>\n",
       "      <th>7</th>\n",
       "      <td>-1.505085</td>\n",
       "      <td>1.693092</td>\n",
       "      <td>-1.606498</td>\n",
       "      <td>-1.364671</td>\n",
       "    </tr>\n",
       "    <tr>\n",
       "      <th>8</th>\n",
       "      <td>0.001804</td>\n",
       "      <td>-0.007817</td>\n",
       "      <td>-0.598265</td>\n",
       "      <td>-1.316875</td>\n",
       "    </tr>\n",
       "    <tr>\n",
       "      <th>9</th>\n",
       "      <td>0.484700</td>\n",
       "      <td>-1.013335</td>\n",
       "      <td>0.944282</td>\n",
       "      <td>0.789056</td>\n",
       "    </tr>\n",
       "  </tbody>\n",
       "</table>\n",
       "</div>"
      ],
      "text/plain": [
       "          a         b         c         d\n",
       "0  0.980714  2.102271 -0.475476  0.192623\n",
       "1  2.467158  0.689942  0.092262 -0.317355\n",
       "2 -0.959375 -0.234055 -0.041392  1.468489\n",
       "3  0.771635  0.753869 -0.529850 -1.024178\n",
       "4 -1.249973 -1.253808 -0.064688  0.521052\n",
       "5  0.594245 -1.508091 -1.245175  1.485229\n",
       "6  0.164417  0.380744  0.274783 -0.535932\n",
       "7 -1.505085  1.693092 -1.606498 -1.364671\n",
       "8  0.001804 -0.007817 -0.598265 -1.316875\n",
       "9  0.484700 -1.013335  0.944282  0.789056"
      ]
     },
     "execution_count": 6,
     "metadata": {},
     "output_type": "execute_result"
    }
   ],
   "source": [
    "rng = np.random.default_rng(seed=32521)\n",
    "\n",
    "a = rng.standard_normal(10)\n",
    "b = rng.standard_normal(10)\n",
    "c = rng.standard_normal(10)\n",
    "d = rng.standard_normal(10)\n",
    "\n",
    "the_dict = {'a':a,'b':b,'c':c,'d':d}\n",
    "\n",
    "df = pd.DataFrame(the_dict)\n",
    "df"
   ]
  },
  {
   "cell_type": "markdown",
   "id": "e2105646",
   "metadata": {},
   "source": [
    "## 2. Question: What does the following code do?<a class=\"anchor\" id=\"bullet2\"></a>"
   ]
  },
  {
   "cell_type": "code",
   "execution_count": 40,
   "id": "850824af",
   "metadata": {},
   "outputs": [],
   "source": [
    "df['a'] = (df['a'] - min(df['a'])) / (max(df['a']) - min(df['a']))\n",
    "df['b'] = (df['b'] - min(df['b'])) / (max(df['b']) - min(df['b']))\n",
    "df['c'] = (df['c'] - min(df['c'])) / (max(df['a']) - min(df['c']))\n",
    "df['d'] = (df['d'] - min(df['d'])) / (max(df['d']) - min(df['d']))"
   ]
  },
  {
   "cell_type": "markdown",
   "id": "300c2e2b-03de-4178-93eb-dc743abf48ec",
   "metadata": {},
   "source": [
    "This code is rescaling the data to have values between 0-1.\n",
    "\n",
    "**Issue**: There is a mistake in the code above, can you spot it?\n",
    "\n",
    "**Lesson**: Writing a function will simplify this code and reduce the chances for an error. Let's write a function which simplifies the above. Before we do so, we note that the general syntax for writing functions.\n",
    "\n",
    "**Key parts of a function**:\n",
    "1. You need to name the function (e.g.-rescale01)\n",
    "2. You need parameters (inputs or arguments) \n",
    "3. You need code in the body of the function "
   ]
  },
  {
   "cell_type": "code",
   "execution_count": 41,
   "id": "4a016045",
   "metadata": {},
   "outputs": [],
   "source": [
    "def function_name(arg1, arg2):\n",
    "    return # Do something!"
   ]
  },
  {
   "cell_type": "markdown",
   "id": "bd8372ea",
   "metadata": {},
   "source": [
    "Your function can have any number of inputs or arguments.  \n",
    "__Tip 1:__ When we write functions, it's a good idea to **name the arguments something generic, like x**"
   ]
  },
  {
   "cell_type": "code",
   "execution_count": 2,
   "id": "22024863",
   "metadata": {},
   "outputs": [],
   "source": [
    "# Our function requires a single input, a pd.Series object, which we will name x\n",
    "def rescale01(x):\n",
    "    return (x - min(x)) / (max(x)-min(x))"
   ]
  },
  {
   "cell_type": "markdown",
   "id": "3c7eed96",
   "metadata": {},
   "source": [
    "This is a good start. But notice how we are calling min(x) two separate times. This is not ideal in two respects. First, should you ever want to update min(x) with something else, you'll have to change it everywhere in the code. Second, whenever you need the same value more than once, your code will be more readable (and faster!) if you compute it one time and store the result rather than 2+ times.  \n",
    "  \n",
    "__Tip 2:__ Within your function, make your code as concise as possible and avoid repeating the same computation multiple times "
   ]
  },
  {
   "cell_type": "code",
   "execution_count": 43,
   "id": "4b86ba3c",
   "metadata": {},
   "outputs": [],
   "source": [
    "# Try to avoid than using min() and max() to compute the range multiple times\n",
    "def rescale01(x):\n",
    "    min_ = x.min()  # min and max are keywords, so the \"_\" can be appended to avoid confusion\n",
    "    max_ = x.max()\n",
    "    return ( x - min_ ) / ( max_ - min_ ) "
   ]
  },
  {
   "cell_type": "code",
   "execution_count": 44,
   "id": "0997ee2f-3141-457d-a8c6-cec1557eb1c0",
   "metadata": {},
   "outputs": [],
   "source": [
    "# Compare the readability of this code to what we saw above\n",
    "df['a'] = rescale01(df['a'])  \n",
    "df['b'] = rescale01(df['b'])\n",
    "df['c'] = rescale01(df['c'])\n",
    "df['d'] = rescale01(df['d'])"
   ]
  },
  {
   "cell_type": "markdown",
   "id": "905419af-3f43-440e-b2ba-4bc400c90796",
   "metadata": {},
   "source": [
    "**Question**: Is it easier to understand what the point of the code is?  \n",
    "**Question**: Is it easier to read/less complex?  \n",
    "**Question**: Is it easier to update the code / functionality?  \n",
    "  \n",
    "**Answers**:  YES!!  "
   ]
  },
  {
   "cell_type": "code",
   "execution_count": 3,
   "id": "bd831f72",
   "metadata": {},
   "outputs": [
    {
     "data": {
      "text/plain": [
       "0    0.0\n",
       "1    0.0\n",
       "2    0.0\n",
       "3    0.0\n",
       "4    NaN\n",
       "dtype: float64"
      ]
     },
     "execution_count": 3,
     "metadata": {},
     "output_type": "execute_result"
    }
   ],
   "source": [
    "# Example: the following fails, as it returns incorrect values because of the np.inf element\n",
    "x = pd.Series([1, 2, 3, 4, np.inf])\n",
    "rescale01(x)"
   ]
  },
  {
   "cell_type": "markdown",
   "id": "56150225",
   "metadata": {},
   "source": [
    "#### Challenge: Fix the function above so that if np.inf values are passed in, the function won't fail"
   ]
  },
  {
   "cell_type": "code",
   "execution_count": 9,
   "id": "61444f97-4cff-49da-8348-b9cc032fbe49",
   "metadata": {},
   "outputs": [
    {
     "data": {
      "text/plain": [
       "0    0.000000\n",
       "1    0.333333\n",
       "2    0.666667\n",
       "3    1.000000\n",
       "4         NaN\n",
       "dtype: float64"
      ]
     },
     "execution_count": 9,
     "metadata": {},
     "output_type": "execute_result"
    }
   ],
   "source": []
  },
  {
   "cell_type": "markdown",
   "id": "9c342f9b",
   "metadata": {},
   "source": [
    "Coding best practices: __\"Do not Repeat Yourself\" (aka \"DRY\")__. More repitition in code means higher chance of having errors in code."
   ]
  },
  {
   "cell_type": "markdown",
   "id": "54a8569d",
   "metadata": {},
   "source": [
    "## 3. How to name functions<a class=\"anchor\" id=\"bullet3\"></a>"
   ]
  },
  {
   "cell_type": "markdown",
   "id": "6fe477cd-6c7c-4602-8bdb-4080f213078a",
   "metadata": {},
   "source": [
    "Name should be as short as possible and should make clear what function does. **Verbs** better than nouns if possible.\n",
    "\n",
    "- Too short: f()\n",
    "- Not a verb, or descriptive: my_awesome_function()\n",
    "- Long, but clear: impute_missing() or collapse_years()\n",
    "\n",
    "**Snake case versus camel case**  \n",
    "Snake case is when you write the function name in the following way, using \"_\" to connect words:  \n",
    "snake_case()\n",
    "\n",
    "Camel case is written in the following manner:  \n",
    "camelCase()"
   ]
  },
  {
   "cell_type": "code",
   "execution_count": 5,
   "id": "65ea1916",
   "metadata": {},
   "outputs": [],
   "source": [
    "# Whichever you choose, be consistent rather than moving back and forth, i.e.- don't do the following:\n",
    "def col_mins(x,y): \n",
    "    return min(x,y)\n",
    "\n",
    "def rowMaxes(x,y): \n",
    "    return max(x,y)"
   ]
  },
  {
   "cell_type": "markdown",
   "id": "e649d3f0-9b27-457e-9ace-11280d6916e1",
   "metadata": {},
   "source": [
    "If you have a group of functions working towards a similar goal, try to keep the naming conventions in the same order as arguments.\n",
    "  \n",
    "**Good**  \n",
    "input_select()  \n",
    "input_checkbox()  \n",
    "input_text()  \n",
    "  \n",
    "**Not so good**  \n",
    "select_input()  \n",
    "checkbox_input()  \n",
    "text_input()  "
   ]
  },
  {
   "cell_type": "markdown",
   "id": "35694288-0941-4106-8954-c32344a1c3b3",
   "metadata": {},
   "source": [
    "Moreover, try not to write functions that overwrite functions, variables or keywords that are already a part of python. "
   ]
  },
  {
   "cell_type": "code",
   "execution_count": 19,
   "id": "e0bf9275-74e8-445a-a365-430bd1e0de2d",
   "metadata": {},
   "outputs": [],
   "source": [
    "int = 0 # don't name a function int for example !"
   ]
  },
  {
   "cell_type": "markdown",
   "id": "2b3ffe29-06ca-493f-85c9-ca116877fbeb",
   "metadata": {},
   "source": [
    "Also, don't give a variable a name which overwrites a function, like sum, which is already a function in Python. If you do this, the variable sum *shadows* the built-in function, making it inaccessible in your code as shown below"
   ]
  },
  {
   "cell_type": "code",
   "execution_count": 4,
   "id": "9c1abbda-6d36-46ef-ab2c-f8f0bfeb1913",
   "metadata": {},
   "outputs": [
    {
     "name": "stdout",
     "output_type": "stream",
     "text": [
      "15\n"
     ]
    },
    {
     "ename": "TypeError",
     "evalue": "'int' object is not callable",
     "output_type": "error",
     "traceback": [
      "\u001b[1;31m---------------------------------------------------------------------------\u001b[0m",
      "\u001b[1;31mTypeError\u001b[0m                                 Traceback (most recent call last)",
      "\u001b[1;32m~\\AppData\\Local\\Temp\\ipykernel_2836\\823120900.py\u001b[0m in \u001b[0;36m<module>\u001b[1;34m\u001b[0m\n\u001b[0;32m      1\u001b[0m \u001b[0msum\u001b[0m \u001b[1;33m=\u001b[0m \u001b[1;36m10\u001b[0m \u001b[1;33m+\u001b[0m \u001b[1;36m5\u001b[0m\u001b[1;33m\u001b[0m\u001b[1;33m\u001b[0m\u001b[0m\n\u001b[0;32m      2\u001b[0m \u001b[0mprint\u001b[0m\u001b[1;33m(\u001b[0m\u001b[0msum\u001b[0m\u001b[1;33m)\u001b[0m\u001b[1;33m\u001b[0m\u001b[1;33m\u001b[0m\u001b[0m\n\u001b[1;32m----> 3\u001b[1;33m \u001b[0msum\u001b[0m\u001b[1;33m(\u001b[0m\u001b[1;33m[\u001b[0m\u001b[1;36m10\u001b[0m\u001b[1;33m,\u001b[0m \u001b[1;36m15\u001b[0m\u001b[1;33m]\u001b[0m\u001b[1;33m)\u001b[0m\u001b[1;33m\u001b[0m\u001b[1;33m\u001b[0m\u001b[0m\n\u001b[0m",
      "\u001b[1;31mTypeError\u001b[0m: 'int' object is not callable"
     ]
    }
   ],
   "source": [
    "sum = 10 + 5\n",
    "print(sum)\n",
    "sum([10, 15])"
   ]
  },
  {
   "cell_type": "code",
   "execution_count": 7,
   "id": "e7924bd1-48e9-4088-b4e1-63d907f26a55",
   "metadata": {},
   "outputs": [],
   "source": [
    "del sum # delete sum var so our code later will work !"
   ]
  },
  {
   "cell_type": "markdown",
   "id": "c84db69e",
   "metadata": {},
   "source": [
    "## 4. Comments<a class=\"anchor\" id=\"bullet4\"></a>"
   ]
  },
  {
   "cell_type": "code",
   "execution_count": 22,
   "id": "208eb758",
   "metadata": {},
   "outputs": [],
   "source": [
    "# Now a few comments about comments...\n",
    "\n",
    "# Comments should explain the why of the code rather than the what or the how\n",
    "# the what or the how should be obvious in the code itself\n",
    "\n",
    "# to break code into chunks that are easy to read use \"-\" or \"=\"\n",
    "\n",
    "# Load data ------------------------------------------------------------\n",
    "x1 = 7 # code entered here\n",
    "\n",
    "#Plot data ============================================================\n",
    "x2 = 8 # code entered here"
   ]
  },
  {
   "cell_type": "markdown",
   "id": "ef16560a",
   "metadata": {},
   "source": [
    "## 5. Practice<a class=\"anchor\" id=\"bullet5\"></a>"
   ]
  },
  {
   "cell_type": "code",
   "execution_count": 221,
   "id": "f66c3e69",
   "metadata": {},
   "outputs": [],
   "source": [
    "# Practice naming functions: Read the source code for each of the following \n",
    "# three functions, puzzle out what they do, and then brainstorm better names."
   ]
  },
  {
   "cell_type": "code",
   "execution_count": 222,
   "id": "83220af6",
   "metadata": {},
   "outputs": [],
   "source": [
    "def prefix_match(string, prefix):\n",
    "    temp = string.find(prefix)\n",
    "    if temp == -1:\n",
    "        return False\n",
    "    else:\n",
    "        return True "
   ]
  },
  {
   "cell_type": "code",
   "execution_count": 20,
   "id": "b12203d3",
   "metadata": {},
   "outputs": [
    {
     "data": {
      "text/plain": [
       "True"
      ]
     },
     "execution_count": 20,
     "metadata": {},
     "output_type": "execute_result"
    }
   ],
   "source": [
    "prefix_match('dog', 'do')"
   ]
  },
  {
   "cell_type": "code",
   "execution_count": 21,
   "id": "018c11ef",
   "metadata": {},
   "outputs": [
    {
     "data": {
      "text/plain": [
       "False"
      ]
     },
     "execution_count": 21,
     "metadata": {},
     "output_type": "execute_result"
    }
   ],
   "source": [
    "prefix_match('dog', 'st')"
   ]
  },
  {
   "cell_type": "code",
   "execution_count": 47,
   "id": "fa1fe2eb",
   "metadata": {},
   "outputs": [],
   "source": [
    "def remove_last(x):\n",
    "    if len(x) <= 1:\n",
    "        return None\n",
    "    return x[:-1]"
   ]
  },
  {
   "cell_type": "code",
   "execution_count": 48,
   "id": "d4f2b133",
   "metadata": {},
   "outputs": [
    {
     "data": {
      "text/plain": [
       "'do'"
      ]
     },
     "execution_count": 48,
     "metadata": {},
     "output_type": "execute_result"
    }
   ],
   "source": [
    "remove_last(\"dog\")"
   ]
  },
  {
   "cell_type": "code",
   "execution_count": 49,
   "id": "4d3b18d5",
   "metadata": {},
   "outputs": [
    {
     "data": {
      "text/plain": [
       "[1, 2, 3, 4]"
      ]
     },
     "execution_count": 49,
     "metadata": {},
     "output_type": "execute_result"
    }
   ],
   "source": [
    "remove_last([1, 2, 3, 4, 5])"
   ]
  },
  {
   "cell_type": "code",
   "execution_count": 52,
   "id": "e150526b",
   "metadata": {},
   "outputs": [],
   "source": [
    "def match_length(x, y):\n",
    "    lst = []\n",
    "    \n",
    "    for i in range(len(x)):\n",
    "        lst.append(y)\n",
    "    return lst"
   ]
  },
  {
   "cell_type": "code",
   "execution_count": 53,
   "id": "5ad43f5d",
   "metadata": {},
   "outputs": [
    {
     "data": {
      "text/plain": [
       "['d', 'd', 'd']"
      ]
     },
     "execution_count": 53,
     "metadata": {},
     "output_type": "execute_result"
    }
   ],
   "source": [
    "match_length(\"dog\", \"d\")"
   ]
  },
  {
   "cell_type": "markdown",
   "id": "17d43024",
   "metadata": {},
   "source": [
    "## 6. Looking at function source code<a class=\"anchor\" id=\"bullet6\"></a>"
   ]
  },
  {
   "cell_type": "code",
   "execution_count": 11,
   "id": "12b72fa7",
   "metadata": {},
   "outputs": [
    {
     "data": {
      "text/plain": [
       "\u001b[1;31mSignature:\u001b[0m\n",
       "\u001b[0mnp\u001b[0m\u001b[1;33m.\u001b[0m\u001b[0mmean\u001b[0m\u001b[1;33m(\u001b[0m\u001b[1;33m\n",
       "\u001b[0m    \u001b[0ma\u001b[0m\u001b[1;33m,\u001b[0m\u001b[1;33m\n",
       "\u001b[0m    \u001b[0maxis\u001b[0m\u001b[1;33m=\u001b[0m\u001b[1;32mNone\u001b[0m\u001b[1;33m,\u001b[0m\u001b[1;33m\n",
       "\u001b[0m    \u001b[0mdtype\u001b[0m\u001b[1;33m=\u001b[0m\u001b[1;32mNone\u001b[0m\u001b[1;33m,\u001b[0m\u001b[1;33m\n",
       "\u001b[0m    \u001b[0mout\u001b[0m\u001b[1;33m=\u001b[0m\u001b[1;32mNone\u001b[0m\u001b[1;33m,\u001b[0m\u001b[1;33m\n",
       "\u001b[0m    \u001b[0mkeepdims\u001b[0m\u001b[1;33m=\u001b[0m\u001b[1;33m<\u001b[0m\u001b[0mno\u001b[0m \u001b[0mvalue\u001b[0m\u001b[1;33m>\u001b[0m\u001b[1;33m,\u001b[0m\u001b[1;33m\n",
       "\u001b[0m    \u001b[1;33m*\u001b[0m\u001b[1;33m,\u001b[0m\u001b[1;33m\n",
       "\u001b[0m    \u001b[0mwhere\u001b[0m\u001b[1;33m=\u001b[0m\u001b[1;33m<\u001b[0m\u001b[0mno\u001b[0m \u001b[0mvalue\u001b[0m\u001b[1;33m>\u001b[0m\u001b[1;33m,\u001b[0m\u001b[1;33m\n",
       "\u001b[0m\u001b[1;33m)\u001b[0m\u001b[1;33m\u001b[0m\u001b[1;33m\u001b[0m\u001b[0m\n",
       "\u001b[1;31mDocstring:\u001b[0m\n",
       "Compute the arithmetic mean along the specified axis.\n",
       "\n",
       "Returns the average of the array elements.  The average is taken over\n",
       "the flattened array by default, otherwise over the specified axis.\n",
       "`float64` intermediate and return values are used for integer inputs.\n",
       "\n",
       "Parameters\n",
       "----------\n",
       "a : array_like\n",
       "    Array containing numbers whose mean is desired. If `a` is not an\n",
       "    array, a conversion is attempted.\n",
       "axis : None or int or tuple of ints, optional\n",
       "    Axis or axes along which the means are computed. The default is to\n",
       "    compute the mean of the flattened array.\n",
       "\n",
       "    .. versionadded:: 1.7.0\n",
       "\n",
       "    If this is a tuple of ints, a mean is performed over multiple axes,\n",
       "    instead of a single axis or all the axes as before.\n",
       "dtype : data-type, optional\n",
       "    Type to use in computing the mean.  For integer inputs, the default\n",
       "    is `float64`; for floating point inputs, it is the same as the\n",
       "    input dtype.\n",
       "out : ndarray, optional\n",
       "    Alternate output array in which to place the result.  The default\n",
       "    is ``None``; if provided, it must have the same shape as the\n",
       "    expected output, but the type will be cast if necessary.\n",
       "    See :ref:`ufuncs-output-type` for more details.\n",
       "\n",
       "keepdims : bool, optional\n",
       "    If this is set to True, the axes which are reduced are left\n",
       "    in the result as dimensions with size one. With this option,\n",
       "    the result will broadcast correctly against the input array.\n",
       "\n",
       "    If the default value is passed, then `keepdims` will not be\n",
       "    passed through to the `mean` method of sub-classes of\n",
       "    `ndarray`, however any non-default value will be.  If the\n",
       "    sub-class' method does not implement `keepdims` any\n",
       "    exceptions will be raised.\n",
       "\n",
       "where : array_like of bool, optional\n",
       "    Elements to include in the mean. See `~numpy.ufunc.reduce` for details.\n",
       "\n",
       "    .. versionadded:: 1.20.0\n",
       "\n",
       "Returns\n",
       "-------\n",
       "m : ndarray, see dtype parameter above\n",
       "    If `out=None`, returns a new array containing the mean values,\n",
       "    otherwise a reference to the output array is returned.\n",
       "\n",
       "See Also\n",
       "--------\n",
       "average : Weighted average\n",
       "std, var, nanmean, nanstd, nanvar\n",
       "\n",
       "Notes\n",
       "-----\n",
       "The arithmetic mean is the sum of the elements along the axis divided\n",
       "by the number of elements.\n",
       "\n",
       "Note that for floating-point input, the mean is computed using the\n",
       "same precision the input has.  Depending on the input data, this can\n",
       "cause the results to be inaccurate, especially for `float32` (see\n",
       "example below).  Specifying a higher-precision accumulator using the\n",
       "`dtype` keyword can alleviate this issue.\n",
       "\n",
       "By default, `float16` results are computed using `float32` intermediates\n",
       "for extra precision.\n",
       "\n",
       "Examples\n",
       "--------\n",
       ">>> a = np.array([[1, 2], [3, 4]])\n",
       ">>> np.mean(a)\n",
       "2.5\n",
       ">>> np.mean(a, axis=0)\n",
       "array([2., 3.])\n",
       ">>> np.mean(a, axis=1)\n",
       "array([1.5, 3.5])\n",
       "\n",
       "In single precision, `mean` can be inaccurate:\n",
       "\n",
       ">>> a = np.zeros((2, 512*512), dtype=np.float32)\n",
       ">>> a[0, :] = 1.0\n",
       ">>> a[1, :] = 0.1\n",
       ">>> np.mean(a)\n",
       "0.54999924\n",
       "\n",
       "Computing the mean in float64 is more accurate:\n",
       "\n",
       ">>> np.mean(a, dtype=np.float64)\n",
       "0.55000000074505806 # may vary\n",
       "\n",
       "Specifying a where argument:\n",
       ">>> a = np.array([[5, 9, 13], [14, 10, 12], [11, 15, 19]])\n",
       ">>> np.mean(a)\n",
       "12.0\n",
       ">>> np.mean(a, where=[[True], [False], [False]])\n",
       "9.0\n",
       "\u001b[1;31mFile:\u001b[0m      c:\\users\\nicho\\anaconda3\\lib\\site-packages\\numpy\\core\\fromnumeric.py\n",
       "\u001b[1;31mType:\u001b[0m      function\n"
      ]
     },
     "metadata": {},
     "output_type": "display_data"
    }
   ],
   "source": [
    "?np.mean"
   ]
  },
  {
   "cell_type": "code",
   "execution_count": 12,
   "id": "5c556dde",
   "metadata": {},
   "outputs": [
    {
     "name": "stdout",
     "output_type": "stream",
     "text": [
      "Object `rescale01 # Our function` not found.\n"
     ]
    }
   ],
   "source": [
    "?rescale01 # Our function"
   ]
  },
  {
   "cell_type": "markdown",
   "id": "e3418325-eed4-4525-9029-1fbfbb010b8e",
   "metadata": {},
   "source": [
    "**Question:** Why does our function not return a help menu?  \n",
    "**Answer**: We never set it up ! We will learn how to later"
   ]
  },
  {
   "cell_type": "markdown",
   "id": "cf082359",
   "metadata": {},
   "source": [
    "## 7. Control Statements: if...elif() <a class=\"anchor\" id=\"bullet7\"></a>"
   ]
  },
  {
   "cell_type": "markdown",
   "id": "2d93f8af-d988-4f2d-9a4d-5c1c9674067e",
   "metadata": {},
   "source": [
    "Code usually exectures in a straight forward, linear manner. We call this **sequential execution**. But there are a few ways you can change the execution order. The first way to do so is by using **if()... else() statements**. These statements are quite easy to understand; after checking some condition(s), a snippet of code will either exectute or not."
   ]
  },
  {
   "cell_type": "code",
   "execution_count": null,
   "id": "e316ee66-847f-41fb-9b33-2900a8debd8c",
   "metadata": {},
   "outputs": [],
   "source": [
    "# The syntax of if().... else() statements :\n",
    "if (condition):\n",
    "  # code executed when condition is TRUE\n",
    "else:\n",
    "  # code executed when condition is FALSE"
   ]
  },
  {
   "cell_type": "code",
   "execution_count": 19,
   "id": "e27de42b",
   "metadata": {},
   "outputs": [],
   "source": [
    "# Example of a function using if then statements ...\n",
    "def is_even(x):\n",
    "    if x % 2 == 0:\n",
    "        return True\n",
    "    return False\n",
    "\n",
    "# why does this work without an else clause?\n",
    "# what does this function do?"
   ]
  },
  {
   "cell_type": "code",
   "execution_count": 60,
   "id": "b96d51b8",
   "metadata": {},
   "outputs": [],
   "source": [
    "# Can search for several conditions using & or |\n",
    "def temp2(x):\n",
    "    if (x % 2 == 0) & (x % 5 == 0):\n",
    "        return True\n",
    "    return False\n",
    "\n",
    "def temp3(x):\n",
    "    if (x % 2 == 0) | (x % 5 == 0):\n",
    "        return True\n",
    "    return False\n",
    "# what is the difference between these functions?"
   ]
  },
  {
   "cell_type": "code",
   "execution_count": 8,
   "id": "00a7c526",
   "metadata": {},
   "outputs": [
    {
     "name": "stdout",
     "output_type": "stream",
     "text": [
      "I'm not a unitary vector\n"
     ]
    }
   ],
   "source": [
    "vec = [1, 3, 5, 7, 9]\n",
    "if sum(vec) < 1:\n",
    "    print(\"empty list\")\n",
    "elif sum(vec) == 1:\n",
    "    print(\"I'm a unitary vector\")\n",
    "else:\n",
    "    print(\"I'm not a unitary vector\")"
   ]
  },
  {
   "cell_type": "markdown",
   "id": "6ad72a21-1802-406f-927b-aa9399e028b6",
   "metadata": {},
   "source": [
    "`any()` and `all()` are also helpful if your condition returns a vector and you need to collapse to a single TRUE/FALSE statement"
   ]
  },
  {
   "cell_type": "code",
   "execution_count": 62,
   "id": "16ebba7d",
   "metadata": {},
   "outputs": [
    {
     "data": {
      "text/plain": [
       "True"
      ]
     },
     "execution_count": 62,
     "metadata": {},
     "output_type": "execute_result"
    }
   ],
   "source": [
    "any([True, False, False])"
   ]
  },
  {
   "cell_type": "code",
   "execution_count": 63,
   "id": "5129cf75",
   "metadata": {},
   "outputs": [
    {
     "data": {
      "text/plain": [
       "False"
      ]
     },
     "execution_count": 63,
     "metadata": {},
     "output_type": "execute_result"
    }
   ],
   "source": [
    "all([True, False, False])"
   ]
  },
  {
   "cell_type": "code",
   "execution_count": 64,
   "id": "b8c2f5fc",
   "metadata": {},
   "outputs": [
    {
     "data": {
      "text/plain": [
       "True"
      ]
     },
     "execution_count": 64,
     "metadata": {},
     "output_type": "execute_result"
    }
   ],
   "source": [
    "any([True if i > np.mean(vec) else False for i in vec])"
   ]
  },
  {
   "cell_type": "code",
   "execution_count": 65,
   "id": "3cb02147",
   "metadata": {},
   "outputs": [
    {
     "data": {
      "text/plain": [
       "False"
      ]
     },
     "execution_count": 65,
     "metadata": {},
     "output_type": "execute_result"
    }
   ],
   "source": [
    "all([True if i > np.mean(vec) else False for i in vec])"
   ]
  },
  {
   "cell_type": "markdown",
   "id": "05c25709",
   "metadata": {},
   "source": [
    "##### Question: what is the difference between any and all?"
   ]
  },
  {
   "cell_type": "markdown",
   "id": "708ffcaa",
   "metadata": {},
   "source": [
    "## 8. Types of function parameters <a class=\"anchor\" id=\"bullet8\"></a>"
   ]
  },
  {
   "cell_type": "markdown",
   "id": "2e8b47a3-5950-49ec-b5dc-0201288de97e",
   "metadata": {},
   "source": [
    "There are two broad types of function arguments: data args and args that control details of computation. A general rule of thump is that **data arguments should come first followed by args with details for computation**."
   ]
  },
  {
   "cell_type": "code",
   "execution_count": 24,
   "id": "249b2a73",
   "metadata": {},
   "outputs": [
    {
     "data": {
      "text/plain": [
       "6378.5"
      ]
     },
     "execution_count": 24,
     "metadata": {},
     "output_type": "execute_result"
    }
   ],
   "source": [
    "# Example:\n",
    "x = pd.Series([1, 24, 4325, 8432, 34])\n",
    "\n",
    "def my_mean(lst, condition=False):\n",
    "    temp = lst\n",
    "    if condition:\n",
    "        temp = [i for i in lst if i > 1000]\n",
    "    return sum(temp)/len(temp)\n",
    "    \n",
    "    \n",
    "my_mean(x, condition=True)\n",
    "\n",
    "# lst refers to the data \n",
    "# condition (set to False by default) determines details of computation \n",
    "\n",
    "# In this case, best practice is to put lst, the data arg, first in the function definition"
   ]
  },
  {
   "cell_type": "code",
   "execution_count": 25,
   "id": "59523a70",
   "metadata": {},
   "outputs": [],
   "source": [
    "# Another example: compute confidence interval around mean using normal approximation\n",
    "def mean_ci(x, conf = 0.95):\n",
    "    se = np.std(x) / np.sqrt(len(x))\n",
    "    alpha = 1 - conf\n",
    "    return np.mean(x) + se * scipy.stats.norm.ppf([alpha/2, 1 - alpha/2])"
   ]
  },
  {
   "cell_type": "code",
   "execution_count": 26,
   "id": "3103cd9f",
   "metadata": {},
   "outputs": [
    {
     "name": "stdout",
     "output_type": "stream",
     "text": [
      "X    Freq\n",
      "0       1\n",
      "1      24\n",
      "2    4325\n",
      "3    8432\n",
      "4      34\n",
      "dtype: int64\n",
      "\n",
      "\n",
      "Mean: 2563.2\n",
      "The 95% CI is ([-395.13852072 5521.53852072])\n"
     ]
    }
   ],
   "source": [
    "print(\"X    Freq\")\n",
    "print(x)\n",
    "print(\"\\n\")\n",
    "print(\"Mean: \"+  str(my_mean(x)))\n",
    "print(\"The 95% CI is (\" + str(mean_ci(x, conf=0.95)) + \")\")"
   ]
  },
  {
   "cell_type": "markdown",
   "id": "e7b3f5bc",
   "metadata": {},
   "source": [
    "##### Question: Why is this 95% CI for the mean so wide?"
   ]
  },
  {
   "cell_type": "code",
   "execution_count": 27,
   "id": "702cd7ab",
   "metadata": {},
   "outputs": [
    {
     "name": "stdout",
     "output_type": "stream",
     "text": [
      "Mean: 51.925\n",
      "The 95% CI is ([50.0950069  53.75421898])\n"
     ]
    }
   ],
   "source": [
    "x = np.random.uniform(1,100,1000)\n",
    "print(\"Mean: \"+  str(round(my_mean(x), 3)))\n",
    "print(\"The 95% CI is (\" + str(mean_ci(x, conf=0.95)) + \")\")"
   ]
  },
  {
   "cell_type": "code",
   "execution_count": 28,
   "id": "0923e566",
   "metadata": {},
   "outputs": [
    {
     "name": "stdout",
     "output_type": "stream",
     "text": [
      "Mean: 43.494\n",
      "The 95% CI is ([26.90972997 60.07838596])\n"
     ]
    }
   ],
   "source": [
    "x = np.random.uniform(1,100,10)\n",
    "print(\"Mean: \"+  str(round(my_mean(x), 3)))\n",
    "print(\"The 95% CI is (\" + str(mean_ci(x, conf=0.95)) + \")\")"
   ]
  },
  {
   "cell_type": "markdown",
   "id": "17024a53-6803-4c58-922e-8f5d884a1175",
   "metadata": {},
   "source": [
    "You can add default values for your arguments to take, just incase a value is not entered by the user. This is exactly what we did when we specify `condition=False`. This means that when the condition argument is not specified when the function is called, it will default to False."
   ]
  },
  {
   "cell_type": "code",
   "execution_count": 29,
   "id": "e781be73-fc92-4286-9981-53410cbee424",
   "metadata": {},
   "outputs": [],
   "source": [
    "def my_mean(lst, condition=False):\n",
    "    temp = lst\n",
    "    if condition:\n",
    "        temp = [i for i in lst if i > 1000]\n",
    "    return sum(temp)/len(temp)"
   ]
  },
  {
   "cell_type": "markdown",
   "id": "59ad1041",
   "metadata": {},
   "source": [
    "## 9. Handling errors<a class=\"anchor\" id=\"bullet9\"></a>"
   ]
  },
  {
   "cell_type": "code",
   "execution_count": 130,
   "id": "2d728abc",
   "metadata": {},
   "outputs": [
    {
     "data": {
      "text/plain": [
       "3"
      ]
     },
     "execution_count": 130,
     "metadata": {},
     "output_type": "execute_result"
    }
   ],
   "source": [
    "len([4,5,6])"
   ]
  },
  {
   "cell_type": "code",
   "execution_count": 30,
   "id": "4667c6c6",
   "metadata": {},
   "outputs": [],
   "source": [
    "# It's good practice to check important preconditions, and throw an error if they are not true:\n",
    "def wt_mean(x, w):\n",
    "    assert len(x) == len(w), \"x and w must be the same length!!!\"  # assert statements throw and error if not True!\n",
    "    return sum(np.multiply(x, w))/sum(w)"
   ]
  },
  {
   "cell_type": "code",
   "execution_count": 31,
   "id": "436f6058",
   "metadata": {},
   "outputs": [
    {
     "name": "stdout",
     "output_type": "stream",
     "text": [
      "The weighted mean of x is: 2.0\n"
     ]
    }
   ],
   "source": [
    "x = [1,2,3]\n",
    "w = [1,1,1]\n",
    "print(\"The weighted mean of x is: \" + str(wt_mean(x, w)))"
   ]
  },
  {
   "cell_type": "code",
   "execution_count": 32,
   "id": "c1fa9998",
   "metadata": {},
   "outputs": [
    {
     "ename": "AssertionError",
     "evalue": "x and w must be the same length!!!",
     "output_type": "error",
     "traceback": [
      "\u001b[1;31m---------------------------------------------------------------------------\u001b[0m",
      "\u001b[1;31mAssertionError\u001b[0m                            Traceback (most recent call last)",
      "\u001b[1;32m~\\AppData\\Local\\Temp\\ipykernel_1824\\1952186181.py\u001b[0m in \u001b[0;36m<module>\u001b[1;34m\u001b[0m\n\u001b[0;32m      1\u001b[0m \u001b[0mx\u001b[0m \u001b[1;33m=\u001b[0m \u001b[1;33m[\u001b[0m\u001b[1;36m1\u001b[0m\u001b[1;33m,\u001b[0m\u001b[1;36m2\u001b[0m\u001b[1;33m,\u001b[0m\u001b[1;36m3\u001b[0m\u001b[1;33m]\u001b[0m\u001b[1;33m\u001b[0m\u001b[1;33m\u001b[0m\u001b[0m\n\u001b[0;32m      2\u001b[0m \u001b[0mw\u001b[0m \u001b[1;33m=\u001b[0m \u001b[1;33m[\u001b[0m\u001b[1;36m1\u001b[0m\u001b[1;33m,\u001b[0m\u001b[1;36m1\u001b[0m\u001b[1;33m,\u001b[0m\u001b[1;36m1\u001b[0m\u001b[1;33m,\u001b[0m\u001b[1;36m1\u001b[0m\u001b[1;33m]\u001b[0m\u001b[1;33m\u001b[0m\u001b[1;33m\u001b[0m\u001b[0m\n\u001b[1;32m----> 3\u001b[1;33m \u001b[0mwt_mean\u001b[0m\u001b[1;33m(\u001b[0m\u001b[0mx\u001b[0m\u001b[1;33m,\u001b[0m \u001b[0mw\u001b[0m\u001b[1;33m)\u001b[0m\u001b[1;33m\u001b[0m\u001b[1;33m\u001b[0m\u001b[0m\n\u001b[0m",
      "\u001b[1;32m~\\AppData\\Local\\Temp\\ipykernel_1824\\2322405614.py\u001b[0m in \u001b[0;36mwt_mean\u001b[1;34m(x, w)\u001b[0m\n\u001b[0;32m      1\u001b[0m \u001b[1;31m# It's good practice to check important preconditions, and throw an error if they are not true:\u001b[0m\u001b[1;33m\u001b[0m\u001b[1;33m\u001b[0m\u001b[0m\n\u001b[0;32m      2\u001b[0m \u001b[1;32mdef\u001b[0m \u001b[0mwt_mean\u001b[0m\u001b[1;33m(\u001b[0m\u001b[0mx\u001b[0m\u001b[1;33m,\u001b[0m \u001b[0mw\u001b[0m\u001b[1;33m)\u001b[0m\u001b[1;33m:\u001b[0m\u001b[1;33m\u001b[0m\u001b[1;33m\u001b[0m\u001b[0m\n\u001b[1;32m----> 3\u001b[1;33m     \u001b[1;32massert\u001b[0m \u001b[0mlen\u001b[0m\u001b[1;33m(\u001b[0m\u001b[0mx\u001b[0m\u001b[1;33m)\u001b[0m \u001b[1;33m==\u001b[0m \u001b[0mlen\u001b[0m\u001b[1;33m(\u001b[0m\u001b[0mw\u001b[0m\u001b[1;33m)\u001b[0m\u001b[1;33m,\u001b[0m \u001b[1;34m\"x and w must be the same length!!!\"\u001b[0m  \u001b[1;31m# assert statements throw and error if not True!\u001b[0m\u001b[1;33m\u001b[0m\u001b[1;33m\u001b[0m\u001b[0m\n\u001b[0m\u001b[0;32m      4\u001b[0m     \u001b[1;32mreturn\u001b[0m \u001b[0msum\u001b[0m\u001b[1;33m(\u001b[0m\u001b[0mnp\u001b[0m\u001b[1;33m.\u001b[0m\u001b[0mmultiply\u001b[0m\u001b[1;33m(\u001b[0m\u001b[0mx\u001b[0m\u001b[1;33m,\u001b[0m \u001b[0mw\u001b[0m\u001b[1;33m)\u001b[0m\u001b[1;33m)\u001b[0m\u001b[1;33m/\u001b[0m\u001b[0msum\u001b[0m\u001b[1;33m(\u001b[0m\u001b[0mw\u001b[0m\u001b[1;33m)\u001b[0m\u001b[1;33m\u001b[0m\u001b[1;33m\u001b[0m\u001b[0m\n",
      "\u001b[1;31mAssertionError\u001b[0m: x and w must be the same length!!!"
     ]
    }
   ],
   "source": [
    "x = [1,2,3]\n",
    "w = [1,1,1,1]\n",
    "wt_mean(x, w)"
   ]
  },
  {
   "cell_type": "markdown",
   "id": "4d69ba90",
   "metadata": {},
   "source": [
    "##### Question: What is does the wt_mean() function call below return? "
   ]
  },
  {
   "cell_type": "code",
   "execution_count": null,
   "id": "2485118e-1837-46e9-8c4c-786d6fe7a6e4",
   "metadata": {},
   "outputs": [],
   "source": [
    "x = [1,2,3]\n",
    "w = [1,1,10]\n",
    "wt_mean(x, w)"
   ]
  },
  {
   "cell_type": "markdown",
   "id": "7e557235",
   "metadata": {},
   "source": [
    "## 10. Flexible Agruments: \\*args and \\**kwargs<a class=\"anchor\" id=\"bullet10\"></a>"
   ]
  },
  {
   "cell_type": "markdown",
   "id": "d33883a6",
   "metadata": {},
   "source": [
    "__*args__ is used if you need to pass a variable number of objects into the function. The asterisk * is a tuple __unpacking operator__. Placing the * before a parameter name tells python to pack any remaining arguments into a tuple that's passed to the args parameter."
   ]
  },
  {
   "cell_type": "code",
   "execution_count": 36,
   "id": "0bd03f69",
   "metadata": {},
   "outputs": [
    {
     "name": "stdout",
     "output_type": "stream",
     "text": [
      "6\n",
      "=======\n",
      "15\n"
     ]
    }
   ],
   "source": [
    "def my_sum(*args):\n",
    "    result = 0\n",
    "    # Iterating over the Python args tuple\n",
    "    for x in args:\n",
    "        result += x  # same thing as result = result + x\n",
    "    return result\n",
    "print(my_sum(1, 2, 3 ))\n",
    "print(\"=======\\n\" + str(my_sum(1, 2, 3, 4, 5)))"
   ]
  },
  {
   "cell_type": "markdown",
   "id": "ae4ded43",
   "metadata": {},
   "source": [
    "__**kwargs__ is like args, except you can pass multiple __named__ arguments. The double asterisks ** are a __dictionary unpacking operator__. Recall that dictionaries are great for handling key-value(s) pairs."
   ]
  },
  {
   "cell_type": "code",
   "execution_count": null,
   "id": "099fb712",
   "metadata": {},
   "outputs": [
    {
     "name": "stdout",
     "output_type": "stream",
     "text": [
      "Python Is Great!\n"
     ]
    }
   ],
   "source": [
    "def concatenate(**kwargs):\n",
    "    result = \"\"\n",
    "    # Iterating over the Python kwargs dictionary\n",
    "    for arg in kwargs.values():\n",
    "        result += arg  # the += operator is short hand for code like this: result = result + arg\n",
    "    return result\n",
    "\n",
    "print(concatenate(b=\"Python \", c=\"Is \", d=\"Great\", e=\"!\"))"
   ]
  },
  {
   "cell_type": "code",
   "execution_count": null,
   "id": "c7cb6da6",
   "metadata": {},
   "outputs": [
    {
     "name": "stdout",
     "output_type": "stream",
     "text": [
      "('first', 'Geeks')\n",
      "('mid', 'for')\n",
      "('last', 'Geeks')\n"
     ]
    }
   ],
   "source": [
    "def myFun(**kwargs):\n",
    "    for key, value in kwargs.items():\n",
    "        print((key, value))\n",
    "    \n",
    "# Check code\n",
    "myFun(first='Geeks', mid='for', last='Geeks')"
   ]
  },
  {
   "cell_type": "code",
   "execution_count": null,
   "id": "82b4ddeb",
   "metadata": {},
   "outputs": [],
   "source": [
    "def foo1(a, *args):\n",
    "    print(f\"a is: {a}\")\n",
    "    print(f\"args are: {args}\") # args takes in tuple packing"
   ]
  },
  {
   "cell_type": "code",
   "execution_count": null,
   "id": "7063c53f",
   "metadata": {},
   "outputs": [
    {
     "name": "stdout",
     "output_type": "stream",
     "text": [
      "a is: 1\n",
      "args are: ()\n"
     ]
    }
   ],
   "source": [
    "foo1(1)"
   ]
  },
  {
   "cell_type": "code",
   "execution_count": null,
   "id": "99f85b31",
   "metadata": {},
   "outputs": [
    {
     "name": "stdout",
     "output_type": "stream",
     "text": [
      "a is: 1\n",
      "args are: (2, 3, 4)\n"
     ]
    }
   ],
   "source": [
    "foo1(1, 2, 3, 4)"
   ]
  },
  {
   "cell_type": "code",
   "execution_count": null,
   "id": "3602720f",
   "metadata": {},
   "outputs": [],
   "source": [
    "def foo2(a, **kwargs):\n",
    "    print(f\"a is: {a}\")\n",
    "    print(f\"kwargs are: {kwargs}\") # kwargs takes in dictionary packing"
   ]
  },
  {
   "cell_type": "code",
   "execution_count": null,
   "id": "69df80c8",
   "metadata": {},
   "outputs": [
    {
     "name": "stdout",
     "output_type": "stream",
     "text": [
      "a is: 1\n",
      "kwargs are: {}\n"
     ]
    }
   ],
   "source": [
    "foo2(1)"
   ]
  },
  {
   "cell_type": "code",
   "execution_count": null,
   "id": "a35b2d82",
   "metadata": {},
   "outputs": [
    {
     "name": "stdout",
     "output_type": "stream",
     "text": [
      "a is: 1\n",
      "kwargs are: {'b': 2, 'c': 3, 'd': 4}\n"
     ]
    }
   ],
   "source": [
    "foo2(1, b=2, c=3, d=4)"
   ]
  },
  {
   "cell_type": "code",
   "execution_count": null,
   "id": "7e0cbdd6",
   "metadata": {},
   "outputs": [],
   "source": [
    "# can use them together\n",
    "def foo(a, *args, **kwargs):\n",
    "    print(f\"a is: {a}\")\n",
    "    print(f\"args are: {args}\")\n",
    "    print(f\"kwargs are: {kwargs}\")"
   ]
  },
  {
   "cell_type": "code",
   "execution_count": null,
   "id": "f78b07e0",
   "metadata": {},
   "outputs": [
    {
     "name": "stdout",
     "output_type": "stream",
     "text": [
      "a is: 1\n",
      "args are: (2, 3)\n",
      "kwargs are: {'d': 4, 'e': 5}\n"
     ]
    }
   ],
   "source": [
    "foo(1, 2, 3, d=4, e=5)"
   ]
  },
  {
   "cell_type": "code",
   "execution_count": null,
   "id": "81615256",
   "metadata": {},
   "outputs": [
    {
     "name": "stdout",
     "output_type": "stream",
     "text": [
      "[1, 2, 3]\n"
     ]
    }
   ],
   "source": [
    "# print_list.py\n",
    "my_list = [1, 2, 3]\n",
    "print(my_list)"
   ]
  },
  {
   "cell_type": "code",
   "execution_count": null,
   "id": "fdb501ae",
   "metadata": {},
   "outputs": [
    {
     "name": "stdout",
     "output_type": "stream",
     "text": [
      "[1, 2, 3]\n",
      "1 2 3\n"
     ]
    }
   ],
   "source": [
    "my_list = [1, 2, 3]\n",
    "print(my_list)   # print list\n",
    "print(*my_list)  # print unpacked list, which is just the contents of the previous list"
   ]
  },
  {
   "cell_type": "code",
   "execution_count": null,
   "id": "127f5f9a",
   "metadata": {},
   "outputs": [
    {
     "name": "stdout",
     "output_type": "stream",
     "text": [
      "45\n"
     ]
    }
   ],
   "source": [
    "def my_sum(*args):\n",
    "    result = 0\n",
    "    for x in args:\n",
    "        result += x\n",
    "    return result\n",
    "\n",
    "list1 = [1, 2, 3]\n",
    "list2 = [4, 5]\n",
    "list3 = [6, 7, 8, 9]\n",
    "\n",
    "print(my_sum(*list1, *list2, *list3))"
   ]
  },
  {
   "cell_type": "markdown",
   "id": "ae9da863",
   "metadata": {},
   "source": [
    "## 11. Return statements <a class=\"anchor\" id=\"bullet11\"></a>"
   ]
  },
  {
   "cell_type": "markdown",
   "id": "db0fec8a-3ef6-4ea6-9e38-ced46e544e57",
   "metadata": {},
   "source": [
    "Throughout all the functions we have seen, there have been return statements. What do they do? They run some calculation or task and usually there's output we want to return. This is what the return statement is for."
   ]
  },
  {
   "cell_type": "code",
   "execution_count": 97,
   "id": "36b55223",
   "metadata": {},
   "outputs": [],
   "source": [
    "# Example\n",
    "def check(x):\n",
    "    result = ''\n",
    "    if x > 0:\n",
    "        result = 'Positive'\n",
    "    elif x < 0:\n",
    "        result = 'Negative'\n",
    "    else:\n",
    "        result = 'Zero'\n",
    "    return result"
   ]
  },
  {
   "cell_type": "code",
   "execution_count": 98,
   "id": "36202e4c",
   "metadata": {},
   "outputs": [
    {
     "data": {
      "text/plain": [
       "'Positive'"
      ]
     },
     "execution_count": 98,
     "metadata": {},
     "output_type": "execute_result"
    }
   ],
   "source": [
    "check(1)"
   ]
  },
  {
   "cell_type": "markdown",
   "id": "e0b28d1c-2aff-461a-9f5c-489da12d09fa",
   "metadata": {},
   "source": [
    "**Question**: What if we wanted to return multiple things at once? How can we do this?  \n",
    "**Answer**: Return a list object with all the output you want to return !"
   ]
  },
  {
   "cell_type": "code",
   "execution_count": null,
   "id": "c5fe5b7f-f78a-4fed-b63d-9fd4972b14c2",
   "metadata": {},
   "outputs": [],
   "source": [
    "# Calc col mean and return the sample size n\n",
    "def col_mean(df):\n",
    "    \n",
    "    n = df.shape[0]\n",
    "    \n",
    "    output = []\n",
    "    for i in df.columns:\n",
    "        output.append(np.mean(df[i]))\n",
    "    return [n, output]"
   ]
  },
  {
   "cell_type": "code",
   "execution_count": null,
   "id": "d548d706-8f3d-43a2-b115-c52bed852942",
   "metadata": {},
   "outputs": [
    {
     "data": {
      "text/html": [
       "<div>\n",
       "<style scoped>\n",
       "    .dataframe tbody tr th:only-of-type {\n",
       "        vertical-align: middle;\n",
       "    }\n",
       "\n",
       "    .dataframe tbody tr th {\n",
       "        vertical-align: top;\n",
       "    }\n",
       "\n",
       "    .dataframe thead th {\n",
       "        text-align: right;\n",
       "    }\n",
       "</style>\n",
       "<table border=\"1\" class=\"dataframe\">\n",
       "  <thead>\n",
       "    <tr style=\"text-align: right;\">\n",
       "      <th></th>\n",
       "      <th>a</th>\n",
       "      <th>b</th>\n",
       "      <th>c</th>\n",
       "      <th>d</th>\n",
       "    </tr>\n",
       "  </thead>\n",
       "  <tbody>\n",
       "    <tr>\n",
       "      <th>0</th>\n",
       "      <td>-0.757929</td>\n",
       "      <td>0.295862</td>\n",
       "      <td>0.417556</td>\n",
       "      <td>1.167163</td>\n",
       "    </tr>\n",
       "    <tr>\n",
       "      <th>1</th>\n",
       "      <td>0.807697</td>\n",
       "      <td>0.019923</td>\n",
       "      <td>-1.726416</td>\n",
       "      <td>1.767645</td>\n",
       "    </tr>\n",
       "    <tr>\n",
       "      <th>2</th>\n",
       "      <td>0.433601</td>\n",
       "      <td>-2.352702</td>\n",
       "      <td>-0.585652</td>\n",
       "      <td>0.461624</td>\n",
       "    </tr>\n",
       "    <tr>\n",
       "      <th>3</th>\n",
       "      <td>-0.949885</td>\n",
       "      <td>-0.548677</td>\n",
       "      <td>-0.012005</td>\n",
       "      <td>1.457183</td>\n",
       "    </tr>\n",
       "    <tr>\n",
       "      <th>4</th>\n",
       "      <td>-1.119631</td>\n",
       "      <td>1.061025</td>\n",
       "      <td>-0.981373</td>\n",
       "      <td>-0.216714</td>\n",
       "    </tr>\n",
       "    <tr>\n",
       "      <th>5</th>\n",
       "      <td>0.064981</td>\n",
       "      <td>0.760106</td>\n",
       "      <td>-1.244226</td>\n",
       "      <td>0.287626</td>\n",
       "    </tr>\n",
       "    <tr>\n",
       "      <th>6</th>\n",
       "      <td>-0.612400</td>\n",
       "      <td>-0.671701</td>\n",
       "      <td>1.370228</td>\n",
       "      <td>-1.224794</td>\n",
       "    </tr>\n",
       "    <tr>\n",
       "      <th>7</th>\n",
       "      <td>-1.144289</td>\n",
       "      <td>1.442454</td>\n",
       "      <td>-1.705773</td>\n",
       "      <td>0.694906</td>\n",
       "    </tr>\n",
       "    <tr>\n",
       "      <th>8</th>\n",
       "      <td>-1.710033</td>\n",
       "      <td>-0.398088</td>\n",
       "      <td>-0.139430</td>\n",
       "      <td>0.402294</td>\n",
       "    </tr>\n",
       "    <tr>\n",
       "      <th>9</th>\n",
       "      <td>-0.663915</td>\n",
       "      <td>-0.341473</td>\n",
       "      <td>-2.086549</td>\n",
       "      <td>-0.861754</td>\n",
       "    </tr>\n",
       "  </tbody>\n",
       "</table>\n",
       "</div>"
      ],
      "text/plain": [
       "          a         b         c         d\n",
       "0 -0.757929  0.295862  0.417556  1.167163\n",
       "1  0.807697  0.019923 -1.726416  1.767645\n",
       "2  0.433601 -2.352702 -0.585652  0.461624\n",
       "3 -0.949885 -0.548677 -0.012005  1.457183\n",
       "4 -1.119631  1.061025 -0.981373 -0.216714\n",
       "5  0.064981  0.760106 -1.244226  0.287626\n",
       "6 -0.612400 -0.671701  1.370228 -1.224794\n",
       "7 -1.144289  1.442454 -1.705773  0.694906\n",
       "8 -1.710033 -0.398088 -0.139430  0.402294\n",
       "9 -0.663915 -0.341473 -2.086549 -0.861754"
      ]
     },
     "execution_count": 52,
     "metadata": {},
     "output_type": "execute_result"
    }
   ],
   "source": [
    "# Create data frame to run through function\n",
    "rng = np.random.default_rng(seed=3252)\n",
    "\n",
    "a = rng.standard_normal(10)\n",
    "b = rng.standard_normal(10)\n",
    "c = rng.standard_normal(10)\n",
    "d = rng.standard_normal(10)\n",
    "\n",
    "the_dict = {'a':a,'b':b,'c':c,'d':d}\n",
    "\n",
    "df = pd.DataFrame(the_dict)\n",
    "df"
   ]
  },
  {
   "cell_type": "code",
   "execution_count": null,
   "id": "381f7e27-b93c-457b-bd1c-7af2d747c742",
   "metadata": {},
   "outputs": [
    {
     "data": {
      "text/plain": [
       "[-0.5651802647782048,\n",
       " -0.07332713554716727,\n",
       " -0.6693640830516738,\n",
       " 0.3935178923880054]"
      ]
     },
     "execution_count": 55,
     "metadata": {},
     "output_type": "execute_result"
    }
   ],
   "source": [
    "col_mean(df)"
   ]
  },
  {
   "cell_type": "code",
   "execution_count": 110,
   "id": "ce82fe65-c7a7-4f51-a813-096e8f3a0fdc",
   "metadata": {},
   "outputs": [
    {
     "data": {
      "text/plain": [
       "[     sepal length (cm)  sepal width (cm)  petal length (cm)  petal width (cm)\n",
       " 0                  5.1               3.5                1.4               0.2\n",
       " 1                  4.9               3.0                1.4               0.2\n",
       " 2                  4.7               3.2                1.3               0.2\n",
       " 3                  4.6               3.1                1.5               0.2\n",
       " 4                  5.0               3.6                1.4               0.2\n",
       " ..                 ...               ...                ...               ...\n",
       " 145                6.7               3.0                5.2               2.3\n",
       " 146                6.3               2.5                5.0               1.9\n",
       " 147                6.5               3.0                5.2               2.0\n",
       " 148                6.2               3.4                5.4               2.3\n",
       " 149                5.9               3.0                5.1               1.8\n",
       " \n",
       " [150 rows x 4 columns],\n",
       " 0,\n",
       " 1,\n",
       " 2]"
      ]
     },
     "execution_count": 110,
     "metadata": {},
     "output_type": "execute_result"
    }
   ],
   "source": [
    "# Recall: You can even return an entire dataset as one element of a list!\n",
    "from sklearn import datasets # load iris dataset\n",
    "iris0 = datasets.load_iris()\n",
    "iris = pd.DataFrame(data=iris0.data, columns=iris0.feature_names)\n",
    "x = [iris, 0, 1, 2]\n",
    "x"
   ]
  },
  {
   "cell_type": "code",
   "execution_count": 111,
   "id": "e33d8f22-8252-4ecd-8488-957c8540ea12",
   "metadata": {},
   "outputs": [
    {
     "data": {
      "text/plain": [
       "{'data': array([[5.1, 3.5, 1.4, 0.2],\n",
       "        [4.9, 3. , 1.4, 0.2],\n",
       "        [4.7, 3.2, 1.3, 0.2],\n",
       "        [4.6, 3.1, 1.5, 0.2],\n",
       "        [5. , 3.6, 1.4, 0.2],\n",
       "        [5.4, 3.9, 1.7, 0.4],\n",
       "        [4.6, 3.4, 1.4, 0.3],\n",
       "        [5. , 3.4, 1.5, 0.2],\n",
       "        [4.4, 2.9, 1.4, 0.2],\n",
       "        [4.9, 3.1, 1.5, 0.1],\n",
       "        [5.4, 3.7, 1.5, 0.2],\n",
       "        [4.8, 3.4, 1.6, 0.2],\n",
       "        [4.8, 3. , 1.4, 0.1],\n",
       "        [4.3, 3. , 1.1, 0.1],\n",
       "        [5.8, 4. , 1.2, 0.2],\n",
       "        [5.7, 4.4, 1.5, 0.4],\n",
       "        [5.4, 3.9, 1.3, 0.4],\n",
       "        [5.1, 3.5, 1.4, 0.3],\n",
       "        [5.7, 3.8, 1.7, 0.3],\n",
       "        [5.1, 3.8, 1.5, 0.3],\n",
       "        [5.4, 3.4, 1.7, 0.2],\n",
       "        [5.1, 3.7, 1.5, 0.4],\n",
       "        [4.6, 3.6, 1. , 0.2],\n",
       "        [5.1, 3.3, 1.7, 0.5],\n",
       "        [4.8, 3.4, 1.9, 0.2],\n",
       "        [5. , 3. , 1.6, 0.2],\n",
       "        [5. , 3.4, 1.6, 0.4],\n",
       "        [5.2, 3.5, 1.5, 0.2],\n",
       "        [5.2, 3.4, 1.4, 0.2],\n",
       "        [4.7, 3.2, 1.6, 0.2],\n",
       "        [4.8, 3.1, 1.6, 0.2],\n",
       "        [5.4, 3.4, 1.5, 0.4],\n",
       "        [5.2, 4.1, 1.5, 0.1],\n",
       "        [5.5, 4.2, 1.4, 0.2],\n",
       "        [4.9, 3.1, 1.5, 0.2],\n",
       "        [5. , 3.2, 1.2, 0.2],\n",
       "        [5.5, 3.5, 1.3, 0.2],\n",
       "        [4.9, 3.6, 1.4, 0.1],\n",
       "        [4.4, 3. , 1.3, 0.2],\n",
       "        [5.1, 3.4, 1.5, 0.2],\n",
       "        [5. , 3.5, 1.3, 0.3],\n",
       "        [4.5, 2.3, 1.3, 0.3],\n",
       "        [4.4, 3.2, 1.3, 0.2],\n",
       "        [5. , 3.5, 1.6, 0.6],\n",
       "        [5.1, 3.8, 1.9, 0.4],\n",
       "        [4.8, 3. , 1.4, 0.3],\n",
       "        [5.1, 3.8, 1.6, 0.2],\n",
       "        [4.6, 3.2, 1.4, 0.2],\n",
       "        [5.3, 3.7, 1.5, 0.2],\n",
       "        [5. , 3.3, 1.4, 0.2],\n",
       "        [7. , 3.2, 4.7, 1.4],\n",
       "        [6.4, 3.2, 4.5, 1.5],\n",
       "        [6.9, 3.1, 4.9, 1.5],\n",
       "        [5.5, 2.3, 4. , 1.3],\n",
       "        [6.5, 2.8, 4.6, 1.5],\n",
       "        [5.7, 2.8, 4.5, 1.3],\n",
       "        [6.3, 3.3, 4.7, 1.6],\n",
       "        [4.9, 2.4, 3.3, 1. ],\n",
       "        [6.6, 2.9, 4.6, 1.3],\n",
       "        [5.2, 2.7, 3.9, 1.4],\n",
       "        [5. , 2. , 3.5, 1. ],\n",
       "        [5.9, 3. , 4.2, 1.5],\n",
       "        [6. , 2.2, 4. , 1. ],\n",
       "        [6.1, 2.9, 4.7, 1.4],\n",
       "        [5.6, 2.9, 3.6, 1.3],\n",
       "        [6.7, 3.1, 4.4, 1.4],\n",
       "        [5.6, 3. , 4.5, 1.5],\n",
       "        [5.8, 2.7, 4.1, 1. ],\n",
       "        [6.2, 2.2, 4.5, 1.5],\n",
       "        [5.6, 2.5, 3.9, 1.1],\n",
       "        [5.9, 3.2, 4.8, 1.8],\n",
       "        [6.1, 2.8, 4. , 1.3],\n",
       "        [6.3, 2.5, 4.9, 1.5],\n",
       "        [6.1, 2.8, 4.7, 1.2],\n",
       "        [6.4, 2.9, 4.3, 1.3],\n",
       "        [6.6, 3. , 4.4, 1.4],\n",
       "        [6.8, 2.8, 4.8, 1.4],\n",
       "        [6.7, 3. , 5. , 1.7],\n",
       "        [6. , 2.9, 4.5, 1.5],\n",
       "        [5.7, 2.6, 3.5, 1. ],\n",
       "        [5.5, 2.4, 3.8, 1.1],\n",
       "        [5.5, 2.4, 3.7, 1. ],\n",
       "        [5.8, 2.7, 3.9, 1.2],\n",
       "        [6. , 2.7, 5.1, 1.6],\n",
       "        [5.4, 3. , 4.5, 1.5],\n",
       "        [6. , 3.4, 4.5, 1.6],\n",
       "        [6.7, 3.1, 4.7, 1.5],\n",
       "        [6.3, 2.3, 4.4, 1.3],\n",
       "        [5.6, 3. , 4.1, 1.3],\n",
       "        [5.5, 2.5, 4. , 1.3],\n",
       "        [5.5, 2.6, 4.4, 1.2],\n",
       "        [6.1, 3. , 4.6, 1.4],\n",
       "        [5.8, 2.6, 4. , 1.2],\n",
       "        [5. , 2.3, 3.3, 1. ],\n",
       "        [5.6, 2.7, 4.2, 1.3],\n",
       "        [5.7, 3. , 4.2, 1.2],\n",
       "        [5.7, 2.9, 4.2, 1.3],\n",
       "        [6.2, 2.9, 4.3, 1.3],\n",
       "        [5.1, 2.5, 3. , 1.1],\n",
       "        [5.7, 2.8, 4.1, 1.3],\n",
       "        [6.3, 3.3, 6. , 2.5],\n",
       "        [5.8, 2.7, 5.1, 1.9],\n",
       "        [7.1, 3. , 5.9, 2.1],\n",
       "        [6.3, 2.9, 5.6, 1.8],\n",
       "        [6.5, 3. , 5.8, 2.2],\n",
       "        [7.6, 3. , 6.6, 2.1],\n",
       "        [4.9, 2.5, 4.5, 1.7],\n",
       "        [7.3, 2.9, 6.3, 1.8],\n",
       "        [6.7, 2.5, 5.8, 1.8],\n",
       "        [7.2, 3.6, 6.1, 2.5],\n",
       "        [6.5, 3.2, 5.1, 2. ],\n",
       "        [6.4, 2.7, 5.3, 1.9],\n",
       "        [6.8, 3. , 5.5, 2.1],\n",
       "        [5.7, 2.5, 5. , 2. ],\n",
       "        [5.8, 2.8, 5.1, 2.4],\n",
       "        [6.4, 3.2, 5.3, 2.3],\n",
       "        [6.5, 3. , 5.5, 1.8],\n",
       "        [7.7, 3.8, 6.7, 2.2],\n",
       "        [7.7, 2.6, 6.9, 2.3],\n",
       "        [6. , 2.2, 5. , 1.5],\n",
       "        [6.9, 3.2, 5.7, 2.3],\n",
       "        [5.6, 2.8, 4.9, 2. ],\n",
       "        [7.7, 2.8, 6.7, 2. ],\n",
       "        [6.3, 2.7, 4.9, 1.8],\n",
       "        [6.7, 3.3, 5.7, 2.1],\n",
       "        [7.2, 3.2, 6. , 1.8],\n",
       "        [6.2, 2.8, 4.8, 1.8],\n",
       "        [6.1, 3. , 4.9, 1.8],\n",
       "        [6.4, 2.8, 5.6, 2.1],\n",
       "        [7.2, 3. , 5.8, 1.6],\n",
       "        [7.4, 2.8, 6.1, 1.9],\n",
       "        [7.9, 3.8, 6.4, 2. ],\n",
       "        [6.4, 2.8, 5.6, 2.2],\n",
       "        [6.3, 2.8, 5.1, 1.5],\n",
       "        [6.1, 2.6, 5.6, 1.4],\n",
       "        [7.7, 3. , 6.1, 2.3],\n",
       "        [6.3, 3.4, 5.6, 2.4],\n",
       "        [6.4, 3.1, 5.5, 1.8],\n",
       "        [6. , 3. , 4.8, 1.8],\n",
       "        [6.9, 3.1, 5.4, 2.1],\n",
       "        [6.7, 3.1, 5.6, 2.4],\n",
       "        [6.9, 3.1, 5.1, 2.3],\n",
       "        [5.8, 2.7, 5.1, 1.9],\n",
       "        [6.8, 3.2, 5.9, 2.3],\n",
       "        [6.7, 3.3, 5.7, 2.5],\n",
       "        [6.7, 3. , 5.2, 2.3],\n",
       "        [6.3, 2.5, 5. , 1.9],\n",
       "        [6.5, 3. , 5.2, 2. ],\n",
       "        [6.2, 3.4, 5.4, 2.3],\n",
       "        [5.9, 3. , 5.1, 1.8]]),\n",
       " 'target': array([0, 0, 0, 0, 0, 0, 0, 0, 0, 0, 0, 0, 0, 0, 0, 0, 0, 0, 0, 0, 0, 0,\n",
       "        0, 0, 0, 0, 0, 0, 0, 0, 0, 0, 0, 0, 0, 0, 0, 0, 0, 0, 0, 0, 0, 0,\n",
       "        0, 0, 0, 0, 0, 0, 1, 1, 1, 1, 1, 1, 1, 1, 1, 1, 1, 1, 1, 1, 1, 1,\n",
       "        1, 1, 1, 1, 1, 1, 1, 1, 1, 1, 1, 1, 1, 1, 1, 1, 1, 1, 1, 1, 1, 1,\n",
       "        1, 1, 1, 1, 1, 1, 1, 1, 1, 1, 1, 1, 2, 2, 2, 2, 2, 2, 2, 2, 2, 2,\n",
       "        2, 2, 2, 2, 2, 2, 2, 2, 2, 2, 2, 2, 2, 2, 2, 2, 2, 2, 2, 2, 2, 2,\n",
       "        2, 2, 2, 2, 2, 2, 2, 2, 2, 2, 2, 2, 2, 2, 2, 2, 2, 2]),\n",
       " 'frame': None,\n",
       " 'target_names': array(['setosa', 'versicolor', 'virginica'], dtype='<U10'),\n",
       " 'DESCR': '.. _iris_dataset:\\n\\nIris plants dataset\\n--------------------\\n\\n**Data Set Characteristics:**\\n\\n    :Number of Instances: 150 (50 in each of three classes)\\n    :Number of Attributes: 4 numeric, predictive attributes and the class\\n    :Attribute Information:\\n        - sepal length in cm\\n        - sepal width in cm\\n        - petal length in cm\\n        - petal width in cm\\n        - class:\\n                - Iris-Setosa\\n                - Iris-Versicolour\\n                - Iris-Virginica\\n                \\n    :Summary Statistics:\\n\\n    ============== ==== ==== ======= ===== ====================\\n                    Min  Max   Mean    SD   Class Correlation\\n    ============== ==== ==== ======= ===== ====================\\n    sepal length:   4.3  7.9   5.84   0.83    0.7826\\n    sepal width:    2.0  4.4   3.05   0.43   -0.4194\\n    petal length:   1.0  6.9   3.76   1.76    0.9490  (high!)\\n    petal width:    0.1  2.5   1.20   0.76    0.9565  (high!)\\n    ============== ==== ==== ======= ===== ====================\\n\\n    :Missing Attribute Values: None\\n    :Class Distribution: 33.3% for each of 3 classes.\\n    :Creator: R.A. Fisher\\n    :Donor: Michael Marshall (MARSHALL%PLU@io.arc.nasa.gov)\\n    :Date: July, 1988\\n\\nThe famous Iris database, first used by Sir R.A. Fisher. The dataset is taken\\nfrom Fisher\\'s paper. Note that it\\'s the same as in R, but not as in the UCI\\nMachine Learning Repository, which has two wrong data points.\\n\\nThis is perhaps the best known database to be found in the\\npattern recognition literature.  Fisher\\'s paper is a classic in the field and\\nis referenced frequently to this day.  (See Duda & Hart, for example.)  The\\ndata set contains 3 classes of 50 instances each, where each class refers to a\\ntype of iris plant.  One class is linearly separable from the other 2; the\\nlatter are NOT linearly separable from each other.\\n\\n.. topic:: References\\n\\n   - Fisher, R.A. \"The use of multiple measurements in taxonomic problems\"\\n     Annual Eugenics, 7, Part II, 179-188 (1936); also in \"Contributions to\\n     Mathematical Statistics\" (John Wiley, NY, 1950).\\n   - Duda, R.O., & Hart, P.E. (1973) Pattern Classification and Scene Analysis.\\n     (Q327.D83) John Wiley & Sons.  ISBN 0-471-22361-1.  See page 218.\\n   - Dasarathy, B.V. (1980) \"Nosing Around the Neighborhood: A New System\\n     Structure and Classification Rule for Recognition in Partially Exposed\\n     Environments\".  IEEE Transactions on Pattern Analysis and Machine\\n     Intelligence, Vol. PAMI-2, No. 1, 67-71.\\n   - Gates, G.W. (1972) \"The Reduced Nearest Neighbor Rule\".  IEEE Transactions\\n     on Information Theory, May 1972, 431-433.\\n   - See also: 1988 MLC Proceedings, 54-64.  Cheeseman et al\"s AUTOCLASS II\\n     conceptual clustering system finds 3 classes in the data.\\n   - Many, many more ...',\n",
       " 'feature_names': ['sepal length (cm)',\n",
       "  'sepal width (cm)',\n",
       "  'petal length (cm)',\n",
       "  'petal width (cm)'],\n",
       " 'filename': 'iris.csv',\n",
       " 'data_module': 'sklearn.datasets.data'}"
      ]
     },
     "execution_count": 111,
     "metadata": {},
     "output_type": "execute_result"
    }
   ],
   "source": [
    "iris0"
   ]
  },
  {
   "cell_type": "code",
   "execution_count": null,
   "id": "a3a93a36-311a-4d01-b472-96b227fdfd2d",
   "metadata": {},
   "outputs": [
    {
     "data": {
      "text/html": [
       "<div>\n",
       "<style scoped>\n",
       "    .dataframe tbody tr th:only-of-type {\n",
       "        vertical-align: middle;\n",
       "    }\n",
       "\n",
       "    .dataframe tbody tr th {\n",
       "        vertical-align: top;\n",
       "    }\n",
       "\n",
       "    .dataframe thead th {\n",
       "        text-align: right;\n",
       "    }\n",
       "</style>\n",
       "<table border=\"1\" class=\"dataframe\">\n",
       "  <thead>\n",
       "    <tr style=\"text-align: right;\">\n",
       "      <th></th>\n",
       "      <th>sepal length (cm)</th>\n",
       "      <th>sepal width (cm)</th>\n",
       "      <th>petal length (cm)</th>\n",
       "      <th>petal width (cm)</th>\n",
       "    </tr>\n",
       "  </thead>\n",
       "  <tbody>\n",
       "    <tr>\n",
       "      <th>0</th>\n",
       "      <td>5.1</td>\n",
       "      <td>3.5</td>\n",
       "      <td>1.4</td>\n",
       "      <td>0.2</td>\n",
       "    </tr>\n",
       "    <tr>\n",
       "      <th>1</th>\n",
       "      <td>4.9</td>\n",
       "      <td>3.0</td>\n",
       "      <td>1.4</td>\n",
       "      <td>0.2</td>\n",
       "    </tr>\n",
       "    <tr>\n",
       "      <th>2</th>\n",
       "      <td>4.7</td>\n",
       "      <td>3.2</td>\n",
       "      <td>1.3</td>\n",
       "      <td>0.2</td>\n",
       "    </tr>\n",
       "    <tr>\n",
       "      <th>3</th>\n",
       "      <td>4.6</td>\n",
       "      <td>3.1</td>\n",
       "      <td>1.5</td>\n",
       "      <td>0.2</td>\n",
       "    </tr>\n",
       "    <tr>\n",
       "      <th>4</th>\n",
       "      <td>5.0</td>\n",
       "      <td>3.6</td>\n",
       "      <td>1.4</td>\n",
       "      <td>0.2</td>\n",
       "    </tr>\n",
       "    <tr>\n",
       "      <th>...</th>\n",
       "      <td>...</td>\n",
       "      <td>...</td>\n",
       "      <td>...</td>\n",
       "      <td>...</td>\n",
       "    </tr>\n",
       "    <tr>\n",
       "      <th>145</th>\n",
       "      <td>6.7</td>\n",
       "      <td>3.0</td>\n",
       "      <td>5.2</td>\n",
       "      <td>2.3</td>\n",
       "    </tr>\n",
       "    <tr>\n",
       "      <th>146</th>\n",
       "      <td>6.3</td>\n",
       "      <td>2.5</td>\n",
       "      <td>5.0</td>\n",
       "      <td>1.9</td>\n",
       "    </tr>\n",
       "    <tr>\n",
       "      <th>147</th>\n",
       "      <td>6.5</td>\n",
       "      <td>3.0</td>\n",
       "      <td>5.2</td>\n",
       "      <td>2.0</td>\n",
       "    </tr>\n",
       "    <tr>\n",
       "      <th>148</th>\n",
       "      <td>6.2</td>\n",
       "      <td>3.4</td>\n",
       "      <td>5.4</td>\n",
       "      <td>2.3</td>\n",
       "    </tr>\n",
       "    <tr>\n",
       "      <th>149</th>\n",
       "      <td>5.9</td>\n",
       "      <td>3.0</td>\n",
       "      <td>5.1</td>\n",
       "      <td>1.8</td>\n",
       "    </tr>\n",
       "  </tbody>\n",
       "</table>\n",
       "<p>150 rows × 4 columns</p>\n",
       "</div>"
      ],
      "text/plain": [
       "     sepal length (cm)  sepal width (cm)  petal length (cm)  petal width (cm)\n",
       "0                  5.1               3.5                1.4               0.2\n",
       "1                  4.9               3.0                1.4               0.2\n",
       "2                  4.7               3.2                1.3               0.2\n",
       "3                  4.6               3.1                1.5               0.2\n",
       "4                  5.0               3.6                1.4               0.2\n",
       "..                 ...               ...                ...               ...\n",
       "145                6.7               3.0                5.2               2.3\n",
       "146                6.3               2.5                5.0               1.9\n",
       "147                6.5               3.0                5.2               2.0\n",
       "148                6.2               3.4                5.4               2.3\n",
       "149                5.9               3.0                5.1               1.8\n",
       "\n",
       "[150 rows x 4 columns]"
      ]
     },
     "execution_count": 112,
     "metadata": {},
     "output_type": "execute_result"
    }
   ],
   "source": [
    "iris"
   ]
  },
  {
   "cell_type": "markdown",
   "id": "b32bc245-814d-438d-8051-62f6db91d8af",
   "metadata": {},
   "source": [
    "Note, you can also return tuples from functions! It does not matter (usually) which you use. If your object needs to be further edited/modified, then use a list. If you want the output from your function to be immutable, then tuples are better.\n",
    "\n",
    "From a performance angle, tuples are a little more efficient than list objects. \n",
    "\n",
    "Lastly, note it is also possible to return functions! We will see an example of this at the end of today's lecture notes."
   ]
  },
  {
   "cell_type": "markdown",
   "id": "0c3045e0",
   "metadata": {},
   "source": [
    "## 12. Lazy evaluation <a class=\"anchor\" id=\"bullet12\"></a>"
   ]
  },
  {
   "cell_type": "markdown",
   "id": "638e5f66",
   "metadata": {},
   "source": [
    "In a nutshell, lazy evaluation means that the object is evaluated when it is needed, not when it is created."
   ]
  },
  {
   "cell_type": "markdown",
   "id": "f65449de",
   "metadata": {},
   "source": [
    "## 13. Lexical scoping <a class=\"anchor\" id=\"bullet13\"></a>"
   ]
  },
  {
   "cell_type": "markdown",
   "id": "ecdae5fa",
   "metadata": {},
   "source": [
    "Not essential you understand this to write functions in Python, but can't hurt. This is a rather advanced programming concept.\n",
    "\n",
    "Environment of a function controls how Python finds the value associated with a name. The key concept for function environment is something called \"lexical scoping\". \n",
    "\n",
    "When a function begins running, it first looks inside the immediate function script/environment for variables which are referenced. We call this the **local scope**. If a variable is not found in the local scope, then Python steps up to the parent environment in which the function was called. At the very top of the hirearchy is the **global environment**. Objects in your global environment will be accessible by all functions. There is also a third scoping level, the **built-in scope**, which includes all of base Pythons variables and functions, such as the print function."
   ]
  },
  {
   "cell_type": "code",
   "execution_count": 1,
   "id": "1da3e38d",
   "metadata": {},
   "outputs": [
    {
     "name": "stdout",
     "output_type": "stream",
     "text": [
      "100\n"
     ]
    },
    {
     "ename": "NameError",
     "evalue": "name 'new_val' is not defined",
     "output_type": "error",
     "traceback": [
      "\u001b[1;31m---------------------------------------------------------------------------\u001b[0m",
      "\u001b[1;31mNameError\u001b[0m                                 Traceback (most recent call last)",
      "\u001b[1;32m~\\AppData\\Local\\Temp\\ipykernel_3852\\147894204.py\u001b[0m in \u001b[0;36m<module>\u001b[1;34m\u001b[0m\n\u001b[0;32m      4\u001b[0m     \u001b[1;32mreturn\u001b[0m \u001b[0mnew_val\u001b[0m\u001b[1;33m\u001b[0m\u001b[1;33m\u001b[0m\u001b[0m\n\u001b[0;32m      5\u001b[0m \u001b[0mprint\u001b[0m\u001b[1;33m(\u001b[0m\u001b[0msquare\u001b[0m\u001b[1;33m(\u001b[0m\u001b[1;36m10\u001b[0m\u001b[1;33m)\u001b[0m\u001b[1;33m)\u001b[0m\u001b[1;33m\u001b[0m\u001b[1;33m\u001b[0m\u001b[0m\n\u001b[1;32m----> 6\u001b[1;33m \u001b[0mprint\u001b[0m\u001b[1;33m(\u001b[0m\u001b[0mnew_val\u001b[0m\u001b[1;33m)\u001b[0m\u001b[1;33m\u001b[0m\u001b[1;33m\u001b[0m\u001b[0m\n\u001b[0m",
      "\u001b[1;31mNameError\u001b[0m: name 'new_val' is not defined"
     ]
    }
   ],
   "source": [
    "# Local scope: the variable new_val only exists within the function call\n",
    "def square(value):\n",
    "    new_val = value ** 2  # new val is not defined globally\n",
    "    return new_val\n",
    "print(square(10))\n",
    "print(new_val)"
   ]
  },
  {
   "cell_type": "code",
   "execution_count": 4,
   "id": "b7cb1ff8-5a31-4a16-892d-0f1d8eeb2097",
   "metadata": {},
   "outputs": [
    {
     "name": "stdout",
     "output_type": "stream",
     "text": [
      "100\n",
      "100\n"
     ]
    }
   ],
   "source": [
    "# Local scope: the variable new_val only exists within the function call\n",
    "def square(value):\n",
    "    global new_val \n",
    "    new_val = value ** 2  # new val is defined globally\n",
    "    return new_val\n",
    "print(square(10))\n",
    "print(new_val)  # this works ! "
   ]
  },
  {
   "cell_type": "markdown",
   "id": "dc214877-5cfa-4967-be81-3ffb2c9ef0dc",
   "metadata": {},
   "source": [
    "## 14. Nested functions <a class=\"anchor\" id=\"bullet13\"></a>"
   ]
  },
  {
   "cell_type": "markdown",
   "id": "8a00c6e0-2afd-4772-bcdc-d0712f3d5c80",
   "metadata": {},
   "source": [
    "Once we get to nested functions, there are now 4+ level of scopes since the encolosing function is now part of the picture."
   ]
  },
  {
   "cell_type": "code",
   "execution_count": null,
   "id": "b8eb5d48-42b8-4eeb-a9f2-dd86396bdd22",
   "metadata": {},
   "outputs": [],
   "source": [
    "def outer(...):\n",
    "    \n",
    "    x = ...\n",
    "    \n",
    "    def inner(...):\n",
    "        y = x ** 2\n",
    "    return ...."
   ]
  },
  {
   "cell_type": "markdown",
   "id": "8ea291d7-c61e-440f-a93c-5f10f18f07e8",
   "metadata": {},
   "source": [
    "Above, we can see that each time the outer function is called, it will create the inner function to use during that function's execution. \n",
    "\n",
    "For the inner() function, when it starts searching for x it first looks within the local scope of the inner function. If it doesn't find x there, then it continues searching in the outer function. We call this outer function and **enclosing function**, since it encloses the inner() function. If Python still cannot find x in the outer() function, it then searches the global scope, and then the built-in scope.\n",
    "\n",
    "**Question:** Why nest functions?  \n",
    "**Answer:** What if you need to run some calculation many times? Your code will not scale well unless it runs on function calls to automate a set of intermediary steps. "
   ]
  },
  {
   "cell_type": "code",
   "execution_count": 7,
   "id": "69559521-7274-4219-9503-9ea83ff2a5fa",
   "metadata": {},
   "outputs": [
    {
     "name": "stdout",
     "output_type": "stream",
     "text": [
      "9 27\n"
     ]
    }
   ],
   "source": [
    "# Nesting functions: Returning functions\n",
    "def raise_val(n):\n",
    "    \n",
    "    def inner(x):\n",
    "        raised = x ** n\n",
    "        return raised\n",
    "    \n",
    "    return inner\n",
    "square = raise_val(2)  # Create the function square(), which squares any number\n",
    "cube   = raise_val(3)  # Create the function cube(), which cubes any number\n",
    "print(square(3), cube(3))"
   ]
  },
  {
   "cell_type": "code",
   "execution_count": null,
   "id": "450da8ea-2514-40d6-9393-9dd092f54faf",
   "metadata": {},
   "outputs": [],
   "source": []
  }
 ],
 "metadata": {
  "kernelspec": {
   "display_name": "Python 3 (ipykernel)",
   "language": "python",
   "name": "python3"
  },
  "language_info": {
   "codemirror_mode": {
    "name": "ipython",
    "version": 3
   },
   "file_extension": ".py",
   "mimetype": "text/x-python",
   "name": "python",
   "nbconvert_exporter": "python",
   "pygments_lexer": "ipython3",
   "version": "3.9.13"
  }
 },
 "nbformat": 4,
 "nbformat_minor": 5
}
