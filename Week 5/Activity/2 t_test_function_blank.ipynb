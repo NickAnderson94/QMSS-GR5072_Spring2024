{
 "cells": [
  {
   "cell_type": "markdown",
   "id": "348a6277",
   "metadata": {},
   "source": [
    "## 0. Setup"
   ]
  },
  {
   "cell_type": "code",
   "execution_count": 1,
   "id": "f2035e1d",
   "metadata": {},
   "outputs": [],
   "source": [
    "# import libraries we need\n",
    "import pandas as pd\n",
    "import numpy as np\n",
    "import scipy.stats as stats"
   ]
  },
  {
   "cell_type": "markdown",
   "id": "01bb8dfe",
   "metadata": {},
   "source": [
    "## 1. Create t_test function"
   ]
  },
  {
   "cell_type": "code",
   "execution_count": 2,
   "id": "788920da",
   "metadata": {},
   "outputs": [],
   "source": [
    "# Create t-test function\n",
    "def t_test(num_var, bin_var):  \n",
    "    \n",
    "    # Calculate the mean difference between the two groups\n",
    "    group1 = \n",
    "    group2 = \n",
    "    mean_diff = \n",
    "    \n",
    "    # Calculate the sample sizes and sample variances of the two groups\n",
    "    n1 = \n",
    "    n2 = \n",
    "    s2_1 = \n",
    "    s2_2 = \n",
    "    \n",
    "    # Calculate the degrees of freedom (DF)\n",
    "    DF = \n",
    "    \n",
    "    # Calculate the pooled standard deviation (sp)\n",
    "    sp = \n",
    "    \n",
    "    # Calculate the standard error of the mean difference\n",
    "    SE_mean_diff = \n",
    "    \n",
    "    # Calculate the t-statistic\n",
    "    t_statistic = \n",
    "    \n",
    "    # Calculate the p-value\n",
    "    p_value = 2 * (1 - stats.t.cdf(np.abs(t_statistic), DF))\n",
    "    \n",
    "    # Put the results into a DataFrame\n",
    "    results = \n",
    "    \n",
    "    return results\n"
   ]
  },
  {
   "cell_type": "markdown",
   "id": "4990742d",
   "metadata": {},
   "source": [
    "## 2. Compare the result"
   ]
  },
  {
   "cell_type": "code",
   "execution_count": 11,
   "id": "2fbe7094",
   "metadata": {},
   "outputs": [
    {
     "name": "stdout",
     "output_type": "stream",
     "text": [
      "Ttest_indResult(statistic=-7.457945705706778, pvalue=1.0040955835124666e-13)\n"
     ]
    }
   ],
   "source": [
    "# import data \n",
    "path = r\"C:\\Users\\nicho\\Desktop\\1 Modern Data Structures - GR5072\\QMSS-GR5072_Spring2024\\Week 5\\Activity\"\n",
    "data = pd.read_csv(path + r\"\\3 ged_data.csv\")  \n",
    "\n",
    "# result from ttest_ind\n",
    "output1 = stats.ttest_ind(data['income_log'][data['ged'] == 1], data['income_log'][data['ged'] == 0])  \n",
    "\n",
    "# result from t_test function \n",
    "\n",
    "\n",
    "print(output1) "
   ]
  },
  {
   "cell_type": "code",
   "execution_count": 32,
   "id": "5ab363cd",
   "metadata": {},
   "outputs": [
    {
     "data": {
      "text/html": [
       "<div>\n",
       "<style scoped>\n",
       "    .dataframe tbody tr th:only-of-type {\n",
       "        vertical-align: middle;\n",
       "    }\n",
       "\n",
       "    .dataframe tbody tr th {\n",
       "        vertical-align: top;\n",
       "    }\n",
       "\n",
       "    .dataframe thead th {\n",
       "        text-align: right;\n",
       "    }\n",
       "</style>\n",
       "<table border=\"1\" class=\"dataframe\">\n",
       "  <thead>\n",
       "    <tr style=\"text-align: right;\">\n",
       "      <th></th>\n",
       "      <th>Continuous Variable</th>\n",
       "      <th>Binary Variable</th>\n",
       "      <th>Total Sample Size</th>\n",
       "      <th>Mean Difference</th>\n",
       "      <th>SE of Mean Difference</th>\n",
       "      <th>DF</th>\n",
       "      <th>t-statistic</th>\n",
       "      <th>P-value</th>\n",
       "    </tr>\n",
       "  </thead>\n",
       "  <tbody>\n",
       "    <tr>\n",
       "      <th>0</th>\n",
       "      <td>income</td>\n",
       "      <td>ged</td>\n",
       "      <td>5976</td>\n",
       "      <td>-0.48</td>\n",
       "      <td>0.06</td>\n",
       "      <td>5974</td>\n",
       "      <td>-7.458</td>\n",
       "      <td>0.000</td>\n",
       "    </tr>\n",
       "  </tbody>\n",
       "</table>\n",
       "</div>"
      ],
      "text/plain": [
       "  Continuous Variable Binary Variable  Total Sample Size  Mean Difference  \\\n",
       "0              income             ged               5976            -0.48   \n",
       "\n",
       "   SE of Mean Difference    DF  t-statistic P-value  \n",
       "0                   0.06  5974       -7.458   0.000  "
      ]
     },
     "execution_count": 32,
     "metadata": {},
     "output_type": "execute_result"
    }
   ],
   "source": [
    "output2"
   ]
  },
  {
   "cell_type": "markdown",
   "id": "bc6c03fe",
   "metadata": {},
   "source": [
    "## 3.  Result Analysis"
   ]
  },
  {
   "cell_type": "markdown",
   "id": "06d9c3e4",
   "metadata": {},
   "source": []
  },
  {
   "cell_type": "markdown",
   "id": "fc8b7888",
   "metadata": {},
   "source": [
    "## 4. Three Additional Tests"
   ]
  },
  {
   "cell_type": "code",
   "execution_count": 12,
   "id": "392ca2a6",
   "metadata": {},
   "outputs": [],
   "source": [
    "# Test 1: Income and high_school_grad\n",
    "\n",
    "\n",
    "# Test 2: Income and female\n",
    "\n",
    "\n",
    "# Test 3: Post_sec and female\n"
   ]
  },
  {
   "cell_type": "code",
   "execution_count": 35,
   "id": "5760e3ff",
   "metadata": {},
   "outputs": [
    {
     "data": {
      "text/html": [
       "<div>\n",
       "<style scoped>\n",
       "    .dataframe tbody tr th:only-of-type {\n",
       "        vertical-align: middle;\n",
       "    }\n",
       "\n",
       "    .dataframe tbody tr th {\n",
       "        vertical-align: top;\n",
       "    }\n",
       "\n",
       "    .dataframe thead th {\n",
       "        text-align: right;\n",
       "    }\n",
       "</style>\n",
       "<table border=\"1\" class=\"dataframe\">\n",
       "  <thead>\n",
       "    <tr style=\"text-align: right;\">\n",
       "      <th></th>\n",
       "      <th>Continuous Variable</th>\n",
       "      <th>Binary Variable</th>\n",
       "      <th>Total Sample Size</th>\n",
       "      <th>Mean Difference</th>\n",
       "      <th>SE of Mean Difference</th>\n",
       "      <th>DF</th>\n",
       "      <th>t-statistic</th>\n",
       "      <th>P-value</th>\n",
       "    </tr>\n",
       "  </thead>\n",
       "  <tbody>\n",
       "    <tr>\n",
       "      <th>0</th>\n",
       "      <td>income</td>\n",
       "      <td>high_school_grad</td>\n",
       "      <td>5976</td>\n",
       "      <td>0.5</td>\n",
       "      <td>0.05</td>\n",
       "      <td>5974</td>\n",
       "      <td>11.131</td>\n",
       "      <td>0.000</td>\n",
       "    </tr>\n",
       "  </tbody>\n",
       "</table>\n",
       "</div>"
      ],
      "text/plain": [
       "  Continuous Variable   Binary Variable  Total Sample Size  Mean Difference  \\\n",
       "0              income  high_school_grad               5976              0.5   \n",
       "\n",
       "   SE of Mean Difference    DF  t-statistic P-value  \n",
       "0                   0.05  5974       11.131   0.000  "
      ]
     },
     "execution_count": 35,
     "metadata": {},
     "output_type": "execute_result"
    }
   ],
   "source": [
    "results1"
   ]
  },
  {
   "cell_type": "code",
   "execution_count": 36,
   "id": "cc851c8d",
   "metadata": {},
   "outputs": [
    {
     "data": {
      "text/html": [
       "<div>\n",
       "<style scoped>\n",
       "    .dataframe tbody tr th:only-of-type {\n",
       "        vertical-align: middle;\n",
       "    }\n",
       "\n",
       "    .dataframe tbody tr th {\n",
       "        vertical-align: top;\n",
       "    }\n",
       "\n",
       "    .dataframe thead th {\n",
       "        text-align: right;\n",
       "    }\n",
       "</style>\n",
       "<table border=\"1\" class=\"dataframe\">\n",
       "  <thead>\n",
       "    <tr style=\"text-align: right;\">\n",
       "      <th></th>\n",
       "      <th>Continuous Variable</th>\n",
       "      <th>Binary Variable</th>\n",
       "      <th>Total Sample Size</th>\n",
       "      <th>Mean Difference</th>\n",
       "      <th>SE of Mean Difference</th>\n",
       "      <th>DF</th>\n",
       "      <th>t-statistic</th>\n",
       "      <th>P-value</th>\n",
       "    </tr>\n",
       "  </thead>\n",
       "  <tbody>\n",
       "    <tr>\n",
       "      <th>0</th>\n",
       "      <td>income</td>\n",
       "      <td>female</td>\n",
       "      <td>5976</td>\n",
       "      <td>-0.21</td>\n",
       "      <td>0.02</td>\n",
       "      <td>5974</td>\n",
       "      <td>-8.685</td>\n",
       "      <td>0.000</td>\n",
       "    </tr>\n",
       "  </tbody>\n",
       "</table>\n",
       "</div>"
      ],
      "text/plain": [
       "  Continuous Variable Binary Variable  Total Sample Size  Mean Difference  \\\n",
       "0              income          female               5976            -0.21   \n",
       "\n",
       "   SE of Mean Difference    DF  t-statistic P-value  \n",
       "0                   0.02  5974       -8.685   0.000  "
      ]
     },
     "execution_count": 36,
     "metadata": {},
     "output_type": "execute_result"
    }
   ],
   "source": [
    "results2"
   ]
  },
  {
   "cell_type": "code",
   "execution_count": 37,
   "id": "ad75b557",
   "metadata": {},
   "outputs": [
    {
     "data": {
      "text/html": [
       "<div>\n",
       "<style scoped>\n",
       "    .dataframe tbody tr th:only-of-type {\n",
       "        vertical-align: middle;\n",
       "    }\n",
       "\n",
       "    .dataframe tbody tr th {\n",
       "        vertical-align: top;\n",
       "    }\n",
       "\n",
       "    .dataframe thead th {\n",
       "        text-align: right;\n",
       "    }\n",
       "</style>\n",
       "<table border=\"1\" class=\"dataframe\">\n",
       "  <thead>\n",
       "    <tr style=\"text-align: right;\">\n",
       "      <th></th>\n",
       "      <th>Continuous Variable</th>\n",
       "      <th>Binary Variable</th>\n",
       "      <th>Total Sample Size</th>\n",
       "      <th>Mean Difference</th>\n",
       "      <th>SE of Mean Difference</th>\n",
       "      <th>DF</th>\n",
       "      <th>t-statistic</th>\n",
       "      <th>P-value</th>\n",
       "    </tr>\n",
       "  </thead>\n",
       "  <tbody>\n",
       "    <tr>\n",
       "      <th>0</th>\n",
       "      <td>post_sec_edu</td>\n",
       "      <td>female</td>\n",
       "      <td>5976</td>\n",
       "      <td>0.66</td>\n",
       "      <td>0.06</td>\n",
       "      <td>5974</td>\n",
       "      <td>11.628</td>\n",
       "      <td>0.000</td>\n",
       "    </tr>\n",
       "  </tbody>\n",
       "</table>\n",
       "</div>"
      ],
      "text/plain": [
       "  Continuous Variable Binary Variable  Total Sample Size  Mean Difference  \\\n",
       "0        post_sec_edu          female               5976             0.66   \n",
       "\n",
       "   SE of Mean Difference    DF  t-statistic P-value  \n",
       "0                   0.06  5974       11.628   0.000  "
      ]
     },
     "execution_count": 37,
     "metadata": {},
     "output_type": "execute_result"
    }
   ],
   "source": [
    "results3"
   ]
  },
  {
   "cell_type": "markdown",
   "id": "e0a9349e",
   "metadata": {},
   "source": [
    "## 5.  Linear Regression"
   ]
  },
  {
   "cell_type": "markdown",
   "id": "e1f046df",
   "metadata": {
    "tags": []
   },
   "source": [
    "### Result Comparison"
   ]
  },
  {
   "cell_type": "markdown",
   "id": "14844e8e",
   "metadata": {},
   "source": []
  },
  {
   "cell_type": "code",
   "execution_count": null,
   "id": "e868d4eb",
   "metadata": {},
   "outputs": [],
   "source": []
  },
  {
   "cell_type": "code",
   "execution_count": null,
   "id": "407a1416",
   "metadata": {},
   "outputs": [],
   "source": []
  }
 ],
 "metadata": {
  "kernelspec": {
   "display_name": "Python 3 (ipykernel)",
   "language": "python",
   "name": "python3"
  },
  "language_info": {
   "codemirror_mode": {
    "name": "ipython",
    "version": 3
   },
   "file_extension": ".py",
   "mimetype": "text/x-python",
   "name": "python",
   "nbconvert_exporter": "python",
   "pygments_lexer": "ipython3",
   "version": "3.9.13"
  }
 },
 "nbformat": 4,
 "nbformat_minor": 5
}
