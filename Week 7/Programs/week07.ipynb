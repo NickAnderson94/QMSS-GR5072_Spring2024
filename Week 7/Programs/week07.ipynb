{
 "cells": [
  {
   "cell_type": "markdown",
   "id": "d7b42540",
   "metadata": {},
   "source": [
    "# Week 7"
   ]
  },
  {
   "cell_type": "markdown",
   "id": "efbc6e94",
   "metadata": {},
   "source": [
    "### Table of Contents\n",
    "1. [Introduction to characters and strings](#bullet1)\n",
    "2. [Printing](#bullet2)\n",
    "3. [Count number of characters](#bullet3)\n",
    "4. [String manipulation](#bullet4)\n",
    "5. [Sets: Another Python Data Object](#bullet5)\n",
    "6. [Formatting Strings](#bullet6)\n",
    "7. [String manipulation with Regex](#bullet7)\n",
    "8. [Decorators](#bullet8)\n",
    "9. [Classes](#bullet9)\n",
    "10. [Modules](#bullet10)"
   ]
  },
  {
   "cell_type": "code",
   "execution_count": 1,
   "id": "0a1dfad8-b476-4417-bed0-ce38d71d1231",
   "metadata": {},
   "outputs": [],
   "source": [
    "import pandas as pd\n",
    "import numpy as np"
   ]
  },
  {
   "cell_type": "markdown",
   "id": "a01e8b9e",
   "metadata": {},
   "source": [
    "## 1. Introduction to characters and strings <a class=\"anchor\" id=\"bullet1\"></a>"
   ]
  },
  {
   "cell_type": "code",
   "execution_count": 3,
   "id": "b424f8b8",
   "metadata": {},
   "outputs": [],
   "source": [
    "# use quotation marks to assign a string/char to an object\n",
    "\n",
    "a = \"learning to create\"\n",
    "b = \"a\"\n",
    "c = 'character string'\n",
    "d = 3.14"
   ]
  },
  {
   "cell_type": "markdown",
   "id": "2fb70bfe-0b27-44a6-8467-6672ae57661a",
   "metadata": {},
   "source": [
    "##### You can use single or double qutation marks, it makes no difference. If you want quotation marks inside a string, then you have to pay a bit more attention"
   ]
  },
  {
   "cell_type": "code",
   "execution_count": 9,
   "id": "78cb59d6-35d4-4394-9c6a-d2f480658783",
   "metadata": {},
   "outputs": [
    {
     "name": "stdout",
     "output_type": "stream",
     "text": [
      "Steve jobs was a beliver in Da Vinci's saying \n",
      "'Simplicty is the ultimate sophistication.'\n"
     ]
    }
   ],
   "source": [
    "quote = \"Steve jobs was a beliver in Da Vinci's saying \\n'Simplicty is the ultimate sophistication.'\"\n",
    "print(quote)"
   ]
  },
  {
   "cell_type": "markdown",
   "id": "090a845a-34c4-4596-8018-f419efedba3b",
   "metadata": {
    "tags": []
   },
   "source": [
    "##### Check for string data objects with `type()`; convert objects to str with `str()`"
   ]
  },
  {
   "cell_type": "code",
   "execution_count": 10,
   "id": "e220e336",
   "metadata": {},
   "outputs": [
    {
     "name": "stdout",
     "output_type": "stream",
     "text": [
      "<class 'str'>\n",
      "<class 'float'>\n",
      "True\n",
      "False\n"
     ]
    }
   ],
   "source": [
    "print(type(a))\n",
    "print(type(d))\n",
    "print(type(a) == str)\n",
    "print(type(d) == str)"
   ]
  },
  {
   "cell_type": "code",
   "execution_count": 11,
   "id": "2eea23aa",
   "metadata": {},
   "outputs": [
    {
     "name": "stdout",
     "output_type": "stream",
     "text": [
      "3.14\n",
      "<class 'str'>\n"
     ]
    }
   ],
   "source": [
    "d = str(d)\n",
    "print(d)\n",
    "print(type(d))"
   ]
  },
  {
   "cell_type": "markdown",
   "id": "833cb4de",
   "metadata": {},
   "source": [
    "##### Ways to combine strings:"
   ]
  },
  {
   "cell_type": "code",
   "execution_count": 12,
   "id": "b3e8dfdd",
   "metadata": {},
   "outputs": [
    {
     "data": {
      "text/plain": [
       "'learning to createacharacter string'"
      ]
     },
     "execution_count": 12,
     "metadata": {},
     "output_type": "execute_result"
    }
   ],
   "source": [
    "a + b + c ## the join operator combines strings with a separator"
   ]
  },
  {
   "cell_type": "code",
   "execution_count": 13,
   "id": "12222694",
   "metadata": {},
   "outputs": [
    {
     "data": {
      "text/plain": [
       "'learning to create a character string'"
      ]
     },
     "execution_count": 13,
     "metadata": {},
     "output_type": "execute_result"
    }
   ],
   "source": [
    "a + ' ' + b + ' ' + c  # Same as above\n"
   ]
  },
  {
   "cell_type": "markdown",
   "id": "33b02991-29c3-49e0-8c5a-afbf3b462a3a",
   "metadata": {},
   "source": [
    "##### To use the + operator for string concatenation, the args must be a string"
   ]
  },
  {
   "cell_type": "code",
   "execution_count": 14,
   "id": "58c16ad6",
   "metadata": {},
   "outputs": [
    {
     "ename": "TypeError",
     "evalue": "can only concatenate str (not \"int\") to str",
     "output_type": "error",
     "traceback": [
      "\u001b[1;31m---------------------------------------------------------------------------\u001b[0m",
      "\u001b[1;31mTypeError\u001b[0m                                 Traceback (most recent call last)",
      "\u001b[1;32m~\\AppData\\Local\\Temp\\ipykernel_11968\\3247073754.py\u001b[0m in \u001b[0;36m<module>\u001b[1;34m\u001b[0m\n\u001b[1;32m----> 1\u001b[1;33m \u001b[1;34m'hello'\u001b[0m \u001b[1;33m+\u001b[0m \u001b[1;36m4\u001b[0m\u001b[1;33m\u001b[0m\u001b[1;33m\u001b[0m\u001b[0m\n\u001b[0m",
      "\u001b[1;31mTypeError\u001b[0m: can only concatenate str (not \"int\") to str"
     ]
    }
   ],
   "source": [
    "'hello' + 4"
   ]
  },
  {
   "cell_type": "code",
   "execution_count": 15,
   "id": "e254431b",
   "metadata": {},
   "outputs": [
    {
     "data": {
      "text/plain": [
       "'hello4'"
      ]
     },
     "execution_count": 15,
     "metadata": {},
     "output_type": "execute_result"
    }
   ],
   "source": [
    "### thus, we have to coerce numeric data types to be a string to concatenate \n",
    "'hello' + str(4)"
   ]
  },
  {
   "cell_type": "markdown",
   "id": "5c519fef-5760-437c-afee-9b6e96d0cb3e",
   "metadata": {},
   "source": [
    "##### join() function"
   ]
  },
  {
   "cell_type": "code",
   "execution_count": 16,
   "id": "df00c856",
   "metadata": {},
   "outputs": [
    {
     "data": {
      "text/plain": [
       "'learning to create a character string in Python Version 3.14'"
      ]
     },
     "execution_count": 16,
     "metadata": {},
     "output_type": "execute_result"
    }
   ],
   "source": [
    "\" \".join([a, b, c, \"in Python Version\" ,d])"
   ]
  },
  {
   "cell_type": "markdown",
   "id": "02cb956f",
   "metadata": {},
   "source": [
    "The `join()` function and `+` operator are the common ways you'll use to combine strings. However, there are three more ways to combine strings in older versions of Python. Link to resource: https://www.digitalocean.com/community/tutorials/python-string-concatenation"
   ]
  },
  {
   "cell_type": "markdown",
   "id": "ffbfc912",
   "metadata": {},
   "source": [
    "## 2. Printing <a class=\"anchor\" id=\"bullet2\"></a>"
   ]
  },
  {
   "cell_type": "markdown",
   "id": "f3b30b76-2a75-4d26-9157-733f3ed6841b",
   "metadata": {},
   "source": [
    "Whenever you write your own functions, there will often be messages or warnings that you want to print as the function executes. For these cases, you simply use the `print()` function."
   ]
  },
  {
   "cell_type": "markdown",
   "id": "38b8b47b-6eba-4f4e-b812-420f9c4a2bfa",
   "metadata": {},
   "source": [
    "__Escape characters__ help you change the behavior of printing a string text when there are cases that create issues. An escape character is a backslash (`\\`) followed by a character you want to insert. For example, suppose you wanted to use double quotes inside doublequote, then:"
   ]
  },
  {
   "cell_type": "code",
   "execution_count": 17,
   "id": "0ddf7ebf-470c-4987-8033-9e08b9f57129",
   "metadata": {},
   "outputs": [
    {
     "ename": "SyntaxError",
     "evalue": "invalid syntax (2847221345.py, line 1)",
     "output_type": "error",
     "traceback": [
      "\u001b[1;36m  File \u001b[1;32m\"C:\\Users\\nicho\\AppData\\Local\\Temp\\ipykernel_11968\\2847221345.py\"\u001b[1;36m, line \u001b[1;32m1\u001b[0m\n\u001b[1;33m    txt = \"We are the so-called \"Vikings\" from the north.\"  # produces an error\u001b[0m\n\u001b[1;37m                                 ^\u001b[0m\n\u001b[1;31mSyntaxError\u001b[0m\u001b[1;31m:\u001b[0m invalid syntax\n"
     ]
    }
   ],
   "source": [
    "txt = \"We are the so-called \"Vikings\" from the north.\"  # produces an error"
   ]
  },
  {
   "cell_type": "code",
   "execution_count": 18,
   "id": "6c3a4b68-1bbd-459d-b891-f5f5c00d1dba",
   "metadata": {},
   "outputs": [
    {
     "data": {
      "text/plain": [
       "'We are the so-called \"Vikings\" from the north.'"
      ]
     },
     "execution_count": 18,
     "metadata": {},
     "output_type": "execute_result"
    }
   ],
   "source": [
    "txt = \"We are the so-called \\\"Vikings\\\" from the north.\"  # use an escape character \\\" to get around this \n",
    "txt"
   ]
  },
  {
   "cell_type": "markdown",
   "id": "6bc00347-c9d7-4279-8731-6c2555cbff5d",
   "metadata": {},
   "source": [
    "And there are several other escape characters you will frequently see: \n",
    "\n",
    "`\\'` Single Quote  \n",
    "`\\\\` Backslash  \n",
    "`\\n` New Line  \n",
    "`\\r` Carriage Return  \n",
    "`\\t` Tab  \n",
    "`\\b` Backspace  "
   ]
  },
  {
   "cell_type": "code",
   "execution_count": 20,
   "id": "391472c5-d23b-4345-a429-4d227961d3b4",
   "metadata": {},
   "outputs": [
    {
     "data": {
      "text/plain": [
       "\"testing 'quotes'\""
      ]
     },
     "execution_count": 20,
     "metadata": {},
     "output_type": "execute_result"
    }
   ],
   "source": [
    "txt = 'testing \\'quotes\\''\n",
    "txt"
   ]
  },
  {
   "cell_type": "code",
   "execution_count": 21,
   "id": "aa0b4fd5-3f3d-4742-ad4e-93629c829e16",
   "metadata": {},
   "outputs": [
    {
     "data": {
      "text/plain": [
       "'testing \\nquotes'"
      ]
     },
     "execution_count": 21,
     "metadata": {},
     "output_type": "execute_result"
    }
   ],
   "source": [
    "txt = 'testing \\nquotes' # creates a string object with a next line escape character\n",
    "txt  # notice that the new line escape character is writen until the print function is called"
   ]
  },
  {
   "cell_type": "code",
   "execution_count": 22,
   "id": "df391f97-67ad-46a1-b3f8-200fc9ae365a",
   "metadata": {},
   "outputs": [
    {
     "name": "stdout",
     "output_type": "stream",
     "text": [
      "testing \n",
      "quotes\n"
     ]
    }
   ],
   "source": [
    "print(txt)"
   ]
  },
  {
   "cell_type": "code",
   "execution_count": 23,
   "id": "c6fa94b5-fb30-4aff-af33-7aaa5d3cfe90",
   "metadata": {},
   "outputs": [
    {
     "data": {
      "text/plain": [
       "'Python is included in CodeSpeedy\\r123456'"
      ]
     },
     "execution_count": 23,
     "metadata": {},
     "output_type": "execute_result"
    }
   ],
   "source": [
    "txt = 'Python is included in CodeSpeedy\\r123456'\n",
    "txt "
   ]
  },
  {
   "cell_type": "code",
   "execution_count": 24,
   "id": "df397c86-3cc9-40b6-bc9e-1468d0ecaec5",
   "metadata": {},
   "outputs": [
    {
     "name": "stdout",
     "output_type": "stream",
     "text": [
      "123456 is included in CodeSpeedy\n"
     ]
    }
   ],
   "source": [
    "print(txt) # Replaces start of string with the 123456 characters"
   ]
  },
  {
   "cell_type": "code",
   "execution_count": 25,
   "id": "0f5e07d7",
   "metadata": {},
   "outputs": [
    {
     "name": "stdout",
     "output_type": "stream",
     "text": [
      "Python is included in CodeSpeedy123456\n"
     ]
    }
   ],
   "source": [
    "txt = 'Python is included in CodeSpeedy \\b123456'\n",
    "print(txt)"
   ]
  },
  {
   "cell_type": "code",
   "execution_count": 26,
   "id": "4124a444-7ba4-4385-b4eb-dd9d12a815d1",
   "metadata": {},
   "outputs": [
    {
     "name": "stdout",
     "output_type": "stream",
     "text": [
      "Python is included in CodeSpeedy \t123456\n"
     ]
    }
   ],
   "source": [
    "txt = 'Python is included in CodeSpeedy \\t123456'\n",
    "print(txt)"
   ]
  },
  {
   "cell_type": "code",
   "execution_count": 27,
   "id": "3d6ec67f-13ab-485c-8fb3-a29838515f87",
   "metadata": {},
   "outputs": [],
   "source": [
    "import warnings"
   ]
  },
  {
   "cell_type": "code",
   "execution_count": 28,
   "id": "b2f13cf2-1bde-44d8-9b23-16165f6766bc",
   "metadata": {},
   "outputs": [
    {
     "name": "stderr",
     "output_type": "stream",
     "text": [
      "C:\\Users\\nicho\\AppData\\Local\\Temp\\ipykernel_11968\\623739084.py:1: UserWarning: Warning...........Message\n",
      "  warnings.warn(\"Warning...........Message\")  # Can embed these in functions too!\n"
     ]
    }
   ],
   "source": [
    "warnings.warn(\"Warning...........Message\")  # Can embed these in functions too!"
   ]
  },
  {
   "cell_type": "markdown",
   "id": "43a0570d-662c-4ce6-b6db-6585dc019576",
   "metadata": {},
   "source": [
    "Since the backslash character in a string introduces *escape sequences*, if you with to include a backslash in a string then you have to include two backslashes `\\\\`. This can make code harder to readh, so you can also use a raw string instead. This is particularly useful when you are copy-pasting directory locations. "
   ]
  },
  {
   "cell_type": "code",
   "execution_count": 29,
   "id": "f2a35e77-fa09-4553-a7d1-0ae218a0c36e",
   "metadata": {},
   "outputs": [
    {
     "name": "stdout",
     "output_type": "stream",
     "text": [
      "C:\\MyFolder\\MySubFolder\\MyFile.txt\n",
      "C:\\MyFolder\\MySubFolder\\MyFile.txt\n"
     ]
    }
   ],
   "source": [
    "# these two are equivalent\n",
    "path = 'C:\\\\MyFolder\\\\MySubFolder\\\\MyFile.txt' # to enter a single \\, we need to escape it so we need to use \\\\\n",
    "print(path)\n",
    "path = r'C:\\MyFolder\\MySubFolder\\MyFile.txt'   # notice the r placed in front of the string, making a raw string which ignores escape characters\n",
    "print(path)"
   ]
  },
  {
   "cell_type": "markdown",
   "id": "808ca187",
   "metadata": {},
   "source": [
    "## 3. Count number of characters<a class=\"anchor\" id=\"bullet3\"></a>"
   ]
  },
  {
   "cell_type": "code",
   "execution_count": 30,
   "id": "a2144beb",
   "metadata": {},
   "outputs": [
    {
     "data": {
      "text/plain": [
       "1"
      ]
     },
     "execution_count": 30,
     "metadata": {},
     "output_type": "execute_result"
    }
   ],
   "source": [
    "len(b)"
   ]
  },
  {
   "cell_type": "code",
   "execution_count": 31,
   "id": "ec7c7a9e-d53c-4cc6-84c2-d89860dbc9db",
   "metadata": {},
   "outputs": [
    {
     "data": {
      "text/plain": [
       "[5, 6, 2, 4, 7]"
      ]
     },
     "execution_count": 31,
     "metadata": {},
     "output_type": "execute_result"
    }
   ],
   "source": [
    "list1 = [\"Count\", \"length\", \"of\", \"each\", \"element\"]\n",
    "[len(x) for x in list1]"
   ]
  },
  {
   "cell_type": "markdown",
   "id": "eb8acb95",
   "metadata": {},
   "source": [
    "## 4. String Manipulation<a class=\"anchor\" id=\"bullet4\"></a>"
   ]
  },
  {
   "cell_type": "markdown",
   "id": "2188240a-b34c-419e-9543-6234005aa4ac",
   "metadata": {},
   "source": [
    "##### Case conversion"
   ]
  },
  {
   "cell_type": "code",
   "execution_count": 32,
   "id": "7871b677",
   "metadata": {},
   "outputs": [],
   "source": [
    "x = \"Learning To MANIPULATE strinGS in Python\""
   ]
  },
  {
   "cell_type": "code",
   "execution_count": 33,
   "id": "ae8ca1fe",
   "metadata": {},
   "outputs": [
    {
     "name": "stdout",
     "output_type": "stream",
     "text": [
      "learning to manipulate strings in python\n",
      "LEARNING TO MANIPULATE STRINGS IN PYTHON\n"
     ]
    }
   ],
   "source": [
    "# what does this do?\n",
    "print(x.lower())  # print in lower case\n",
    "print(x.upper())  # print in upper case"
   ]
  },
  {
   "cell_type": "markdown",
   "id": "244be2c1-a366-4be6-ad84-74cacbd31b00",
   "metadata": {},
   "source": [
    "Last week we learned about **camelCase** and **snake_case** as good practice when it comes to naming functions. Upper and lower case are best used for naming variables - I think most people prefer lower case.\n",
    "\n",
    "Note that there are many more *cases* you can use to name different types of objects or functions. You can read about all of them here. I personally think **kebab case** is good for naming repos on GitHub!"
   ]
  },
  {
   "cell_type": "markdown",
   "id": "936aa082-4cb5-450b-98c2-9f19e2136001",
   "metadata": {},
   "source": [
    "##### Subset a string"
   ]
  },
  {
   "cell_type": "code",
   "execution_count": 35,
   "id": "40c5e677",
   "metadata": {},
   "outputs": [
    {
     "data": {
      "text/plain": [
       "'a'"
      ]
     },
     "execution_count": 35,
     "metadata": {},
     "output_type": "execute_result"
    }
   ],
   "source": [
    "# extract the 3rd character in string\n",
    "x[2]"
   ]
  },
  {
   "cell_type": "code",
   "execution_count": 36,
   "id": "90831fad",
   "metadata": {},
   "outputs": [
    {
     "data": {
      "text/plain": [
       "'MANIPULATE'"
      ]
     },
     "execution_count": 36,
     "metadata": {},
     "output_type": "execute_result"
    }
   ],
   "source": [
    "# extract multiple characters/a substring in a string\n",
    "x[12:22]"
   ]
  },
  {
   "cell_type": "markdown",
   "id": "7848adf0-9d7f-431f-b154-e971ff99a217",
   "metadata": {},
   "source": [
    "##### Other useful string methods/functions"
   ]
  },
  {
   "cell_type": "code",
   "execution_count": 37,
   "id": "950757b1",
   "metadata": {},
   "outputs": [
    {
     "data": {
      "text/plain": [
       "'Learning To change strinGS in Python'"
      ]
     },
     "execution_count": 37,
     "metadata": {},
     "output_type": "execute_result"
    }
   ],
   "source": [
    "# replace a character/substring\n",
    "x.replace('MANIPULATE', 'change')"
   ]
  },
  {
   "cell_type": "code",
   "execution_count": 38,
   "id": "91ebf8e9",
   "metadata": {},
   "outputs": [
    {
     "data": {
      "text/plain": [
       "['Learning', 'To', 'MANIPULATE', 'strinGS', 'in', 'Python']"
      ]
     },
     "execution_count": 38,
     "metadata": {},
     "output_type": "execute_result"
    }
   ],
   "source": [
    "# split elements of a string\n",
    "x.split()"
   ]
  },
  {
   "cell_type": "code",
   "execution_count": 39,
   "id": "69a5c4b5",
   "metadata": {},
   "outputs": [
    {
     "data": {
      "text/plain": [
       "['Alabama', 'Alaska', 'Arizona', 'Arkansas', 'California']"
      ]
     },
     "execution_count": 39,
     "metadata": {},
     "output_type": "execute_result"
    }
   ],
   "source": [
    "y = \"Alabama-Alaska-Arizona-Arkansas-California\"\n",
    "y.split(sep='-')"
   ]
  },
  {
   "cell_type": "code",
   "execution_count": 43,
   "id": "5a520e12-8c4c-48ca-ab5c-ac7f3fc266bd",
   "metadata": {},
   "outputs": [
    {
     "data": {
      "text/plain": [
       "['id1', 'id2', 'id3', 'id4', 'id5', 'id6', 'id7', 'id8', 'id9', 'id10']"
      ]
     },
     "execution_count": 43,
     "metadata": {},
     "output_type": "execute_result"
    }
   ],
   "source": [
    "[ (\"id\" + str(x)) for x in range(1,11)]  # iterate from 1-10  (since the ending 11 index here is NOT inclusive)"
   ]
  },
  {
   "cell_type": "code",
   "execution_count": 44,
   "id": "6e4bb2b5-f6fa-409e-a2dc-4d2ebf1ac74e",
   "metadata": {},
   "outputs": [
    {
     "data": {
      "text/plain": [
       "['test string', 'test string', 'test string', 'test string']"
      ]
     },
     "execution_count": 44,
     "metadata": {},
     "output_type": "execute_result"
    }
   ],
   "source": [
    "[\"test string\"] * 4   # repeat string n times"
   ]
  },
  {
   "cell_type": "code",
   "execution_count": 46,
   "id": "4a275155-d2cf-4df8-8d91-dda39c08fa5f",
   "metadata": {},
   "outputs": [
    {
     "data": {
      "text/plain": [
       "array(['test', 'test', 'test', 'string', 'string', 'string'], dtype='<U6')"
      ]
     },
     "execution_count": 46,
     "metadata": {},
     "output_type": "execute_result"
    }
   ],
   "source": [
    "x = [\"test\", \"string\"]\n",
    "y = np.repeat(x, 3)\n",
    "y"
   ]
  },
  {
   "cell_type": "code",
   "execution_count": 48,
   "id": "52ab60c5-5aed-45bd-a759-601a54a17155",
   "metadata": {},
   "outputs": [
    {
     "data": {
      "text/plain": [
       "numpy.ndarray"
      ]
     },
     "execution_count": 48,
     "metadata": {},
     "output_type": "execute_result"
    }
   ],
   "source": [
    "type(y) # we used a numpy function, and so we got back a numpy object"
   ]
  },
  {
   "cell_type": "code",
   "execution_count": 49,
   "id": "68ff2ab6-e7c1-40f7-8250-6cfe9c2e410c",
   "metadata": {},
   "outputs": [
    {
     "name": "stdout",
     "output_type": "stream",
     "text": [
      "Hello World!\n",
      "o World!\n",
      "Hello World!\n",
      "  Hello World!\n",
      "Hello World!  \n"
     ]
    }
   ],
   "source": [
    "# Remove white space or special characters on left/right of string\n",
    "print('  Hello World!  '.strip())\n",
    "print('  Hello World!  '.strip(\" Hel\"))\n",
    "print('  Hello World!  '.strip(\" lo\"))\n",
    "print('  Hello World!  '.rstrip())\n",
    "print('  Hello World!  '.lstrip())"
   ]
  },
  {
   "cell_type": "markdown",
   "id": "07d9c950-a00e-4c6f-87fa-c17ee459cd48",
   "metadata": {},
   "source": [
    "## 5. Sets: Another Python Data Object <a class=\"anchor\" id=\"bullet5\"></a>"
   ]
  },
  {
   "cell_type": "markdown",
   "id": "21c45aae-b9ff-4f8b-8e6b-fb0c6a98f364",
   "metadata": {},
   "source": [
    "Sometimes you want to get the __union__, __intersection__, or the __difference__ between two string lists/arrays. Base Python has a built in data type called __sets__ which are particularly useful here. You define a set the same way you do a list, except you use `{}` rather than `[]`."
   ]
  },
  {
   "cell_type": "code",
   "execution_count": 50,
   "id": "41194f47-801b-4213-a264-908948e1788c",
   "metadata": {},
   "outputs": [
    {
     "data": {
      "text/plain": [
       "set"
      ]
     },
     "execution_count": 50,
     "metadata": {},
     "output_type": "execute_result"
    }
   ],
   "source": [
    "x = {\"apple\", \"banana\", \"cherry\"}\n",
    "type(x)"
   ]
  },
  {
   "cell_type": "code",
   "execution_count": 51,
   "id": "339c6638-dc0c-4f1c-b295-4087f8ad55d8",
   "metadata": {},
   "outputs": [
    {
     "name": "stdout",
     "output_type": "stream",
     "text": [
      "{'banana', 'google', 'cherry', 'apple', 'microsoft'}\n"
     ]
    }
   ],
   "source": [
    "# Unions\n",
    "x = {\"apple\", \"banana\", \"cherry\"}\n",
    "y = {\"google\", \"microsoft\", \"apple\"}\n",
    "z = x.union(y)\n",
    "print(z)"
   ]
  },
  {
   "cell_type": "code",
   "execution_count": 52,
   "id": "e4a4056d-99ee-4732-b5e0-c9f3750ffdd2",
   "metadata": {},
   "outputs": [
    {
     "data": {
      "text/plain": [
       "{'apple'}"
      ]
     },
     "execution_count": 52,
     "metadata": {},
     "output_type": "execute_result"
    }
   ],
   "source": [
    "# Intersection\n",
    "x.intersection(y)"
   ]
  },
  {
   "cell_type": "code",
   "execution_count": 53,
   "id": "fdacc586-9169-420b-9afd-9b0b0b1680b0",
   "metadata": {},
   "outputs": [
    {
     "data": {
      "text/plain": [
       "{'banana', 'cherry'}"
      ]
     },
     "execution_count": 53,
     "metadata": {},
     "output_type": "execute_result"
    }
   ],
   "source": [
    "# Difference -- shows the elements in the left set that are not in the right set\n",
    "x.difference(y)"
   ]
  },
  {
   "cell_type": "code",
   "execution_count": 54,
   "id": "b71d389b-abf0-4315-a17f-ca2052f183f5",
   "metadata": {},
   "outputs": [
    {
     "data": {
      "text/plain": [
       "{'google', 'microsoft'}"
      ]
     },
     "execution_count": 54,
     "metadata": {},
     "output_type": "execute_result"
    }
   ],
   "source": [
    "y.difference(x)"
   ]
  },
  {
   "cell_type": "code",
   "execution_count": 55,
   "id": "7cf1d447-f899-4521-b98c-33d683baf384",
   "metadata": {},
   "outputs": [
    {
     "data": {
      "text/plain": [
       "{'banana', 'cherry', 'google', 'microsoft'}"
      ]
     },
     "execution_count": 55,
     "metadata": {},
     "output_type": "execute_result"
    }
   ],
   "source": [
    "# Symmetric difference -- shows all differences\n",
    "y.symmetric_difference(x)"
   ]
  },
  {
   "cell_type": "code",
   "execution_count": 56,
   "id": "18685546-2d83-4f34-bd45-504fde579a83",
   "metadata": {},
   "outputs": [
    {
     "data": {
      "text/plain": [
       "False"
      ]
     },
     "execution_count": 56,
     "metadata": {},
     "output_type": "execute_result"
    }
   ],
   "source": [
    "# You can also check if two sets are disjoint, that is whether the two sets share ANY common elements\n",
    "x.isdisjoint(z)"
   ]
  },
  {
   "cell_type": "code",
   "execution_count": 57,
   "id": "4a4095cd-4f39-41f4-a666-d3ff37e19214",
   "metadata": {},
   "outputs": [
    {
     "name": "stdout",
     "output_type": "stream",
     "text": [
      "{'banana', 'google', 'cherry', 'apple', 'microsoft'}\n",
      "{'apple'}\n",
      "{'banana', 'cherry'}\n",
      "{'cherry', 'google', 'banana', 'microsoft'}\n"
     ]
    }
   ],
   "source": [
    "# There are also shortcuts to all the operations above!\n",
    "print(x | y)    # Union\n",
    "print(x & y)    # Intersection\n",
    "print(x - y)    # Difference\n",
    "print(x ^ y)    # Symmetric Difference"
   ]
  },
  {
   "cell_type": "markdown",
   "id": "422521f6-22aa-4c7a-8f60-6f8fcdf229b8",
   "metadata": {},
   "source": [
    "## 6. Formatting strings <a class=\"anchor\" id=\"bullet6\"></a>"
   ]
  },
  {
   "cell_type": "markdown",
   "id": "6cbc1713-c941-4d7d-ba71-ec25ae0dc597",
   "metadata": {},
   "source": [
    "Before Python 3.6, you had two main ways of embedding Python expressions inside string literals for formatting: __%-formatting__ and __str.format()__. As of Python 3.6, __f-strings__ are a great new way to format strings. Not only are they more readable, but they are more concise and less prone to error than other ways of formatting. On top of that, they are also faster!"
   ]
  },
  {
   "cell_type": "code",
   "execution_count": 62,
   "id": "3b54aedb-6ea3-4f81-840b-adc84ddc0c8b",
   "metadata": {},
   "outputs": [
    {
     "data": {
      "text/plain": [
       "0.008942799999658746"
      ]
     },
     "execution_count": 62,
     "metadata": {},
     "output_type": "execute_result"
    }
   ],
   "source": [
    "import timeit\n",
    "timeit.timeit(\"\"\"name = \"Eric\"\n",
    "age = 74\n",
    "'%s is %s.' % (name, age)\"\"\", number = 10000)"
   ]
  },
  {
   "cell_type": "code",
   "execution_count": 64,
   "id": "d4acf976-6f97-4769-a24b-e40d8f450d85",
   "metadata": {},
   "outputs": [
    {
     "data": {
      "text/plain": [
       "0.004069300000082876"
      ]
     },
     "execution_count": 64,
     "metadata": {},
     "output_type": "execute_result"
    }
   ],
   "source": [
    "# Notice this is a lot faster!\n",
    "timeit.timeit(\"\"\"name = \"Eric\"\n",
    "age = 74\n",
    "f'{name} is {age}.'\"\"\", number = 10000)"
   ]
  },
  {
   "cell_type": "code",
   "execution_count": 65,
   "id": "c3ed641d-d46f-4ac9-8aee-434e5f6efff5",
   "metadata": {},
   "outputs": [
    {
     "data": {
      "text/plain": [
       "'Hello, Eric. You are 74.'"
      ]
     },
     "execution_count": 65,
     "metadata": {},
     "output_type": "execute_result"
    }
   ],
   "source": [
    "name = \"Eric\"\n",
    "age = 74\n",
    "f\"Hello, {name}. You are {age}.\""
   ]
  },
  {
   "cell_type": "code",
   "execution_count": 66,
   "id": "3d5c9956-0bfe-41da-9ad8-bc0a2817e0c3",
   "metadata": {},
   "outputs": [
    {
     "data": {
      "text/plain": [
       "'74 pints'"
      ]
     },
     "execution_count": 66,
     "metadata": {},
     "output_type": "execute_result"
    }
   ],
   "source": [
    "# You can also perform mathematical calculations inside f-strings\n",
    "f\"{2 * 37} pints\""
   ]
  },
  {
   "cell_type": "code",
   "execution_count": 67,
   "id": "c134419b-a43b-4609-a072-ae1e62c7f591",
   "metadata": {},
   "outputs": [
    {
     "data": {
      "text/plain": [
       "'eric idle is funny.'"
      ]
     },
     "execution_count": 67,
     "metadata": {},
     "output_type": "execute_result"
    }
   ],
   "source": [
    "# And use functions/methods\n",
    "name = \"Eric Idle\"\n",
    "f\"{name.lower()} is funny.\""
   ]
  },
  {
   "cell_type": "code",
   "execution_count": 68,
   "id": "75c69e89-1273-46b2-9645-3c3709b21156",
   "metadata": {},
   "outputs": [
    {
     "data": {
      "text/plain": [
       "'Hi Eric. You are a comedian. You were in Monty Python.'"
      ]
     },
     "execution_count": 68,
     "metadata": {},
     "output_type": "execute_result"
    }
   ],
   "source": [
    "# Multiline f-strings  --> notice the f placed in front of each line, the code won't work without that!\n",
    "name = \"Eric\"\n",
    "profession = \"comedian\"\n",
    "affiliation = \"Monty Python\"\n",
    "message = (\n",
    "     f\"Hi {name}. \"\n",
    "     f\"You are a {profession}. \"\n",
    "     f\"You were in {affiliation}.\"\n",
    " )\n",
    "message"
   ]
  },
  {
   "cell_type": "markdown",
   "id": "e8d0a4a7-fe6c-4421-9dd5-ada86afb0d64",
   "metadata": {},
   "source": [
    "<div class=\"alert alert-block alert-info\">\n",
    "<b>Did you know?:</b> Python was actually named after the movie Monty Python's Flying! Circus</div>"
   ]
  },
  {
   "cell_type": "code",
   "execution_count": 69,
   "id": "e89cc3a8-b9a5-4145-b28f-7030a0a127c1",
   "metadata": {},
   "outputs": [
    {
     "data": {
      "text/plain": [
       "'The comedian is Eric Idle, aged 74.'"
      ]
     },
     "execution_count": 69,
     "metadata": {},
     "output_type": "execute_result"
    }
   ],
   "source": [
    "# You can use these with dictionaries\n",
    "comedian = {'name': 'Eric Idle', 'age': 74}\n",
    "f\"The comedian is {comedian['name']}, aged {comedian['age']}.\""
   ]
  },
  {
   "cell_type": "code",
   "execution_count": 72,
   "id": "82e2ab32-b839-413e-ae8e-415df703fcd4",
   "metadata": {},
   "outputs": [
    {
     "data": {
      "text/plain": [
       "'{70 + 4}'"
      ]
     },
     "execution_count": 72,
     "metadata": {},
     "output_type": "execute_result"
    }
   ],
   "source": [
    "# if you want the curly braces to appear, double them up!\n",
    "f\"{{70 + 4}}\""
   ]
  },
  {
   "cell_type": "markdown",
   "id": "b0cd9898-aab7-45a2-b7b9-1aba904f898b",
   "metadata": {},
   "source": [
    "#### Formatting inside f-strings"
   ]
  },
  {
   "cell_type": "markdown",
   "id": "b5948c7f-b5f6-41f7-9868-ce30d14d23f5",
   "metadata": {},
   "source": [
    "By default, Python assumes you want to display the the values as a string. But sometimes, you will want to specify another type. For example, you might want to round a float to 2 decimal places. In the code below, the f (after the .2) is called a __presentation type__, it indicates that you want Python to print the result as a float rounded to 2 decimals."
   ]
  },
  {
   "cell_type": "code",
   "execution_count": 73,
   "id": "07fc3fc9-7a9b-4908-b6dd-40217c87fb88",
   "metadata": {},
   "outputs": [
    {
     "data": {
      "text/plain": [
       "'17.49'"
      ]
     },
     "execution_count": 73,
     "metadata": {},
     "output_type": "execute_result"
    }
   ],
   "source": [
    "x = 17.489\n",
    "f'{x:.2f}'  "
   ]
  },
  {
   "cell_type": "markdown",
   "id": "9da34681-1e1c-4b6b-a520-6e30f9fb153e",
   "metadata": {},
   "source": [
    "The __d presentation type__ prints integer values as strings."
   ]
  },
  {
   "cell_type": "code",
   "execution_count": 74,
   "id": "b547255e-3198-4436-b270-eda0338b097f",
   "metadata": {},
   "outputs": [
    {
     "data": {
      "text/plain": [
       "'10'"
      ]
     },
     "execution_count": 74,
     "metadata": {},
     "output_type": "execute_result"
    }
   ],
   "source": [
    "f'{10:d}'"
   ]
  },
  {
   "cell_type": "markdown",
   "id": "baeaf75a-0121-45ae-a9d1-e1131f852317",
   "metadata": {},
   "source": [
    "The __c presentation type__ prints an integer character code as the corresponding string."
   ]
  },
  {
   "cell_type": "code",
   "execution_count": 75,
   "id": "f4032ba3-6739-461c-8c8e-74c549675d12",
   "metadata": {},
   "outputs": [
    {
     "data": {
      "text/plain": [
       "'A a'"
      ]
     },
     "execution_count": 75,
     "metadata": {},
     "output_type": "execute_result"
    }
   ],
   "source": [
    "f'{65:c} {97:c}'"
   ]
  },
  {
   "cell_type": "markdown",
   "id": "47f45273-f251-4a9c-b5cb-fa111db491c4",
   "metadata": {},
   "source": [
    "The __e presentation type__ prints exponential scientific notation."
   ]
  },
  {
   "cell_type": "code",
   "execution_count": 76,
   "id": "914836c7-1f94-41c1-9bcd-89a8c1fc44ee",
   "metadata": {},
   "outputs": [
    {
     "name": "stdout",
     "output_type": "stream",
     "text": [
      " 1.000e+21\n",
      " 1.000E+19\n"
     ]
    }
   ],
   "source": [
    "from decimal import Decimal\n",
    "print(f'{Decimal(\"1000000000000000000000.0\"): .3e}')\n",
    "print(f'{Decimal(\"10000000000000000000.0\"): .3E}')  # notice the Capital E"
   ]
  },
  {
   "cell_type": "markdown",
   "id": "e25cd278-9bee-4a5a-9b9f-71adc45a8167",
   "metadata": {},
   "source": [
    "The __s presentation type__ prints a string, this is the default."
   ]
  },
  {
   "cell_type": "code",
   "execution_count": 77,
   "id": "2720dd6e-317e-458e-bf1e-4f44640d9c28",
   "metadata": {},
   "outputs": [
    {
     "data": {
      "text/plain": [
       "'hello 7'"
      ]
     },
     "execution_count": 77,
     "metadata": {},
     "output_type": "execute_result"
    }
   ],
   "source": [
    "f'{\"hello\":s} {7}'"
   ]
  },
  {
   "cell_type": "code",
   "execution_count": 78,
   "id": "be8d23b5-e290-4e6d-bd04-ed4f5e626d85",
   "metadata": {},
   "outputs": [
    {
     "ename": "SyntaxError",
     "evalue": "f-string: expecting '}' (3754223557.py, line 1)",
     "output_type": "error",
     "traceback": [
      "\u001b[1;36m  File \u001b[1;32m\"C:\\Users\\nicho\\AppData\\Local\\Temp\\ipykernel_11968\\3754223557.py\"\u001b[1;36m, line \u001b[1;32m1\u001b[0m\n\u001b[1;33m    f'{'hello':s} {7}'  # note that you have to switch between double and single quotation marks to make this work!\u001b[0m\n\u001b[1;37m        ^\u001b[0m\n\u001b[1;31mSyntaxError\u001b[0m\u001b[1;31m:\u001b[0m f-string: expecting '}'\n"
     ]
    }
   ],
   "source": [
    "f'{'hello':s} {7}'  # note that you have to switch between double and single quotation marks to make this work!"
   ]
  },
  {
   "cell_type": "markdown",
   "id": "1519dd93-21b4-4e52-91bf-fe9e0627297a",
   "metadata": {},
   "source": [
    "##### By default, Python *right-aligns* numbers and *left-aligns* other values such as strings"
   ]
  },
  {
   "cell_type": "code",
   "execution_count": 79,
   "id": "bf267df5-c226-420b-a3a8-49f1615949b9",
   "metadata": {},
   "outputs": [
    {
     "data": {
      "text/plain": [
       "'        27'"
      ]
     },
     "execution_count": 79,
     "metadata": {},
     "output_type": "execute_result"
    }
   ],
   "source": [
    "f'{27:10d}'   # right-aligned with a width of 10 spaces"
   ]
  },
  {
   "cell_type": "code",
   "execution_count": 80,
   "id": "3b6d8e0d-0bbf-4aa2-bafc-08713cbab077",
   "metadata": {},
   "outputs": [
    {
     "data": {
      "text/plain": [
       "'  3.500000'"
      ]
     },
     "execution_count": 80,
     "metadata": {},
     "output_type": "execute_result"
    }
   ],
   "source": [
    "f'{3.5:10f}' # right-aligned with a width of 10 spaces"
   ]
  },
  {
   "cell_type": "code",
   "execution_count": 81,
   "id": "1cce17fe-fb2b-441c-8097-d25eac76a06a",
   "metadata": {},
   "outputs": [
    {
     "data": {
      "text/plain": [
       "'hello     '"
      ]
     },
     "execution_count": 81,
     "metadata": {},
     "output_type": "execute_result"
    }
   ],
   "source": [
    "f'{\"hello\":10}' # left-aligned with a width of 10 spaces"
   ]
  },
  {
   "cell_type": "markdown",
   "id": "034bb1bd-28e4-4fc3-93a7-bed136d5287d",
   "metadata": {},
   "source": [
    "##### You can modify this default behavior with the `<` (left-aligned) and `>` (right-aligned) symbols. You can also center values with the `^` symbol."
   ]
  },
  {
   "cell_type": "code",
   "execution_count": 82,
   "id": "9a68505f-7677-46cb-aa18-d3b27c27c40d",
   "metadata": {},
   "outputs": [
    {
     "data": {
      "text/plain": [
       "'27        '"
      ]
     },
     "execution_count": 82,
     "metadata": {},
     "output_type": "execute_result"
    }
   ],
   "source": [
    "f'{27:<10d}' "
   ]
  },
  {
   "cell_type": "code",
   "execution_count": 83,
   "id": "219cfa12-7501-4638-85f4-9035b7094689",
   "metadata": {},
   "outputs": [
    {
     "data": {
      "text/plain": [
       "'     Hello'"
      ]
     },
     "execution_count": 83,
     "metadata": {},
     "output_type": "execute_result"
    }
   ],
   "source": [
    "f'{\"Hello\":>10s}' "
   ]
  },
  {
   "cell_type": "code",
   "execution_count": 84,
   "id": "1f027bd7-3e2f-4dd9-ae61-6ae98e763889",
   "metadata": {},
   "outputs": [
    {
     "data": {
      "text/plain": [
       "'    27    '"
      ]
     },
     "execution_count": 84,
     "metadata": {},
     "output_type": "execute_result"
    }
   ],
   "source": [
    "f'{27:^10d}' "
   ]
  },
  {
   "cell_type": "markdown",
   "id": "523cd070-f657-4fde-9c94-d805e863f3e2",
   "metadata": {},
   "source": [
    "##### You can add a positive number sign too!"
   ]
  },
  {
   "cell_type": "code",
   "execution_count": 85,
   "id": "76f7f57c-6332-49db-8116-d94dfc8462bb",
   "metadata": {},
   "outputs": [
    {
     "data": {
      "text/plain": [
       "'       +27'"
      ]
     },
     "execution_count": 85,
     "metadata": {},
     "output_type": "execute_result"
    }
   ],
   "source": [
    "f'{27:+10d}' "
   ]
  },
  {
   "cell_type": "code",
   "execution_count": 86,
   "id": "15fd7423-7914-4bd1-a44b-9ae245e270b4",
   "metadata": {},
   "outputs": [
    {
     "data": {
      "text/plain": [
       "'+000000027'"
      ]
     },
     "execution_count": 86,
     "metadata": {},
     "output_type": "execute_result"
    }
   ],
   "source": [
    "f'{27:+010d}'    "
   ]
  },
  {
   "cell_type": "markdown",
   "id": "b99299f8-d669-4f78-857e-3999cf69265b",
   "metadata": {},
   "source": [
    "##### Use a space to make positive and negative numbers line up:"
   ]
  },
  {
   "cell_type": "code",
   "execution_count": 87,
   "id": "7436fa48-97a4-47e9-ba0d-b14b73c6be16",
   "metadata": {},
   "outputs": [
    {
     "name": "stdout",
     "output_type": "stream",
     "text": [
      "27\n",
      " 27\n",
      "-27\n"
     ]
    }
   ],
   "source": [
    "print(f'{27:d}\\n{27: d}\\n{-27: d}')"
   ]
  },
  {
   "cell_type": "markdown",
   "id": "0fe3a9de",
   "metadata": {},
   "source": [
    "## 7. String manipulation with Regex<a class=\"anchor\" id=\"bullet7\"></a>"
   ]
  },
  {
   "cell_type": "markdown",
   "id": "68fef27a",
   "metadata": {},
   "source": [
    "A **regular expression** (aka **regex**) is a sequence of characters that define a search pattern, mainly used for pattern matching with strings. Regex is a *universal* string manipulation library which is used in many differet software packages. For example, the equivalent in R is called stringr. \n",
    "\n",
    "There are a few main uses of regular expressions:\n",
    "1. **Validating data**, like e-mail addresses, ZIP codes, web page addresses, social security numbers etc. If this is what you need to do, you'll rarely have to create your own regular expressions. For common items like these, visit websites like:  \n",
    "    - https://regex101.com\n",
    "    - https://www.regexlib.com\n",
    "    - https://www.regular-expressions.info\n",
    "2. **Extracting data from text**, sometimes known as scrapping\n",
    "3. **Cleaning data**\n",
    "4. **Transforming data into other formats**, for example transforming data that was collected as tab-separated or space-separated into comma-separated values\n",
    "\n",
    "\n",
    "There are two things you need to learn to workwith regex in Python: (1) the syntax used for pattern matching and (2) the Python functions which use regex patterns to search strings. Typically, regex patterns consist of a combination of alphanumeric characters and also special characters, or metacharacters: `. \\ | ( ) [ { $ * + ?`. To match meta-characters, you need to escape them with a `\\`. We will start by learning about some of the more useful functions below."
   ]
  },
  {
   "cell_type": "code",
   "execution_count": 88,
   "id": "29702131",
   "metadata": {},
   "outputs": [],
   "source": [
    "import regex as re"
   ]
  },
  {
   "cell_type": "markdown",
   "id": "938947f2-c9cb-49ed-bb6c-e9f94456db77",
   "metadata": {},
   "source": [
    "##### Useful Functions"
   ]
  },
  {
   "cell_type": "code",
   "execution_count": 89,
   "id": "831f4220",
   "metadata": {},
   "outputs": [
    {
     "data": {
      "text/plain": [
       "'I love Python'"
      ]
     },
     "execution_count": 89,
     "metadata": {},
     "output_type": "execute_result"
    }
   ],
   "source": [
    "# re.sub function: Substitute one string for another\n",
    "txt = 'I love R'\n",
    "re.sub(pattern=\"R\", repl='Python', string=txt)"
   ]
  },
  {
   "cell_type": "code",
   "execution_count": 90,
   "id": "e6094498-f203-41d4-aa98-b79c52c411aa",
   "metadata": {},
   "outputs": [
    {
     "data": {
      "text/plain": [
       "['o', 'o', 'o', 'o']"
      ]
     },
     "execution_count": 90,
     "metadata": {},
     "output_type": "execute_result"
    }
   ],
   "source": [
    "# re.findall function: Returns all matches \n",
    "txt = 'I love R, and I also love Python'\n",
    "re.findall(\"o\", txt)"
   ]
  },
  {
   "cell_type": "code",
   "execution_count": 92,
   "id": "01782e94-4c59-414b-bd42-377dd99f949f",
   "metadata": {},
   "outputs": [
    {
     "name": "stdout",
     "output_type": "stream",
     "text": [
      "The first white-space character is located in position: 3\n"
     ]
    }
   ],
   "source": [
    "# re.search function: Returns index of a character pattern, but only for first occurence  \n",
    "txt = \"The rain in Spain\"\n",
    "x = re.search(\"\\s\", txt)\n",
    "print(\"The first white-space character is located in position:\", x.start())"
   ]
  },
  {
   "cell_type": "code",
   "execution_count": 93,
   "id": "ad67a96e-63ff-487f-8de6-bf83fb05ca92",
   "metadata": {},
   "outputs": [
    {
     "name": "stdout",
     "output_type": "stream",
     "text": [
      "['The', 'rain', 'in', 'Spain']\n",
      "['The', 'rain in Spain']\n"
     ]
    }
   ],
   "source": [
    "# re.split function: Split string based on a pattern\n",
    "txt = \"The rain in Spain\"\n",
    "x = re.split(\"\\s\", txt)\n",
    "print(x)\n",
    "print(re.split(\"\\s\", txt, 1)) # Split at first occurence only"
   ]
  },
  {
   "cell_type": "code",
   "execution_count": 94,
   "id": "1c7610a4-3971-45c0-b250-89d00f080418",
   "metadata": {},
   "outputs": [
    {
     "name": "stdout",
     "output_type": "stream",
     "text": [
      "<regex.Match object; span=(0, 3), match='The'>\n",
      "The\n"
     ]
    }
   ],
   "source": [
    "# re.match function: Returns a \"match\" object if a pattern is found at the beginning of a string\n",
    "x = re.match(\"The\", \"The rain in Spain\")\n",
    "print(x)\n",
    "print(x.group())  # returns the match"
   ]
  },
  {
   "cell_type": "markdown",
   "id": "ede8dbe3-d36f-4b04-b82c-88964a43e45d",
   "metadata": {},
   "source": [
    "##### Regex syntax"
   ]
  },
  {
   "cell_type": "code",
   "execution_count": 95,
   "id": "99c5538f",
   "metadata": {},
   "outputs": [
    {
     "data": {
      "text/plain": [
       "'I love Python!'"
      ]
     },
     "execution_count": 95,
     "metadata": {},
     "output_type": "execute_result"
    }
   ],
   "source": [
    "re.sub(\"\\\\$\", \"!\", \"I love Python$\")"
   ]
  },
  {
   "cell_type": "code",
   "execution_count": 96,
   "id": "8463f9a8-842a-49c6-8b1e-55688662503d",
   "metadata": {},
   "outputs": [
    {
     "data": {
      "text/plain": [
       "'I love Python$!'"
      ]
     },
     "execution_count": 96,
     "metadata": {},
     "output_type": "execute_result"
    }
   ],
   "source": [
    "re.sub(\"$\", \"!\", \"I love Python$\")  # didn't work as expected since we need to escape the $"
   ]
  },
  {
   "cell_type": "code",
   "execution_count": 97,
   "id": "1a17fbbc-ee3c-4177-8d5a-8fbdc2c227e9",
   "metadata": {},
   "outputs": [
    {
     "data": {
      "text/plain": [
       "'I love Python!'"
      ]
     },
     "execution_count": 97,
     "metadata": {},
     "output_type": "execute_result"
    }
   ],
   "source": [
    "re.sub(\"\\\\*\", \"!\", \"I love Python*\")"
   ]
  },
  {
   "cell_type": "code",
   "execution_count": 98,
   "id": "81a5264a-f00f-48f7-ad9b-f190910a3070",
   "metadata": {},
   "outputs": [
    {
     "data": {
      "text/plain": [
       "'I need space'"
      ]
     },
     "execution_count": 98,
     "metadata": {},
     "output_type": "execute_result"
    }
   ],
   "source": [
    "re.sub(\"\\\\\\\\\", \" \", \"I\\\\need\\\\space\") # to replace double \\\\, you have to escape twice!"
   ]
  },
  {
   "cell_type": "code",
   "execution_count": 99,
   "id": "c2ff78cf-7ce4-46fa-a965-926d382dca25",
   "metadata": {},
   "outputs": [
    {
     "data": {
      "text/plain": [
       "'I need space'"
      ]
     },
     "execution_count": 99,
     "metadata": {},
     "output_type": "execute_result"
    }
   ],
   "source": [
    "re.sub(r\"\\\\\", \" \", \"I\\\\need\\\\space\") #use a raw string to make the code easier to follow"
   ]
  },
  {
   "cell_type": "code",
   "execution_count": 100,
   "id": "420f77e6",
   "metadata": {},
   "outputs": [
    {
     "data": {
      "text/plain": [
       "\"I'm working in Python _.__._\""
      ]
     },
     "execution_count": 100,
     "metadata": {},
     "output_type": "execute_result"
    }
   ],
   "source": [
    "# substitute any digits\n",
    "re.sub(\"\\\\d\", '_', \"I'm working in Python 3.10.2\")"
   ]
  },
  {
   "cell_type": "code",
   "execution_count": 101,
   "id": "9a71688a",
   "metadata": {},
   "outputs": [
    {
     "data": {
      "text/plain": [
       "'______________________3_10_2'"
      ]
     },
     "execution_count": 101,
     "metadata": {},
     "output_type": "execute_result"
    }
   ],
   "source": [
    "# substitue any non-digits\n",
    "re.sub(\"\\\\D\", '_', \"I'm working in Python 3.10.2\")"
   ]
  },
  {
   "cell_type": "code",
   "execution_count": 102,
   "id": "635fde7b-3cd7-4c8d-9346-d2529cc47001",
   "metadata": {},
   "outputs": [
    {
     "data": {
      "text/plain": [
       "\"_'_ _______ __ ______ _.__._\""
      ]
     },
     "execution_count": 102,
     "metadata": {},
     "output_type": "execute_result"
    }
   ],
   "source": [
    "# substitute any alpha-numeric characters\n",
    "re.sub(\"\\\\w\", '_', \"I'm working in Python 3.10.2\")"
   ]
  },
  {
   "cell_type": "code",
   "execution_count": 103,
   "id": "f3b0c63a-11b7-48a7-bdd9-641dbba33f8a",
   "metadata": {},
   "outputs": [
    {
     "data": {
      "text/plain": [
       "'I_m_working_in_Python_3_10_2'"
      ]
     },
     "execution_count": 103,
     "metadata": {},
     "output_type": "execute_result"
    }
   ],
   "source": [
    "# substitute any non-alpha-numeric characters\n",
    "re.sub(\"\\\\W\", '_', \"I'm working in Python 3.10.2\")"
   ]
  },
  {
   "cell_type": "code",
   "execution_count": 104,
   "id": "3c9757c4-95ad-4251-93cf-bf7ffce8cc42",
   "metadata": {},
   "outputs": [
    {
     "data": {
      "text/plain": [
       "\"I'm_working_in_Python_3.10.2\""
      ]
     },
     "execution_count": 104,
     "metadata": {},
     "output_type": "execute_result"
    }
   ],
   "source": [
    "# substitute any white-space characters, including \\n, \\t, etc.\n",
    "re.sub(\"\\\\s\", '_', \"I'm working in Python 3.10.2\")"
   ]
  },
  {
   "cell_type": "code",
   "execution_count": 105,
   "id": "c3ed651d-9445-47dd-8219-843827ac135a",
   "metadata": {},
   "outputs": [
    {
     "data": {
      "text/plain": [
       "'___ _______ __ ______ ______'"
      ]
     },
     "execution_count": 105,
     "metadata": {},
     "output_type": "execute_result"
    }
   ],
   "source": [
    "# substitute any non-white-space characters, including \\n, \\t, etc.\n",
    "re.sub(\"\\\\S\", '_', \"I'm working in Python 3.10.2\")"
   ]
  },
  {
   "cell_type": "markdown",
   "id": "f936a927-eff2-46ca-86ad-0a123b4f43c6",
   "metadata": {},
   "source": [
    "To match one of several characters in a specified set we can enclose\n",
    "the characters of concern with square brackets `[ ]`. For example:  \n",
    "- `[aeiou]` to match any lower case vowel\n",
    "- `[AEIOU]` to match any upper case vowel\n",
    "- `[a-z]` to match any lower case letter\n",
    "- `[A-Z]` to match any upper case letter\n",
    "- `[0123456789]` to match any digit \n",
    "- `[0-9]` to match any numbers in the 0-9 range \n",
    "- `[[:blank:]]` to match any blank characters\n",
    "- `[[:punct:]]` to match any special characters\n",
    "- `[[:alnum:]]` to match any alpha-numeric characters\n",
    "- `[^aeiou]` to match any non-lower case vowel, the ^ negates the lower-case vowels\n",
    "\n",
    "In addition, to match any characters not in a specified character set\n",
    "we can include the caret `^` at the beginning of the set within the\n",
    "brackets"
   ]
  },
  {
   "cell_type": "code",
   "execution_count": 106,
   "id": "d93264b9",
   "metadata": {},
   "outputs": [],
   "source": [
    "x = \"I like pizza! #pizza, @wheres_my_pizza, I like R (v3.2.2) #rrrrrrr2015\""
   ]
  },
  {
   "cell_type": "code",
   "execution_count": 107,
   "id": "e6b026fc-6ef7-447c-b019-5cd65f4c3fb1",
   "metadata": {},
   "outputs": [
    {
     "data": {
      "text/plain": [
       "['I',\n",
       " 'l',\n",
       " 'i',\n",
       " 'k',\n",
       " 'e',\n",
       " 'p',\n",
       " 'i',\n",
       " 'z',\n",
       " 'z',\n",
       " 'a',\n",
       " 'p',\n",
       " 'i',\n",
       " 'z',\n",
       " 'z',\n",
       " 'a',\n",
       " 'w',\n",
       " 'h',\n",
       " 'e',\n",
       " 'r',\n",
       " 'e',\n",
       " 's',\n",
       " 'm',\n",
       " 'y',\n",
       " 'p',\n",
       " 'i',\n",
       " 'z',\n",
       " 'z',\n",
       " 'a',\n",
       " 'I',\n",
       " 'l',\n",
       " 'i',\n",
       " 'k',\n",
       " 'e',\n",
       " 'R',\n",
       " 'v',\n",
       " 'r',\n",
       " 'r',\n",
       " 'r',\n",
       " 'r',\n",
       " 'r',\n",
       " 'r',\n",
       " 'r']"
      ]
     },
     "execution_count": 107,
     "metadata": {},
     "output_type": "execute_result"
    }
   ],
   "source": [
    "re.findall(\"[A-Za-z]\", x) # this matches all letters, but only a single letter at a time"
   ]
  },
  {
   "cell_type": "code",
   "execution_count": 108,
   "id": "a4b61ff2",
   "metadata": {},
   "outputs": [
    {
     "data": {
      "text/plain": [
       "'Ilikepizza!#pizza,@wheres_my_pizza,IlikeR(v3.2.2)#rrrrrrr2015'"
      ]
     },
     "execution_count": 108,
     "metadata": {},
     "output_type": "execute_result"
    }
   ],
   "source": [
    "# remove space or tabs\n",
    "re.sub(\"[[:blank:]]\",\"\", x)"
   ]
  },
  {
   "cell_type": "code",
   "execution_count": 109,
   "id": "1a4a5404",
   "metadata": {},
   "outputs": [
    {
     "data": {
      "text/plain": [
       "'I like pizza   pizza   wheres my pizza  I like R  v3 2 2   rrrrrrr2015'"
      ]
     },
     "execution_count": 109,
     "metadata": {},
     "output_type": "execute_result"
    }
   ],
   "source": [
    "# replace punctuation with whitespace\n",
    "re.sub(pattern = \"[[:punct:]]\", repl = \" \", string=x)"
   ]
  },
  {
   "cell_type": "code",
   "execution_count": 110,
   "id": "9ad06e7d",
   "metadata": {},
   "outputs": [
    {
     "data": {
      "text/plain": [
       "'  ! #, @__,    (..) #'"
      ]
     },
     "execution_count": 110,
     "metadata": {},
     "output_type": "execute_result"
    }
   ],
   "source": [
    "# remove alphanumeric characters\n",
    "re.sub(\"[[:alnum:]]\",\"\", x)"
   ]
  },
  {
   "cell_type": "code",
   "execution_count": 111,
   "id": "e0d56460",
   "metadata": {},
   "outputs": [
    {
     "data": {
      "text/plain": [
       "'IlikepizzapizzawheresmypizzaIlikeRv322rrrrrrr2015'"
      ]
     },
     "execution_count": 111,
     "metadata": {},
     "output_type": "execute_result"
    }
   ],
   "source": [
    "# use ^ for negation\n",
    "re.sub(\"[^[:alnum:]]\",\"\", x)"
   ]
  },
  {
   "cell_type": "code",
   "execution_count": 113,
   "id": "485f947c-7871-4c8f-9829-0619d8e6691e",
   "metadata": {},
   "outputs": [],
   "source": [
    "x = [\"Python\", \"v.0.99.484\", \"2015\", \"09-22-2015\"]"
   ]
  },
  {
   "cell_type": "code",
   "execution_count": 114,
   "id": "736b0786-7cfe-407c-9970-4b2ab77405f7",
   "metadata": {},
   "outputs": [
    {
     "data": {
      "text/plain": [
       "[[],\n",
       " ['0', '9', '9', '4', '8', '4'],\n",
       " ['2', '0', '1', '5'],\n",
       " ['0', '9', '2', '2', '2', '0', '1', '5']]"
      ]
     },
     "execution_count": 114,
     "metadata": {},
     "output_type": "execute_result"
    }
   ],
   "source": [
    "[re.findall(\"[0-9]\", y) for y in x]"
   ]
  },
  {
   "cell_type": "code",
   "execution_count": 115,
   "id": "86be948e-2195-49e2-99c6-99f2a8427364",
   "metadata": {},
   "outputs": [
    {
     "data": {
      "text/plain": [
       "[[], ['9', '9', '8'], [], ['9']]"
      ]
     },
     "execution_count": 115,
     "metadata": {},
     "output_type": "execute_result"
    }
   ],
   "source": [
    "[re.findall(\"[8-9]\", y) for y in x]"
   ]
  },
  {
   "cell_type": "code",
   "execution_count": 116,
   "id": "9254cee7-fee5-4950-a076-b2201368a1d1",
   "metadata": {},
   "outputs": [
    {
     "data": {
      "text/plain": [
       "[['Python'], [], [], []]"
      ]
     },
     "execution_count": 116,
     "metadata": {},
     "output_type": "execute_result"
    }
   ],
   "source": [
    "[re.findall(\"[P]\\w+\", y) for y in x]  # find elements which have a \"P\""
   ]
  },
  {
   "cell_type": "code",
   "execution_count": 117,
   "id": "b3af4004-2fb4-4973-b19f-d92c9f1dfbfe",
   "metadata": {},
   "outputs": [
    {
     "data": {
      "text/plain": [
       "['New York']"
      ]
     },
     "execution_count": 117,
     "metadata": {},
     "output_type": "execute_result"
    }
   ],
   "source": [
    "re.findall(\"New\\s\\w+\", \"New York\") "
   ]
  },
  {
   "cell_type": "code",
   "execution_count": 118,
   "id": "fe7f9a3f",
   "metadata": {},
   "outputs": [
    {
     "data": {
      "text/plain": [
       "[['New York'], ['New Hampshire']]"
      ]
     },
     "execution_count": 118,
     "metadata": {},
     "output_type": "execute_result"
    }
   ],
   "source": [
    "locations = ['New York', 'D.C.', 'Baltimore', 'Atlanta', 'Miami', 'Dallas', 'New Hampshire', \n",
    "             'San Francisco', 'San Diego', 'San Antonio', 'Detroit', 'Chicago']\n",
    "regex = \"New\\s\\w+\"\n",
    "[re.findall(regex, x) for x in locations if re.findall(regex, x) != []]"
   ]
  },
  {
   "cell_type": "markdown",
   "id": "47477ce2-12b6-4492-ab58-8fffb5551ffe",
   "metadata": {},
   "source": [
    "__Quantifiers:__ Used when we want to match a certain number of characters:\n",
    "- `?` the preceeding item is optional and will be matched at most once\n",
    "- `*` the preceeding item is matched zero or more times\n",
    "- `+` the preceeding item is matched one or more times\n",
    "- `{n}` the preceeding item is matched exactly n times\n",
    "- `{n,}` the preceeding item is matched exactly n or more times\n",
    "- `{n, m}` the preceeding item is matched at least n times, but not more than m times"
   ]
  },
  {
   "cell_type": "code",
   "execution_count": 120,
   "id": "8cf01e2b-fbb3-4e3f-845b-61608aadd228",
   "metadata": {},
   "outputs": [
    {
     "data": {
      "text/plain": [
       "[['New Y'], [], [], [], [], [], ['New '], [], [], [], [], []]"
      ]
     },
     "execution_count": 120,
     "metadata": {},
     "output_type": "execute_result"
    }
   ],
   "source": [
    "regex = \"New Y?\"\n",
    "[re.findall(regex, x) for x in locations]"
   ]
  },
  {
   "cell_type": "code",
   "execution_count": 121,
   "id": "9f89e884-ce68-4ece-98f3-9583fed29a6a",
   "metadata": {},
   "outputs": [
    {
     "data": {
      "text/plain": [
       "[['New Y'], ['New ']]"
      ]
     },
     "execution_count": 121,
     "metadata": {},
     "output_type": "execute_result"
    }
   ],
   "source": [
    "regex = \"New Y?\"\n",
    "[re.findall(regex, x) for x in locations if re.findall(regex, x) != []]"
   ]
  },
  {
   "cell_type": "code",
   "execution_count": 122,
   "id": "2b5eb14e-da88-4629-b4b1-9d2e15cdff5c",
   "metadata": {},
   "outputs": [
    {
     "data": {
      "text/plain": [
       "[['New Y'], ['New ']]"
      ]
     },
     "execution_count": 122,
     "metadata": {},
     "output_type": "execute_result"
    }
   ],
   "source": [
    "regex = \"New Y*\"\n",
    "[re.findall(regex, x) for x in locations if re.findall(regex, x) != []]"
   ]
  },
  {
   "cell_type": "code",
   "execution_count": 123,
   "id": "cf6631f2-c189-4fd5-b8af-a811a5fe7adf",
   "metadata": {},
   "outputs": [
    {
     "data": {
      "text/plain": [
       "[['New Y']]"
      ]
     },
     "execution_count": 123,
     "metadata": {},
     "output_type": "execute_result"
    }
   ],
   "source": [
    "regex = \"New Y+\"\n",
    "[re.findall(regex, x) for x in locations if re.findall(regex, x) != []]"
   ]
  },
  {
   "cell_type": "code",
   "execution_count": 124,
   "id": "3d6c2e54-fb17-4726-bbf2-69d44e22eda4",
   "metadata": {},
   "outputs": [
    {
     "data": {
      "text/plain": [
       "[['Atlanta'], ['San Antonio']]"
      ]
     },
     "execution_count": 124,
     "metadata": {},
     "output_type": "execute_result"
    }
   ],
   "source": [
    "regex = \"\\w*\\s*A{1}\\w+\"\n",
    "[re.findall(regex, x) for x in locations if re.findall(regex, x) != []]"
   ]
  },
  {
   "cell_type": "code",
   "execution_count": 125,
   "id": "7c2faf0f-ae30-478b-ab68-9ae26f0796e8",
   "metadata": {},
   "outputs": [
    {
     "data": {
      "text/plain": [
       "[['Baltimore'], ['Atlanta'], ['Dallas']]"
      ]
     },
     "execution_count": 125,
     "metadata": {},
     "output_type": "execute_result"
    }
   ],
   "source": [
    "regex = \"\\w*l{1,}\\w+\"\n",
    "[re.findall(regex, x) for x in locations if re.findall(regex, x) != []]"
   ]
  },
  {
   "cell_type": "code",
   "execution_count": 126,
   "id": "b7f2523d-da9b-4eeb-af14-b8e514d5ed37",
   "metadata": {},
   "outputs": [
    {
     "data": {
      "text/plain": [
       "[['Dallas']]"
      ]
     },
     "execution_count": 126,
     "metadata": {},
     "output_type": "execute_result"
    }
   ],
   "source": [
    "regex = \"\\w*l{2,}\\w+\"\n",
    "[re.findall(regex, x) for x in locations if re.findall(regex, x) != []]"
   ]
  },
  {
   "cell_type": "markdown",
   "id": "7b20564d-654a-435a-bbe6-2abb6d721887",
   "metadata": {},
   "source": [
    "##### Challenge: Complete the questions below:"
   ]
  },
  {
   "cell_type": "code",
   "execution_count": 127,
   "id": "0a2fce71-97be-4ed5-bea6-ef81096639ed",
   "metadata": {},
   "outputs": [],
   "source": [
    "# Using a regex, check for three digit number followed by space followed by two digit number\n",
    "string = '39801 356, 2102 1111'"
   ]
  },
  {
   "cell_type": "code",
   "execution_count": 128,
   "id": "a312a92b-87d2-4ea4-b5ef-8a6fa9fc772d",
   "metadata": {},
   "outputs": [],
   "source": [
    "# check if 'Python' is at the beginning\n",
    "string = \"Python is fun\""
   ]
  },
  {
   "cell_type": "code",
   "execution_count": 129,
   "id": "3db83524-b7b5-4961-84f0-14d6d24dc02b",
   "metadata": {},
   "outputs": [],
   "source": [
    "# Match all string elements starting with \"The\" - Hint, use a for loop\n",
    "strings = ['The quick brown fox', 'The lazy dog', 'A quick brown fox']"
   ]
  },
  {
   "cell_type": "code",
   "execution_count": 130,
   "id": "b977a763-72ae-474a-84a0-1e195f4edaa7",
   "metadata": {},
   "outputs": [],
   "source": [
    "# Print all only the year listed in each string, using a for loop\n",
    "string0 = [\"I went to him at 11 A.M. on 4th July 1886\", \"She went to him at 10 A.M. on 4th July 1890\"]"
   ]
  },
  {
   "cell_type": "markdown",
   "id": "6620edb5-fa7e-4053-a013-dad349e44303",
   "metadata": {},
   "source": [
    "##### It is impossible to memorize the entire regex library and what everything stands for, so it is good to keep a solid cheatsheet on hand. \n",
    "- https://cheatography.com/davechild/cheat-sheets/regular-expressions/"
   ]
  },
  {
   "cell_type": "markdown",
   "id": "3df319d3",
   "metadata": {},
   "source": [
    "## 8. Decorators<a class=\"anchor\" id=\"bullet8\"></a>"
   ]
  },
  {
   "cell_type": "markdown",
   "id": "e2b82077-4f48-44e0-a0f1-fc33a8a54cf6",
   "metadata": {},
   "source": [
    "Functions are just like any other object in python. Which means __functions can be passed around and used as arguments.__ We learned this last week, and today we will build on this idea and explore a special type of function known as a **decorator**."
   ]
  },
  {
   "cell_type": "code",
   "execution_count": 131,
   "id": "f184ec9c-43ab-4be4-b3c0-96bc59541b85",
   "metadata": {},
   "outputs": [],
   "source": [
    "def say_hello(name):\n",
    "    return f\"Hello {name}\"\n",
    "\n",
    "def be_awesome(name):\n",
    "    return f\"Yo {name}, together we are the awesomest!\"\n",
    "\n",
    "def greet_bob(greeter_func):\n",
    "    return greeter_func(\"Bob\")"
   ]
  },
  {
   "cell_type": "code",
   "execution_count": 132,
   "id": "80b22fb5-f392-4de2-bef1-2990127fa40b",
   "metadata": {},
   "outputs": [
    {
     "data": {
      "text/plain": [
       "'Hello Bob'"
      ]
     },
     "execution_count": 132,
     "metadata": {},
     "output_type": "execute_result"
    }
   ],
   "source": [
    "greet_bob(say_hello)"
   ]
  },
  {
   "cell_type": "code",
   "execution_count": 133,
   "id": "5f6cee11-aa63-42d8-900e-8aa94f6eba93",
   "metadata": {},
   "outputs": [
    {
     "data": {
      "text/plain": [
       "'Yo Bob, together we are the awesomest!'"
      ]
     },
     "execution_count": 133,
     "metadata": {},
     "output_type": "execute_result"
    }
   ],
   "source": [
    "greet_bob(be_awesome)"
   ]
  },
  {
   "cell_type": "markdown",
   "id": "a4e6e2d8-fbfc-494b-8844-598fe814fe62",
   "metadata": {},
   "source": [
    "__Inner functions:__ It’s possible to define functions inside other functions. Such functions are called inner functions. Below is an example of a function with two inner functions. Also, this example shows that Python also allows you to **use functions as return values.** The following example returns one of the inner functions from the outer parent() function."
   ]
  },
  {
   "cell_type": "code",
   "execution_count": 134,
   "id": "5c0b8c94-b86f-46de-a879-22a2003bbf28",
   "metadata": {},
   "outputs": [
    {
     "name": "stdout",
     "output_type": "stream",
     "text": [
      "<function parent.<locals>.first_child at 0x000001D47B1A5820>\n",
      "<function parent.<locals>.second_child at 0x000001D47B1A5940>\n"
     ]
    }
   ],
   "source": [
    "def parent(num):\n",
    "    def first_child():\n",
    "        return \"Hi, I am Emma\"\n",
    "\n",
    "    def second_child():\n",
    "        return \"Call me Liam\"\n",
    "\n",
    "    if num == 1:\n",
    "        return first_child\n",
    "    else:\n",
    "        return second_child\n",
    "first = parent(1)\n",
    "second = parent(2)\n",
    "print(first)\n",
    "print(second)"
   ]
  },
  {
   "cell_type": "code",
   "execution_count": 135,
   "id": "4ae2d255-16bb-4672-aa32-796bdca38054",
   "metadata": {},
   "outputs": [
    {
     "data": {
      "text/plain": [
       "'Hi, I am Emma'"
      ]
     },
     "execution_count": 135,
     "metadata": {},
     "output_type": "execute_result"
    }
   ],
   "source": [
    "first()"
   ]
  },
  {
   "cell_type": "code",
   "execution_count": 136,
   "id": "66131933-5234-4530-bbe6-78055d98598d",
   "metadata": {},
   "outputs": [
    {
     "data": {
      "text/plain": [
       "'Call me Liam'"
      ]
     },
     "execution_count": 136,
     "metadata": {},
     "output_type": "execute_result"
    }
   ],
   "source": [
    "second()"
   ]
  },
  {
   "cell_type": "markdown",
   "id": "747a4a19-e543-440d-9de3-1ad0c4ae6287",
   "metadata": {},
   "source": [
    "### Simple Decorators\n",
    "Now that you’ve seen that functions are just like any other object in Python, you’re ready to move on and see the magical beast that is the Python decorator. Let’s start with an example:"
   ]
  },
  {
   "cell_type": "code",
   "execution_count": 137,
   "id": "5fd07eb5-a556-48c4-9c95-225d601c0954",
   "metadata": {},
   "outputs": [
    {
     "name": "stdout",
     "output_type": "stream",
     "text": [
      "Something is happening before the function is called.\n",
      "Whee!\n",
      "Something is happening after the function is called.\n"
     ]
    }
   ],
   "source": [
    "def my_decorator(func):\n",
    "    def wrapper():\n",
    "        print(\"Something is happening before the function is called.\")\n",
    "        func()\n",
    "        print(\"Something is happening after the function is called.\")\n",
    "    return wrapper\n",
    "\n",
    "def say_whee():\n",
    "    print(\"Whee!\")\n",
    "\n",
    "say_whee = my_decorator(say_whee)\n",
    "say_whee()"
   ]
  },
  {
   "cell_type": "markdown",
   "id": "21a499f1-644b-41d8-86a8-bf34db651187",
   "metadata": {},
   "source": [
    "  \n",
    "The so-called decoration happens at the following line: `say_whee = my_decorator(say_whee)`. In effect, the name say_whee now points to the wrapper() inner function. Remember that you return wrapper as a function when you call my_decorator(say_whee):"
   ]
  },
  {
   "cell_type": "code",
   "execution_count": 138,
   "id": "56e91a74-ebc4-4161-99ae-5aae6d66f2e0",
   "metadata": {},
   "outputs": [
    {
     "data": {
      "text/plain": [
       "<function __main__.my_decorator.<locals>.wrapper()>"
      ]
     },
     "execution_count": 138,
     "metadata": {},
     "output_type": "execute_result"
    }
   ],
   "source": [
    "say_whee"
   ]
  },
  {
   "cell_type": "markdown",
   "id": "2bcb6b12-0d65-4fcb-9fd0-e062b93c2f78",
   "metadata": {},
   "source": [
    "Put simply: __decorators wrap a function, modifying its behavior.__  \n",
    "  \n",
    "The way you decorated say_whee() above is a little clunky. First of all, you end up typing the name say_whee three times. In addition, the decoration gets a bit hidden away below the definition of the function. Instead, __Python allows you to use decorators in a simpler way with the @ symbol__, sometimes called the “pie” syntax. The following example does the exact same thing as the first decorator example:"
   ]
  },
  {
   "cell_type": "code",
   "execution_count": 140,
   "id": "8870b0e5-16f1-4d6c-a3da-64b0150eb445",
   "metadata": {},
   "outputs": [],
   "source": [
    "@my_decorator\n",
    "def say_wheeee():\n",
    "    print(\"Wheeee!\")"
   ]
  },
  {
   "cell_type": "code",
   "execution_count": 141,
   "id": "b4793a81-f444-4d0b-b77d-ee71a18221f7",
   "metadata": {},
   "outputs": [
    {
     "name": "stdout",
     "output_type": "stream",
     "text": [
      "Something is happening before the function is called.\n",
      "Wheeee!\n",
      "Something is happening after the function is called.\n"
     ]
    }
   ],
   "source": [
    "say_wheeee()"
   ]
  },
  {
   "cell_type": "markdown",
   "id": "40c4e9ab-8a9b-4611-92df-546017dd35af",
   "metadata": {},
   "source": [
    "Recall that a __decorator is just a regular Python function.__ All the usual tools for easy reusability are available, such as saving it in a **module** (which is simply a .py file)."
   ]
  },
  {
   "cell_type": "code",
   "execution_count": 142,
   "id": "b9705018-95eb-4d34-8ba5-b38d094a267c",
   "metadata": {},
   "outputs": [],
   "source": [
    "def do_twice(func):\n",
    "    def wrapper_do_twice():\n",
    "        func()\n",
    "        func()\n",
    "    return wrapper_do_twice"
   ]
  },
  {
   "cell_type": "markdown",
   "id": "03aaf7fb-6c91-47ea-b3ac-d106e585e8e1",
   "metadata": {},
   "source": [
    "## 9. Classes<a class=\"anchor\" id=\"bullet9\"></a>"
   ]
  },
  {
   "cell_type": "markdown",
   "id": "5186be16-f3f8-4f42-a524-953b835439c9",
   "metadata": {},
   "source": [
    "Classes are part of a programming paradigm called **object-oriented programming**. Object-oriented programming, or OOP for short, focuses on building reusable blocks of code called **classes**. When you want to use a class in one of your programs, you make an object from that class, which is where the phrase \"object-oriented\" comes from. Python itself is not tied to object-oriented programming, but you will be using objects in most or all of your Python projects. In order to understand classes, you have to understand some of the language that is used in OOP.\n",
    "\n",
    "A __class__ is a body of code that defines the attributes and behaviors required to accurately model something you need for your program. You can model something from the real world, such as a rocket ship or a guitar string, or you can model something from a virtual world such as a rocket in a game, or a set of physical laws for a game engine.\n",
    "\n",
    "An __attribute__ is a piece of information. In code, an attribute is just a variable that is part of a class.\n",
    "\n",
    "A __behavior__ is an action that is defined within a class. These are made up of __methods__, which are just functions that are defined for the class.\n",
    "\n",
    "An __object__ is a particular **instance** of a class. An object has a certain set of values for all of the attributes (variables) in the class. You can have as many objects as you want for any one class.\n",
    "\n",
    "There is much more to know, but these words will help you get started. They will make more sense as you see more examples, and start to use classes on your own.\n",
    "\n",
    "The vast majority of object-oriented programming you'll do in Python is object-based programming in which you primarily create and use objects of existing classes. For example, Python's in-built types like int, float, str, tuple, dict and set are classes. You've also used NumPy arrays and pandas Series and DataFrame objects - which are all custom classes built by someone else.  \n",
    "\n",
    "__Classess are new custom data types that you can develop.__ For example, below we will develop an application-specific class called *Account*. This class will hold an account holder's name and balance. The *Account* class accepts deposits that increase balance and withdrawals that decrease the balance. An actual bank account class would likely include lots of other information, such as address, birth date, telephone number, account number and more."
   ]
  },
  {
   "cell_type": "code",
   "execution_count": 143,
   "id": "ae111d43-9727-4b91-a2dc-64a5ddb903c0",
   "metadata": {},
   "outputs": [
    {
     "name": "stdout",
     "output_type": "stream",
     "text": [
      "12.34\n",
      "<class 'decimal.Decimal'>\n"
     ]
    }
   ],
   "source": [
    "# this calss will use the Decimal data type\n",
    "from decimal import Decimal\n",
    "print(Decimal('12.34'))\n",
    "print(type(Decimal('12.34')))"
   ]
  },
  {
   "cell_type": "code",
   "execution_count": 144,
   "id": "89906a64-1104-4eab-8852-781ba0ac91de",
   "metadata": {},
   "outputs": [],
   "source": [
    "value = Decimal('12.34')"
   ]
  },
  {
   "cell_type": "code",
   "execution_count": 146,
   "id": "5787bfbb-8b16-43f5-a6a5-7e27e64e88da",
   "metadata": {},
   "outputs": [],
   "source": [
    "from decimal import Decimal  # When defining a class, always load dependcies before you define it\n",
    "\n",
    "class Account:\n",
    "    \"\"\"Account class for maintaining a bank account balance.\"\"\"      # class docstring\n",
    "    \n",
    "    def __init__(self, name, balance):\n",
    "        \"\"\"Initialize an Account object.\"\"\"\n",
    "        \n",
    "        # if balance is less than 0.00, raise an exception\n",
    "        if balance < Decimal('0.00'):\n",
    "            raise ValueError('Initial balance must be >= to 0.00.')\n",
    "            \n",
    "        self.name = name\n",
    "        self.balance = balance"
   ]
  },
  {
   "cell_type": "markdown",
   "id": "be157716-e9a4-447b-9a53-e3b6487b6f30",
   "metadata": {},
   "source": [
    "Some notes about the above:\n",
    "- We start by using the `class` keyword, followed by the name we want to use for our custom class. Note the **Style Guide for Python Code** recommends that you use *camelCase* to name multi-word names for classes. \n",
    "- The `__init__` method initalizes a new instance of a class when called. That is, it creates or initalizes a new object in memory. By convention most Python programmers call this method's first parameter `self`. \n",
    "- A class's methods and attributes must use that reference (self) to access the object's attributes and other methods. For example, we can see the name and balance attributes here are referenced by self. \n",
    "- Class `Account`'s `__init__` method also specifies parameters for the name and balance. The init method is an example of a __special method__, which can be identified by the leading and trailing double underscores (__)."
   ]
  },
  {
   "cell_type": "code",
   "execution_count": 153,
   "id": "054c953d-6792-470a-8f5f-8ebf2e038157",
   "metadata": {},
   "outputs": [
    {
     "name": "stdout",
     "output_type": "stream",
     "text": [
      "<class '__main__.Account'>\n",
      "John Doe\n",
      "50.00\n"
     ]
    },
    {
     "ename": "ValueError",
     "evalue": "Initial balance must be >= to 0.00.",
     "output_type": "error",
     "traceback": [
      "\u001b[1;31m---------------------------------------------------------------------------\u001b[0m",
      "\u001b[1;31mValueError\u001b[0m                                Traceback (most recent call last)",
      "\u001b[1;32m~\\AppData\\Local\\Temp\\ipykernel_11968\\1748322281.py\u001b[0m in \u001b[0;36m<module>\u001b[1;34m\u001b[0m\n\u001b[0;32m      5\u001b[0m \u001b[0mprint\u001b[0m\u001b[1;33m(\u001b[0m\u001b[0maccount1\u001b[0m\u001b[1;33m.\u001b[0m\u001b[0mname\u001b[0m\u001b[1;33m)\u001b[0m\u001b[1;33m\u001b[0m\u001b[1;33m\u001b[0m\u001b[0m\n\u001b[0;32m      6\u001b[0m \u001b[0mprint\u001b[0m\u001b[1;33m(\u001b[0m\u001b[0maccount1\u001b[0m\u001b[1;33m.\u001b[0m\u001b[0mbalance\u001b[0m\u001b[1;33m)\u001b[0m\u001b[1;33m\u001b[0m\u001b[1;33m\u001b[0m\u001b[0m\n\u001b[1;32m----> 7\u001b[1;33m \u001b[0maccount2\u001b[0m \u001b[1;33m=\u001b[0m \u001b[0mAccount\u001b[0m\u001b[1;33m(\u001b[0m\u001b[1;34m'John Doe'\u001b[0m\u001b[1;33m,\u001b[0m \u001b[0mDecimal\u001b[0m\u001b[1;33m(\u001b[0m\u001b[1;34m'-50.00'\u001b[0m\u001b[1;33m)\u001b[0m\u001b[1;33m)\u001b[0m \u001b[1;31m# Raises an exception since the initial balance must be positive\u001b[0m\u001b[1;33m\u001b[0m\u001b[1;33m\u001b[0m\u001b[0m\n\u001b[0m",
      "\u001b[1;32m~\\AppData\\Local\\Temp\\ipykernel_11968\\892893086.py\u001b[0m in \u001b[0;36m__init__\u001b[1;34m(self, name, balance)\u001b[0m\n\u001b[0;32m      9\u001b[0m         \u001b[1;31m# if balance is less than 0.00, raise an exception\u001b[0m\u001b[1;33m\u001b[0m\u001b[1;33m\u001b[0m\u001b[0m\n\u001b[0;32m     10\u001b[0m         \u001b[1;32mif\u001b[0m \u001b[0mbalance\u001b[0m \u001b[1;33m<\u001b[0m \u001b[0mDecimal\u001b[0m\u001b[1;33m(\u001b[0m\u001b[1;34m'0.00'\u001b[0m\u001b[1;33m)\u001b[0m\u001b[1;33m:\u001b[0m\u001b[1;33m\u001b[0m\u001b[1;33m\u001b[0m\u001b[0m\n\u001b[1;32m---> 11\u001b[1;33m             \u001b[1;32mraise\u001b[0m \u001b[0mValueError\u001b[0m\u001b[1;33m(\u001b[0m\u001b[1;34m'Initial balance must be >= to 0.00.'\u001b[0m\u001b[1;33m)\u001b[0m\u001b[1;33m\u001b[0m\u001b[1;33m\u001b[0m\u001b[0m\n\u001b[0m\u001b[0;32m     12\u001b[0m \u001b[1;33m\u001b[0m\u001b[0m\n\u001b[0;32m     13\u001b[0m         \u001b[0mself\u001b[0m\u001b[1;33m.\u001b[0m\u001b[0mname\u001b[0m \u001b[1;33m=\u001b[0m \u001b[0mname\u001b[0m\u001b[1;33m\u001b[0m\u001b[1;33m\u001b[0m\u001b[0m\n",
      "\u001b[1;31mValueError\u001b[0m: Initial balance must be >= to 0.00."
     ]
    }
   ],
   "source": [
    "# We use a constructor expression to create a new instance of class, which initializes a new object in memory by\n",
    "# calling the class's __int__ method\n",
    "account1 = Account('John Doe', Decimal('50.00')) \n",
    "print(type(account1))\n",
    "print(account1.name)\n",
    "print(account1.balance)\n",
    "account2 = Account('John Doe', Decimal('-50.00')) # Raises an exception since the initial balance must be positive"
   ]
  },
  {
   "cell_type": "markdown",
   "id": "4f167af2-319d-49de-a884-6d48aba89acb",
   "metadata": {},
   "source": [
    "We can add methods and attributes to our class. Below, if the balance is less than 0.00, then an exception is raised since deposits must be positive."
   ]
  },
  {
   "cell_type": "code",
   "execution_count": 154,
   "id": "630e406e-981c-4f1a-b43b-228dd6dddc92",
   "metadata": {},
   "outputs": [],
   "source": [
    "from decimal import Decimal\n",
    "class Account:\n",
    "    \"\"\"Account class for maintaining a bank account balance.\"\"\"\n",
    "    \n",
    "    def __init__(self, name, balance):\n",
    "        \"\"\"Initialize an Account object.\"\"\"\n",
    "        \n",
    "        # if balance is less than 0.00, raise an exception\n",
    "        if balance < Decimal('0.00'):\n",
    "            raise ValueError('Initial balance must be >= to 0.00.')\n",
    "            \n",
    "        self.name = name\n",
    "        self.balance = balance\n",
    "        \n",
    "    def deposit(self, amount):\n",
    "        \"\"\"Deposit money into the account.\"\"\"\n",
    "        \n",
    "        # if the amount is less than 0.00, raise an exception\n",
    "        if amount < Decimal('0.00'):\n",
    "            raise ValueError('Deposit must be positive.')\n",
    "            \n",
    "        self.balance += amount"
   ]
  },
  {
   "cell_type": "code",
   "execution_count": 155,
   "id": "8fbb6756-7fbc-4828-ae58-530f7e8bb296",
   "metadata": {},
   "outputs": [
    {
     "data": {
      "text/plain": [
       "Decimal('75.53')"
      ]
     },
     "execution_count": 155,
     "metadata": {},
     "output_type": "execute_result"
    }
   ],
   "source": [
    "account1 = Account('John Doe', Decimal('50.00')) \n",
    "account1.deposit(Decimal('25.53'))\n",
    "account1.balance"
   ]
  },
  {
   "cell_type": "code",
   "execution_count": 156,
   "id": "c1a09b98-528a-4780-9d38-d629c0fb7a09",
   "metadata": {},
   "outputs": [
    {
     "data": {
      "text/plain": [
       "Decimal('19.23')"
      ]
     },
     "execution_count": 156,
     "metadata": {},
     "output_type": "execute_result"
    }
   ],
   "source": [
    "# We can also directly modify attributes\n",
    "account1.balance = Decimal('19.23')\n",
    "account1.balance"
   ]
  },
  {
   "cell_type": "code",
   "execution_count": 157,
   "id": "fe72ad68-08ae-4ddc-801e-873c62b7481e",
   "metadata": {},
   "outputs": [
    {
     "name": "stdout",
     "output_type": "stream",
     "text": [
      "John Doe\n"
     ]
    },
    {
     "data": {
      "text/plain": [
       "'Jane Doe'"
      ]
     },
     "execution_count": 157,
     "metadata": {},
     "output_type": "execute_result"
    }
   ],
   "source": [
    "print(account1.name)\n",
    "account1.name = 'Jane Doe'\n",
    "account1.name"
   ]
  },
  {
   "cell_type": "code",
   "execution_count": 158,
   "id": "f2b9429a-0ed0-4559-b0a1-ed4a682b11c7",
   "metadata": {},
   "outputs": [
    {
     "ename": "ValueError",
     "evalue": "Deposit must be positive.",
     "output_type": "error",
     "traceback": [
      "\u001b[1;31m---------------------------------------------------------------------------\u001b[0m",
      "\u001b[1;31mValueError\u001b[0m                                Traceback (most recent call last)",
      "\u001b[1;32m~\\AppData\\Local\\Temp\\ipykernel_11968\\705732960.py\u001b[0m in \u001b[0;36m<module>\u001b[1;34m\u001b[0m\n\u001b[0;32m      1\u001b[0m \u001b[1;31m# Useful for data validation\u001b[0m\u001b[1;33m\u001b[0m\u001b[1;33m\u001b[0m\u001b[0m\n\u001b[1;32m----> 2\u001b[1;33m \u001b[0maccount1\u001b[0m\u001b[1;33m.\u001b[0m\u001b[0mdeposit\u001b[0m\u001b[1;33m(\u001b[0m\u001b[0mDecimal\u001b[0m\u001b[1;33m(\u001b[0m\u001b[1;34m'-25.53'\u001b[0m\u001b[1;33m)\u001b[0m\u001b[1;33m)\u001b[0m\u001b[1;33m\u001b[0m\u001b[1;33m\u001b[0m\u001b[0m\n\u001b[0m",
      "\u001b[1;32m~\\AppData\\Local\\Temp\\ipykernel_11968\\181249845.py\u001b[0m in \u001b[0;36mdeposit\u001b[1;34m(self, amount)\u001b[0m\n\u001b[0;32m     18\u001b[0m         \u001b[1;31m# if the amount is less than 0.00, raise an exception\u001b[0m\u001b[1;33m\u001b[0m\u001b[1;33m\u001b[0m\u001b[0m\n\u001b[0;32m     19\u001b[0m         \u001b[1;32mif\u001b[0m \u001b[0mamount\u001b[0m \u001b[1;33m<\u001b[0m \u001b[0mDecimal\u001b[0m\u001b[1;33m(\u001b[0m\u001b[1;34m'0.00'\u001b[0m\u001b[1;33m)\u001b[0m\u001b[1;33m:\u001b[0m\u001b[1;33m\u001b[0m\u001b[1;33m\u001b[0m\u001b[0m\n\u001b[1;32m---> 20\u001b[1;33m             \u001b[1;32mraise\u001b[0m \u001b[0mValueError\u001b[0m\u001b[1;33m(\u001b[0m\u001b[1;34m'Deposit must be positive.'\u001b[0m\u001b[1;33m)\u001b[0m\u001b[1;33m\u001b[0m\u001b[1;33m\u001b[0m\u001b[0m\n\u001b[0m\u001b[0;32m     21\u001b[0m \u001b[1;33m\u001b[0m\u001b[0m\n\u001b[0;32m     22\u001b[0m         \u001b[0mself\u001b[0m\u001b[1;33m.\u001b[0m\u001b[0mbalance\u001b[0m \u001b[1;33m+=\u001b[0m \u001b[0mamount\u001b[0m\u001b[1;33m\u001b[0m\u001b[1;33m\u001b[0m\u001b[0m\n",
      "\u001b[1;31mValueError\u001b[0m: Deposit must be positive."
     ]
    }
   ],
   "source": [
    "# Useful for data validation\n",
    "account1.deposit(Decimal('-25.53'))"
   ]
  },
  {
   "cell_type": "markdown",
   "id": "87c37434-f4b0-4be0-840d-e13d47195a4c",
   "metadata": {},
   "source": [
    "##### Challenge: Add a withdraw method to the Account class. Make it so that you cannot withdraw an amount greater than your current balance, and also you withdraw has to be positive."
   ]
  },
  {
   "cell_type": "code",
   "execution_count": 159,
   "id": "9c92932c-3298-46b7-b23e-dcaa93feacdd",
   "metadata": {},
   "outputs": [],
   "source": [
    "from decimal import Decimal\n",
    "class Account:\n",
    "    \"\"\"Account class for maintaining a bank account balance.\"\"\"\n",
    "    \n",
    "    def __init__(self, name, balance):\n",
    "        \"\"\"Initialize an Account object.\"\"\"\n",
    "        \n",
    "        # if balance is less than 0.00, raise an exception\n",
    "        if balance < Decimal('0.00'):\n",
    "            raise ValueError('Initial balance must be >= to 0.00.')\n",
    "            \n",
    "        self.name = name\n",
    "        self.balance = balance\n",
    "        \n",
    "    def deposit(self, amount):\n",
    "        \"\"\"Deposit money into the account.\"\"\"\n",
    "        \n",
    "        # if the amount is less than 0.00, raise an exception\n",
    "        if amount < Decimal('0.00'):\n",
    "            raise ValueError('Deposit must be positive.')\n",
    "            \n",
    "        self.balance += amount\n",
    "        \n",
    "    # define new method here\n",
    "    "
   ]
  },
  {
   "cell_type": "markdown",
   "id": "f1d90c1a-9a6c-4bb8-8834-3cc631b06ddd",
   "metadata": {},
   "source": [
    "###### Solution below "
   ]
  },
  {
   "cell_type": "code",
   "execution_count": 160,
   "id": "82bbf84c-8a21-474e-814d-44ecd8e7d437",
   "metadata": {},
   "outputs": [],
   "source": [
    "from decimal import Decimal\n",
    "class Account:\n",
    "    \"\"\"Account class for maintaining a bank account balance.\"\"\"\n",
    "    \n",
    "    def __init__(self, name, balance):\n",
    "        \"\"\"Initialize an Account object.\"\"\"\n",
    "        \n",
    "        # if balance is less than 0.00, raise an exception\n",
    "        if balance < Decimal('0.00'):\n",
    "            raise ValueError('Initial balance must be >= to 0.00.')\n",
    "            \n",
    "        self.name = name\n",
    "        self.balance = balance\n",
    "        \n",
    "    def deposit(self, amount):\n",
    "        \"\"\"Deposit money into the account.\"\"\"\n",
    "        \n",
    "        # if the amount is less than 0.00, raise an exception\n",
    "        if amount < Decimal('0.00'):\n",
    "            raise ValueError('Deposit must be positive.')\n",
    "            \n",
    "        self.balance += amount\n",
    "        \n",
    "    def withdraw(self, amount):\n",
    "        \"\"\"Withdraw money from the account.\"\"\"\n",
    "        \n",
    "        # if the amount is less than 0.00, raise an exception\n",
    "        if amount < Decimal('0.00'):\n",
    "            raise ValueError('Withdraw must be positive.')\n",
    "        elif amount > self.balance:\n",
    "            raise ValueError('Withdraw must be less than balance.')            \n",
    "            \n",
    "        self.balance -= amount       "
   ]
  },
  {
   "cell_type": "code",
   "execution_count": 161,
   "id": "c38a2b6a-8e43-4a0b-affa-febbdf3a943e",
   "metadata": {},
   "outputs": [
    {
     "name": "stdout",
     "output_type": "stream",
     "text": [
      "25.00\n"
     ]
    }
   ],
   "source": [
    "account1 = Account('John Doe', Decimal('50.00')) \n",
    "account1.withdraw(Decimal('25.00'))\n",
    "print(account1.balance)"
   ]
  },
  {
   "cell_type": "code",
   "execution_count": 162,
   "id": "c1d90ee7-2232-47db-bad5-1ce012000e22",
   "metadata": {},
   "outputs": [
    {
     "ename": "ValueError",
     "evalue": "Withdraw must be less than balance.",
     "output_type": "error",
     "traceback": [
      "\u001b[1;31m---------------------------------------------------------------------------\u001b[0m",
      "\u001b[1;31mValueError\u001b[0m                                Traceback (most recent call last)",
      "\u001b[1;32m~\\AppData\\Local\\Temp\\ipykernel_11968\\4272662250.py\u001b[0m in \u001b[0;36m<module>\u001b[1;34m\u001b[0m\n\u001b[1;32m----> 1\u001b[1;33m \u001b[0maccount1\u001b[0m\u001b[1;33m.\u001b[0m\u001b[0mwithdraw\u001b[0m\u001b[1;33m(\u001b[0m\u001b[0mDecimal\u001b[0m\u001b[1;33m(\u001b[0m\u001b[1;34m'100'\u001b[0m\u001b[1;33m)\u001b[0m\u001b[1;33m)\u001b[0m\u001b[1;33m\u001b[0m\u001b[1;33m\u001b[0m\u001b[0m\n\u001b[0m",
      "\u001b[1;32m~\\AppData\\Local\\Temp\\ipykernel_11968\\951186414.py\u001b[0m in \u001b[0;36mwithdraw\u001b[1;34m(self, amount)\u001b[0m\n\u001b[0;32m     29\u001b[0m             \u001b[1;32mraise\u001b[0m \u001b[0mValueError\u001b[0m\u001b[1;33m(\u001b[0m\u001b[1;34m'Withdraw must be positive.'\u001b[0m\u001b[1;33m)\u001b[0m\u001b[1;33m\u001b[0m\u001b[1;33m\u001b[0m\u001b[0m\n\u001b[0;32m     30\u001b[0m         \u001b[1;32melif\u001b[0m \u001b[0mamount\u001b[0m \u001b[1;33m>\u001b[0m \u001b[0mself\u001b[0m\u001b[1;33m.\u001b[0m\u001b[0mbalance\u001b[0m\u001b[1;33m:\u001b[0m\u001b[1;33m\u001b[0m\u001b[1;33m\u001b[0m\u001b[0m\n\u001b[1;32m---> 31\u001b[1;33m             \u001b[1;32mraise\u001b[0m \u001b[0mValueError\u001b[0m\u001b[1;33m(\u001b[0m\u001b[1;34m'Withdraw must be less than balance.'\u001b[0m\u001b[1;33m)\u001b[0m\u001b[1;33m\u001b[0m\u001b[1;33m\u001b[0m\u001b[0m\n\u001b[0m\u001b[0;32m     32\u001b[0m \u001b[1;33m\u001b[0m\u001b[0m\n\u001b[0;32m     33\u001b[0m         \u001b[0mself\u001b[0m\u001b[1;33m.\u001b[0m\u001b[0mbalance\u001b[0m \u001b[1;33m-=\u001b[0m \u001b[0mamount\u001b[0m\u001b[1;33m\u001b[0m\u001b[1;33m\u001b[0m\u001b[0m\n",
      "\u001b[1;31mValueError\u001b[0m: Withdraw must be less than balance."
     ]
    }
   ],
   "source": [
    "account1.withdraw(Decimal('100'))"
   ]
  },
  {
   "cell_type": "code",
   "execution_count": 163,
   "id": "e462bc90-c084-4a3a-af59-3e9faf96cb52",
   "metadata": {},
   "outputs": [],
   "source": [
    "account1.withdraw(Decimal('10'))"
   ]
  },
  {
   "cell_type": "code",
   "execution_count": 164,
   "id": "37a6814f-1dd5-4d63-8993-428753421a89",
   "metadata": {},
   "outputs": [
    {
     "ename": "ValueError",
     "evalue": "Withdraw must be positive.",
     "output_type": "error",
     "traceback": [
      "\u001b[1;31m---------------------------------------------------------------------------\u001b[0m",
      "\u001b[1;31mValueError\u001b[0m                                Traceback (most recent call last)",
      "\u001b[1;32m~\\AppData\\Local\\Temp\\ipykernel_11968\\3291005676.py\u001b[0m in \u001b[0;36m<module>\u001b[1;34m\u001b[0m\n\u001b[1;32m----> 1\u001b[1;33m \u001b[0maccount1\u001b[0m\u001b[1;33m.\u001b[0m\u001b[0mwithdraw\u001b[0m\u001b[1;33m(\u001b[0m\u001b[0mDecimal\u001b[0m\u001b[1;33m(\u001b[0m\u001b[1;34m'-3'\u001b[0m\u001b[1;33m)\u001b[0m\u001b[1;33m)\u001b[0m\u001b[1;33m\u001b[0m\u001b[1;33m\u001b[0m\u001b[0m\n\u001b[0m",
      "\u001b[1;32m~\\AppData\\Local\\Temp\\ipykernel_11968\\951186414.py\u001b[0m in \u001b[0;36mwithdraw\u001b[1;34m(self, amount)\u001b[0m\n\u001b[0;32m     27\u001b[0m         \u001b[1;31m# if the amount is less than 0.00, raise an exception\u001b[0m\u001b[1;33m\u001b[0m\u001b[1;33m\u001b[0m\u001b[0m\n\u001b[0;32m     28\u001b[0m         \u001b[1;32mif\u001b[0m \u001b[0mamount\u001b[0m \u001b[1;33m<\u001b[0m \u001b[0mDecimal\u001b[0m\u001b[1;33m(\u001b[0m\u001b[1;34m'0.00'\u001b[0m\u001b[1;33m)\u001b[0m\u001b[1;33m:\u001b[0m\u001b[1;33m\u001b[0m\u001b[1;33m\u001b[0m\u001b[0m\n\u001b[1;32m---> 29\u001b[1;33m             \u001b[1;32mraise\u001b[0m \u001b[0mValueError\u001b[0m\u001b[1;33m(\u001b[0m\u001b[1;34m'Withdraw must be positive.'\u001b[0m\u001b[1;33m)\u001b[0m\u001b[1;33m\u001b[0m\u001b[1;33m\u001b[0m\u001b[0m\n\u001b[0m\u001b[0;32m     30\u001b[0m         \u001b[1;32melif\u001b[0m \u001b[0mamount\u001b[0m \u001b[1;33m>\u001b[0m \u001b[0mself\u001b[0m\u001b[1;33m.\u001b[0m\u001b[0mbalance\u001b[0m\u001b[1;33m:\u001b[0m\u001b[1;33m\u001b[0m\u001b[1;33m\u001b[0m\u001b[0m\n\u001b[0;32m     31\u001b[0m             \u001b[1;32mraise\u001b[0m \u001b[0mValueError\u001b[0m\u001b[1;33m(\u001b[0m\u001b[1;34m'Withdraw must be less than balance.'\u001b[0m\u001b[1;33m)\u001b[0m\u001b[1;33m\u001b[0m\u001b[1;33m\u001b[0m\u001b[0m\n",
      "\u001b[1;31mValueError\u001b[0m: Withdraw must be positive."
     ]
    }
   ],
   "source": [
    "account1.withdraw(Decimal('-3'))"
   ]
  },
  {
   "cell_type": "code",
   "execution_count": 165,
   "id": "6a67a4de-441e-47a8-9fe5-a69db41d8c0f",
   "metadata": {},
   "outputs": [
    {
     "data": {
      "text/plain": [
       "Decimal('-1000')"
      ]
     },
     "execution_count": 165,
     "metadata": {},
     "output_type": "execute_result"
    }
   ],
   "source": [
    "# Warning: You can use attributes to change values, but unlike methods they cannot validate the data\n",
    "account1.balance = (Decimal('-1000'))\n",
    "account1.balance"
   ]
  },
  {
   "cell_type": "code",
   "execution_count": 166,
   "id": "e06c1a05-3858-4672-8a48-e72dced3405d",
   "metadata": {},
   "outputs": [
    {
     "data": {
      "text/plain": [
       "'Eric Idle is 74. Surprise!'"
      ]
     },
     "execution_count": 166,
     "metadata": {},
     "output_type": "execute_result"
    }
   ],
   "source": [
    "# You can also use f strings to return formatted output within a class using f-strings\n",
    "class Comedian:\n",
    "    def __init__(self, first_name, last_name, age):\n",
    "        self.first_name = first_name\n",
    "        self.last_name = last_name\n",
    "        self.age = age\n",
    "\n",
    "    def __repr__(self):\n",
    "        return f\"{self.first_name} {self.last_name} is {self.age}. Surprise!\"\n",
    "    \n",
    "new_comedian = Comedian(\"Eric\", \"Idle\", \"74\")\n",
    "f\"{new_comedian}\""
   ]
  },
  {
   "cell_type": "markdown",
   "id": "93e8a5fb-9b83-43c4-b1ac-cbfdcf217081",
   "metadata": {},
   "source": [
    "The __repr__() method deals with how objects are presented as strings, so you’ll need to make sure you include at least one of those methods in your class definition. The string returned by __repr__() is the official representation of the object and should be unambiguous."
   ]
  },
  {
   "cell_type": "markdown",
   "id": "c32681b8-e17d-4c64-8adf-04235deff21e",
   "metadata": {},
   "source": [
    "### Inheritance\n",
    "One of the most important goals of the object-oriented approach to programming is the creation of stable, reliable, reusable code. If you had to create a new class for every kind of object you wanted to model, you would hardly have any reusable code. In Python and any other language that supports OOP, one class can inherit from another class. This means you can base a new class on an existing class; the new class inherits all of the attributes and behavior of the class it is based on. A new class can override any undesirable attributes or behavior of the class it inherits from, and it can add any new attributes or behavior that are appropriate. The original class is called the parent class, and the new class is a child of the parent class. The parent class is also called a superclass, and the child class is also called a subclass.\n",
    "\n",
    "The child class inherits all attributes and behavior from the parent class, but any attributes that are defined in the child class are not available to the parent class. This may be obvious to many people, but it is worth stating. This also means a child class can override behavior of the parent class. If a child class defines a method that also appears in the parent class, objects of the child class will use the new method rather than the parent class method.\n",
    "\n",
    "To better understand inheritance, let's look at an example of a class that can be based on the Rocket class. In the file `Rocket_and_shuttle_classes.py`, you'll notice that the Shuttle class is created with Rocket as an input argument.\n",
    "\n",
    "The __init__() function of the new class needs to call the __init__() function of the parent class. The __init__() function of the new class needs to accept all of the parameters required to build an object from the parent class, and these parameters need to be passed to the __init__() function of the parent class. The super().__init__() function takes care of this (refer to the code in the class activity to see!)."
   ]
  },
  {
   "cell_type": "markdown",
   "id": "64c80e70-49bf-42f6-87ba-0e890ade72ac",
   "metadata": {},
   "source": [
    "## 10. Modules<a class=\"anchor\" id=\"bullet10\"></a>\n",
    "A Python __module__ is a file containing Python definitions and statements. A module can define functions, classes, and variables. A module can also include runnable code. Grouping related code into a module makes the code easier to understand and use. It also makes the code logically organized.\n",
    "\n",
    "When you create classes or functions, you'll save them in a python script, or a file with the `.py` extension, which we can also call a module. On the class activity, you will first need to create a module which holds a class. Then, we will import this module into another python script file to use the class and do a few exercises.\n",
    "\n",
    "To import your module into another python script/program, simply run the code below, where the name of the classes follow the `import` keyword and the name of the python file follows the `from` keyword, in this case `Rocket_and_shuttle_classes.py`  (notice we don't use the `.py` extension."
   ]
  },
  {
   "cell_type": "code",
   "execution_count": null,
   "id": "2f0112f0-9758-43f8-adbf-599dd75f6af6",
   "metadata": {},
   "outputs": [],
   "source": [
    "# Import rocket and shuttle class\n",
    "from Rocket_and_shuttle_classes import Rocket\n",
    "from Rocket_and_shuttle_classes import Shuttle"
   ]
  },
  {
   "cell_type": "code",
   "execution_count": null,
   "id": "60c67f16-2caa-42c7-a964-07ec8bf309e2",
   "metadata": {},
   "outputs": [],
   "source": []
  }
 ],
 "metadata": {
  "kernelspec": {
   "display_name": "Python 3 (ipykernel)",
   "language": "python",
   "name": "python3"
  },
  "language_info": {
   "codemirror_mode": {
    "name": "ipython",
    "version": 3
   },
   "file_extension": ".py",
   "mimetype": "text/x-python",
   "name": "python",
   "nbconvert_exporter": "python",
   "pygments_lexer": "ipython3",
   "version": "3.9.13"
  }
 },
 "nbformat": 4,
 "nbformat_minor": 5
}
